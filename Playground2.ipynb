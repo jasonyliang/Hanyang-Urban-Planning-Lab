{
 "cells": [
  {
   "cell_type": "code",
   "execution_count": 1,
   "metadata": {},
   "outputs": [],
   "source": [
    "import pandas as pd\n",
    "import numpy as np\n",
    "import matplotlib.pyplot as plt"
   ]
  },
  {
   "cell_type": "code",
   "execution_count": 2,
   "metadata": {},
   "outputs": [],
   "source": [
    "dataset = pd.read_csv('/Users/jhajhajhajha1/Desktop/Hanyang Data/data_playaround.csv')"
   ]
  },
  {
   "cell_type": "code",
   "execution_count": 5,
   "metadata": {},
   "outputs": [],
   "source": [
    "data = dataset.iloc[:, 0:19]"
   ]
  },
  {
   "cell_type": "code",
   "execution_count": 6,
   "metadata": {},
   "outputs": [
    {
     "name": "stdout",
     "output_type": "stream",
     "text": [
      "46858\n"
     ]
    },
    {
     "data": {
      "text/html": [
       "<div>\n",
       "<style scoped>\n",
       "    .dataframe tbody tr th:only-of-type {\n",
       "        vertical-align: middle;\n",
       "    }\n",
       "\n",
       "    .dataframe tbody tr th {\n",
       "        vertical-align: top;\n",
       "    }\n",
       "\n",
       "    .dataframe thead th {\n",
       "        text-align: right;\n",
       "    }\n",
       "</style>\n",
       "<table border=\"1\" class=\"dataframe\">\n",
       "  <thead>\n",
       "    <tr style=\"text-align: right;\">\n",
       "      <th></th>\n",
       "      <th>W_ZONE</th>\n",
       "      <th>no_hh</th>\n",
       "      <th>no_hh_chil</th>\n",
       "      <th>hh_type</th>\n",
       "      <th>hh_income</th>\n",
       "      <th>no_car</th>\n",
       "      <th>age</th>\n",
       "      <th>sex</th>\n",
       "      <th>job_type</th>\n",
       "      <th>house_lat</th>\n",
       "      <th>house_lon</th>\n",
       "      <th>work_lat</th>\n",
       "      <th>work_lon</th>\n",
       "      <th>H_ZONE</th>\n",
       "      <th>H_ZONE_X</th>\n",
       "      <th>H_ZONE_Y</th>\n",
       "      <th>W_ZONE_X</th>\n",
       "      <th>W_ZONE_Y</th>\n",
       "      <th>0</th>\n",
       "    </tr>\n",
       "  </thead>\n",
       "  <tbody>\n",
       "    <tr>\n",
       "      <th>0</th>\n",
       "      <td>0</td>\n",
       "      <td>4.0</td>\n",
       "      <td>4.0</td>\n",
       "      <td>1.0</td>\n",
       "      <td>5.0</td>\n",
       "      <td>1.0</td>\n",
       "      <td>41.0</td>\n",
       "      <td>1.0</td>\n",
       "      <td>4.0</td>\n",
       "      <td>37.453952</td>\n",
       "      <td>126.716877</td>\n",
       "      <td>36.115620</td>\n",
       "      <td>126.792747</td>\n",
       "      <td>810.0</td>\n",
       "      <td>175000.0</td>\n",
       "      <td>439000.0</td>\n",
       "      <td>0.0</td>\n",
       "      <td>0.0</td>\n",
       "      <td>0.0</td>\n",
       "    </tr>\n",
       "    <tr>\n",
       "      <th>1</th>\n",
       "      <td>0</td>\n",
       "      <td>3.0</td>\n",
       "      <td>3.0</td>\n",
       "      <td>2.0</td>\n",
       "      <td>3.0</td>\n",
       "      <td>1.0</td>\n",
       "      <td>36.0</td>\n",
       "      <td>1.0</td>\n",
       "      <td>4.0</td>\n",
       "      <td>37.465845</td>\n",
       "      <td>126.717234</td>\n",
       "      <td>37.335447</td>\n",
       "      <td>126.677584</td>\n",
       "      <td>855.0</td>\n",
       "      <td>175000.0</td>\n",
       "      <td>441000.0</td>\n",
       "      <td>0.0</td>\n",
       "      <td>0.0</td>\n",
       "      <td>0.0</td>\n",
       "    </tr>\n",
       "    <tr>\n",
       "      <th>2</th>\n",
       "      <td>0</td>\n",
       "      <td>3.0</td>\n",
       "      <td>3.0</td>\n",
       "      <td>2.0</td>\n",
       "      <td>2.0</td>\n",
       "      <td>1.0</td>\n",
       "      <td>70.0</td>\n",
       "      <td>1.0</td>\n",
       "      <td>9.0</td>\n",
       "      <td>37.229621</td>\n",
       "      <td>127.284122</td>\n",
       "      <td>36.975082</td>\n",
       "      <td>127.436894</td>\n",
       "      <td>363.0</td>\n",
       "      <td>225000.0</td>\n",
       "      <td>415000.0</td>\n",
       "      <td>0.0</td>\n",
       "      <td>0.0</td>\n",
       "      <td>0.0</td>\n",
       "    </tr>\n",
       "    <tr>\n",
       "      <th>3</th>\n",
       "      <td>0</td>\n",
       "      <td>5.0</td>\n",
       "      <td>4.0</td>\n",
       "      <td>1.0</td>\n",
       "      <td>5.0</td>\n",
       "      <td>1.0</td>\n",
       "      <td>32.0</td>\n",
       "      <td>1.0</td>\n",
       "      <td>4.0</td>\n",
       "      <td>37.623500</td>\n",
       "      <td>127.083187</td>\n",
       "      <td>36.847868</td>\n",
       "      <td>127.414170</td>\n",
       "      <td>1181.0</td>\n",
       "      <td>207000.0</td>\n",
       "      <td>457000.0</td>\n",
       "      <td>0.0</td>\n",
       "      <td>0.0</td>\n",
       "      <td>0.0</td>\n",
       "    </tr>\n",
       "    <tr>\n",
       "      <th>4</th>\n",
       "      <td>0</td>\n",
       "      <td>2.0</td>\n",
       "      <td>2.0</td>\n",
       "      <td>4.0</td>\n",
       "      <td>3.0</td>\n",
       "      <td>1.0</td>\n",
       "      <td>55.0</td>\n",
       "      <td>1.0</td>\n",
       "      <td>4.0</td>\n",
       "      <td>37.469676</td>\n",
       "      <td>126.644354</td>\n",
       "      <td>37.967527</td>\n",
       "      <td>124.717824</td>\n",
       "      <td>852.0</td>\n",
       "      <td>169000.0</td>\n",
       "      <td>441000.0</td>\n",
       "      <td>0.0</td>\n",
       "      <td>0.0</td>\n",
       "      <td>0.0</td>\n",
       "    </tr>\n",
       "  </tbody>\n",
       "</table>\n",
       "</div>"
      ],
      "text/plain": [
       "   W_ZONE  no_hh  no_hh_chil  hh_type  hh_income  no_car   age  sex  job_type  \\\n",
       "0       0    4.0         4.0      1.0        5.0     1.0  41.0  1.0       4.0   \n",
       "1       0    3.0         3.0      2.0        3.0     1.0  36.0  1.0       4.0   \n",
       "2       0    3.0         3.0      2.0        2.0     1.0  70.0  1.0       9.0   \n",
       "3       0    5.0         4.0      1.0        5.0     1.0  32.0  1.0       4.0   \n",
       "4       0    2.0         2.0      4.0        3.0     1.0  55.0  1.0       4.0   \n",
       "\n",
       "   house_lat   house_lon   work_lat    work_lon  H_ZONE  H_ZONE_X  H_ZONE_Y  \\\n",
       "0  37.453952  126.716877  36.115620  126.792747   810.0  175000.0  439000.0   \n",
       "1  37.465845  126.717234  37.335447  126.677584   855.0  175000.0  441000.0   \n",
       "2  37.229621  127.284122  36.975082  127.436894   363.0  225000.0  415000.0   \n",
       "3  37.623500  127.083187  36.847868  127.414170  1181.0  207000.0  457000.0   \n",
       "4  37.469676  126.644354  37.967527  124.717824   852.0  169000.0  441000.0   \n",
       "\n",
       "   W_ZONE_X  W_ZONE_Y    0  \n",
       "0       0.0       0.0  0.0  \n",
       "1       0.0       0.0  0.0  \n",
       "2       0.0       0.0  0.0  \n",
       "3       0.0       0.0  0.0  \n",
       "4       0.0       0.0  0.0  "
      ]
     },
     "execution_count": 6,
     "metadata": {},
     "output_type": "execute_result"
    }
   ],
   "source": [
    "print(len(data))\n",
    "data.head()"
   ]
  },
  {
   "cell_type": "code",
   "execution_count": 7,
   "metadata": {},
   "outputs": [
    {
     "data": {
      "text/html": [
       "<div>\n",
       "<style scoped>\n",
       "    .dataframe tbody tr th:only-of-type {\n",
       "        vertical-align: middle;\n",
       "    }\n",
       "\n",
       "    .dataframe tbody tr th {\n",
       "        vertical-align: top;\n",
       "    }\n",
       "\n",
       "    .dataframe thead th {\n",
       "        text-align: right;\n",
       "    }\n",
       "</style>\n",
       "<table border=\"1\" class=\"dataframe\">\n",
       "  <thead>\n",
       "    <tr style=\"text-align: right;\">\n",
       "      <th></th>\n",
       "      <th>W_ZONE</th>\n",
       "      <th>no_hh</th>\n",
       "      <th>no_hh_chil</th>\n",
       "      <th>hh_type</th>\n",
       "      <th>hh_income</th>\n",
       "      <th>no_car</th>\n",
       "      <th>age</th>\n",
       "      <th>sex</th>\n",
       "      <th>job_type</th>\n",
       "      <th>work_lat</th>\n",
       "    </tr>\n",
       "  </thead>\n",
       "  <tbody>\n",
       "    <tr>\n",
       "      <th>0</th>\n",
       "      <td>0</td>\n",
       "      <td>4.0</td>\n",
       "      <td>4.0</td>\n",
       "      <td>1.0</td>\n",
       "      <td>5.0</td>\n",
       "      <td>1.0</td>\n",
       "      <td>41.0</td>\n",
       "      <td>1.0</td>\n",
       "      <td>4.0</td>\n",
       "      <td>36.115620</td>\n",
       "    </tr>\n",
       "    <tr>\n",
       "      <th>1</th>\n",
       "      <td>0</td>\n",
       "      <td>3.0</td>\n",
       "      <td>3.0</td>\n",
       "      <td>2.0</td>\n",
       "      <td>3.0</td>\n",
       "      <td>1.0</td>\n",
       "      <td>36.0</td>\n",
       "      <td>1.0</td>\n",
       "      <td>4.0</td>\n",
       "      <td>37.335447</td>\n",
       "    </tr>\n",
       "    <tr>\n",
       "      <th>2</th>\n",
       "      <td>0</td>\n",
       "      <td>3.0</td>\n",
       "      <td>3.0</td>\n",
       "      <td>2.0</td>\n",
       "      <td>2.0</td>\n",
       "      <td>1.0</td>\n",
       "      <td>70.0</td>\n",
       "      <td>1.0</td>\n",
       "      <td>9.0</td>\n",
       "      <td>36.975082</td>\n",
       "    </tr>\n",
       "    <tr>\n",
       "      <th>3</th>\n",
       "      <td>0</td>\n",
       "      <td>5.0</td>\n",
       "      <td>4.0</td>\n",
       "      <td>1.0</td>\n",
       "      <td>5.0</td>\n",
       "      <td>1.0</td>\n",
       "      <td>32.0</td>\n",
       "      <td>1.0</td>\n",
       "      <td>4.0</td>\n",
       "      <td>36.847868</td>\n",
       "    </tr>\n",
       "    <tr>\n",
       "      <th>4</th>\n",
       "      <td>0</td>\n",
       "      <td>2.0</td>\n",
       "      <td>2.0</td>\n",
       "      <td>4.0</td>\n",
       "      <td>3.0</td>\n",
       "      <td>1.0</td>\n",
       "      <td>55.0</td>\n",
       "      <td>1.0</td>\n",
       "      <td>4.0</td>\n",
       "      <td>37.967527</td>\n",
       "    </tr>\n",
       "  </tbody>\n",
       "</table>\n",
       "</div>"
      ],
      "text/plain": [
       "   W_ZONE  no_hh  no_hh_chil  hh_type  hh_income  no_car   age  sex  job_type  \\\n",
       "0       0    4.0         4.0      1.0        5.0     1.0  41.0  1.0       4.0   \n",
       "1       0    3.0         3.0      2.0        3.0     1.0  36.0  1.0       4.0   \n",
       "2       0    3.0         3.0      2.0        2.0     1.0  70.0  1.0       9.0   \n",
       "3       0    5.0         4.0      1.0        5.0     1.0  32.0  1.0       4.0   \n",
       "4       0    2.0         2.0      4.0        3.0     1.0  55.0  1.0       4.0   \n",
       "\n",
       "    work_lat  \n",
       "0  36.115620  \n",
       "1  37.335447  \n",
       "2  36.975082  \n",
       "3  36.847868  \n",
       "4  37.967527  "
      ]
     },
     "execution_count": 7,
     "metadata": {},
     "output_type": "execute_result"
    }
   ],
   "source": [
    "# preprocessing\n",
    "\n",
    "# not calculating distance, simply using latitude\n",
    "x = data.iloc[:, 0:12]\n",
    "x = x.drop([\"house_lat\", \"house_lon\"], axis= 1)\n",
    "x.head()"
   ]
  },
  {
   "cell_type": "code",
   "execution_count": 8,
   "metadata": {},
   "outputs": [
    {
     "data": {
      "text/plain": [
       "W_ZONE          0\n",
       "no_hh         180\n",
       "no_hh_chil    180\n",
       "hh_type       180\n",
       "hh_income     180\n",
       "no_car        180\n",
       "age           180\n",
       "sex           180\n",
       "job_type      180\n",
       "work_lat      180\n",
       "dtype: int64"
      ]
     },
     "execution_count": 8,
     "metadata": {},
     "output_type": "execute_result"
    }
   ],
   "source": [
    "x.isnull().sum()"
   ]
  },
  {
   "cell_type": "code",
   "execution_count": 9,
   "metadata": {},
   "outputs": [],
   "source": [
    "# # Taking care of missing data\n",
    "# from sklearn.preprocessing import Imputer\n",
    "# imputer = Imputer(missing_values = 'NaN', strategy = 'mean', axis = 0)\n",
    "# imputer = imputer.fit(x.iloc[:, 1:10])\n",
    "# x.iloc[:, 1:10] = imputer.transform(x.iloc[:, 1:10])\n",
    "x = x.dropna()"
   ]
  },
  {
   "cell_type": "code",
   "execution_count": 10,
   "metadata": {},
   "outputs": [
    {
     "data": {
      "text/plain": [
       "W_ZONE        0\n",
       "no_hh         0\n",
       "no_hh_chil    0\n",
       "hh_type       0\n",
       "hh_income     0\n",
       "no_car        0\n",
       "age           0\n",
       "sex           0\n",
       "job_type      0\n",
       "work_lat      0\n",
       "dtype: int64"
      ]
     },
     "execution_count": 10,
     "metadata": {},
     "output_type": "execute_result"
    }
   ],
   "source": [
    "x.isnull().sum()"
   ]
  },
  {
   "cell_type": "code",
   "execution_count": 11,
   "metadata": {},
   "outputs": [],
   "source": [
    "# category values: hh_type, hh_income (this one is fine because of the levels)\n",
    "# Encoding categorical data\n"
   ]
  },
  {
   "cell_type": "code",
   "execution_count": 12,
   "metadata": {},
   "outputs": [
    {
     "data": {
      "text/html": [
       "<div>\n",
       "<style scoped>\n",
       "    .dataframe tbody tr th:only-of-type {\n",
       "        vertical-align: middle;\n",
       "    }\n",
       "\n",
       "    .dataframe tbody tr th {\n",
       "        vertical-align: top;\n",
       "    }\n",
       "\n",
       "    .dataframe thead th {\n",
       "        text-align: right;\n",
       "    }\n",
       "</style>\n",
       "<table border=\"1\" class=\"dataframe\">\n",
       "  <thead>\n",
       "    <tr style=\"text-align: right;\">\n",
       "      <th></th>\n",
       "      <th>house_lat</th>\n",
       "      <th>house_lon</th>\n",
       "    </tr>\n",
       "  </thead>\n",
       "  <tbody>\n",
       "    <tr>\n",
       "      <th>0</th>\n",
       "      <td>37.453952</td>\n",
       "      <td>126.716877</td>\n",
       "    </tr>\n",
       "    <tr>\n",
       "      <th>1</th>\n",
       "      <td>37.465845</td>\n",
       "      <td>126.717234</td>\n",
       "    </tr>\n",
       "    <tr>\n",
       "      <th>2</th>\n",
       "      <td>37.229621</td>\n",
       "      <td>127.284122</td>\n",
       "    </tr>\n",
       "    <tr>\n",
       "      <th>3</th>\n",
       "      <td>37.623500</td>\n",
       "      <td>127.083187</td>\n",
       "    </tr>\n",
       "    <tr>\n",
       "      <th>4</th>\n",
       "      <td>37.469676</td>\n",
       "      <td>126.644354</td>\n",
       "    </tr>\n",
       "  </tbody>\n",
       "</table>\n",
       "</div>"
      ],
      "text/plain": [
       "   house_lat   house_lon\n",
       "0  37.453952  126.716877\n",
       "1  37.465845  126.717234\n",
       "2  37.229621  127.284122\n",
       "3  37.623500  127.083187\n",
       "4  37.469676  126.644354"
      ]
     },
     "execution_count": 12,
     "metadata": {},
     "output_type": "execute_result"
    }
   ],
   "source": [
    "y = data.loc[:, [\"house_lat\", \"house_lon\"]]\n",
    "y.head()"
   ]
  },
  {
   "cell_type": "code",
   "execution_count": 13,
   "metadata": {},
   "outputs": [
    {
     "data": {
      "text/plain": [
       "house_lat    180\n",
       "house_lon    180\n",
       "dtype: int64"
      ]
     },
     "execution_count": 13,
     "metadata": {},
     "output_type": "execute_result"
    }
   ],
   "source": [
    "y.isnull().sum()"
   ]
  },
  {
   "cell_type": "code",
   "execution_count": 14,
   "metadata": {},
   "outputs": [],
   "source": [
    "# # Taking care of missing data\n",
    "# from sklearn.preprocessing import Imputer\n",
    "# imputer = Imputer(missing_values = 'NaN', strategy = 'mean', axis = 0)\n",
    "# imputer = imputer.fit(y)\n",
    "# y = imputer.transform(y)\n",
    "y = y.dropna()"
   ]
  },
  {
   "cell_type": "code",
   "execution_count": 15,
   "metadata": {},
   "outputs": [],
   "source": [
    "# Splitting the dataset into the Training set and Test set\n",
    "from sklearn.model_selection import train_test_split\n",
    "X_train, X_test, y_train, y_test = train_test_split(x, y, test_size = 0.2, random_state = 0)"
   ]
  },
  {
   "cell_type": "code",
   "execution_count": 16,
   "metadata": {},
   "outputs": [],
   "source": [
    "# should we do feature scaling?\n",
    "# Feature Scaling\n",
    "from sklearn.preprocessing import StandardScaler\n",
    "sc = StandardScaler()\n",
    "X_train = sc.fit_transform(X_train)\n",
    "X_test = sc.transform(X_test)"
   ]
  },
  {
   "cell_type": "code",
   "execution_count": 17,
   "metadata": {},
   "outputs": [
    {
     "data": {
      "text/plain": [
       "10"
      ]
     },
     "execution_count": 17,
     "metadata": {},
     "output_type": "execute_result"
    }
   ],
   "source": [
    "len(X_train[0])"
   ]
  },
  {
   "cell_type": "code",
   "execution_count": 18,
   "metadata": {},
   "outputs": [
    {
     "name": "stderr",
     "output_type": "stream",
     "text": [
      "Using TensorFlow backend.\n",
      "/usr/local/Cellar/python/3.6.5_1/Frameworks/Python.framework/Versions/3.6/lib/python3.6/importlib/_bootstrap.py:219: RuntimeWarning: compiletime version 3.5 of module 'tensorflow.python.framework.fast_tensor_util' does not match runtime version 3.6\n",
      "  return f(*args, **kwds)\n"
     ]
    }
   ],
   "source": [
    "# Importing the Keras libraries and packages\n",
    "import keras\n",
    "from keras.models import Sequential\n",
    "from keras.layers import Dense, Dropout"
   ]
  },
  {
   "cell_type": "code",
   "execution_count": 19,
   "metadata": {},
   "outputs": [],
   "source": [
    "# Initialising the ANN\n",
    "regressor = Sequential()\n",
    "\n",
    "# Adding the input layer and the first hidden layer\n",
    "regressor.add(Dense(units = 6, kernel_initializer = 'normal', activation = 'relu', input_dim = 10))\n",
    "regressor.add(Dropout(0.2))\n",
    "\n",
    "# Adding the second hidden layer\n",
    "regressor.add(Dense(units = 6, kernel_initializer = 'normal', activation = 'relu'))\n",
    "regressor.add(Dropout(0.2))\n",
    "\n",
    "\n",
    "# Adding the third hidden layer\n",
    "regressor.add(Dense(units = 6, kernel_initializer = 'normal', activation = 'relu'))\n",
    "regressor.add(Dropout(0.2))\n",
    "\n",
    "# Adding the fourth hidden layer\n",
    "regressor.add(Dense(units = 6, kernel_initializer = 'normal', activation = 'relu'))\n",
    "regressor.add(Dropout(0.2))\n",
    "\n",
    "# Adding the fifth hidden layer\n",
    "regressor.add(Dense(units = 6, kernel_initializer = 'normal', activation = 'relu'))\n",
    "regressor.add(Dropout(0.2))\n",
    "\n",
    "# Adding the output layer\n",
    "regressor.add(Dense(units = 2, kernel_initializer = 'normal', activation = 'linear'))\n",
    "regressor.add(Dropout(0.2))\n",
    "\n",
    "\n",
    "# Compiling the ANN\n",
    "regressor.compile(optimizer = 'adam', loss = 'mean_squared_error', metrics = ['mae'])"
   ]
  },
  {
   "cell_type": "code",
   "execution_count": 20,
   "metadata": {},
   "outputs": [
    {
     "name": "stdout",
     "output_type": "stream",
     "text": [
      "Epoch 1/100\n",
      "37486/37486 [==============================] - 6s 147us/step - loss: 3743.6627 - mean_absolute_error: 45.5648\n",
      "Epoch 2/100\n",
      "37486/37486 [==============================] - 5s 132us/step - loss: 2645.2136 - mean_absolute_error: 35.4032\n",
      "Epoch 3/100\n",
      "37486/37486 [==============================] - 5s 131us/step - loss: 2405.9217 - mean_absolute_error: 32.5690\n",
      "Epoch 4/100\n",
      "37486/37486 [==============================] - 5s 135us/step - loss: 2280.5056 - mean_absolute_error: 30.8616\n",
      "Epoch 5/100\n",
      "37486/37486 [==============================] - 5s 139us/step - loss: 2210.6362 - mean_absolute_error: 29.5847\n",
      "Epoch 6/100\n",
      "37486/37486 [==============================] - 5s 137us/step - loss: 2167.9192 - mean_absolute_error: 28.7936 1s - loss: 2160.8295 - mea\n",
      "Epoch 7/100\n",
      "37486/37486 [==============================] - 5s 143us/step - loss: 2119.2004 - mean_absolute_error: 28.1747\n",
      "Epoch 8/100\n",
      "37486/37486 [==============================] - 5s 140us/step - loss: 2093.0110 - mean_absolute_error: 27.6769\n",
      "Epoch 9/100\n",
      "37486/37486 [==============================] - 5s 134us/step - loss: 2071.5247 - mean_absolute_error: 27.0958\n",
      "Epoch 10/100\n",
      "37486/37486 [==============================] - 5s 140us/step - loss: 2057.2171 - mean_absolute_error: 26.6485\n",
      "Epoch 11/100\n",
      "37486/37486 [==============================] - 5s 132us/step - loss: 2008.8309 - mean_absolute_error: 25.9249\n",
      "Epoch 12/100\n",
      "37486/37486 [==============================] - 5s 133us/step - loss: 2025.2767 - mean_absolute_error: 25.6446\n",
      "Epoch 13/100\n",
      "37486/37486 [==============================] - 5s 132us/step - loss: 1976.8343 - mean_absolute_error: 24.9954\n",
      "Epoch 14/100\n",
      "37486/37486 [==============================] - 5s 132us/step - loss: 1981.0956 - mean_absolute_error: 24.6844\n",
      "Epoch 15/100\n",
      "37486/37486 [==============================] - 5s 133us/step - loss: 1962.5899 - mean_absolute_error: 24.3741\n",
      "Epoch 16/100\n",
      "37486/37486 [==============================] - 5s 136us/step - loss: 1945.0988 - mean_absolute_error: 24.0082\n",
      "Epoch 17/100\n",
      "37486/37486 [==============================] - 5s 132us/step - loss: 1950.1753 - mean_absolute_error: 23.8435\n",
      "Epoch 18/100\n",
      "37486/37486 [==============================] - 5s 133us/step - loss: 1957.9375 - mean_absolute_error: 23.7261\n",
      "Epoch 19/100\n",
      "37486/37486 [==============================] - 5s 134us/step - loss: 1900.1939 - mean_absolute_error: 23.1869\n",
      "Epoch 20/100\n",
      "37486/37486 [==============================] - 5s 132us/step - loss: 1892.6012 - mean_absolute_error: 22.9211\n",
      "Epoch 21/100\n",
      "37486/37486 [==============================] - 5s 139us/step - loss: 1885.7225 - mean_absolute_error: 22.7078\n",
      "Epoch 22/100\n",
      "37486/37486 [==============================] - 6s 149us/step - loss: 1869.8087 - mean_absolute_error: 22.4017\n",
      "Epoch 23/100\n",
      "37486/37486 [==============================] - 6s 170us/step - loss: 1893.6292 - mean_absolute_error: 22.4055\n",
      "Epoch 24/100\n",
      "37486/37486 [==============================] - 6s 155us/step - loss: 1866.6043 - mean_absolute_error: 21.9698\n",
      "Epoch 25/100\n",
      "37486/37486 [==============================] - 5s 136us/step - loss: 1856.4042 - mean_absolute_error: 21.6946\n",
      "Epoch 26/100\n",
      "37486/37486 [==============================] - 5s 137us/step - loss: 1821.8431 - mean_absolute_error: 21.3281\n",
      "Epoch 27/100\n",
      "37486/37486 [==============================] - 5s 146us/step - loss: 1806.3283 - mean_absolute_error: 20.9947\n",
      "Epoch 28/100\n",
      "37486/37486 [==============================] - 6s 154us/step - loss: 1844.0705 - mean_absolute_error: 21.0449\n",
      "Epoch 29/100\n",
      "37486/37486 [==============================] - 6s 161us/step - loss: 1828.5148 - mean_absolute_error: 20.6906\n",
      "Epoch 30/100\n",
      "37486/37486 [==============================] - 5s 136us/step - loss: 1833.4019 - mean_absolute_error: 20.4970\n",
      "Epoch 31/100\n",
      "37486/37486 [==============================] - 5s 139us/step - loss: 1784.2073 - mean_absolute_error: 19.9333\n",
      "Epoch 32/100\n",
      "37486/37486 [==============================] - 5s 134us/step - loss: 1803.0320 - mean_absolute_error: 19.8910\n",
      "Epoch 33/100\n",
      "37486/37486 [==============================] - 5s 133us/step - loss: 1795.6406 - mean_absolute_error: 19.5970\n",
      "Epoch 34/100\n",
      "37486/37486 [==============================] - 6s 151us/step - loss: 1789.7240 - mean_absolute_error: 19.2950\n",
      "Epoch 35/100\n",
      "37486/37486 [==============================] - 6s 153us/step - loss: 1795.7494 - mean_absolute_error: 19.1662\n",
      "Epoch 36/100\n",
      "37486/37486 [==============================] - 5s 138us/step - loss: 1767.0529 - mean_absolute_error: 18.6885\n",
      "Epoch 37/100\n",
      "37486/37486 [==============================] - 6s 152us/step - loss: 1778.9862 - mean_absolute_error: 18.5511\n",
      "Epoch 38/100\n",
      "37486/37486 [==============================] - 5s 136us/step - loss: 1753.0503 - mean_absolute_error: 18.1049\n",
      "Epoch 39/100\n",
      "37486/37486 [==============================] - 6s 148us/step - loss: 1733.2949 - mean_absolute_error: 17.6981\n",
      "Epoch 40/100\n",
      "37486/37486 [==============================] - 5s 145us/step - loss: 1767.3918 - mean_absolute_error: 17.6934\n",
      "Epoch 41/100\n",
      "37486/37486 [==============================] - 6s 161us/step - loss: 1740.0563 - mean_absolute_error: 17.2933\n",
      "Epoch 42/100\n",
      "37486/37486 [==============================] - 5s 128us/step - loss: 1730.1994 - mean_absolute_error: 16.9538\n",
      "Epoch 43/100\n",
      "37486/37486 [==============================] - 5s 128us/step - loss: 1738.8222 - mean_absolute_error: 16.8115\n",
      "Epoch 44/100\n",
      "37486/37486 [==============================] - 5s 129us/step - loss: 1745.3334 - mean_absolute_error: 16.6806\n",
      "Epoch 45/100\n",
      "37486/37486 [==============================] - 5s 140us/step - loss: 1715.1786 - mean_absolute_error: 16.3134\n",
      "Epoch 46/100\n",
      "37486/37486 [==============================] - 5s 139us/step - loss: 1741.5078 - mean_absolute_error: 16.4058\n",
      "Epoch 47/100\n",
      "37486/37486 [==============================] - 5s 137us/step - loss: 1758.9548 - mean_absolute_error: 16.5884\n",
      "Epoch 48/100\n",
      "37486/37486 [==============================] - 6s 149us/step - loss: 1753.8935 - mean_absolute_error: 16.5714\n",
      "Epoch 49/100\n",
      "37486/37486 [==============================] - 5s 139us/step - loss: 1758.8302 - mean_absolute_error: 16.6097\n",
      "Epoch 50/100\n",
      "37486/37486 [==============================] - 5s 142us/step - loss: 1764.5555 - mean_absolute_error: 16.6328 1s - loss: 1773.5709 - mean_\n",
      "Epoch 51/100\n",
      "37486/37486 [==============================] - 5s 137us/step - loss: 1757.0288 - mean_absolute_error: 16.5688\n",
      "Epoch 52/100\n",
      "37486/37486 [==============================] - 5s 141us/step - loss: 1773.7983 - mean_absolute_error: 16.7264\n",
      "Epoch 53/100\n",
      "37486/37486 [==============================] - 5s 136us/step - loss: 1708.4696 - mean_absolute_error: 16.2026\n",
      "Epoch 54/100\n",
      "37486/37486 [==============================] - 5s 134us/step - loss: 1737.5097 - mean_absolute_error: 16.4542\n",
      "Epoch 55/100\n",
      "37486/37486 [==============================] - 5s 144us/step - loss: 1720.1424 - mean_absolute_error: 16.2911\n",
      "Epoch 56/100\n",
      "37486/37486 [==============================] - 5s 137us/step - loss: 1744.3976 - mean_absolute_error: 16.4599\n",
      "Epoch 57/100\n",
      "37486/37486 [==============================] - 5s 140us/step - loss: 1760.3966 - mean_absolute_error: 16.5220\n",
      "Epoch 58/100\n",
      "37486/37486 [==============================] - 5s 140us/step - loss: 1730.2740 - mean_absolute_error: 16.3476\n",
      "Epoch 59/100\n",
      "37486/37486 [==============================] - 5s 141us/step - loss: 1769.0137 - mean_absolute_error: 16.6859\n",
      "Epoch 60/100\n",
      "37486/37486 [==============================] - 5s 140us/step - loss: 1768.6291 - mean_absolute_error: 16.6380\n",
      "Epoch 61/100\n",
      "37486/37486 [==============================] - 5s 143us/step - loss: 1739.0906 - mean_absolute_error: 16.4139\n",
      "Epoch 62/100\n",
      "37486/37486 [==============================] - 6s 148us/step - loss: 1733.8048 - mean_absolute_error: 16.4349\n",
      "Epoch 63/100\n",
      "37486/37486 [==============================] - 5s 139us/step - loss: 1744.4865 - mean_absolute_error: 16.5332\n",
      "Epoch 64/100\n",
      "37486/37486 [==============================] - 5s 133us/step - loss: 1761.0266 - mean_absolute_error: 16.6116\n",
      "Epoch 65/100\n",
      "37486/37486 [==============================] - 5s 138us/step - loss: 1740.5122 - mean_absolute_error: 16.4656\n",
      "Epoch 66/100\n",
      "37486/37486 [==============================] - 5s 141us/step - loss: 1734.5431 - mean_absolute_error: 16.3654\n",
      "Epoch 67/100\n"
     ]
    },
    {
     "name": "stdout",
     "output_type": "stream",
     "text": [
      "37486/37486 [==============================] - 5s 135us/step - loss: 1760.3345 - mean_absolute_error: 16.5814\n",
      "Epoch 68/100\n",
      "37486/37486 [==============================] - 5s 137us/step - loss: 1773.2404 - mean_absolute_error: 16.7400\n",
      "Epoch 69/100\n",
      "37486/37486 [==============================] - 5s 133us/step - loss: 1746.0665 - mean_absolute_error: 16.4830\n",
      "Epoch 70/100\n",
      "37486/37486 [==============================] - 5s 134us/step - loss: 1746.6342 - mean_absolute_error: 16.5274\n",
      "Epoch 71/100\n",
      "37486/37486 [==============================] - 5s 130us/step - loss: 1776.8945 - mean_absolute_error: 16.7115\n",
      "Epoch 72/100\n",
      "37486/37486 [==============================] - 5s 130us/step - loss: 1752.0665 - mean_absolute_error: 16.5548\n",
      "Epoch 73/100\n",
      "37486/37486 [==============================] - 5s 130us/step - loss: 1762.5551 - mean_absolute_error: 16.6089\n",
      "Epoch 74/100\n",
      "37486/37486 [==============================] - 5s 130us/step - loss: 1760.7370 - mean_absolute_error: 16.6283\n",
      "Epoch 75/100\n",
      "37486/37486 [==============================] - 5s 129us/step - loss: 1743.7398 - mean_absolute_error: 16.4667\n",
      "Epoch 76/100\n",
      "37486/37486 [==============================] - 5s 131us/step - loss: 1759.6903 - mean_absolute_error: 16.5917\n",
      "Epoch 77/100\n",
      "37486/37486 [==============================] - 5s 135us/step - loss: 1735.4125 - mean_absolute_error: 16.4013\n",
      "Epoch 78/100\n",
      "37486/37486 [==============================] - 5s 129us/step - loss: 1735.0617 - mean_absolute_error: 16.3710\n",
      "Epoch 79/100\n",
      "37486/37486 [==============================] - 5s 130us/step - loss: 1723.6159 - mean_absolute_error: 16.3483\n",
      "Epoch 80/100\n",
      "37486/37486 [==============================] - 5s 130us/step - loss: 1775.3746 - mean_absolute_error: 16.7354\n",
      "Epoch 81/100\n",
      "37486/37486 [==============================] - 5s 131us/step - loss: 1755.3832 - mean_absolute_error: 16.5235\n",
      "Epoch 82/100\n",
      "37486/37486 [==============================] - 5s 137us/step - loss: 1747.8322 - mean_absolute_error: 16.5220\n",
      "Epoch 83/100\n",
      "37486/37486 [==============================] - 5s 141us/step - loss: 1736.1286 - mean_absolute_error: 16.4407\n",
      "Epoch 84/100\n",
      "37486/37486 [==============================] - 5s 141us/step - loss: 1769.2327 - mean_absolute_error: 16.6486\n",
      "Epoch 85/100\n",
      "37486/37486 [==============================] - 5s 134us/step - loss: 1773.7320 - mean_absolute_error: 16.7607\n",
      "Epoch 86/100\n",
      "37486/37486 [==============================] - 5s 142us/step - loss: 1742.5187 - mean_absolute_error: 16.4320\n",
      "Epoch 87/100\n",
      "37486/37486 [==============================] - 5s 138us/step - loss: 1718.5826 - mean_absolute_error: 16.2403\n",
      "Epoch 88/100\n",
      "37486/37486 [==============================] - 5s 139us/step - loss: 1730.9611 - mean_absolute_error: 16.4073\n",
      "Epoch 89/100\n",
      "37486/37486 [==============================] - 5s 137us/step - loss: 1765.1539 - mean_absolute_error: 16.6394\n",
      "Epoch 90/100\n",
      "37486/37486 [==============================] - 5s 139us/step - loss: 1743.2033 - mean_absolute_error: 16.5196 1s - loss: 1730.244\n",
      "Epoch 91/100\n",
      "37486/37486 [==============================] - 5s 132us/step - loss: 1749.2809 - mean_absolute_error: 16.5343\n",
      "Epoch 92/100\n",
      "37486/37486 [==============================] - 5s 136us/step - loss: 1805.6100 - mean_absolute_error: 16.9720\n",
      "Epoch 93/100\n",
      "37486/37486 [==============================] - 5s 131us/step - loss: 1768.1708 - mean_absolute_error: 16.6653\n",
      "Epoch 94/100\n",
      "37486/37486 [==============================] - 5s 142us/step - loss: 1719.5294 - mean_absolute_error: 16.3143\n",
      "Epoch 95/100\n",
      "37486/37486 [==============================] - 5s 140us/step - loss: 1757.3034 - mean_absolute_error: 16.5691\n",
      "Epoch 96/100\n",
      "37486/37486 [==============================] - 5s 143us/step - loss: 1762.2309 - mean_absolute_error: 16.6216\n",
      "Epoch 97/100\n",
      "37486/37486 [==============================] - 5s 138us/step - loss: 1763.3059 - mean_absolute_error: 16.6073\n",
      "Epoch 98/100\n",
      "37486/37486 [==============================] - 5s 136us/step - loss: 1766.0739 - mean_absolute_error: 16.6635\n",
      "Epoch 99/100\n",
      "37486/37486 [==============================] - 5s 135us/step - loss: 1771.3294 - mean_absolute_error: 16.7182\n",
      "Epoch 100/100\n",
      "37486/37486 [==============================] - 5s 136us/step - loss: 1757.5798 - mean_absolute_error: 16.5381\n"
     ]
    },
    {
     "data": {
      "text/plain": [
       "<keras.callbacks.History at 0x1230880f0>"
      ]
     },
     "execution_count": 20,
     "metadata": {},
     "output_type": "execute_result"
    }
   ],
   "source": [
    "regressor.fit(X_train, y_train, batch_size = 10, epochs = 100)"
   ]
  },
  {
   "cell_type": "code",
   "execution_count": 21,
   "metadata": {},
   "outputs": [
    {
     "data": {
      "text/plain": [
       "array([[ 30.084072, 101.57494 ],\n",
       "       [ 30.026201, 101.57432 ],\n",
       "       [ 29.903147, 101.59082 ],\n",
       "       ...,\n",
       "       [ 29.927021, 101.5806  ],\n",
       "       [ 30.0151  , 101.572876],\n",
       "       [ 30.012688, 101.57256 ]], dtype=float32)"
      ]
     },
     "execution_count": 21,
     "metadata": {},
     "output_type": "execute_result"
    }
   ],
   "source": [
    "y_pred = regressor.predict(X_test)\n",
    "y_pred"
   ]
  },
  {
   "cell_type": "code",
   "execution_count": 22,
   "metadata": {},
   "outputs": [],
   "source": [
    "prediction = pd.DataFrame({'house_lat': y_test[:, 0],'house_lon':y_test[:, 1],\n",
    "                            'house_lat (pred)': y_pred[:,0], 'house_lon (pred)': y_pred[:,1]})"
   ]
  },
  {
   "cell_type": "code",
   "execution_count": 29,
   "metadata": {},
   "outputs": [
    {
     "data": {
      "text/plain": [
       "37.641428000000005"
      ]
     },
     "execution_count": 29,
     "metadata": {},
     "output_type": "execute_result"
    }
   ],
   "source": [
    "prediction.loc[1][0]\n",
    "\n",
    "def accuracy(pred):\n",
    "    sum_error = 0\n",
    "    for i in range(len(pred)):\n",
    "        deltax = pred.loc[i][0]-pred.loc[i][2]\n",
    "        deltay = pred.loc[i][1]-pred.loc[i][3]\n",
    "        error = "
   ]
  },
  {
   "cell_type": "code",
   "execution_count": 33,
   "metadata": {},
   "outputs": [
    {
     "data": {
      "text/plain": [
       "9372"
      ]
     },
     "execution_count": 33,
     "metadata": {},
     "output_type": "execute_result"
    }
   ],
   "source": [
    "len(prediction)"
   ]
  },
  {
   "cell_type": "code",
   "execution_count": null,
   "metadata": {},
   "outputs": [],
   "source": []
  }
 ],
 "metadata": {
  "kernelspec": {
   "display_name": "Python 3",
   "language": "python",
   "name": "python3"
  },
  "language_info": {
   "codemirror_mode": {
    "name": "ipython",
    "version": 3
   },
   "file_extension": ".py",
   "mimetype": "text/x-python",
   "name": "python",
   "nbconvert_exporter": "python",
   "pygments_lexer": "ipython3",
   "version": "3.6.5"
  }
 },
 "nbformat": 4,
 "nbformat_minor": 2
}
