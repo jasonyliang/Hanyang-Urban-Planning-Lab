{
 "cells": [
  {
   "cell_type": "code",
   "execution_count": 3,
   "metadata": {},
   "outputs": [],
   "source": [
    "import pandas as pd\n",
    "import numpy as np\n",
    "import matplotlib.pyplot as plt"
   ]
  },
  {
   "cell_type": "code",
   "execution_count": 4,
   "metadata": {},
   "outputs": [],
   "source": [
    "dataset = pd.read_csv('/Users/jhajhajhajha1/Desktop/Hanyang Data/data_playaround.csv')"
   ]
  },
  {
   "cell_type": "code",
   "execution_count": 5,
   "metadata": {},
   "outputs": [],
   "source": [
    "data = dataset.iloc[:, 0:19]"
   ]
  },
  {
   "cell_type": "code",
   "execution_count": 6,
   "metadata": {},
   "outputs": [
    {
     "name": "stdout",
     "output_type": "stream",
     "text": [
      "46858\n"
     ]
    },
    {
     "data": {
      "text/html": [
       "<div>\n",
       "<style scoped>\n",
       "    .dataframe tbody tr th:only-of-type {\n",
       "        vertical-align: middle;\n",
       "    }\n",
       "\n",
       "    .dataframe tbody tr th {\n",
       "        vertical-align: top;\n",
       "    }\n",
       "\n",
       "    .dataframe thead th {\n",
       "        text-align: right;\n",
       "    }\n",
       "</style>\n",
       "<table border=\"1\" class=\"dataframe\">\n",
       "  <thead>\n",
       "    <tr style=\"text-align: right;\">\n",
       "      <th></th>\n",
       "      <th>W_ZONE</th>\n",
       "      <th>no_hh</th>\n",
       "      <th>no_hh_chil</th>\n",
       "      <th>hh_type</th>\n",
       "      <th>hh_income</th>\n",
       "      <th>no_car</th>\n",
       "      <th>age</th>\n",
       "      <th>sex</th>\n",
       "      <th>job_type</th>\n",
       "      <th>house_lat</th>\n",
       "      <th>house_lon</th>\n",
       "      <th>work_lat</th>\n",
       "      <th>work_lon</th>\n",
       "      <th>H_ZONE</th>\n",
       "      <th>H_ZONE_X</th>\n",
       "      <th>H_ZONE_Y</th>\n",
       "      <th>W_ZONE_X</th>\n",
       "      <th>W_ZONE_Y</th>\n",
       "      <th>0</th>\n",
       "    </tr>\n",
       "  </thead>\n",
       "  <tbody>\n",
       "    <tr>\n",
       "      <th>1000</th>\n",
       "      <td>88</td>\n",
       "      <td>4.0</td>\n",
       "      <td>3.0</td>\n",
       "      <td>1.0</td>\n",
       "      <td>5.0</td>\n",
       "      <td>1.0</td>\n",
       "      <td>40.0</td>\n",
       "      <td>1.0</td>\n",
       "      <td>4.0</td>\n",
       "      <td>37.511534</td>\n",
       "      <td>126.902390</td>\n",
       "      <td>37.031954</td>\n",
       "      <td>127.077127</td>\n",
       "      <td>954.0</td>\n",
       "      <td>191000.0</td>\n",
       "      <td>445000.0</td>\n",
       "      <td>207000.0</td>\n",
       "      <td>393000.0</td>\n",
       "      <td>25940.567472</td>\n",
       "    </tr>\n",
       "    <tr>\n",
       "      <th>1001</th>\n",
       "      <td>88</td>\n",
       "      <td>3.0</td>\n",
       "      <td>3.0</td>\n",
       "      <td>4.0</td>\n",
       "      <td>2.0</td>\n",
       "      <td>2.0</td>\n",
       "      <td>61.0</td>\n",
       "      <td>1.0</td>\n",
       "      <td>6.0</td>\n",
       "      <td>37.000396</td>\n",
       "      <td>127.106922</td>\n",
       "      <td>37.034933</td>\n",
       "      <td>127.078710</td>\n",
       "      <td>50.0</td>\n",
       "      <td>209000.0</td>\n",
       "      <td>389000.0</td>\n",
       "      <td>207000.0</td>\n",
       "      <td>393000.0</td>\n",
       "      <td>25940.567472</td>\n",
       "    </tr>\n",
       "    <tr>\n",
       "      <th>1002</th>\n",
       "      <td>88</td>\n",
       "      <td>5.0</td>\n",
       "      <td>3.0</td>\n",
       "      <td>1.0</td>\n",
       "      <td>4.0</td>\n",
       "      <td>1.0</td>\n",
       "      <td>46.0</td>\n",
       "      <td>1.0</td>\n",
       "      <td>4.0</td>\n",
       "      <td>37.195733</td>\n",
       "      <td>127.034267</td>\n",
       "      <td>37.039019</td>\n",
       "      <td>127.077925</td>\n",
       "      <td>287.0</td>\n",
       "      <td>203000.0</td>\n",
       "      <td>411000.0</td>\n",
       "      <td>207000.0</td>\n",
       "      <td>393000.0</td>\n",
       "      <td>25940.567472</td>\n",
       "    </tr>\n",
       "    <tr>\n",
       "      <th>1003</th>\n",
       "      <td>88</td>\n",
       "      <td>4.0</td>\n",
       "      <td>4.0</td>\n",
       "      <td>2.0</td>\n",
       "      <td>6.0</td>\n",
       "      <td>1.0</td>\n",
       "      <td>49.0</td>\n",
       "      <td>1.0</td>\n",
       "      <td>6.0</td>\n",
       "      <td>37.067362</td>\n",
       "      <td>127.056343</td>\n",
       "      <td>37.037719</td>\n",
       "      <td>127.077653</td>\n",
       "      <td>130.0</td>\n",
       "      <td>205000.0</td>\n",
       "      <td>397000.0</td>\n",
       "      <td>207000.0</td>\n",
       "      <td>393000.0</td>\n",
       "      <td>25940.567472</td>\n",
       "    </tr>\n",
       "    <tr>\n",
       "      <th>1004</th>\n",
       "      <td>88</td>\n",
       "      <td>4.0</td>\n",
       "      <td>2.0</td>\n",
       "      <td>1.0</td>\n",
       "      <td>3.0</td>\n",
       "      <td>1.0</td>\n",
       "      <td>37.0</td>\n",
       "      <td>1.0</td>\n",
       "      <td>4.0</td>\n",
       "      <td>37.151695</td>\n",
       "      <td>127.078077</td>\n",
       "      <td>37.039019</td>\n",
       "      <td>127.077925</td>\n",
       "      <td>218.0</td>\n",
       "      <td>207000.0</td>\n",
       "      <td>405000.0</td>\n",
       "      <td>207000.0</td>\n",
       "      <td>393000.0</td>\n",
       "      <td>25940.567472</td>\n",
       "    </tr>\n",
       "    <tr>\n",
       "      <th>1005</th>\n",
       "      <td>88</td>\n",
       "      <td>3.0</td>\n",
       "      <td>3.0</td>\n",
       "      <td>1.0</td>\n",
       "      <td>5.0</td>\n",
       "      <td>1.0</td>\n",
       "      <td>56.0</td>\n",
       "      <td>1.0</td>\n",
       "      <td>6.0</td>\n",
       "      <td>37.053694</td>\n",
       "      <td>127.047655</td>\n",
       "      <td>37.038303</td>\n",
       "      <td>127.082699</td>\n",
       "      <td>105.0</td>\n",
       "      <td>205000.0</td>\n",
       "      <td>395000.0</td>\n",
       "      <td>207000.0</td>\n",
       "      <td>393000.0</td>\n",
       "      <td>25940.567472</td>\n",
       "    </tr>\n",
       "    <tr>\n",
       "      <th>1006</th>\n",
       "      <td>88</td>\n",
       "      <td>3.0</td>\n",
       "      <td>3.0</td>\n",
       "      <td>4.0</td>\n",
       "      <td>6.0</td>\n",
       "      <td>1.0</td>\n",
       "      <td>55.0</td>\n",
       "      <td>1.0</td>\n",
       "      <td>6.0</td>\n",
       "      <td>37.102160</td>\n",
       "      <td>127.021462</td>\n",
       "      <td>37.036618</td>\n",
       "      <td>127.077674</td>\n",
       "      <td>173.0</td>\n",
       "      <td>201000.0</td>\n",
       "      <td>401000.0</td>\n",
       "      <td>207000.0</td>\n",
       "      <td>393000.0</td>\n",
       "      <td>25940.567472</td>\n",
       "    </tr>\n",
       "    <tr>\n",
       "      <th>1007</th>\n",
       "      <td>88</td>\n",
       "      <td>4.0</td>\n",
       "      <td>4.0</td>\n",
       "      <td>2.0</td>\n",
       "      <td>5.0</td>\n",
       "      <td>1.0</td>\n",
       "      <td>41.0</td>\n",
       "      <td>1.0</td>\n",
       "      <td>6.0</td>\n",
       "      <td>37.037146</td>\n",
       "      <td>127.029241</td>\n",
       "      <td>37.035418</td>\n",
       "      <td>127.074294</td>\n",
       "      <td>86.0</td>\n",
       "      <td>203000.0</td>\n",
       "      <td>393000.0</td>\n",
       "      <td>207000.0</td>\n",
       "      <td>393000.0</td>\n",
       "      <td>25940.567472</td>\n",
       "    </tr>\n",
       "    <tr>\n",
       "      <th>1008</th>\n",
       "      <td>88</td>\n",
       "      <td>1.0</td>\n",
       "      <td>1.0</td>\n",
       "      <td>2.0</td>\n",
       "      <td>4.0</td>\n",
       "      <td>1.0</td>\n",
       "      <td>49.0</td>\n",
       "      <td>1.0</td>\n",
       "      <td>6.0</td>\n",
       "      <td>37.076516</td>\n",
       "      <td>127.064009</td>\n",
       "      <td>37.036774</td>\n",
       "      <td>127.072348</td>\n",
       "      <td>130.0</td>\n",
       "      <td>205000.0</td>\n",
       "      <td>397000.0</td>\n",
       "      <td>207000.0</td>\n",
       "      <td>393000.0</td>\n",
       "      <td>25940.567472</td>\n",
       "    </tr>\n",
       "    <tr>\n",
       "      <th>1009</th>\n",
       "      <td>88</td>\n",
       "      <td>3.0</td>\n",
       "      <td>3.0</td>\n",
       "      <td>1.0</td>\n",
       "      <td>5.0</td>\n",
       "      <td>1.0</td>\n",
       "      <td>43.0</td>\n",
       "      <td>1.0</td>\n",
       "      <td>6.0</td>\n",
       "      <td>36.989866</td>\n",
       "      <td>127.090719</td>\n",
       "      <td>37.037373</td>\n",
       "      <td>127.088846</td>\n",
       "      <td>35.0</td>\n",
       "      <td>209000.0</td>\n",
       "      <td>387000.0</td>\n",
       "      <td>207000.0</td>\n",
       "      <td>393000.0</td>\n",
       "      <td>25940.567472</td>\n",
       "    </tr>\n",
       "  </tbody>\n",
       "</table>\n",
       "</div>"
      ],
      "text/plain": [
       "      W_ZONE  no_hh  no_hh_chil  hh_type  hh_income  no_car   age  sex  \\\n",
       "1000      88    4.0         3.0      1.0        5.0     1.0  40.0  1.0   \n",
       "1001      88    3.0         3.0      4.0        2.0     2.0  61.0  1.0   \n",
       "1002      88    5.0         3.0      1.0        4.0     1.0  46.0  1.0   \n",
       "1003      88    4.0         4.0      2.0        6.0     1.0  49.0  1.0   \n",
       "1004      88    4.0         2.0      1.0        3.0     1.0  37.0  1.0   \n",
       "1005      88    3.0         3.0      1.0        5.0     1.0  56.0  1.0   \n",
       "1006      88    3.0         3.0      4.0        6.0     1.0  55.0  1.0   \n",
       "1007      88    4.0         4.0      2.0        5.0     1.0  41.0  1.0   \n",
       "1008      88    1.0         1.0      2.0        4.0     1.0  49.0  1.0   \n",
       "1009      88    3.0         3.0      1.0        5.0     1.0  43.0  1.0   \n",
       "\n",
       "      job_type  house_lat   house_lon   work_lat    work_lon  H_ZONE  \\\n",
       "1000       4.0  37.511534  126.902390  37.031954  127.077127   954.0   \n",
       "1001       6.0  37.000396  127.106922  37.034933  127.078710    50.0   \n",
       "1002       4.0  37.195733  127.034267  37.039019  127.077925   287.0   \n",
       "1003       6.0  37.067362  127.056343  37.037719  127.077653   130.0   \n",
       "1004       4.0  37.151695  127.078077  37.039019  127.077925   218.0   \n",
       "1005       6.0  37.053694  127.047655  37.038303  127.082699   105.0   \n",
       "1006       6.0  37.102160  127.021462  37.036618  127.077674   173.0   \n",
       "1007       6.0  37.037146  127.029241  37.035418  127.074294    86.0   \n",
       "1008       6.0  37.076516  127.064009  37.036774  127.072348   130.0   \n",
       "1009       6.0  36.989866  127.090719  37.037373  127.088846    35.0   \n",
       "\n",
       "      H_ZONE_X  H_ZONE_Y  W_ZONE_X  W_ZONE_Y             0  \n",
       "1000  191000.0  445000.0  207000.0  393000.0  25940.567472  \n",
       "1001  209000.0  389000.0  207000.0  393000.0  25940.567472  \n",
       "1002  203000.0  411000.0  207000.0  393000.0  25940.567472  \n",
       "1003  205000.0  397000.0  207000.0  393000.0  25940.567472  \n",
       "1004  207000.0  405000.0  207000.0  393000.0  25940.567472  \n",
       "1005  205000.0  395000.0  207000.0  393000.0  25940.567472  \n",
       "1006  201000.0  401000.0  207000.0  393000.0  25940.567472  \n",
       "1007  203000.0  393000.0  207000.0  393000.0  25940.567472  \n",
       "1008  205000.0  397000.0  207000.0  393000.0  25940.567472  \n",
       "1009  209000.0  387000.0  207000.0  393000.0  25940.567472  "
      ]
     },
     "execution_count": 6,
     "metadata": {},
     "output_type": "execute_result"
    }
   ],
   "source": [
    "print(len(data))\n",
    "data[1000:1010]"
   ]
  },
  {
   "cell_type": "code",
   "execution_count": 7,
   "metadata": {},
   "outputs": [
    {
     "data": {
      "text/html": [
       "<div>\n",
       "<style scoped>\n",
       "    .dataframe tbody tr th:only-of-type {\n",
       "        vertical-align: middle;\n",
       "    }\n",
       "\n",
       "    .dataframe tbody tr th {\n",
       "        vertical-align: top;\n",
       "    }\n",
       "\n",
       "    .dataframe thead th {\n",
       "        text-align: right;\n",
       "    }\n",
       "</style>\n",
       "<table border=\"1\" class=\"dataframe\">\n",
       "  <thead>\n",
       "    <tr style=\"text-align: right;\">\n",
       "      <th></th>\n",
       "      <th>W_ZONE</th>\n",
       "      <th>no_hh</th>\n",
       "      <th>no_hh_chil</th>\n",
       "      <th>hh_type</th>\n",
       "      <th>hh_income</th>\n",
       "      <th>no_car</th>\n",
       "      <th>age</th>\n",
       "      <th>sex</th>\n",
       "      <th>job_type</th>\n",
       "      <th>work_lat</th>\n",
       "      <th>work_lon</th>\n",
       "    </tr>\n",
       "  </thead>\n",
       "  <tbody>\n",
       "    <tr>\n",
       "      <th>0</th>\n",
       "      <td>0</td>\n",
       "      <td>4.0</td>\n",
       "      <td>4.0</td>\n",
       "      <td>1.0</td>\n",
       "      <td>5.0</td>\n",
       "      <td>1.0</td>\n",
       "      <td>41.0</td>\n",
       "      <td>1.0</td>\n",
       "      <td>4.0</td>\n",
       "      <td>36.115620</td>\n",
       "      <td>126.792747</td>\n",
       "    </tr>\n",
       "    <tr>\n",
       "      <th>1</th>\n",
       "      <td>0</td>\n",
       "      <td>3.0</td>\n",
       "      <td>3.0</td>\n",
       "      <td>2.0</td>\n",
       "      <td>3.0</td>\n",
       "      <td>1.0</td>\n",
       "      <td>36.0</td>\n",
       "      <td>1.0</td>\n",
       "      <td>4.0</td>\n",
       "      <td>37.335447</td>\n",
       "      <td>126.677584</td>\n",
       "    </tr>\n",
       "    <tr>\n",
       "      <th>2</th>\n",
       "      <td>0</td>\n",
       "      <td>3.0</td>\n",
       "      <td>3.0</td>\n",
       "      <td>2.0</td>\n",
       "      <td>2.0</td>\n",
       "      <td>1.0</td>\n",
       "      <td>70.0</td>\n",
       "      <td>1.0</td>\n",
       "      <td>9.0</td>\n",
       "      <td>36.975082</td>\n",
       "      <td>127.436894</td>\n",
       "    </tr>\n",
       "    <tr>\n",
       "      <th>3</th>\n",
       "      <td>0</td>\n",
       "      <td>5.0</td>\n",
       "      <td>4.0</td>\n",
       "      <td>1.0</td>\n",
       "      <td>5.0</td>\n",
       "      <td>1.0</td>\n",
       "      <td>32.0</td>\n",
       "      <td>1.0</td>\n",
       "      <td>4.0</td>\n",
       "      <td>36.847868</td>\n",
       "      <td>127.414170</td>\n",
       "    </tr>\n",
       "    <tr>\n",
       "      <th>4</th>\n",
       "      <td>0</td>\n",
       "      <td>2.0</td>\n",
       "      <td>2.0</td>\n",
       "      <td>4.0</td>\n",
       "      <td>3.0</td>\n",
       "      <td>1.0</td>\n",
       "      <td>55.0</td>\n",
       "      <td>1.0</td>\n",
       "      <td>4.0</td>\n",
       "      <td>37.967527</td>\n",
       "      <td>124.717824</td>\n",
       "    </tr>\n",
       "  </tbody>\n",
       "</table>\n",
       "</div>"
      ],
      "text/plain": [
       "   W_ZONE  no_hh  no_hh_chil  hh_type  hh_income  no_car   age  sex  job_type  \\\n",
       "0       0    4.0         4.0      1.0        5.0     1.0  41.0  1.0       4.0   \n",
       "1       0    3.0         3.0      2.0        3.0     1.0  36.0  1.0       4.0   \n",
       "2       0    3.0         3.0      2.0        2.0     1.0  70.0  1.0       9.0   \n",
       "3       0    5.0         4.0      1.0        5.0     1.0  32.0  1.0       4.0   \n",
       "4       0    2.0         2.0      4.0        3.0     1.0  55.0  1.0       4.0   \n",
       "\n",
       "    work_lat    work_lon  \n",
       "0  36.115620  126.792747  \n",
       "1  37.335447  126.677584  \n",
       "2  36.975082  127.436894  \n",
       "3  36.847868  127.414170  \n",
       "4  37.967527  124.717824  "
      ]
     },
     "execution_count": 7,
     "metadata": {},
     "output_type": "execute_result"
    }
   ],
   "source": [
    "# preprocessing\n",
    "\n",
    "# not calculating distance, simply using latitude\n",
    "x = data.iloc[:, 0:13]\n",
    "x = x.drop([\"house_lat\", \"house_lon\"], axis= 1)\n",
    "x.head()"
   ]
  },
  {
   "cell_type": "code",
   "execution_count": 8,
   "metadata": {},
   "outputs": [
    {
     "data": {
      "text/plain": [
       "W_ZONE          0\n",
       "no_hh         180\n",
       "no_hh_chil    180\n",
       "hh_type       180\n",
       "hh_income     180\n",
       "no_car        180\n",
       "age           180\n",
       "sex           180\n",
       "job_type      180\n",
       "work_lat      180\n",
       "work_lon      180\n",
       "dtype: int64"
      ]
     },
     "execution_count": 8,
     "metadata": {},
     "output_type": "execute_result"
    }
   ],
   "source": [
    "x.isnull().sum()"
   ]
  },
  {
   "cell_type": "code",
   "execution_count": 9,
   "metadata": {},
   "outputs": [],
   "source": [
    "# # Taking care of missing data\n",
    "# from sklearn.preprocessing import Imputer\n",
    "# imputer = Imputer(missing_values = 'NaN', strategy = 'mean', axis = 0)\n",
    "# imputer = imputer.fit(x.iloc[:, 1:10])\n",
    "# x.iloc[:, 1:10] = imputer.transform(x.iloc[:, 1:10])\n",
    "x = x.dropna()"
   ]
  },
  {
   "cell_type": "code",
   "execution_count": 10,
   "metadata": {},
   "outputs": [
    {
     "data": {
      "text/html": [
       "<div>\n",
       "<style scoped>\n",
       "    .dataframe tbody tr th:only-of-type {\n",
       "        vertical-align: middle;\n",
       "    }\n",
       "\n",
       "    .dataframe tbody tr th {\n",
       "        vertical-align: top;\n",
       "    }\n",
       "\n",
       "    .dataframe thead th {\n",
       "        text-align: right;\n",
       "    }\n",
       "</style>\n",
       "<table border=\"1\" class=\"dataframe\">\n",
       "  <thead>\n",
       "    <tr style=\"text-align: right;\">\n",
       "      <th></th>\n",
       "      <th>W_ZONE</th>\n",
       "      <th>no_hh</th>\n",
       "      <th>no_hh_chil</th>\n",
       "      <th>hh_type</th>\n",
       "      <th>hh_income</th>\n",
       "      <th>no_car</th>\n",
       "      <th>age</th>\n",
       "      <th>sex</th>\n",
       "      <th>job_type</th>\n",
       "      <th>work_lat</th>\n",
       "      <th>work_lon</th>\n",
       "    </tr>\n",
       "    <tr>\n",
       "      <th>hh_type</th>\n",
       "      <th></th>\n",
       "      <th></th>\n",
       "      <th></th>\n",
       "      <th></th>\n",
       "      <th></th>\n",
       "      <th></th>\n",
       "      <th></th>\n",
       "      <th></th>\n",
       "      <th></th>\n",
       "      <th></th>\n",
       "      <th></th>\n",
       "    </tr>\n",
       "  </thead>\n",
       "  <tbody>\n",
       "    <tr>\n",
       "      <th>1.0</th>\n",
       "      <td>1326</td>\n",
       "      <td>8</td>\n",
       "      <td>8</td>\n",
       "      <td>1</td>\n",
       "      <td>8</td>\n",
       "      <td>2</td>\n",
       "      <td>66</td>\n",
       "      <td>2</td>\n",
       "      <td>9</td>\n",
       "      <td>15391</td>\n",
       "      <td>15422</td>\n",
       "    </tr>\n",
       "    <tr>\n",
       "      <th>2.0</th>\n",
       "      <td>732</td>\n",
       "      <td>7</td>\n",
       "      <td>7</td>\n",
       "      <td>1</td>\n",
       "      <td>8</td>\n",
       "      <td>2</td>\n",
       "      <td>62</td>\n",
       "      <td>2</td>\n",
       "      <td>8</td>\n",
       "      <td>3594</td>\n",
       "      <td>3605</td>\n",
       "    </tr>\n",
       "    <tr>\n",
       "      <th>3.0</th>\n",
       "      <td>648</td>\n",
       "      <td>6</td>\n",
       "      <td>6</td>\n",
       "      <td>1</td>\n",
       "      <td>8</td>\n",
       "      <td>2</td>\n",
       "      <td>58</td>\n",
       "      <td>2</td>\n",
       "      <td>9</td>\n",
       "      <td>3210</td>\n",
       "      <td>3214</td>\n",
       "    </tr>\n",
       "    <tr>\n",
       "      <th>4.0</th>\n",
       "      <td>1120</td>\n",
       "      <td>7</td>\n",
       "      <td>6</td>\n",
       "      <td>1</td>\n",
       "      <td>8</td>\n",
       "      <td>2</td>\n",
       "      <td>60</td>\n",
       "      <td>2</td>\n",
       "      <td>7</td>\n",
       "      <td>6152</td>\n",
       "      <td>6173</td>\n",
       "    </tr>\n",
       "    <tr>\n",
       "      <th>5.0</th>\n",
       "      <td>246</td>\n",
       "      <td>6</td>\n",
       "      <td>5</td>\n",
       "      <td>1</td>\n",
       "      <td>7</td>\n",
       "      <td>2</td>\n",
       "      <td>50</td>\n",
       "      <td>2</td>\n",
       "      <td>7</td>\n",
       "      <td>567</td>\n",
       "      <td>566</td>\n",
       "    </tr>\n",
       "    <tr>\n",
       "      <th>6.0</th>\n",
       "      <td>93</td>\n",
       "      <td>6</td>\n",
       "      <td>5</td>\n",
       "      <td>1</td>\n",
       "      <td>6</td>\n",
       "      <td>2</td>\n",
       "      <td>47</td>\n",
       "      <td>2</td>\n",
       "      <td>6</td>\n",
       "      <td>123</td>\n",
       "      <td>123</td>\n",
       "    </tr>\n",
       "  </tbody>\n",
       "</table>\n",
       "</div>"
      ],
      "text/plain": [
       "         W_ZONE  no_hh  no_hh_chil  hh_type  hh_income  no_car  age  sex  \\\n",
       "hh_type                                                                    \n",
       "1.0        1326      8           8        1          8       2   66    2   \n",
       "2.0         732      7           7        1          8       2   62    2   \n",
       "3.0         648      6           6        1          8       2   58    2   \n",
       "4.0        1120      7           6        1          8       2   60    2   \n",
       "5.0         246      6           5        1          7       2   50    2   \n",
       "6.0          93      6           5        1          6       2   47    2   \n",
       "\n",
       "         job_type  work_lat  work_lon  \n",
       "hh_type                                \n",
       "1.0             9     15391     15422  \n",
       "2.0             8      3594      3605  \n",
       "3.0             9      3210      3214  \n",
       "4.0             7      6152      6173  \n",
       "5.0             7       567       566  \n",
       "6.0             6       123       123  "
      ]
     },
     "execution_count": 10,
     "metadata": {},
     "output_type": "execute_result"
    }
   ],
   "source": [
    "x.isnull().sum()\n",
    "x.groupby('hh_type').nunique()"
   ]
  },
  {
   "cell_type": "code",
   "execution_count": 11,
   "metadata": {},
   "outputs": [],
   "source": [
    "# save original data\n",
    "x_original = x.values"
   ]
  },
  {
   "cell_type": "code",
   "execution_count": 12,
   "metadata": {},
   "outputs": [],
   "source": [
    "# category values: hh_type, hh_income (this one is fine because of the levels)\n",
    "# Encoding categorical data\n",
    "# encode variable: hh_type, sex, job_type, W_Zone\n",
    "\n",
    "# make X a numpy array of x\n",
    "X_W = x.iloc[:, 0]\n",
    "from sklearn.preprocessing import LabelEncoder, OneHotEncoder\n",
    "\n",
    "# W_Zone\n",
    "labelencoder_X_W = LabelEncoder()\n",
    "X_W = labelencoder_X_W.fit_transform(X_W)\n",
    "onehotencoder_X_W = OneHotEncoder(categorical_features = [0])\n",
    "X_W = onehotencoder_X_W.fit_transform(X_W.reshape(-1, 1)).toarray()\n",
    "# Dummy Variable trap\n",
    "X_W = X_W[:, 1:]\n",
    "# print(len(X_W[1]))"
   ]
  },
  {
   "cell_type": "code",
   "execution_count": 13,
   "metadata": {},
   "outputs": [],
   "source": [
    "# hh_type\n",
    "X_hh = x.iloc[:, 3]\n",
    "labelencoder_X_hh = LabelEncoder()\n",
    "X_hh = labelencoder_X_hh.fit_transform(X_hh)\n",
    "onehotencoder_hh = OneHotEncoder(categorical_features = [0])\n",
    "X_hh = onehotencoder_hh.fit_transform(X_hh.reshape(-1, 1)).toarray()\n",
    "# Dummy Variable trap\n",
    "X_hh = X_hh[:, 1:]"
   ]
  },
  {
   "cell_type": "code",
   "execution_count": 14,
   "metadata": {},
   "outputs": [],
   "source": [
    "# job_type\n",
    "X_job = x.iloc[:, 8]\n",
    "labelencoder_X_job = LabelEncoder()\n",
    "X_job = labelencoder_X_job.fit_transform(X_job)\n",
    "onehotencoder_X_job = OneHotEncoder(categorical_features = [0])\n",
    "X_job = onehotencoder_X_job.fit_transform(X_job.reshape(-1, 1)).toarray()\n",
    "# Dummy Variable trap\n",
    "X_job = X_job[:, 1:]"
   ]
  },
  {
   "cell_type": "code",
   "execution_count": 15,
   "metadata": {},
   "outputs": [],
   "source": [
    "# add the variables: \n",
    "X = x.values\n",
    "# for i, x1 in enumerate(X[0]):\n",
    "#     print(\"column %s\" %i, x1)\n",
    "# take out the three columns\n",
    "X = np.delete(X, 0, axis = 1)\n",
    "X = np.delete(X, 2, axis = 1)\n",
    "X = np.delete(X, 6, axis = 1)\n",
    "X = np.append(X, X_W, axis = 1)\n",
    "X = np.append(X, X_hh, axis = 1)\n",
    "X = np.append(X, X_job, axis = 1)\n"
   ]
  },
  {
   "cell_type": "code",
   "execution_count": 16,
   "metadata": {},
   "outputs": [
    {
     "data": {
      "text/plain": [
       "'\\nSummary:\\ncolumn 0: no_hh\\ncolumn 1: no_hh_chil\\ncolumn 2: hh_income\\ncolumn 3: no_car\\ncolumn 4: age\\ncolumn 5: sex\\ncolumn 6: work_lat\\ncolumn 7: work_lon\\ncolumn 8~1570: W_ZONE\\ncolumn 1571~1575: hh_type\\ncolumn 1576~1584: job_type\\n\\n'"
      ]
     },
     "execution_count": 16,
     "metadata": {},
     "output_type": "execute_result"
    }
   ],
   "source": [
    "'''\n",
    "Summary:\n",
    "column 0: no_hh\n",
    "column 1: no_hh_chil\n",
    "column 2: hh_income\n",
    "column 3: no_car\n",
    "column 4: age\n",
    "column 5: sex\n",
    "column 6: work_lat\n",
    "column 7: work_lon\n",
    "column 8~1570: W_ZONE\n",
    "column 1571~1575: hh_type\n",
    "column 1576~1584: job_type\n",
    "\n",
    "'''"
   ]
  },
  {
   "cell_type": "code",
   "execution_count": 17,
   "metadata": {},
   "outputs": [],
   "source": [
    "# Higher Dimensions\n",
    "# higher dimensions for continuous variables: hh_income, age, no_car, no_hh\n",
    "from sklearn.preprocessing import PolynomialFeatures\n",
    "\n",
    "# no_hh\n",
    "X_no_hh = X[:, 0]\n",
    "poly_reg_no_hh = PolynomialFeatures(degree = 4)\n",
    "X_no_hh = poly_reg_no_hh.fit_transform(X_no_hh.reshape(-1, 1))\n",
    "X_no_hh = np.delete(X_no_hh, 0, axis = 1)\n",
    "X_no_hh = np.delete(X_no_hh, 0, axis = 1)\n",
    "\n",
    "X = np.append(X, X_no_hh, axis = 1)\n"
   ]
  },
  {
   "cell_type": "code",
   "execution_count": 18,
   "metadata": {},
   "outputs": [
    {
     "data": {
      "text/plain": [
       "'\\ncolumn 1585~1587: poly no_hh\\n'"
      ]
     },
     "execution_count": 18,
     "metadata": {},
     "output_type": "execute_result"
    }
   ],
   "source": [
    "\n",
    "'''\n",
    "column 1585~1587: poly no_hh\n",
    "'''"
   ]
  },
  {
   "cell_type": "code",
   "execution_count": 19,
   "metadata": {},
   "outputs": [],
   "source": [
    "# hh_income\n",
    "X_hh_income = X[:, 2]\n",
    "poly_reg_hh_income = PolynomialFeatures(degree = 4)\n",
    "X_hh_income = poly_reg_hh_income.fit_transform(X_hh_income.reshape(-1, 1))\n",
    "X_hh_income = np.delete(X_hh_income, 0, axis = 1)\n",
    "X_hh_income = np.delete(X_hh_income, 0, axis = 1)\n",
    "\n",
    "X = np.append(X, X_hh_income, axis = 1)\n",
    "\n"
   ]
  },
  {
   "cell_type": "code",
   "execution_count": 20,
   "metadata": {},
   "outputs": [
    {
     "data": {
      "text/plain": [
       "'\\ncolumn 1588~1590: poly hh_income\\n'"
      ]
     },
     "execution_count": 20,
     "metadata": {},
     "output_type": "execute_result"
    }
   ],
   "source": [
    "'''\n",
    "column 1588~1590: poly hh_income\n",
    "'''"
   ]
  },
  {
   "cell_type": "code",
   "execution_count": 21,
   "metadata": {},
   "outputs": [],
   "source": [
    "# age\n",
    "X_age = X[:, 4]\n",
    "poly_reg_age = PolynomialFeatures(degree = 4)\n",
    "X_age = poly_reg_age.fit_transform(X_age.reshape(-1, 1))\n",
    "X_age = np.delete(X_age, 0, axis = 1)\n",
    "X_age = np.delete(X_age, 0, axis = 1)\n",
    "\n",
    "X = np.append(X, X_age, axis = 1)\n",
    "\n"
   ]
  },
  {
   "cell_type": "code",
   "execution_count": 22,
   "metadata": {},
   "outputs": [
    {
     "data": {
      "text/plain": [
       "'\\ncolumn 1591~1593: poly X_age\\n'"
      ]
     },
     "execution_count": 22,
     "metadata": {},
     "output_type": "execute_result"
    }
   ],
   "source": [
    "'''\n",
    "column 1591~1593: poly X_age\n",
    "'''"
   ]
  },
  {
   "cell_type": "code",
   "execution_count": 23,
   "metadata": {},
   "outputs": [],
   "source": [
    "# no_car\n",
    "X_no_car = X[:, 3]\n",
    "poly_reg_car = PolynomialFeatures(degree = 4)\n",
    "X_no_car = poly_reg_car.fit_transform(X_no_car.reshape(-1, 1))\n",
    "X_no_car = np.delete(X_no_car, 0, axis = 1)\n",
    "X_no_car = np.delete(X_no_car, 0, axis = 1)\n",
    "\n",
    "X = np.append(X, X_no_car, axis = 1)"
   ]
  },
  {
   "cell_type": "code",
   "execution_count": 24,
   "metadata": {},
   "outputs": [
    {
     "data": {
      "text/plain": [
       "'\\ncolumn 1594~1596: poly X_age\\n'"
      ]
     },
     "execution_count": 24,
     "metadata": {},
     "output_type": "execute_result"
    }
   ],
   "source": [
    "'''\n",
    "column 1594~1596: poly X_age\n",
    "'''"
   ]
  },
  {
   "cell_type": "code",
   "execution_count": 25,
   "metadata": {},
   "outputs": [
    {
     "data": {
      "text/html": [
       "<div>\n",
       "<style scoped>\n",
       "    .dataframe tbody tr th:only-of-type {\n",
       "        vertical-align: middle;\n",
       "    }\n",
       "\n",
       "    .dataframe tbody tr th {\n",
       "        vertical-align: top;\n",
       "    }\n",
       "\n",
       "    .dataframe thead th {\n",
       "        text-align: right;\n",
       "    }\n",
       "</style>\n",
       "<table border=\"1\" class=\"dataframe\">\n",
       "  <thead>\n",
       "    <tr style=\"text-align: right;\">\n",
       "      <th></th>\n",
       "      <th>house_lat</th>\n",
       "      <th>house_lon</th>\n",
       "    </tr>\n",
       "  </thead>\n",
       "  <tbody>\n",
       "    <tr>\n",
       "      <th>0</th>\n",
       "      <td>37.453952</td>\n",
       "      <td>126.716877</td>\n",
       "    </tr>\n",
       "    <tr>\n",
       "      <th>1</th>\n",
       "      <td>37.465845</td>\n",
       "      <td>126.717234</td>\n",
       "    </tr>\n",
       "    <tr>\n",
       "      <th>2</th>\n",
       "      <td>37.229621</td>\n",
       "      <td>127.284122</td>\n",
       "    </tr>\n",
       "    <tr>\n",
       "      <th>3</th>\n",
       "      <td>37.623500</td>\n",
       "      <td>127.083187</td>\n",
       "    </tr>\n",
       "    <tr>\n",
       "      <th>4</th>\n",
       "      <td>37.469676</td>\n",
       "      <td>126.644354</td>\n",
       "    </tr>\n",
       "  </tbody>\n",
       "</table>\n",
       "</div>"
      ],
      "text/plain": [
       "   house_lat   house_lon\n",
       "0  37.453952  126.716877\n",
       "1  37.465845  126.717234\n",
       "2  37.229621  127.284122\n",
       "3  37.623500  127.083187\n",
       "4  37.469676  126.644354"
      ]
     },
     "execution_count": 25,
     "metadata": {},
     "output_type": "execute_result"
    }
   ],
   "source": [
    "y = data.loc[:, [\"house_lat\", \"house_lon\"]]\n",
    "y.head()"
   ]
  },
  {
   "cell_type": "code",
   "execution_count": 26,
   "metadata": {},
   "outputs": [
    {
     "data": {
      "text/plain": [
       "house_lat    180\n",
       "house_lon    180\n",
       "dtype: int64"
      ]
     },
     "execution_count": 26,
     "metadata": {},
     "output_type": "execute_result"
    }
   ],
   "source": [
    "y.isnull().sum()"
   ]
  },
  {
   "cell_type": "code",
   "execution_count": 27,
   "metadata": {},
   "outputs": [],
   "source": [
    "# # Taking care of missing data\n",
    "# from sklearn.preprocessing import Imputer\n",
    "# imputer = Imputer(missing_values = 'NaN', strategy = 'mean', axis = 0)\n",
    "# imputer = imputer.fit(y)\n",
    "# y = imputer.transform(y)\n",
    "y = y.dropna()\n",
    "Y = y.values"
   ]
  },
  {
   "cell_type": "code",
   "execution_count": 28,
   "metadata": {},
   "outputs": [],
   "source": [
    "# Splitting the dataset into the Training set and Test set (original dataset for random forest and SVM)\n",
    "from sklearn.model_selection import train_test_split\n",
    "X_train, X_test, y_train, y_test = train_test_split(x_original, Y, test_size = 0.2, random_state = 0)"
   ]
  },
  {
   "cell_type": "code",
   "execution_count": 29,
   "metadata": {},
   "outputs": [],
   "source": [
    "# Feature Scaling (Standardization)\n",
    "from sklearn.preprocessing import StandardScaler\n",
    "sc = StandardScaler()\n",
    "X_train = sc.fit_transform(X_train)\n",
    "X_test = sc.transform(X_test)\n",
    "# Normalization\n",
    "# from sklearn.preprocessing import MinMaxScaler\n",
    "# sc = MinMaxScaler(feature_range = (0, 1))\n",
    "# X_train = sc.fit_transform(X_train)\n",
    "# X_test = sc.transform(X_test)"
   ]
  },
  {
   "cell_type": "code",
   "execution_count": 28,
   "metadata": {},
   "outputs": [
    {
     "data": {
      "text/plain": [
       "RandomForestRegressor(bootstrap=True, criterion='mse', max_depth=None,\n",
       "           max_features='auto', max_leaf_nodes=None,\n",
       "           min_impurity_decrease=0.0, min_impurity_split=None,\n",
       "           min_samples_leaf=1, min_samples_split=2,\n",
       "           min_weight_fraction_leaf=0.0, n_estimators=50, n_jobs=1,\n",
       "           oob_score=False, random_state=0, verbose=0, warm_start=False)"
      ]
     },
     "execution_count": 28,
     "metadata": {},
     "output_type": "execute_result"
    }
   ],
   "source": [
    "# Random Forest Regression\n",
    "# Fitting the Random Forest Regression Model to the dataset\n",
    "from sklearn.ensemble import RandomForestRegressor\n",
    "regressor = RandomForestRegressor(n_estimators = 50, random_state = 0)\n",
    "regressor.fit(X_train, y_train)"
   ]
  },
  {
   "cell_type": "code",
   "execution_count": 29,
   "metadata": {},
   "outputs": [],
   "source": [
    "y_pred = regressor.predict(X_test)"
   ]
  },
  {
   "cell_type": "code",
   "execution_count": 30,
   "metadata": {},
   "outputs": [],
   "source": [
    "prediction = pd.DataFrame({'house_lat': y_test[:, 0],'house_lon':y_test[:, 1],\n",
    "                            'house_lat (pred)': y_pred[:,0], 'house_lon (pred)': y_pred[:,1]})"
   ]
  },
  {
   "cell_type": "code",
   "execution_count": 42,
   "metadata": {},
   "outputs": [],
   "source": [
    "# accuracy based on distance\n",
    "def accuracy(pred):\n",
    "    sum_error = 0\n",
    "    for i in range(len(pred)):\n",
    "        deltax = pred.iloc[i][0]-pred.iloc[i][2]\n",
    "        deltay = pred.iloc[i][1]-pred.iloc[i][3]\n",
    "        error = (deltax**2 + deltay**2)**(0.5)\n",
    "        sum_error += error\n",
    "    return sum_error\n",
    "\n",
    "def ind_diff(pred):\n",
    "    diff = []\n",
    "    for i in range(len(pred)):\n",
    "        deltax = pred.iloc[i][0]-pred.iloc[i][2]\n",
    "        deltay = pred.iloc[i][1]-pred.iloc[i][3]\n",
    "        error = (deltax**2 + deltay**2)**(0.5)\n",
    "        diff.append(error)\n",
    "    return pd.DataFrame({'Difference': diff})\n"
   ]
  },
  {
   "cell_type": "code",
   "execution_count": 32,
   "metadata": {},
   "outputs": [
    {
     "data": {
      "text/plain": [
       "836.4854723538451"
      ]
     },
     "execution_count": 32,
     "metadata": {},
     "output_type": "execute_result"
    }
   ],
   "source": [
    "accuracy(prediction)"
   ]
  },
  {
   "cell_type": "code",
   "execution_count": 33,
   "metadata": {},
   "outputs": [],
   "source": [
    "difference = ind_diff(prediction)"
   ]
  },
  {
   "cell_type": "code",
   "execution_count": 34,
   "metadata": {},
   "outputs": [
    {
     "data": {
      "image/png": "[encoded data removed]",
      "text/plain": [
       "<Figure size 432x288 with 1 Axes>"
      ]
     },
     "metadata": {
      "needs_background": "light"
     },
     "output_type": "display_data"
    }
   ],
   "source": [
    "plt.scatter(y_test[:, 0], y_test[:, 1], color = \"red\", label = 'Actual')\n",
    "plt.scatter(y_pred[:, 0], y_pred[:, 1], color = \"blue\", label = 'Prediction')\n",
    "plt.title('Regression')\n",
    "plt.xlabel('Lat')\n",
    "plt.ylabel('Lon')\n",
    "plt.legend(loc='upper left')\n",
    "plt.show()"
   ]
  },
  {
   "cell_type": "code",
   "execution_count": 35,
   "metadata": {},
   "outputs": [
    {
     "data": {
      "text/plain": [
       "MultiOutputRegressor(estimator=SVR(C=1.0, cache_size=200, coef0=0.0, degree=3, epsilon=0.1, gamma='auto',\n",
       "  kernel='rbf', max_iter=-1, shrinking=True, tol=0.001, verbose=False),\n",
       "           n_jobs=1)"
      ]
     },
     "execution_count": 35,
     "metadata": {},
     "output_type": "execute_result"
    }
   ],
   "source": [
    "# SVR\n",
    "from sklearn.svm import SVR\n",
    "from sklearn.multioutput import MultiOutputRegressor\n",
    "\n",
    "Svr = SVR(kernel = 'rbf')\n",
    "regressor = MultiOutputRegressor(Svr)\n",
    "regressor.fit(X_train, y_train)"
   ]
  },
  {
   "cell_type": "code",
   "execution_count": 36,
   "metadata": {},
   "outputs": [],
   "source": [
    "y_pred = regressor.predict(X_test)"
   ]
  },
  {
   "cell_type": "code",
   "execution_count": 37,
   "metadata": {},
   "outputs": [],
   "source": [
    "prediction = pd.DataFrame({'house_lat': y_test[:, 0],'house_lon':y_test[:, 1],\n",
    "                            'house_lat (pred)': y_pred[:,0], 'house_lon (pred)': y_pred[:,1]})"
   ]
  },
  {
   "cell_type": "code",
   "execution_count": 38,
   "metadata": {},
   "outputs": [
    {
     "data": {
      "text/plain": [
       "910.4894551538027"
      ]
     },
     "execution_count": 38,
     "metadata": {},
     "output_type": "execute_result"
    }
   ],
   "source": [
    "accuracy(prediction)"
   ]
  },
  {
   "cell_type": "code",
   "execution_count": 39,
   "metadata": {},
   "outputs": [],
   "source": [
    "difference = ind_diff(prediction)"
   ]
  },
  {
   "cell_type": "code",
   "execution_count": 40,
   "metadata": {},
   "outputs": [
    {
     "data": {
      "text/html": [
       "<div>\n",
       "<style scoped>\n",
       "    .dataframe tbody tr th:only-of-type {\n",
       "        vertical-align: middle;\n",
       "    }\n",
       "\n",
       "    .dataframe tbody tr th {\n",
       "        vertical-align: top;\n",
       "    }\n",
       "\n",
       "    .dataframe thead th {\n",
       "        text-align: right;\n",
       "    }\n",
       "</style>\n",
       "<table border=\"1\" class=\"dataframe\">\n",
       "  <thead>\n",
       "    <tr style=\"text-align: right;\">\n",
       "      <th></th>\n",
       "      <th>Difference</th>\n",
       "    </tr>\n",
       "  </thead>\n",
       "  <tbody>\n",
       "    <tr>\n",
       "      <th>0</th>\n",
       "      <td>0.136940</td>\n",
       "    </tr>\n",
       "    <tr>\n",
       "      <th>1</th>\n",
       "      <td>0.100117</td>\n",
       "    </tr>\n",
       "    <tr>\n",
       "      <th>2</th>\n",
       "      <td>0.046069</td>\n",
       "    </tr>\n",
       "    <tr>\n",
       "      <th>3</th>\n",
       "      <td>0.328629</td>\n",
       "    </tr>\n",
       "    <tr>\n",
       "      <th>4</th>\n",
       "      <td>0.223993</td>\n",
       "    </tr>\n",
       "  </tbody>\n",
       "</table>\n",
       "</div>"
      ],
      "text/plain": [
       "   Difference\n",
       "0    0.136940\n",
       "1    0.100117\n",
       "2    0.046069\n",
       "3    0.328629\n",
       "4    0.223993"
      ]
     },
     "execution_count": 40,
     "metadata": {},
     "output_type": "execute_result"
    }
   ],
   "source": [
    "difference.head()"
   ]
  },
  {
   "cell_type": "code",
   "execution_count": 41,
   "metadata": {},
   "outputs": [
    {
     "data": {
      "image/png": "[encoded data removed]",
      "text/plain": [
       "<Figure size 432x288 with 1 Axes>"
      ]
     },
     "metadata": {
      "needs_background": "light"
     },
     "output_type": "display_data"
    }
   ],
   "source": [
    "plt.scatter(y_test[:, 0], y_test[:, 1], color = \"red\", label = 'Actual')\n",
    "plt.scatter(y_pred[:, 0], y_pred[:, 1], color = \"blue\", label = 'Prediction')\n",
    "plt.title('Regression')\n",
    "plt.xlabel('Lat')\n",
    "plt.ylabel('Lon')\n",
    "plt.legend(loc='upper left')\n",
    "plt.show()"
   ]
  },
  {
   "cell_type": "code",
   "execution_count": 46,
   "metadata": {},
   "outputs": [],
   "source": [
    "# Importing the Keras libraries and packages\n",
    "import keras\n",
    "from keras.models import Sequential\n",
    "from keras.layers import Dense, Dropout"
   ]
  },
  {
   "cell_type": "code",
   "execution_count": 72,
   "metadata": {},
   "outputs": [
    {
     "name": "stdout",
     "output_type": "stream",
     "text": [
      "_________________________________________________________________\n",
      "Layer (type)                 Output Shape              Param #   \n",
      "=================================================================\n",
      "dense_17 (Dense)             (None, 32)                51136     \n",
      "_________________________________________________________________\n",
      "dropout_13 (Dropout)         (None, 32)                0         \n",
      "_________________________________________________________________\n",
      "dense_18 (Dense)             (None, 64)                2112      \n",
      "_________________________________________________________________\n",
      "dropout_14 (Dropout)         (None, 64)                0         \n",
      "_________________________________________________________________\n",
      "dense_19 (Dense)             (None, 64)                4160      \n",
      "_________________________________________________________________\n",
      "dropout_15 (Dropout)         (None, 64)                0         \n",
      "_________________________________________________________________\n",
      "dense_20 (Dense)             (None, 2)                 130       \n",
      "=================================================================\n",
      "Total params: 57,538\n",
      "Trainable params: 57,538\n",
      "Non-trainable params: 0\n",
      "_________________________________________________________________\n"
     ]
    }
   ],
   "source": [
    "# Initialising the ANN\n",
    "regressor = Sequential()\n",
    "\n",
    "# Adding the input layer and the first hidden layer\n",
    "regressor.add(Dense(units = 32, kernel_initializer = 'uniform', activation = 'relu', input_dim = 1597))\n",
    "regressor.add(Dropout(0.2))\n",
    "\n",
    "# Adding the second hidden layer\n",
    "regressor.add(Dense(units = 64, kernel_initializer = 'uniform', activation = 'relu'))\n",
    "regressor.add(Dropout(0.2))\n",
    "\n",
    "# Adding the third hidden layer\n",
    "regressor.add(Dense(units = 64, kernel_initializer = 'uniform', activation = 'relu'))\n",
    "regressor.add(Dropout(0.2))\n",
    "\n",
    "# Adding the output layer\n",
    "regressor.add(Dense(units = 2, kernel_initializer = 'normal', activation = 'linear'))\n",
    "\n",
    "# Compiling the ANN\n",
    "sgd = keras.optimizers.SGD(lr=0.1, nesterov = True)\n",
    "regressor.compile(optimizer = sgd, loss = 'mean_squared_error', metrics = ['mae'])\n",
    "regressor.summary()"
   ]
  },
  {
   "cell_type": "code",
   "execution_count": 73,
   "metadata": {},
   "outputs": [],
   "source": [
    "# X_train, X_test, y_train, y_test = train_test_split(X, Y, test_size = 0.2, random_state = 0)\n",
    "# from sklearn.preprocessing import MinMaxScaler\n",
    "# sc = MinMaxScaler(feature_range = (0, 1))\n",
    "# X_train = sc.fit_transform(X_train)\n",
    "# X_test = sc.transform(X_test)"
   ]
  },
  {
   "cell_type": "code",
   "execution_count": 74,
   "metadata": {},
   "outputs": [],
   "source": [
    "Y_standardized = np.zeros((len(Y), 2))\n",
    "Y_standardized[:,0] = (Y[:,0] - np.mean(Y[:,0]))/ np.std(Y[:,0])\n",
    "Y_standardized[:,1] = (Y[:,1] - np.mean(Y[:,1]))/ np.std(Y[:,1])"
   ]
  },
  {
   "cell_type": "code",
   "execution_count": 75,
   "metadata": {},
   "outputs": [],
   "source": [
    "# processed dataset with dummy variables and polynomials as well as standardized outcomes\n",
    "X_train, X_test, y_train, y_test = train_test_split(X, Y_standardized, test_size = 0.2, random_state = 0)\n",
    "from sklearn.preprocessing import MinMaxScaler\n",
    "sc = MinMaxScaler(feature_range = (0, 1))\n",
    "X_train = sc.fit_transform(X_train)\n",
    "X_test = sc.transform(X_test)\n",
    "# sc = StandardScaler()\n",
    "# X_train = sc.fit_transform(X_train)\n",
    "# X_test = sc.transform(X_test)"
   ]
  },
  {
   "cell_type": "code",
   "execution_count": null,
   "metadata": {
    "scrolled": true
   },
   "outputs": [
    {
     "name": "stdout",
     "output_type": "stream",
     "text": [
      "Epoch 1/250\n",
      "37342/37342 [==============================] - 1s 37us/step - loss: 0.9983 - mean_absolute_error: 0.7605\n",
      "Epoch 2/250\n",
      "37342/37342 [==============================] - 1s 30us/step - loss: 0.9981 - mean_absolute_error: 0.7605\n",
      "Epoch 3/250\n",
      "37342/37342 [==============================] - 1s 30us/step - loss: 0.9982 - mean_absolute_error: 0.7604\n",
      "Epoch 4/250\n",
      "37342/37342 [==============================] - 1s 38us/step - loss: 0.9980 - mean_absolute_error: 0.7604\n",
      "Epoch 5/250\n",
      "37342/37342 [==============================] - 1s 34us/step - loss: 0.9950 - mean_absolute_error: 0.7592\n",
      "Epoch 6/250\n",
      "37342/37342 [==============================] - 1s 31us/step - loss: 0.9388 - mean_absolute_error: 0.7325\n",
      "Epoch 7/250\n",
      "37342/37342 [==============================] - 1s 30us/step - loss: 0.8251 - mean_absolute_error: 0.6728\n",
      "Epoch 8/250\n",
      "37342/37342 [==============================] - 1s 31us/step - loss: 0.7253 - mean_absolute_error: 0.6258\n",
      "Epoch 9/250\n",
      "37342/37342 [==============================] - 1s 32us/step - loss: 0.5449 - mean_absolute_error: 0.5483\n",
      "Epoch 10/250\n",
      "37342/37342 [==============================] - 1s 31us/step - loss: 0.4169 - mean_absolute_error: 0.4738\n",
      "Epoch 11/250\n",
      "37342/37342 [==============================] - 1s 33us/step - loss: 0.3844 - mean_absolute_error: 0.4511\n",
      "Epoch 12/250\n",
      "37342/37342 [==============================] - 1s 35us/step - loss: 0.3607 - mean_absolute_error: 0.4328\n",
      "Epoch 13/250\n",
      "37342/37342 [==============================] - 1s 38us/step - loss: 0.3434 - mean_absolute_error: 0.4205\n",
      "Epoch 14/250\n",
      "37342/37342 [==============================] - 1s 37us/step - loss: 0.3351 - mean_absolute_error: 0.4146\n",
      "Epoch 15/250\n",
      "37342/37342 [==============================] - 2s 41us/step - loss: 0.3263 - mean_absolute_error: 0.4082\n",
      "Epoch 16/250\n",
      "37342/37342 [==============================] - 1s 38us/step - loss: 0.3213 - mean_absolute_error: 0.4041\n",
      "Epoch 17/250\n",
      "37342/37342 [==============================] - 1s 35us/step - loss: 0.3148 - mean_absolute_error: 0.3998\n",
      "Epoch 18/250\n",
      "37342/37342 [==============================] - 1s 36us/step - loss: 0.3130 - mean_absolute_error: 0.3980\n",
      "Epoch 19/250\n",
      "37342/37342 [==============================] - 1s 37us/step - loss: 0.3100 - mean_absolute_error: 0.3958\n",
      "Epoch 20/250\n",
      "37342/37342 [==============================] - 1s 40us/step - loss: 0.3082 - mean_absolute_error: 0.3948\n",
      "Epoch 21/250\n",
      "37342/37342 [==============================] - 1s 36us/step - loss: 0.3074 - mean_absolute_error: 0.3935\n",
      "Epoch 22/250\n",
      "37342/37342 [==============================] - 1s 31us/step - loss: 0.3006 - mean_absolute_error: 0.3892\n",
      "Epoch 23/250\n",
      "37342/37342 [==============================] - 1s 35us/step - loss: 0.2975 - mean_absolute_error: 0.3878\n",
      "Epoch 24/250\n",
      "37342/37342 [==============================] - 1s 34us/step - loss: 0.2992 - mean_absolute_error: 0.3873\n",
      "Epoch 25/250\n",
      "37342/37342 [==============================] - 1s 33us/step - loss: 0.2959 - mean_absolute_error: 0.3852\n",
      "Epoch 26/250\n",
      "37342/37342 [==============================] - 1s 33us/step - loss: 0.2951 - mean_absolute_error: 0.3846\n",
      "Epoch 27/250\n",
      "37342/37342 [==============================] - 1s 33us/step - loss: 0.2907 - mean_absolute_error: 0.3825\n",
      "Epoch 28/250\n",
      "37342/37342 [==============================] - 1s 31us/step - loss: 0.2897 - mean_absolute_error: 0.3813\n",
      "Epoch 29/250\n",
      "37342/37342 [==============================] - 1s 31us/step - loss: 0.2869 - mean_absolute_error: 0.3793\n",
      "Epoch 30/250\n",
      "37342/37342 [==============================] - 1s 31us/step - loss: 0.2875 - mean_absolute_error: 0.3804\n",
      "Epoch 31/250\n",
      "37342/37342 [==============================] - 1s 30us/step - loss: 0.2853 - mean_absolute_error: 0.3790\n",
      "Epoch 32/250\n",
      "37342/37342 [==============================] - 1s 34us/step - loss: 0.2864 - mean_absolute_error: 0.3789\n",
      "Epoch 33/250\n",
      "37342/37342 [==============================] - 1s 33us/step - loss: 0.2821 - mean_absolute_error: 0.3761\n",
      "Epoch 34/250\n",
      "37342/37342 [==============================] - 1s 34us/step - loss: 0.2815 - mean_absolute_error: 0.3758\n",
      "Epoch 35/250\n",
      "37342/37342 [==============================] - 1s 31us/step - loss: 0.2808 - mean_absolute_error: 0.3755\n",
      "Epoch 36/250\n",
      "37342/37342 [==============================] - 1s 39us/step - loss: 0.2808 - mean_absolute_error: 0.3753\n",
      "Epoch 37/250\n",
      "37342/37342 [==============================] - 1s 31us/step - loss: 0.2785 - mean_absolute_error: 0.3733\n",
      "Epoch 38/250\n",
      "37342/37342 [==============================] - 1s 34us/step - loss: 0.2771 - mean_absolute_error: 0.3725\n",
      "Epoch 39/250\n",
      "37342/37342 [==============================] - 1s 33us/step - loss: 0.2780 - mean_absolute_error: 0.3731\n",
      "Epoch 40/250\n",
      "37342/37342 [==============================] - 1s 31us/step - loss: 0.2754 - mean_absolute_error: 0.3717\n",
      "Epoch 41/250\n",
      "37342/37342 [==============================] - 1s 31us/step - loss: 0.2754 - mean_absolute_error: 0.3721\n",
      "Epoch 42/250\n",
      "37342/37342 [==============================] - 1s 38us/step - loss: 0.2759 - mean_absolute_error: 0.3720\n",
      "Epoch 43/250\n",
      "37342/37342 [==============================] - 2s 40us/step - loss: 0.2736 - mean_absolute_error: 0.3710\n",
      "Epoch 44/250\n",
      "37342/37342 [==============================] - 1s 36us/step - loss: 0.2740 - mean_absolute_error: 0.3698\n",
      "Epoch 45/250\n",
      "37342/37342 [==============================] - 1s 33us/step - loss: 0.2729 - mean_absolute_error: 0.3697\n",
      "Epoch 46/250\n",
      "37342/37342 [==============================] - 1s 34us/step - loss: 0.2713 - mean_absolute_error: 0.3686\n",
      "Epoch 47/250\n",
      "37342/37342 [==============================] - 1s 32us/step - loss: 0.2701 - mean_absolute_error: 0.3677\n",
      "Epoch 48/250\n",
      "37342/37342 [==============================] - 1s 34us/step - loss: 0.2709 - mean_absolute_error: 0.3683\n",
      "Epoch 49/250\n",
      "37342/37342 [==============================] - 1s 34us/step - loss: 0.2697 - mean_absolute_error: 0.3676\n",
      "Epoch 50/250\n",
      "37342/37342 [==============================] - 1s 34us/step - loss: 0.2708 - mean_absolute_error: 0.3682\n",
      "Epoch 51/250\n",
      "37342/37342 [==============================] - 1s 30us/step - loss: 0.2716 - mean_absolute_error: 0.3687\n",
      "Epoch 52/250\n",
      "37342/37342 [==============================] - 1s 32us/step - loss: 0.2689 - mean_absolute_error: 0.3662\n",
      "Epoch 53/250\n",
      "37342/37342 [==============================] - 1s 31us/step - loss: 0.2659 - mean_absolute_error: 0.3651\n",
      "Epoch 54/250\n",
      "37342/37342 [==============================] - 1s 32us/step - loss: 0.2657 - mean_absolute_error: 0.3648\n",
      "Epoch 55/250\n",
      "37342/37342 [==============================] - 1s 31us/step - loss: 0.2673 - mean_absolute_error: 0.3654\n",
      "Epoch 56/250\n",
      "37342/37342 [==============================] - 2s 42us/step - loss: 0.2666 - mean_absolute_error: 0.3650\n",
      "Epoch 57/250\n",
      "37342/37342 [==============================] - 2s 44us/step - loss: 0.2656 - mean_absolute_error: 0.3642\n",
      "Epoch 58/250\n",
      "37342/37342 [==============================] - 1s 34us/step - loss: 0.2654 - mean_absolute_error: 0.3643\n",
      "Epoch 59/250\n",
      "37342/37342 [==============================] - 1s 31us/step - loss: 0.2649 - mean_absolute_error: 0.3635\n",
      "Epoch 60/250\n",
      "37342/37342 [==============================] - 1s 33us/step - loss: 0.2655 - mean_absolute_error: 0.3643\n",
      "Epoch 61/250\n",
      "37342/37342 [==============================] - 1s 33us/step - loss: 0.2637 - mean_absolute_error: 0.3630\n",
      "Epoch 62/250\n",
      "37342/37342 [==============================] - 1s 31us/step - loss: 0.2624 - mean_absolute_error: 0.3626\n",
      "Epoch 63/250\n",
      "37342/37342 [==============================] - 1s 33us/step - loss: 0.2628 - mean_absolute_error: 0.3622\n",
      "Epoch 64/250\n",
      "37342/37342 [==============================] - 1s 32us/step - loss: 0.2628 - mean_absolute_error: 0.3619\n",
      "Epoch 65/250\n",
      "37342/37342 [==============================] - 1s 31us/step - loss: 0.2632 - mean_absolute_error: 0.3626\n",
      "Epoch 66/250\n",
      "37342/37342 [==============================] - 1s 34us/step - loss: 0.2623 - mean_absolute_error: 0.3619\n",
      "Epoch 67/250\n",
      "37342/37342 [==============================] - 1s 32us/step - loss: 0.2613 - mean_absolute_error: 0.3614\n",
      "Epoch 68/250\n",
      "37342/37342 [==============================] - 1s 32us/step - loss: 0.2611 - mean_absolute_error: 0.3611\n",
      "Epoch 69/250\n",
      "37342/37342 [==============================] - 1s 39us/step - loss: 0.2627 - mean_absolute_error: 0.3623\n",
      "Epoch 70/250\n"
     ]
    },
    {
     "name": "stdout",
     "output_type": "stream",
     "text": [
      "37342/37342 [==============================] - 1s 33us/step - loss: 0.2612 - mean_absolute_error: 0.3613\n",
      "Epoch 71/250\n",
      "37342/37342 [==============================] - 1s 29us/step - loss: 0.2616 - mean_absolute_error: 0.3613\n",
      "Epoch 72/250\n",
      "37342/37342 [==============================] - 1s 29us/step - loss: 0.2613 - mean_absolute_error: 0.3608\n",
      "Epoch 73/250\n",
      "37342/37342 [==============================] - 1s 29us/step - loss: 0.2598 - mean_absolute_error: 0.3606\n",
      "Epoch 74/250\n",
      "37342/37342 [==============================] - 1s 28us/step - loss: 0.2602 - mean_absolute_error: 0.3603\n",
      "Epoch 75/250\n",
      "37342/37342 [==============================] - 1s 29us/step - loss: 0.2595 - mean_absolute_error: 0.3601\n",
      "Epoch 76/250\n",
      "37342/37342 [==============================] - 1s 28us/step - loss: 0.2609 - mean_absolute_error: 0.3606\n",
      "Epoch 77/250\n",
      "37342/37342 [==============================] - 1s 28us/step - loss: 0.2594 - mean_absolute_error: 0.3601\n",
      "Epoch 78/250\n",
      "37342/37342 [==============================] - 1s 28us/step - loss: 0.2589 - mean_absolute_error: 0.3598\n",
      "Epoch 79/250\n",
      "37342/37342 [==============================] - 1s 27us/step - loss: 0.2586 - mean_absolute_error: 0.3592\n",
      "Epoch 80/250\n",
      "37342/37342 [==============================] - 1s 35us/step - loss: 0.2587 - mean_absolute_error: 0.3597\n",
      "Epoch 81/250\n",
      "37342/37342 [==============================] - 1s 28us/step - loss: 0.2583 - mean_absolute_error: 0.3589\n",
      "Epoch 82/250\n",
      "37342/37342 [==============================] - 1s 28us/step - loss: 0.2574 - mean_absolute_error: 0.3586\n",
      "Epoch 83/250\n",
      "37342/37342 [==============================] - 1s 27us/step - loss: 0.2567 - mean_absolute_error: 0.3585\n",
      "Epoch 84/250\n",
      "37342/37342 [==============================] - 1s 31us/step - loss: 0.2568 - mean_absolute_error: 0.3573\n",
      "Epoch 85/250\n",
      "37342/37342 [==============================] - 1s 35us/step - loss: 0.2562 - mean_absolute_error: 0.3581\n",
      "Epoch 86/250\n",
      "37342/37342 [==============================] - 1s 35us/step - loss: 0.2566 - mean_absolute_error: 0.3574\n",
      "Epoch 87/250\n",
      "37342/37342 [==============================] - 1s 26us/step - loss: 0.2556 - mean_absolute_error: 0.3572\n",
      "Epoch 88/250\n",
      "37342/37342 [==============================] - 1s 26us/step - loss: 0.2555 - mean_absolute_error: 0.3570\n",
      "Epoch 89/250\n",
      "37342/37342 [==============================] - 1s 26us/step - loss: 0.2560 - mean_absolute_error: 0.3574\n",
      "Epoch 90/250\n",
      "37342/37342 [==============================] - 1s 26us/step - loss: 0.2546 - mean_absolute_error: 0.3571\n",
      "Epoch 91/250\n",
      "37342/37342 [==============================] - 1s 26us/step - loss: 0.2558 - mean_absolute_error: 0.3572\n",
      "Epoch 92/250\n",
      "37342/37342 [==============================] - 1s 30us/step - loss: 0.2542 - mean_absolute_error: 0.3563\n",
      "Epoch 93/250\n",
      "37342/37342 [==============================] - 1s 26us/step - loss: 0.2540 - mean_absolute_error: 0.3559\n",
      "Epoch 94/250\n",
      "37342/37342 [==============================] - 1s 26us/step - loss: 0.2541 - mean_absolute_error: 0.3558\n",
      "Epoch 95/250\n",
      "37342/37342 [==============================] - 1s 27us/step - loss: 0.2537 - mean_absolute_error: 0.3560\n",
      "Epoch 96/250\n",
      "37342/37342 [==============================] - 1s 26us/step - loss: 0.2526 - mean_absolute_error: 0.3549\n",
      "Epoch 97/250\n",
      "37342/37342 [==============================] - 1s 26us/step - loss: 0.2517 - mean_absolute_error: 0.3546\n",
      "Epoch 98/250\n",
      "37342/37342 [==============================] - 1s 27us/step - loss: 0.2531 - mean_absolute_error: 0.3550\n",
      "Epoch 99/250\n",
      "37342/37342 [==============================] - 1s 29us/step - loss: 0.2550 - mean_absolute_error: 0.3561\n",
      "Epoch 100/250\n",
      "37342/37342 [==============================] - 1s 30us/step - loss: 0.2534 - mean_absolute_error: 0.3555\n",
      "Epoch 101/250\n",
      "37342/37342 [==============================] - 1s 28us/step - loss: 0.2527 - mean_absolute_error: 0.3552\n",
      "Epoch 102/250\n",
      "37342/37342 [==============================] - 1s 26us/step - loss: 0.2535 - mean_absolute_error: 0.3559\n",
      "Epoch 103/250\n",
      "37342/37342 [==============================] - 1s 29us/step - loss: 0.2514 - mean_absolute_error: 0.3540\n",
      "Epoch 104/250\n",
      "37342/37342 [==============================] - 1s 29us/step - loss: 0.2519 - mean_absolute_error: 0.3547\n",
      "Epoch 105/250\n",
      "37342/37342 [==============================] - 1s 25us/step - loss: 0.2517 - mean_absolute_error: 0.3542\n",
      "Epoch 106/250\n",
      "37342/37342 [==============================] - 1s 26us/step - loss: 0.2516 - mean_absolute_error: 0.3547\n",
      "Epoch 107/250\n",
      "37342/37342 [==============================] - 1s 26us/step - loss: 0.2509 - mean_absolute_error: 0.3544\n",
      "Epoch 108/250\n",
      "37342/37342 [==============================] - 1s 27us/step - loss: 0.2508 - mean_absolute_error: 0.3534\n",
      "Epoch 109/250\n",
      "37342/37342 [==============================] - 1s 29us/step - loss: 0.2524 - mean_absolute_error: 0.3551\n",
      "Epoch 110/250\n",
      "37342/37342 [==============================] - 1s 25us/step - loss: 0.2504 - mean_absolute_error: 0.3536\n",
      "Epoch 111/250\n",
      "37342/37342 [==============================] - 1s 25us/step - loss: 0.2503 - mean_absolute_error: 0.3534\n",
      "Epoch 112/250\n",
      "37342/37342 [==============================] - 1s 25us/step - loss: 0.2509 - mean_absolute_error: 0.3542\n",
      "Epoch 113/250\n",
      "37342/37342 [==============================] - 1s 25us/step - loss: 0.2500 - mean_absolute_error: 0.3528\n",
      "Epoch 114/250\n",
      "37342/37342 [==============================] - 1s 25us/step - loss: 0.2493 - mean_absolute_error: 0.3526\n",
      "Epoch 115/250\n",
      "37342/37342 [==============================] - 1s 25us/step - loss: 0.2511 - mean_absolute_error: 0.3538\n",
      "Epoch 116/250\n",
      "37342/37342 [==============================] - 1s 25us/step - loss: 0.2515 - mean_absolute_error: 0.3546\n",
      "Epoch 117/250\n",
      "37342/37342 [==============================] - 1s 25us/step - loss: 0.2496 - mean_absolute_error: 0.3527\n",
      "Epoch 118/250\n",
      "37342/37342 [==============================] - 1s 25us/step - loss: 0.2505 - mean_absolute_error: 0.3540\n",
      "Epoch 119/250\n",
      "37342/37342 [==============================] - 1s 25us/step - loss: 0.2502 - mean_absolute_error: 0.3529\n",
      "Epoch 120/250\n",
      "37342/37342 [==============================] - 1s 26us/step - loss: 0.2491 - mean_absolute_error: 0.3531\n",
      "Epoch 121/250\n",
      "37342/37342 [==============================] - 1s 25us/step - loss: 0.2489 - mean_absolute_error: 0.3516\n",
      "Epoch 122/250\n",
      "37342/37342 [==============================] - 1s 26us/step - loss: 0.2476 - mean_absolute_error: 0.3515\n",
      "Epoch 123/250\n",
      "37342/37342 [==============================] - 1s 27us/step - loss: 0.2501 - mean_absolute_error: 0.3535\n",
      "Epoch 124/250\n",
      "37342/37342 [==============================] - 1s 26us/step - loss: 0.2470 - mean_absolute_error: 0.3510\n",
      "Epoch 125/250\n",
      "37342/37342 [==============================] - 1s 26us/step - loss: 0.2487 - mean_absolute_error: 0.3529\n",
      "Epoch 126/250\n",
      "37342/37342 [==============================] - 1s 25us/step - loss: 0.2486 - mean_absolute_error: 0.3519\n",
      "Epoch 127/250\n",
      "37342/37342 [==============================] - 1s 25us/step - loss: 0.2472 - mean_absolute_error: 0.3508\n",
      "Epoch 128/250\n",
      "37342/37342 [==============================] - 1s 27us/step - loss: 0.2480 - mean_absolute_error: 0.3513\n",
      "Epoch 129/250\n",
      "37342/37342 [==============================] - 1s 26us/step - loss: 0.2468 - mean_absolute_error: 0.3504\n",
      "Epoch 130/250\n",
      "37342/37342 [==============================] - 1s 25us/step - loss: 0.2480 - mean_absolute_error: 0.3508\n",
      "Epoch 131/250\n",
      "37342/37342 [==============================] - 1s 25us/step - loss: 0.2472 - mean_absolute_error: 0.3515\n",
      "Epoch 132/250\n",
      "37342/37342 [==============================] - 1s 25us/step - loss: 0.2474 - mean_absolute_error: 0.3510\n",
      "Epoch 133/250\n",
      "37342/37342 [==============================] - 1s 25us/step - loss: 0.2476 - mean_absolute_error: 0.3517\n",
      "Epoch 134/250\n",
      "37342/37342 [==============================] - 1s 25us/step - loss: 0.2492 - mean_absolute_error: 0.3522\n",
      "Epoch 135/250\n",
      "37342/37342 [==============================] - 1s 25us/step - loss: 0.2471 - mean_absolute_error: 0.3508\n",
      "Epoch 136/250\n",
      "37342/37342 [==============================] - 1s 26us/step - loss: 0.2463 - mean_absolute_error: 0.3507\n",
      "Epoch 137/250\n",
      "37342/37342 [==============================] - 1s 25us/step - loss: 0.2477 - mean_absolute_error: 0.3515\n",
      "Epoch 138/250\n",
      "37342/37342 [==============================] - 1s 26us/step - loss: 0.2464 - mean_absolute_error: 0.3507\n",
      "Epoch 139/250\n"
     ]
    },
    {
     "name": "stdout",
     "output_type": "stream",
     "text": [
      "37342/37342 [==============================] - 1s 25us/step - loss: 0.2469 - mean_absolute_error: 0.3509\n",
      "Epoch 140/250\n",
      "37342/37342 [==============================] - 1s 25us/step - loss: 0.2468 - mean_absolute_error: 0.3505\n",
      "Epoch 141/250\n",
      "37342/37342 [==============================] - 1s 28us/step - loss: 0.2459 - mean_absolute_error: 0.3504\n",
      "Epoch 142/250\n",
      "37342/37342 [==============================] - 1s 27us/step - loss: 0.2476 - mean_absolute_error: 0.3512\n",
      "Epoch 143/250\n",
      "37342/37342 [==============================] - 1s 30us/step - loss: 0.2456 - mean_absolute_error: 0.3503\n",
      "Epoch 144/250\n",
      "37342/37342 [==============================] - 1s 30us/step - loss: 0.2462 - mean_absolute_error: 0.3502\n",
      "Epoch 145/250\n",
      "37342/37342 [==============================] - 1s 27us/step - loss: 0.2458 - mean_absolute_error: 0.3495\n",
      "Epoch 146/250\n",
      "37342/37342 [==============================] - 1s 25us/step - loss: 0.2454 - mean_absolute_error: 0.3493\n",
      "Epoch 147/250\n",
      "37342/37342 [==============================] - 1s 25us/step - loss: 0.2447 - mean_absolute_error: 0.3490\n",
      "Epoch 148/250\n",
      "37342/37342 [==============================] - 1s 25us/step - loss: 0.2453 - mean_absolute_error: 0.3496\n",
      "Epoch 149/250\n",
      "37342/37342 [==============================] - 1s 30us/step - loss: 0.2451 - mean_absolute_error: 0.3496\n",
      "Epoch 150/250\n",
      "37342/37342 [==============================] - 1s 29us/step - loss: 0.2432 - mean_absolute_error: 0.3481\n",
      "Epoch 151/250\n",
      "37342/37342 [==============================] - 1s 29us/step - loss: 0.2442 - mean_absolute_error: 0.3492\n",
      "Epoch 152/250\n",
      "37342/37342 [==============================] - 1s 39us/step - loss: 0.2463 - mean_absolute_error: 0.3502\n",
      "Epoch 153/250\n",
      "37342/37342 [==============================] - 1s 33us/step - loss: 0.2439 - mean_absolute_error: 0.3486\n",
      "Epoch 154/250\n",
      "37342/37342 [==============================] - 1s 33us/step - loss: 0.2435 - mean_absolute_error: 0.3483\n",
      "Epoch 155/250\n",
      "37342/37342 [==============================] - 1s 31us/step - loss: 0.2448 - mean_absolute_error: 0.3489\n",
      "Epoch 156/250\n",
      "37342/37342 [==============================] - 1s 40us/step - loss: 0.2452 - mean_absolute_error: 0.3493\n",
      "Epoch 157/250\n",
      "37342/37342 [==============================] - 1s 32us/step - loss: 0.2454 - mean_absolute_error: 0.3495\n",
      "Epoch 158/250\n",
      "37342/37342 [==============================] - 1s 34us/step - loss: 0.2421 - mean_absolute_error: 0.3478\n",
      "Epoch 159/250\n",
      "37342/37342 [==============================] - 1s 30us/step - loss: 0.2437 - mean_absolute_error: 0.3484\n",
      "Epoch 160/250\n",
      "37342/37342 [==============================] - 1s 30us/step - loss: 0.2431 - mean_absolute_error: 0.3476\n",
      "Epoch 161/250\n",
      "37342/37342 [==============================] - 1s 34us/step - loss: 0.2432 - mean_absolute_error: 0.3482\n",
      "Epoch 162/250\n",
      "37342/37342 [==============================] - 1s 32us/step - loss: 0.2431 - mean_absolute_error: 0.3479\n",
      "Epoch 163/250\n",
      "37342/37342 [==============================] - 1s 37us/step - loss: 0.2439 - mean_absolute_error: 0.3483\n",
      "Epoch 164/250\n",
      "37342/37342 [==============================] - 1s 32us/step - loss: 0.2426 - mean_absolute_error: 0.3476\n",
      "Epoch 165/250\n",
      "37342/37342 [==============================] - 1s 39us/step - loss: 0.2434 - mean_absolute_error: 0.3485\n",
      "Epoch 166/250\n",
      "37342/37342 [==============================] - 2s 41us/step - loss: 0.2434 - mean_absolute_error: 0.3482\n",
      "Epoch 167/250\n",
      "37342/37342 [==============================] - 2s 44us/step - loss: 0.2415 - mean_absolute_error: 0.3464\n",
      "Epoch 168/250\n",
      "37342/37342 [==============================] - 1s 40us/step - loss: 0.2438 - mean_absolute_error: 0.3484: 0s - loss: 0.2451 - mean_absolute_error\n",
      "Epoch 169/250\n",
      "37342/37342 [==============================] - 2s 42us/step - loss: 0.2423 - mean_absolute_error: 0.3473\n",
      "Epoch 170/250\n",
      "37342/37342 [==============================] - 2s 44us/step - loss: 0.2428 - mean_absolute_error: 0.3473\n",
      "Epoch 171/250\n",
      "37342/37342 [==============================] - 2s 45us/step - loss: 0.2431 - mean_absolute_error: 0.3481: 0s - loss: 0.2415 - mean_abso\n",
      "Epoch 172/250\n",
      "37342/37342 [==============================] - 2s 45us/step - loss: 0.2430 - mean_absolute_error: 0.3482\n",
      "Epoch 173/250\n",
      "37342/37342 [==============================] - 2s 43us/step - loss: 0.2418 - mean_absolute_error: 0.3467\n",
      "Epoch 174/250\n",
      "37342/37342 [==============================] - 2s 45us/step - loss: 0.2430 - mean_absolute_error: 0.3481\n",
      "Epoch 175/250\n",
      "37342/37342 [==============================] - 2s 42us/step - loss: 0.2435 - mean_absolute_error: 0.3478\n",
      "Epoch 176/250\n",
      "37342/37342 [==============================] - 2s 41us/step - loss: 0.2437 - mean_absolute_error: 0.3485: 1s - loss: 0.2400 - mean\n",
      "Epoch 177/250\n",
      "37342/37342 [==============================] - 1s 33us/step - loss: 0.2424 - mean_absolute_error: 0.3480\n",
      "Epoch 178/250\n",
      "37342/37342 [==============================] - 1s 31us/step - loss: 0.2426 - mean_absolute_error: 0.3475\n",
      "Epoch 179/250\n",
      "37342/37342 [==============================] - 1s 34us/step - loss: 0.2412 - mean_absolute_error: 0.3464\n",
      "Epoch 180/250\n",
      "37342/37342 [==============================] - 1s 32us/step - loss: 0.2415 - mean_absolute_error: 0.3465\n",
      "Epoch 181/250\n",
      "37342/37342 [==============================] - 1s 26us/step - loss: 0.2418 - mean_absolute_error: 0.3471\n",
      "Epoch 182/250\n",
      "37342/37342 [==============================] - 1s 32us/step - loss: 0.2412 - mean_absolute_error: 0.3467\n",
      "Epoch 183/250\n",
      "37342/37342 [==============================] - 1s 29us/step - loss: 0.2417 - mean_absolute_error: 0.3464\n",
      "Epoch 184/250\n",
      "37342/37342 [==============================] - 1s 28us/step - loss: 0.2405 - mean_absolute_error: 0.3458\n",
      "Epoch 185/250\n",
      "37342/37342 [==============================] - 1s 29us/step - loss: 0.2409 - mean_absolute_error: 0.3460\n",
      "Epoch 186/250\n",
      "37342/37342 [==============================] - 1s 36us/step - loss: 0.2407 - mean_absolute_error: 0.3466\n",
      "Epoch 187/250\n",
      "37342/37342 [==============================] - 1s 30us/step - loss: 0.2410 - mean_absolute_error: 0.3462\n",
      "Epoch 188/250\n",
      "37342/37342 [==============================] - 1s 30us/step - loss: 0.2414 - mean_absolute_error: 0.3466\n",
      "Epoch 189/250\n",
      "37342/37342 [==============================] - 1s 30us/step - loss: 0.2386 - mean_absolute_error: 0.3451\n",
      "Epoch 190/250\n",
      "37342/37342 [==============================] - 1s 28us/step - loss: 0.2411 - mean_absolute_error: 0.3465\n",
      "Epoch 191/250\n",
      "37342/37342 [==============================] - 1s 34us/step - loss: 0.2410 - mean_absolute_error: 0.3460\n",
      "Epoch 192/250\n",
      "37342/37342 [==============================] - 1s 39us/step - loss: 0.2405 - mean_absolute_error: 0.3459\n",
      "Epoch 193/250\n",
      "37342/37342 [==============================] - 1s 38us/step - loss: 0.2412 - mean_absolute_error: 0.3458\n",
      "Epoch 194/250\n",
      "37342/37342 [==============================] - 1s 39us/step - loss: 0.2396 - mean_absolute_error: 0.3456\n",
      "Epoch 195/250\n",
      "37342/37342 [==============================] - 2s 43us/step - loss: 0.2398 - mean_absolute_error: 0.3456\n",
      "Epoch 196/250\n",
      "37342/37342 [==============================] - 2s 42us/step - loss: 0.2399 - mean_absolute_error: 0.3460\n",
      "Epoch 197/250\n",
      "37342/37342 [==============================] - 2s 44us/step - loss: 0.2408 - mean_absolute_error: 0.3466\n",
      "Epoch 198/250\n",
      "37342/37342 [==============================] - 2s 43us/step - loss: 0.2404 - mean_absolute_error: 0.3454\n",
      "Epoch 199/250\n",
      "37342/37342 [==============================] - 2s 46us/step - loss: 0.2411 - mean_absolute_error: 0.3467: 1s - loss: 0.2371 - mean_absolute_error: 0.345 - ETA: 1s - loss: 0.2376 - mean\n",
      "Epoch 200/250\n",
      "37342/37342 [==============================] - 2s 48us/step - loss: 0.2383 - mean_absolute_error: 0.3446\n",
      "Epoch 201/250\n",
      "37342/37342 [==============================] - 2s 47us/step - loss: 0.2390 - mean_absolute_error: 0.3450\n",
      "Epoch 202/250\n",
      "37342/37342 [==============================] - 2s 44us/step - loss: 0.2403 - mean_absolute_error: 0.3460: 1s - loss: 0.2429 - me\n",
      "Epoch 203/250\n",
      "37342/37342 [==============================] - 2s 46us/step - loss: 0.2388 - mean_absolute_error: 0.3450: 0s - loss: 0.2387 - mean_absolute_error: \n",
      "Epoch 204/250\n",
      "37342/37342 [==============================] - 2s 45us/step - loss: 0.2385 - mean_absolute_error: 0.3440\n",
      "Epoch 205/250\n"
     ]
    },
    {
     "name": "stdout",
     "output_type": "stream",
     "text": [
      "37342/37342 [==============================] - 2s 42us/step - loss: 0.2392 - mean_absolute_error: 0.3449\n",
      "Epoch 206/250\n",
      "37342/37342 [==============================] - 2s 41us/step - loss: 0.2407 - mean_absolute_error: 0.3457\n",
      "Epoch 207/250\n",
      "37342/37342 [==============================] - 1s 39us/step - loss: 0.2393 - mean_absolute_error: 0.3448\n",
      "Epoch 208/250\n",
      "37342/37342 [==============================] - 2s 42us/step - loss: 0.2392 - mean_absolute_error: 0.3448\n",
      "Epoch 209/250\n",
      "37342/37342 [==============================] - 2s 41us/step - loss: 0.2389 - mean_absolute_error: 0.3438\n",
      "Epoch 210/250\n",
      "37342/37342 [==============================] - 1s 39us/step - loss: 0.2393 - mean_absolute_error: 0.3450\n",
      "Epoch 211/250\n",
      "37342/37342 [==============================] - 2s 43us/step - loss: 0.2383 - mean_absolute_error: 0.3444\n",
      "Epoch 212/250\n",
      "37342/37342 [==============================] - 2s 40us/step - loss: 0.2396 - mean_absolute_error: 0.3455\n",
      "Epoch 213/250\n",
      "37342/37342 [==============================] - 2s 41us/step - loss: 0.2397 - mean_absolute_error: 0.3455\n",
      "Epoch 214/250\n",
      "37342/37342 [==============================] - 2s 44us/step - loss: 0.2379 - mean_absolute_error: 0.3447\n",
      "Epoch 215/250\n",
      "37342/37342 [==============================] - 2s 45us/step - loss: 0.2387 - mean_absolute_error: 0.3453\n",
      "Epoch 216/250\n",
      "37342/37342 [==============================] - 2s 43us/step - loss: 0.2393 - mean_absolute_error: 0.3451\n",
      "Epoch 217/250\n",
      "37342/37342 [==============================] - 2s 44us/step - loss: 0.2385 - mean_absolute_error: 0.3443\n",
      "Epoch 218/250\n",
      "37342/37342 [==============================] - 2s 43us/step - loss: 0.2397 - mean_absolute_error: 0.3453\n",
      "Epoch 219/250\n",
      "37342/37342 [==============================] - 2s 42us/step - loss: 0.2385 - mean_absolute_error: 0.3445\n",
      "Epoch 220/250\n",
      "37342/37342 [==============================] - 1s 39us/step - loss: 0.2381 - mean_absolute_error: 0.3445\n",
      "Epoch 221/250\n",
      "37342/37342 [==============================] - 1s 39us/step - loss: 0.2374 - mean_absolute_error: 0.3441\n",
      "Epoch 222/250\n",
      "37342/37342 [==============================] - 2s 41us/step - loss: 0.2378 - mean_absolute_error: 0.3446\n",
      "Epoch 223/250\n",
      "37342/37342 [==============================] - 2s 45us/step - loss: 0.2384 - mean_absolute_error: 0.3446\n",
      "Epoch 224/250\n",
      "37342/37342 [==============================] - 2s 43us/step - loss: 0.2391 - mean_absolute_error: 0.3453\n",
      "Epoch 225/250\n",
      "37342/37342 [==============================] - 2s 41us/step - loss: 0.2378 - mean_absolute_error: 0.3439\n",
      "Epoch 226/250\n",
      "37342/37342 [==============================] - 2s 42us/step - loss: 0.2395 - mean_absolute_error: 0.3452\n",
      "Epoch 227/250\n",
      "37342/37342 [==============================] - 2s 44us/step - loss: 0.2384 - mean_absolute_error: 0.3437\n",
      "Epoch 228/250\n",
      "37342/37342 [==============================] - 2s 42us/step - loss: 0.2376 - mean_absolute_error: 0.3438\n",
      "Epoch 229/250\n",
      "37342/37342 [==============================] - 2s 42us/step - loss: 0.2368 - mean_absolute_error: 0.3438\n",
      "Epoch 230/250\n",
      "37342/37342 [==============================] - 2s 45us/step - loss: 0.2388 - mean_absolute_error: 0.3447\n",
      "Epoch 231/250\n",
      "37342/37342 [==============================] - 2s 43us/step - loss: 0.2372 - mean_absolute_error: 0.3436\n",
      "Epoch 232/250\n",
      "37342/37342 [==============================] - 2s 43us/step - loss: 0.2386 - mean_absolute_error: 0.3443\n",
      "Epoch 233/250\n",
      "37342/37342 [==============================] - 2s 45us/step - loss: 0.2362 - mean_absolute_error: 0.3427: 0s - loss: 0.2357 - mean_absolute_err\n",
      "Epoch 234/250\n",
      "31488/37342 [========================>.....] - ETA: 0s - loss: 0.2383 - mean_absolute_error: 0.3436- ETA: 0s - loss: 0.2421 - mean_absolute_error: 0 - ETA: 0s - loss: 0.2403 - mean_absolute_error"
     ]
    }
   ],
   "source": [
    "regressor.fit(X_train, y_train, batch_size = 64, epochs = 250)"
   ]
  },
  {
   "cell_type": "code",
   "execution_count": 65,
   "metadata": {},
   "outputs": [],
   "source": [
    "y_pred = regressor.predict(X_test)"
   ]
  },
  {
   "cell_type": "code",
   "execution_count": 66,
   "metadata": {},
   "outputs": [
    {
     "data": {
      "text/plain": [
       "array([[ 37.49658585, 127.47808075],\n",
       "       [ 37.60609436, 127.06762695],\n",
       "       [ 37.49511337, 127.0149765 ],\n",
       "       ...,\n",
       "       [ 37.55239105, 126.97548676],\n",
       "       [ 37.56388855, 126.9543457 ],\n",
       "       [ 37.39889145, 126.76477051]])"
      ]
     },
     "execution_count": 66,
     "metadata": {},
     "output_type": "execute_result"
    }
   ],
   "source": [
    "y_pred_new = np.zeros((len(y_pred), 2))\n",
    "y_test_new = np.zeros((len(y_test), 2))\n",
    "y_pred_new[:,0] = y_pred[:,0] * np.std(Y[:,0]) + np.mean(Y[:,0])\n",
    "y_pred_new[:,1] = y_pred[:,1] * np.std(Y[:,1]) + np.mean(Y[:,1])\n",
    "\n",
    "y_test_new[:,0] = y_test[:,0] * np.std(Y[:,0]) + np.mean(Y[:,0])\n",
    "y_test_new[:,1] = y_test[:,1] * np.std(Y[:,1]) + np.mean(Y[:,1])\n",
    "y_pred_new"
   ]
  },
  {
   "cell_type": "code",
   "execution_count": 67,
   "metadata": {},
   "outputs": [
    {
     "data": {
      "text/plain": [
       "(9336, 1597)"
      ]
     },
     "execution_count": 67,
     "metadata": {},
     "output_type": "execute_result"
    }
   ],
   "source": [
    "np.shape(X_test)"
   ]
  },
  {
   "cell_type": "code",
   "execution_count": 68,
   "metadata": {},
   "outputs": [],
   "source": [
    "prediction = pd.DataFrame({'house_lat': y_test_new[:, 0],'house_lon':y_test_new[:, 1],\n",
    "                            'house_lat (pred)': y_pred_new[:,0], 'house_lon (pred)': y_pred_new[:,1]})"
   ]
  },
  {
   "cell_type": "code",
   "execution_count": 69,
   "metadata": {},
   "outputs": [
    {
     "data": {
      "text/plain": [
       "(9336, 2)"
      ]
     },
     "execution_count": 69,
     "metadata": {},
     "output_type": "execute_result"
    }
   ],
   "source": [
    "np.shape(y_pred)"
   ]
  },
  {
   "cell_type": "code",
   "execution_count": 70,
   "metadata": {},
   "outputs": [
    {
     "data": {
      "text/plain": [
       "879.2845783096675"
      ]
     },
     "execution_count": 70,
     "metadata": {},
     "output_type": "execute_result"
    }
   ],
   "source": [
    "accuracy(prediction)"
   ]
  },
  {
   "cell_type": "code",
   "execution_count": 71,
   "metadata": {},
   "outputs": [
    {
     "data": {
      "image/png": "[encoded data removed]",
      "text/plain": [
       "<Figure size 432x288 with 1 Axes>"
      ]
     },
     "metadata": {
      "needs_background": "light"
     },
     "output_type": "display_data"
    }
   ],
   "source": [
    "# plot\n",
    "plt.scatter(y_test_new[:, 0], y_test_new[:, 1], color = \"red\", label = 'Actual')\n",
    "plt.scatter(y_pred_new[:, 0], y_pred_new[:, 1], color = \"blue\", label = 'Prediction')\n",
    "plt.title('Regression')\n",
    "plt.xlabel('Lat')\n",
    "plt.ylabel('Lon')\n",
    "plt.legend(loc='upper left')\n",
    "plt.show()"
   ]
  },
  {
   "cell_type": "code",
   "execution_count": 45,
   "metadata": {},
   "outputs": [
    {
     "data": {
      "text/html": [
       "<div>\n",
       "<style scoped>\n",
       "    .dataframe tbody tr th:only-of-type {\n",
       "        vertical-align: middle;\n",
       "    }\n",
       "\n",
       "    .dataframe tbody tr th {\n",
       "        vertical-align: top;\n",
       "    }\n",
       "\n",
       "    .dataframe thead th {\n",
       "        text-align: right;\n",
       "    }\n",
       "</style>\n",
       "<table border=\"1\" class=\"dataframe\">\n",
       "  <thead>\n",
       "    <tr style=\"text-align: right;\">\n",
       "      <th></th>\n",
       "      <th>house_lat</th>\n",
       "      <th>house_lon</th>\n",
       "      <th>house_lat (pred)</th>\n",
       "      <th>house_lon (pred)</th>\n",
       "    </tr>\n",
       "  </thead>\n",
       "  <tbody>\n",
       "    <tr>\n",
       "      <th>0</th>\n",
       "      <td>37.607582</td>\n",
       "      <td>127.348879</td>\n",
       "      <td>37.326668</td>\n",
       "      <td>127.521538</td>\n",
       "    </tr>\n",
       "    <tr>\n",
       "      <th>1</th>\n",
       "      <td>37.594757</td>\n",
       "      <td>127.153212</td>\n",
       "      <td>37.575615</td>\n",
       "      <td>127.044815</td>\n",
       "    </tr>\n",
       "    <tr>\n",
       "      <th>2</th>\n",
       "      <td>37.514340</td>\n",
       "      <td>127.062632</td>\n",
       "      <td>37.513874</td>\n",
       "      <td>127.017677</td>\n",
       "    </tr>\n",
       "    <tr>\n",
       "      <th>3</th>\n",
       "      <td>37.469662</td>\n",
       "      <td>126.701077</td>\n",
       "      <td>37.291656</td>\n",
       "      <td>127.023750</td>\n",
       "    </tr>\n",
       "    <tr>\n",
       "      <th>4</th>\n",
       "      <td>37.440188</td>\n",
       "      <td>126.798281</td>\n",
       "      <td>37.279705</td>\n",
       "      <td>126.983353</td>\n",
       "    </tr>\n",
       "  </tbody>\n",
       "</table>\n",
       "</div>"
      ],
      "text/plain": [
       "   house_lat   house_lon  house_lat (pred)  house_lon (pred)\n",
       "0  37.607582  127.348879         37.326668        127.521538\n",
       "1  37.594757  127.153212         37.575615        127.044815\n",
       "2  37.514340  127.062632         37.513874        127.017677\n",
       "3  37.469662  126.701077         37.291656        127.023750\n",
       "4  37.440188  126.798281         37.279705        126.983353"
      ]
     },
     "execution_count": 45,
     "metadata": {},
     "output_type": "execute_result"
    }
   ],
   "source": [
    "prediction.head()"
   ]
  },
  {
   "cell_type": "code",
   "execution_count": 2,
   "metadata": {},
   "outputs": [
    {
     "ename": "NameError",
     "evalue": "name 'x_original' is not defined",
     "output_type": "error",
     "traceback": [
      "\u001b[0;31m---------------------------------------------------------------------------\u001b[0m",
      "\u001b[0;31mNameError\u001b[0m                                 Traceback (most recent call last)",
      "\u001b[0;32m<ipython-input-2-fdf0a6bee98c>\u001b[0m in \u001b[0;36m<module>\u001b[0;34m()\u001b[0m\n\u001b[1;32m      3\u001b[0m \u001b[0;32mfrom\u001b[0m \u001b[0msklearn\u001b[0m\u001b[0;34m.\u001b[0m\u001b[0mdecomposition\u001b[0m \u001b[0;32mimport\u001b[0m \u001b[0mKernelPCA\u001b[0m\u001b[0;34m\u001b[0m\u001b[0m\n\u001b[1;32m      4\u001b[0m \u001b[0mkpca\u001b[0m \u001b[0;34m=\u001b[0m \u001b[0mKernelPCA\u001b[0m\u001b[0;34m(\u001b[0m\u001b[0mkernel\u001b[0m \u001b[0;34m=\u001b[0m \u001b[0;34m'rbf'\u001b[0m\u001b[0;34m)\u001b[0m\u001b[0;34m\u001b[0m\u001b[0m\n\u001b[0;32m----> 5\u001b[0;31m \u001b[0mX_original_pca\u001b[0m \u001b[0;34m=\u001b[0m \u001b[0mkpca\u001b[0m\u001b[0;34m.\u001b[0m\u001b[0mfit_transform\u001b[0m\u001b[0;34m(\u001b[0m\u001b[0mx_original\u001b[0m\u001b[0;34m)\u001b[0m\u001b[0;34m\u001b[0m\u001b[0m\n\u001b[0m\u001b[1;32m      6\u001b[0m \u001b[0mX_original_pca\u001b[0m\u001b[0;34m\u001b[0m\u001b[0m\n",
      "\u001b[0;31mNameError\u001b[0m: name 'x_original' is not defined"
     ]
    }
   ],
   "source": [
    "# PCA\n",
    "# Applying Kernel PCA\n",
    "from sklearn.decomposition import KernelPCA\n",
    "kpca = KernelPCA(kernel = 'rbf')\n",
    "X_original_pca = kpca.fit_transform(x_original)\n",
    "X_original_pca"
   ]
  },
  {
   "cell_type": "code",
   "execution_count": null,
   "metadata": {},
   "outputs": [],
   "source": [
    "# classification approach\n",
    "# x - same X except using W_Zone but no X_lat and X_lon, also eliminate non-independent variables\n",
    "# y - H_Zone\n",
    "x.head()"
   ]
  },
  {
   "cell_type": "code",
   "execution_count": 54,
   "metadata": {},
   "outputs": [],
   "source": [
    "x_cat = np.delete(X, 6, axis = 1)\n",
    "x_cat = np.delete(X, 7, axis = 1)"
   ]
  },
  {
   "cell_type": "code",
   "execution_count": 137,
   "metadata": {},
   "outputs": [],
   "source": [
    "Y_cat = data.loc[:, [\"H_ZONE\"]]\n",
    "Y_cat.head()\n",
    "Y_cat = Y_cat.dropna()"
   ]
  },
  {
   "cell_type": "code",
   "execution_count": 138,
   "metadata": {},
   "outputs": [],
   "source": [
    "from sklearn.preprocessing import LabelBinarizer\n",
    "binarizer = LabelBinarizer()\n",
    "Y_cat = binarizer.fit_transform(Y_cat.values)"
   ]
  },
  {
   "cell_type": "code",
   "execution_count": 139,
   "metadata": {},
   "outputs": [
    {
     "data": {
      "text/plain": [
       "array([[0, 0, 0, ..., 0, 0, 0],\n",
       "       [0, 0, 0, ..., 0, 0, 0],\n",
       "       [0, 0, 0, ..., 0, 0, 0],\n",
       "       ...,\n",
       "       [0, 0, 0, ..., 0, 0, 0],\n",
       "       [0, 0, 0, ..., 0, 0, 0],\n",
       "       [0, 0, 0, ..., 0, 1, 0]])"
      ]
     },
     "execution_count": 139,
     "metadata": {},
     "output_type": "execute_result"
    }
   ],
   "source": [
    "Y_cat"
   ]
  },
  {
   "cell_type": "code",
   "execution_count": 140,
   "metadata": {},
   "outputs": [],
   "source": [
    "X_train, X_test, y_train, y_test = train_test_split(x_cat, Y_cat, test_size = 0.2, random_state = 0)"
   ]
  },
  {
   "cell_type": "code",
   "execution_count": 141,
   "metadata": {},
   "outputs": [],
   "source": [
    "# Initialising the ANN\n",
    "classifier = Sequential()\n",
    "\n",
    "# Adding the input layer and the first hidden layer\n",
    "classifier.add(Dense(units = 64, kernel_initializer = 'uniform', activation = 'relu', input_dim = 1596))\n",
    "classifier.add(Dropout(0.1))\n",
    "# Adding the second hidden layer\n",
    "classifier.add(Dense(units = 128, kernel_initializer = 'uniform', activation = 'relu'))\n",
    "classifier.add(Dropout(0.1))\n",
    "\n",
    "\n",
    "# Adding the output layer\n",
    "classifier.add(Dense(units = 1278, kernel_initializer = 'uniform', activation = 'sigmoid'))\n",
    "\n",
    "# Compiling the ANN\n",
    "classifier.compile(optimizer = 'adam', loss = 'binary_crossentropy', metrics = ['accuracy'])\n",
    "\n"
   ]
  },
  {
   "cell_type": "code",
   "execution_count": 142,
   "metadata": {},
   "outputs": [
    {
     "name": "stdout",
     "output_type": "stream",
     "text": [
      "Epoch 1/10\n",
      "37342/37342 [==============================] - 6s 150us/step - loss: 1.1516 - acc: 0.9278\n",
      "Epoch 2/10\n",
      "37342/37342 [==============================] - 5s 132us/step - loss: 0.7615 - acc: 0.9522\n",
      "Epoch 3/10\n",
      "37342/37342 [==============================] - 5s 131us/step - loss: 0.6043 - acc: 0.9621\n",
      "Epoch 4/10\n",
      "37342/37342 [==============================] - 5s 131us/step - loss: 0.5543 - acc: 0.9652\n",
      "Epoch 5/10\n",
      "37342/37342 [==============================] - 5s 137us/step - loss: 0.5305 - acc: 0.9667\n",
      "Epoch 6/10\n",
      "37342/37342 [==============================] - 5s 130us/step - loss: 0.5110 - acc: 0.9680\n",
      "Epoch 7/10\n",
      "37342/37342 [==============================] - 5s 146us/step - loss: 0.4820 - acc: 0.9698\n",
      "Epoch 8/10\n",
      "37342/37342 [==============================] - 6s 164us/step - loss: 0.4571 - acc: 0.9713\n",
      "Epoch 9/10\n",
      "37342/37342 [==============================] - 5s 143us/step - loss: 0.4381 - acc: 0.9725\n",
      "Epoch 10/10\n",
      "37342/37342 [==============================] - 5s 142us/step - loss: 0.4008 - acc: 0.9749\n"
     ]
    },
    {
     "data": {
      "text/plain": [
       "<keras.callbacks.History at 0x1338ad4e0>"
      ]
     },
     "execution_count": 142,
     "metadata": {},
     "output_type": "execute_result"
    }
   ],
   "source": [
    "# Fitting the ANN to the Training set\n",
    "classifier.fit(X_train, y_train, batch_size = 50, epochs = 10)"
   ]
  },
  {
   "cell_type": "code",
   "execution_count": 145,
   "metadata": {},
   "outputs": [],
   "source": [
    "y_pred = classifier.predict(X_test)"
   ]
  },
  {
   "cell_type": "code",
   "execution_count": null,
   "metadata": {},
   "outputs": [],
   "source": []
  },
  {
   "cell_type": "code",
   "execution_count": null,
   "metadata": {},
   "outputs": [],
   "source": []
  }
 ],
 "metadata": {
  "kernelspec": {
   "display_name": "Python 3",
   "language": "python",
   "name": "python3"
  },
  "language_info": {
   "codemirror_mode": {
    "name": "ipython",
    "version": 3
   },
   "file_extension": ".py",
   "mimetype": "text/x-python",
   "name": "python",
   "nbconvert_exporter": "python",
   "pygments_lexer": "ipython3",
   "version": "3.6.5"
  }
 },
 "nbformat": 4,
 "nbformat_minor": 2
}
