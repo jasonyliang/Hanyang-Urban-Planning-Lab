{
 "cells": [
  {
   "cell_type": "code",
   "execution_count": 2,
   "metadata": {},
   "outputs": [],
   "source": [
    "import pandas as pd\n",
    "import numpy as np\n",
    "import matplotlib.pyplot as plt"
   ]
  },
  {
   "cell_type": "code",
   "execution_count": 3,
   "metadata": {},
   "outputs": [],
   "source": [
    "dataset = pd.read_csv('/Users/jhajhajhajha1/Desktop/Hanyang Data/data_playaround.csv')"
   ]
  },
  {
   "cell_type": "code",
   "execution_count": 4,
   "metadata": {},
   "outputs": [],
   "source": [
    "data = dataset.iloc[:, 0:19]"
   ]
  },
  {
   "cell_type": "code",
   "execution_count": 5,
   "metadata": {},
   "outputs": [
    {
     "name": "stdout",
     "output_type": "stream",
     "text": [
      "46858\n"
     ]
    },
    {
     "data": {
      "text/html": [
       "<div>\n",
       "<style scoped>\n",
       "    .dataframe tbody tr th:only-of-type {\n",
       "        vertical-align: middle;\n",
       "    }\n",
       "\n",
       "    .dataframe tbody tr th {\n",
       "        vertical-align: top;\n",
       "    }\n",
       "\n",
       "    .dataframe thead th {\n",
       "        text-align: right;\n",
       "    }\n",
       "</style>\n",
       "<table border=\"1\" class=\"dataframe\">\n",
       "  <thead>\n",
       "    <tr style=\"text-align: right;\">\n",
       "      <th></th>\n",
       "      <th>W_ZONE</th>\n",
       "      <th>no_hh</th>\n",
       "      <th>no_hh_chil</th>\n",
       "      <th>hh_type</th>\n",
       "      <th>hh_income</th>\n",
       "      <th>no_car</th>\n",
       "      <th>age</th>\n",
       "      <th>sex</th>\n",
       "      <th>job_type</th>\n",
       "      <th>house_lat</th>\n",
       "      <th>house_lon</th>\n",
       "      <th>work_lat</th>\n",
       "      <th>work_lon</th>\n",
       "      <th>H_ZONE</th>\n",
       "      <th>H_ZONE_X</th>\n",
       "      <th>H_ZONE_Y</th>\n",
       "      <th>W_ZONE_X</th>\n",
       "      <th>W_ZONE_Y</th>\n",
       "      <th>0</th>\n",
       "    </tr>\n",
       "  </thead>\n",
       "  <tbody>\n",
       "    <tr>\n",
       "      <th>1000</th>\n",
       "      <td>88</td>\n",
       "      <td>4.0</td>\n",
       "      <td>3.0</td>\n",
       "      <td>1.0</td>\n",
       "      <td>5.0</td>\n",
       "      <td>1.0</td>\n",
       "      <td>40.0</td>\n",
       "      <td>1.0</td>\n",
       "      <td>4.0</td>\n",
       "      <td>37.511534</td>\n",
       "      <td>126.902390</td>\n",
       "      <td>37.031954</td>\n",
       "      <td>127.077127</td>\n",
       "      <td>954.0</td>\n",
       "      <td>191000.0</td>\n",
       "      <td>445000.0</td>\n",
       "      <td>207000.0</td>\n",
       "      <td>393000.0</td>\n",
       "      <td>25940.567472</td>\n",
       "    </tr>\n",
       "    <tr>\n",
       "      <th>1001</th>\n",
       "      <td>88</td>\n",
       "      <td>3.0</td>\n",
       "      <td>3.0</td>\n",
       "      <td>4.0</td>\n",
       "      <td>2.0</td>\n",
       "      <td>2.0</td>\n",
       "      <td>61.0</td>\n",
       "      <td>1.0</td>\n",
       "      <td>6.0</td>\n",
       "      <td>37.000396</td>\n",
       "      <td>127.106922</td>\n",
       "      <td>37.034933</td>\n",
       "      <td>127.078710</td>\n",
       "      <td>50.0</td>\n",
       "      <td>209000.0</td>\n",
       "      <td>389000.0</td>\n",
       "      <td>207000.0</td>\n",
       "      <td>393000.0</td>\n",
       "      <td>25940.567472</td>\n",
       "    </tr>\n",
       "    <tr>\n",
       "      <th>1002</th>\n",
       "      <td>88</td>\n",
       "      <td>5.0</td>\n",
       "      <td>3.0</td>\n",
       "      <td>1.0</td>\n",
       "      <td>4.0</td>\n",
       "      <td>1.0</td>\n",
       "      <td>46.0</td>\n",
       "      <td>1.0</td>\n",
       "      <td>4.0</td>\n",
       "      <td>37.195733</td>\n",
       "      <td>127.034267</td>\n",
       "      <td>37.039019</td>\n",
       "      <td>127.077925</td>\n",
       "      <td>287.0</td>\n",
       "      <td>203000.0</td>\n",
       "      <td>411000.0</td>\n",
       "      <td>207000.0</td>\n",
       "      <td>393000.0</td>\n",
       "      <td>25940.567472</td>\n",
       "    </tr>\n",
       "    <tr>\n",
       "      <th>1003</th>\n",
       "      <td>88</td>\n",
       "      <td>4.0</td>\n",
       "      <td>4.0</td>\n",
       "      <td>2.0</td>\n",
       "      <td>6.0</td>\n",
       "      <td>1.0</td>\n",
       "      <td>49.0</td>\n",
       "      <td>1.0</td>\n",
       "      <td>6.0</td>\n",
       "      <td>37.067362</td>\n",
       "      <td>127.056343</td>\n",
       "      <td>37.037719</td>\n",
       "      <td>127.077653</td>\n",
       "      <td>130.0</td>\n",
       "      <td>205000.0</td>\n",
       "      <td>397000.0</td>\n",
       "      <td>207000.0</td>\n",
       "      <td>393000.0</td>\n",
       "      <td>25940.567472</td>\n",
       "    </tr>\n",
       "    <tr>\n",
       "      <th>1004</th>\n",
       "      <td>88</td>\n",
       "      <td>4.0</td>\n",
       "      <td>2.0</td>\n",
       "      <td>1.0</td>\n",
       "      <td>3.0</td>\n",
       "      <td>1.0</td>\n",
       "      <td>37.0</td>\n",
       "      <td>1.0</td>\n",
       "      <td>4.0</td>\n",
       "      <td>37.151695</td>\n",
       "      <td>127.078077</td>\n",
       "      <td>37.039019</td>\n",
       "      <td>127.077925</td>\n",
       "      <td>218.0</td>\n",
       "      <td>207000.0</td>\n",
       "      <td>405000.0</td>\n",
       "      <td>207000.0</td>\n",
       "      <td>393000.0</td>\n",
       "      <td>25940.567472</td>\n",
       "    </tr>\n",
       "    <tr>\n",
       "      <th>1005</th>\n",
       "      <td>88</td>\n",
       "      <td>3.0</td>\n",
       "      <td>3.0</td>\n",
       "      <td>1.0</td>\n",
       "      <td>5.0</td>\n",
       "      <td>1.0</td>\n",
       "      <td>56.0</td>\n",
       "      <td>1.0</td>\n",
       "      <td>6.0</td>\n",
       "      <td>37.053694</td>\n",
       "      <td>127.047655</td>\n",
       "      <td>37.038303</td>\n",
       "      <td>127.082699</td>\n",
       "      <td>105.0</td>\n",
       "      <td>205000.0</td>\n",
       "      <td>395000.0</td>\n",
       "      <td>207000.0</td>\n",
       "      <td>393000.0</td>\n",
       "      <td>25940.567472</td>\n",
       "    </tr>\n",
       "    <tr>\n",
       "      <th>1006</th>\n",
       "      <td>88</td>\n",
       "      <td>3.0</td>\n",
       "      <td>3.0</td>\n",
       "      <td>4.0</td>\n",
       "      <td>6.0</td>\n",
       "      <td>1.0</td>\n",
       "      <td>55.0</td>\n",
       "      <td>1.0</td>\n",
       "      <td>6.0</td>\n",
       "      <td>37.102160</td>\n",
       "      <td>127.021462</td>\n",
       "      <td>37.036618</td>\n",
       "      <td>127.077674</td>\n",
       "      <td>173.0</td>\n",
       "      <td>201000.0</td>\n",
       "      <td>401000.0</td>\n",
       "      <td>207000.0</td>\n",
       "      <td>393000.0</td>\n",
       "      <td>25940.567472</td>\n",
       "    </tr>\n",
       "    <tr>\n",
       "      <th>1007</th>\n",
       "      <td>88</td>\n",
       "      <td>4.0</td>\n",
       "      <td>4.0</td>\n",
       "      <td>2.0</td>\n",
       "      <td>5.0</td>\n",
       "      <td>1.0</td>\n",
       "      <td>41.0</td>\n",
       "      <td>1.0</td>\n",
       "      <td>6.0</td>\n",
       "      <td>37.037146</td>\n",
       "      <td>127.029241</td>\n",
       "      <td>37.035418</td>\n",
       "      <td>127.074294</td>\n",
       "      <td>86.0</td>\n",
       "      <td>203000.0</td>\n",
       "      <td>393000.0</td>\n",
       "      <td>207000.0</td>\n",
       "      <td>393000.0</td>\n",
       "      <td>25940.567472</td>\n",
       "    </tr>\n",
       "    <tr>\n",
       "      <th>1008</th>\n",
       "      <td>88</td>\n",
       "      <td>1.0</td>\n",
       "      <td>1.0</td>\n",
       "      <td>2.0</td>\n",
       "      <td>4.0</td>\n",
       "      <td>1.0</td>\n",
       "      <td>49.0</td>\n",
       "      <td>1.0</td>\n",
       "      <td>6.0</td>\n",
       "      <td>37.076516</td>\n",
       "      <td>127.064009</td>\n",
       "      <td>37.036774</td>\n",
       "      <td>127.072348</td>\n",
       "      <td>130.0</td>\n",
       "      <td>205000.0</td>\n",
       "      <td>397000.0</td>\n",
       "      <td>207000.0</td>\n",
       "      <td>393000.0</td>\n",
       "      <td>25940.567472</td>\n",
       "    </tr>\n",
       "    <tr>\n",
       "      <th>1009</th>\n",
       "      <td>88</td>\n",
       "      <td>3.0</td>\n",
       "      <td>3.0</td>\n",
       "      <td>1.0</td>\n",
       "      <td>5.0</td>\n",
       "      <td>1.0</td>\n",
       "      <td>43.0</td>\n",
       "      <td>1.0</td>\n",
       "      <td>6.0</td>\n",
       "      <td>36.989866</td>\n",
       "      <td>127.090719</td>\n",
       "      <td>37.037373</td>\n",
       "      <td>127.088846</td>\n",
       "      <td>35.0</td>\n",
       "      <td>209000.0</td>\n",
       "      <td>387000.0</td>\n",
       "      <td>207000.0</td>\n",
       "      <td>393000.0</td>\n",
       "      <td>25940.567472</td>\n",
       "    </tr>\n",
       "  </tbody>\n",
       "</table>\n",
       "</div>"
      ],
      "text/plain": [
       "      W_ZONE  no_hh  no_hh_chil  hh_type  hh_income  no_car   age  sex  \\\n",
       "1000      88    4.0         3.0      1.0        5.0     1.0  40.0  1.0   \n",
       "1001      88    3.0         3.0      4.0        2.0     2.0  61.0  1.0   \n",
       "1002      88    5.0         3.0      1.0        4.0     1.0  46.0  1.0   \n",
       "1003      88    4.0         4.0      2.0        6.0     1.0  49.0  1.0   \n",
       "1004      88    4.0         2.0      1.0        3.0     1.0  37.0  1.0   \n",
       "1005      88    3.0         3.0      1.0        5.0     1.0  56.0  1.0   \n",
       "1006      88    3.0         3.0      4.0        6.0     1.0  55.0  1.0   \n",
       "1007      88    4.0         4.0      2.0        5.0     1.0  41.0  1.0   \n",
       "1008      88    1.0         1.0      2.0        4.0     1.0  49.0  1.0   \n",
       "1009      88    3.0         3.0      1.0        5.0     1.0  43.0  1.0   \n",
       "\n",
       "      job_type  house_lat   house_lon   work_lat    work_lon  H_ZONE  \\\n",
       "1000       4.0  37.511534  126.902390  37.031954  127.077127   954.0   \n",
       "1001       6.0  37.000396  127.106922  37.034933  127.078710    50.0   \n",
       "1002       4.0  37.195733  127.034267  37.039019  127.077925   287.0   \n",
       "1003       6.0  37.067362  127.056343  37.037719  127.077653   130.0   \n",
       "1004       4.0  37.151695  127.078077  37.039019  127.077925   218.0   \n",
       "1005       6.0  37.053694  127.047655  37.038303  127.082699   105.0   \n",
       "1006       6.0  37.102160  127.021462  37.036618  127.077674   173.0   \n",
       "1007       6.0  37.037146  127.029241  37.035418  127.074294    86.0   \n",
       "1008       6.0  37.076516  127.064009  37.036774  127.072348   130.0   \n",
       "1009       6.0  36.989866  127.090719  37.037373  127.088846    35.0   \n",
       "\n",
       "      H_ZONE_X  H_ZONE_Y  W_ZONE_X  W_ZONE_Y             0  \n",
       "1000  191000.0  445000.0  207000.0  393000.0  25940.567472  \n",
       "1001  209000.0  389000.0  207000.0  393000.0  25940.567472  \n",
       "1002  203000.0  411000.0  207000.0  393000.0  25940.567472  \n",
       "1003  205000.0  397000.0  207000.0  393000.0  25940.567472  \n",
       "1004  207000.0  405000.0  207000.0  393000.0  25940.567472  \n",
       "1005  205000.0  395000.0  207000.0  393000.0  25940.567472  \n",
       "1006  201000.0  401000.0  207000.0  393000.0  25940.567472  \n",
       "1007  203000.0  393000.0  207000.0  393000.0  25940.567472  \n",
       "1008  205000.0  397000.0  207000.0  393000.0  25940.567472  \n",
       "1009  209000.0  387000.0  207000.0  393000.0  25940.567472  "
      ]
     },
     "execution_count": 5,
     "metadata": {},
     "output_type": "execute_result"
    }
   ],
   "source": [
    "print(len(data))\n",
    "data[1000:1010]"
   ]
  },
  {
   "cell_type": "code",
   "execution_count": 6,
   "metadata": {},
   "outputs": [
    {
     "data": {
      "text/html": [
       "<div>\n",
       "<style scoped>\n",
       "    .dataframe tbody tr th:only-of-type {\n",
       "        vertical-align: middle;\n",
       "    }\n",
       "\n",
       "    .dataframe tbody tr th {\n",
       "        vertical-align: top;\n",
       "    }\n",
       "\n",
       "    .dataframe thead th {\n",
       "        text-align: right;\n",
       "    }\n",
       "</style>\n",
       "<table border=\"1\" class=\"dataframe\">\n",
       "  <thead>\n",
       "    <tr style=\"text-align: right;\">\n",
       "      <th></th>\n",
       "      <th>W_ZONE</th>\n",
       "      <th>no_hh</th>\n",
       "      <th>no_hh_chil</th>\n",
       "      <th>hh_type</th>\n",
       "      <th>hh_income</th>\n",
       "      <th>no_car</th>\n",
       "      <th>age</th>\n",
       "      <th>sex</th>\n",
       "      <th>job_type</th>\n",
       "      <th>work_lat</th>\n",
       "      <th>work_lon</th>\n",
       "    </tr>\n",
       "  </thead>\n",
       "  <tbody>\n",
       "    <tr>\n",
       "      <th>0</th>\n",
       "      <td>0</td>\n",
       "      <td>4.0</td>\n",
       "      <td>4.0</td>\n",
       "      <td>1.0</td>\n",
       "      <td>5.0</td>\n",
       "      <td>1.0</td>\n",
       "      <td>41.0</td>\n",
       "      <td>1.0</td>\n",
       "      <td>4.0</td>\n",
       "      <td>36.115620</td>\n",
       "      <td>126.792747</td>\n",
       "    </tr>\n",
       "    <tr>\n",
       "      <th>1</th>\n",
       "      <td>0</td>\n",
       "      <td>3.0</td>\n",
       "      <td>3.0</td>\n",
       "      <td>2.0</td>\n",
       "      <td>3.0</td>\n",
       "      <td>1.0</td>\n",
       "      <td>36.0</td>\n",
       "      <td>1.0</td>\n",
       "      <td>4.0</td>\n",
       "      <td>37.335447</td>\n",
       "      <td>126.677584</td>\n",
       "    </tr>\n",
       "    <tr>\n",
       "      <th>2</th>\n",
       "      <td>0</td>\n",
       "      <td>3.0</td>\n",
       "      <td>3.0</td>\n",
       "      <td>2.0</td>\n",
       "      <td>2.0</td>\n",
       "      <td>1.0</td>\n",
       "      <td>70.0</td>\n",
       "      <td>1.0</td>\n",
       "      <td>9.0</td>\n",
       "      <td>36.975082</td>\n",
       "      <td>127.436894</td>\n",
       "    </tr>\n",
       "    <tr>\n",
       "      <th>3</th>\n",
       "      <td>0</td>\n",
       "      <td>5.0</td>\n",
       "      <td>4.0</td>\n",
       "      <td>1.0</td>\n",
       "      <td>5.0</td>\n",
       "      <td>1.0</td>\n",
       "      <td>32.0</td>\n",
       "      <td>1.0</td>\n",
       "      <td>4.0</td>\n",
       "      <td>36.847868</td>\n",
       "      <td>127.414170</td>\n",
       "    </tr>\n",
       "    <tr>\n",
       "      <th>4</th>\n",
       "      <td>0</td>\n",
       "      <td>2.0</td>\n",
       "      <td>2.0</td>\n",
       "      <td>4.0</td>\n",
       "      <td>3.0</td>\n",
       "      <td>1.0</td>\n",
       "      <td>55.0</td>\n",
       "      <td>1.0</td>\n",
       "      <td>4.0</td>\n",
       "      <td>37.967527</td>\n",
       "      <td>124.717824</td>\n",
       "    </tr>\n",
       "  </tbody>\n",
       "</table>\n",
       "</div>"
      ],
      "text/plain": [
       "   W_ZONE  no_hh  no_hh_chil  hh_type  hh_income  no_car   age  sex  job_type  \\\n",
       "0       0    4.0         4.0      1.0        5.0     1.0  41.0  1.0       4.0   \n",
       "1       0    3.0         3.0      2.0        3.0     1.0  36.0  1.0       4.0   \n",
       "2       0    3.0         3.0      2.0        2.0     1.0  70.0  1.0       9.0   \n",
       "3       0    5.0         4.0      1.0        5.0     1.0  32.0  1.0       4.0   \n",
       "4       0    2.0         2.0      4.0        3.0     1.0  55.0  1.0       4.0   \n",
       "\n",
       "    work_lat    work_lon  \n",
       "0  36.115620  126.792747  \n",
       "1  37.335447  126.677584  \n",
       "2  36.975082  127.436894  \n",
       "3  36.847868  127.414170  \n",
       "4  37.967527  124.717824  "
      ]
     },
     "execution_count": 6,
     "metadata": {},
     "output_type": "execute_result"
    }
   ],
   "source": [
    "# preprocessing\n",
    "\n",
    "# not calculating distance, simply using latitude\n",
    "x = data.iloc[:, 0:13]\n",
    "x = x.drop([\"house_lat\", \"house_lon\"], axis= 1)\n",
    "x.head()"
   ]
  },
  {
   "cell_type": "code",
   "execution_count": 7,
   "metadata": {},
   "outputs": [
    {
     "data": {
      "text/plain": [
       "W_ZONE          0\n",
       "no_hh         180\n",
       "no_hh_chil    180\n",
       "hh_type       180\n",
       "hh_income     180\n",
       "no_car        180\n",
       "age           180\n",
       "sex           180\n",
       "job_type      180\n",
       "work_lat      180\n",
       "work_lon      180\n",
       "dtype: int64"
      ]
     },
     "execution_count": 7,
     "metadata": {},
     "output_type": "execute_result"
    }
   ],
   "source": [
    "x.isnull().sum()"
   ]
  },
  {
   "cell_type": "code",
   "execution_count": 8,
   "metadata": {},
   "outputs": [],
   "source": [
    "# # Taking care of missing data\n",
    "# from sklearn.preprocessing import Imputer\n",
    "# imputer = Imputer(missing_values = 'NaN', strategy = 'mean', axis = 0)\n",
    "# imputer = imputer.fit(x.iloc[:, 1:10])\n",
    "# x.iloc[:, 1:10] = imputer.transform(x.iloc[:, 1:10])\n",
    "x = x.dropna()"
   ]
  },
  {
   "cell_type": "code",
   "execution_count": 9,
   "metadata": {},
   "outputs": [
    {
     "data": {
      "text/plain": [
       "W_ZONE        0\n",
       "no_hh         0\n",
       "no_hh_chil    0\n",
       "hh_type       0\n",
       "hh_income     0\n",
       "no_car        0\n",
       "age           0\n",
       "sex           0\n",
       "job_type      0\n",
       "work_lat      0\n",
       "work_lon      0\n",
       "dtype: int64"
      ]
     },
     "execution_count": 9,
     "metadata": {},
     "output_type": "execute_result"
    }
   ],
   "source": [
    "x.isnull().sum()"
   ]
  },
  {
   "cell_type": "code",
   "execution_count": 10,
   "metadata": {},
   "outputs": [],
   "source": [
    "# category values: hh_type, hh_income (this one is fine because of the levels)\n",
    "# Encoding categorical data\n"
   ]
  },
  {
   "cell_type": "code",
   "execution_count": 11,
   "metadata": {},
   "outputs": [
    {
     "data": {
      "text/html": [
       "<div>\n",
       "<style scoped>\n",
       "    .dataframe tbody tr th:only-of-type {\n",
       "        vertical-align: middle;\n",
       "    }\n",
       "\n",
       "    .dataframe tbody tr th {\n",
       "        vertical-align: top;\n",
       "    }\n",
       "\n",
       "    .dataframe thead th {\n",
       "        text-align: right;\n",
       "    }\n",
       "</style>\n",
       "<table border=\"1\" class=\"dataframe\">\n",
       "  <thead>\n",
       "    <tr style=\"text-align: right;\">\n",
       "      <th></th>\n",
       "      <th>house_lat</th>\n",
       "      <th>house_lon</th>\n",
       "    </tr>\n",
       "  </thead>\n",
       "  <tbody>\n",
       "    <tr>\n",
       "      <th>0</th>\n",
       "      <td>37.453952</td>\n",
       "      <td>126.716877</td>\n",
       "    </tr>\n",
       "    <tr>\n",
       "      <th>1</th>\n",
       "      <td>37.465845</td>\n",
       "      <td>126.717234</td>\n",
       "    </tr>\n",
       "    <tr>\n",
       "      <th>2</th>\n",
       "      <td>37.229621</td>\n",
       "      <td>127.284122</td>\n",
       "    </tr>\n",
       "    <tr>\n",
       "      <th>3</th>\n",
       "      <td>37.623500</td>\n",
       "      <td>127.083187</td>\n",
       "    </tr>\n",
       "    <tr>\n",
       "      <th>4</th>\n",
       "      <td>37.469676</td>\n",
       "      <td>126.644354</td>\n",
       "    </tr>\n",
       "  </tbody>\n",
       "</table>\n",
       "</div>"
      ],
      "text/plain": [
       "   house_lat   house_lon\n",
       "0  37.453952  126.716877\n",
       "1  37.465845  126.717234\n",
       "2  37.229621  127.284122\n",
       "3  37.623500  127.083187\n",
       "4  37.469676  126.644354"
      ]
     },
     "execution_count": 11,
     "metadata": {},
     "output_type": "execute_result"
    }
   ],
   "source": [
    "y = data.loc[:, [\"house_lat\", \"house_lon\"]]\n",
    "y.head()"
   ]
  },
  {
   "cell_type": "code",
   "execution_count": 12,
   "metadata": {},
   "outputs": [
    {
     "data": {
      "text/plain": [
       "house_lat    180\n",
       "house_lon    180\n",
       "dtype: int64"
      ]
     },
     "execution_count": 12,
     "metadata": {},
     "output_type": "execute_result"
    }
   ],
   "source": [
    "y.isnull().sum()"
   ]
  },
  {
   "cell_type": "code",
   "execution_count": 13,
   "metadata": {},
   "outputs": [],
   "source": [
    "# # Taking care of missing data\n",
    "# from sklearn.preprocessing import Imputer\n",
    "# imputer = Imputer(missing_values = 'NaN', strategy = 'mean', axis = 0)\n",
    "# imputer = imputer.fit(y)\n",
    "# y = imputer.transform(y)\n",
    "y = y.dropna()"
   ]
  },
  {
   "cell_type": "code",
   "execution_count": 14,
   "metadata": {},
   "outputs": [],
   "source": [
    "# Splitting the dataset into the Training set and Test set\n",
    "from sklearn.model_selection import train_test_split\n",
    "X_train, X_test, y_train, y_test = train_test_split(x, y, test_size = 0.2, random_state = 0)"
   ]
  },
  {
   "cell_type": "code",
   "execution_count": 15,
   "metadata": {},
   "outputs": [],
   "source": [
    "# Feature Scaling\n",
    "# from sklearn.preprocessing import StandardScaler\n",
    "# sc = StandardScaler()\n",
    "# X_train = sc.fit_transform(X_train)\n",
    "# X_test = sc.transform(X_test)\n",
    "# Normalization\n",
    "from sklearn.preprocessing import MinMaxScaler\n",
    "sc = MinMaxScaler(feature_range = (0, 1))\n",
    "X_train = sc.fit_transform(X_train)\n",
    "X_test = sc.transform(X_test)"
   ]
  },
  {
   "cell_type": "code",
   "execution_count": 16,
   "metadata": {},
   "outputs": [
    {
     "data": {
      "text/plain": [
       "RandomForestRegressor(bootstrap=True, criterion='mse', max_depth=None,\n",
       "           max_features='auto', max_leaf_nodes=None,\n",
       "           min_impurity_decrease=0.0, min_impurity_split=None,\n",
       "           min_samples_leaf=1, min_samples_split=2,\n",
       "           min_weight_fraction_leaf=0.0, n_estimators=300, n_jobs=1,\n",
       "           oob_score=False, random_state=0, verbose=0, warm_start=False)"
      ]
     },
     "execution_count": 16,
     "metadata": {},
     "output_type": "execute_result"
    }
   ],
   "source": [
    "# Random Forest Regression\n",
    "# Fitting the Random Forest Regression Model to the dataset\n",
    "from sklearn.ensemble import RandomForestRegressor\n",
    "regressor = RandomForestRegressor(n_estimators = 300, random_state = 0)\n",
    "regressor.fit(X_train, y_train)"
   ]
  },
  {
   "cell_type": "code",
   "execution_count": 17,
   "metadata": {},
   "outputs": [],
   "source": [
    "y_pred = regressor.predict(X_test)"
   ]
  },
  {
   "cell_type": "code",
   "execution_count": 18,
   "metadata": {},
   "outputs": [],
   "source": [
    "prediction = pd.DataFrame({'house_lat': y_test.iloc[:, 0],'house_lon':y_test.iloc[:, 1],\n",
    "                            'house_lat (pred)': y_pred[:,0], 'house_lon (pred)': y_pred[:,1]})"
   ]
  },
  {
   "cell_type": "code",
   "execution_count": 19,
   "metadata": {},
   "outputs": [
    {
     "data": {
      "text/plain": [
       "827.8395348077754"
      ]
     },
     "execution_count": 19,
     "metadata": {},
     "output_type": "execute_result"
    }
   ],
   "source": [
    "# accuracy based on distance\n",
    "def accuracy(pred):\n",
    "    sum_error = 0\n",
    "    for i in range(len(pred)):\n",
    "        deltax = pred.iloc[i][0]-pred.iloc[i][2]\n",
    "        deltay = pred.iloc[i][1]-pred.iloc[i][3]\n",
    "        error = (deltax**2 + deltay**2)**(0.5)\n",
    "        sum_error += error\n",
    "    return sum_error\n",
    "\n",
    "\n",
    "accuracy(prediction)"
   ]
  },
  {
   "cell_type": "code",
   "execution_count": 20,
   "metadata": {},
   "outputs": [
    {
     "data": {
      "image/png": "[encoded data removed]",
      "text/plain": [
       "<Figure size 432x288 with 1 Axes>"
      ]
     },
     "metadata": {
      "needs_background": "light"
     },
     "output_type": "display_data"
    }
   ],
   "source": [
    "plt.scatter(y_test.iloc[:, 0], y_test.iloc[:, 1], color = \"red\", label = 'Actual')\n",
    "plt.scatter(y_pred[:, 0], y_pred[:, 1], color = \"blue\", label = 'Prediction')\n",
    "plt.title('Regression')\n",
    "plt.xlabel('Lat')\n",
    "plt.ylabel('Lon')\n",
    "plt.legend(loc='upper left')\n",
    "plt.show()"
   ]
  },
  {
   "cell_type": "code",
   "execution_count": 21,
   "metadata": {},
   "outputs": [
    {
     "data": {
      "text/plain": [
       "MultiOutputRegressor(estimator=SVR(C=1.0, cache_size=200, coef0=0.0, degree=3, epsilon=0.1, gamma='auto',\n",
       "  kernel='rbf', max_iter=-1, shrinking=True, tol=0.001, verbose=False),\n",
       "           n_jobs=1)"
      ]
     },
     "execution_count": 21,
     "metadata": {},
     "output_type": "execute_result"
    }
   ],
   "source": [
    "# SVR\n",
    "from sklearn.svm import SVR\n",
    "from sklearn.multioutput import MultiOutputRegressor\n",
    "\n",
    "Svr = SVR(kernel = 'rbf')\n",
    "regressor = MultiOutputRegressor(Svr)\n",
    "regressor.fit(X_train, y_train)"
   ]
  },
  {
   "cell_type": "code",
   "execution_count": 22,
   "metadata": {},
   "outputs": [],
   "source": [
    "y_pred = regressor.predict(X_test)"
   ]
  },
  {
   "cell_type": "code",
   "execution_count": 23,
   "metadata": {},
   "outputs": [],
   "source": [
    "prediction = pd.DataFrame({'house_lat': y_test.iloc[:, 0],'house_lon':y_test.iloc[:, 1],\n",
    "                            'house_lat (pred)': y_pred[:,0], 'house_lon (pred)': y_pred[:,1]})"
   ]
  },
  {
   "cell_type": "code",
   "execution_count": 24,
   "metadata": {},
   "outputs": [
    {
     "data": {
      "text/plain": [
       "910.4883383815289"
      ]
     },
     "execution_count": 24,
     "metadata": {},
     "output_type": "execute_result"
    }
   ],
   "source": [
    "accuracy(prediction)"
   ]
  },
  {
   "cell_type": "code",
   "execution_count": 25,
   "metadata": {},
   "outputs": [
    {
     "data": {
      "image/png": "[encoded data removed]",
      "text/plain": [
       "<Figure size 432x288 with 1 Axes>"
      ]
     },
     "metadata": {
      "needs_background": "light"
     },
     "output_type": "display_data"
    }
   ],
   "source": [
    "plt.scatter(y_test.iloc[:, 0], y_test.iloc[:, 1], color = \"red\", label = 'Actual')\n",
    "plt.scatter(y_pred[:, 0], y_pred[:, 1], color = \"blue\", label = 'Prediction')\n",
    "plt.title('Regression')\n",
    "plt.xlabel('Lat')\n",
    "plt.ylabel('Lon')\n",
    "plt.legend(loc='upper left')\n",
    "plt.show()"
   ]
  },
  {
   "cell_type": "code",
   "execution_count": 26,
   "metadata": {},
   "outputs": [
    {
     "name": "stderr",
     "output_type": "stream",
     "text": [
      "Using TensorFlow backend.\n",
      "/usr/local/Cellar/python/3.6.5_1/Frameworks/Python.framework/Versions/3.6/lib/python3.6/importlib/_bootstrap.py:219: RuntimeWarning: compiletime version 3.5 of module 'tensorflow.python.framework.fast_tensor_util' does not match runtime version 3.6\n",
      "  return f(*args, **kwds)\n"
     ]
    }
   ],
   "source": [
    "# Importing the Keras libraries and packages\n",
    "import keras\n",
    "from keras.models import Sequential\n",
    "from keras.layers import Dense, Dropout"
   ]
  },
  {
   "cell_type": "code",
   "execution_count": 44,
   "metadata": {},
   "outputs": [],
   "source": [
    "# Initialising the ANN\n",
    "regressor = Sequential()\n",
    "\n",
    "# Adding the input layer and the first hidden layer\n",
    "regressor.add(Dense(units = 6, kernel_initializer = 'normal', activation = 'relu', input_dim = 11))\n",
    "regressor.add(Dropout(0.2))\n",
    "\n",
    "# Adding the second hidden layer\n",
    "regressor.add(Dense(units = 6, kernel_initializer = 'normal', activation = 'relu'))\n",
    "regressor.add(Dropout(0.2))\n",
    "\n",
    "# Adding the third hidden layer\n",
    "regressor.add(Dense(units = 6, kernel_initializer = 'normal', activation = 'relu'))\n",
    "regressor.add(Dropout(0.2))\n",
    "\n",
    "# Adding the fourth hidden layer\n",
    "regressor.add(Dense(units = 6, kernel_initializer = 'normal', activation = 'relu'))\n",
    "regressor.add(Dropout(0.2))\n",
    "\n",
    "# Adding the fifth hidden layer\n",
    "regressor.add(Dense(units = 6, kernel_initializer = 'normal', activation = 'relu'))\n",
    "regressor.add(Dropout(0.2))\n",
    "\n",
    "# Adding the output layer\n",
    "regressor.add(Dense(units = 2, kernel_initializer = 'normal', activation = 'linear'))\n",
    "\n",
    "# Compiling the ANN\n",
    "regressor.compile(optimizer = 'sgd', loss = 'mean_squared_error', metrics = ['mae'])"
   ]
  },
  {
   "cell_type": "code",
   "execution_count": 48,
   "metadata": {},
   "outputs": [
    {
     "data": {
      "text/plain": [
       "array([[ 37.563692, 127.047606],\n",
       "       [ 37.712381, 126.751078],\n",
       "       [ 37.537452, 126.732833],\n",
       "       ...,\n",
       "       [ 37.686711, 126.764707],\n",
       "       [ 37.602017, 127.093634],\n",
       "       [ 37.334732, 127.107173]])"
      ]
     },
     "execution_count": 48,
     "metadata": {},
     "output_type": "execute_result"
    }
   ],
   "source": []
  },
  {
   "cell_type": "code",
   "execution_count": null,
   "metadata": {},
   "outputs": [
    {
     "name": "stdout",
     "output_type": "stream",
     "text": [
      "Epoch 1/100\n",
      "37342/37342 [==============================] - 8s 213us/step - loss: 69.4116 - mean_absolute_error: 3.0747\n",
      "Epoch 2/100\n",
      "37342/37342 [==============================] - 8s 209us/step - loss: 0.0333 - mean_absolute_error: 0.1388\n",
      "Epoch 3/100\n",
      "37342/37342 [==============================] - 9s 238us/step - loss: 0.0306 - mean_absolute_error: 0.1332\n",
      "Epoch 4/100\n",
      "37342/37342 [==============================] - 8s 213us/step - loss: 0.0304 - mean_absolute_error: 0.1328\n",
      "Epoch 5/100\n",
      "37342/37342 [==============================] - 9s 230us/step - loss: 0.0304 - mean_absolute_error: 0.1328\n",
      "Epoch 6/100\n",
      "37342/37342 [==============================] - 9s 252us/step - loss: 0.0304 - mean_absolute_error: 0.1327\n",
      "Epoch 7/100\n",
      "37342/37342 [==============================] - 9s 235us/step - loss: 0.0304 - mean_absolute_error: 0.1327\n",
      "Epoch 8/100\n",
      "37342/37342 [==============================] - 12s 331us/step - loss: 0.0304 - mean_absolute_error: 0.1327\n",
      "Epoch 9/100\n",
      "37342/37342 [==============================] - 10s 269us/step - loss: 0.0304 - mean_absolute_error: 0.13272s - loss: 0.0305 - mean_absolute_error: - ETA: 2s - loss\n",
      "Epoch 10/100\n",
      "37342/37342 [==============================] - 8s 217us/step - loss: 0.0304 - mean_absolute_error: 0.1327\n",
      "Epoch 11/100\n",
      "37342/37342 [==============================] - 8s 210us/step - loss: 0.0304 - mean_absolute_error: 0.1327\n",
      "Epoch 12/100\n",
      "37342/37342 [==============================] - 8s 208us/step - loss: 0.0304 - mean_absolute_error: 0.1327\n",
      "Epoch 13/100\n",
      "37342/37342 [==============================] - 8s 213us/step - loss: 0.0304 - mean_absolute_error: 0.1327\n",
      "Epoch 14/100\n",
      "37342/37342 [==============================] - 8s 213us/step - loss: 0.0304 - mean_absolute_error: 0.1327\n",
      "Epoch 15/100\n",
      "37342/37342 [==============================] - 9s 228us/step - loss: 0.0304 - mean_absolute_error: 0.1327\n",
      "Epoch 16/100\n",
      "37342/37342 [==============================] - 9s 254us/step - loss: 0.0304 - mean_absolute_error: 0.1327\n",
      "Epoch 17/100\n",
      "37342/37342 [==============================] - 8s 224us/step - loss: 0.0304 - mean_absolute_error: 0.1327\n",
      "Epoch 18/100\n",
      "37342/37342 [==============================] - 8s 217us/step - loss: 0.0304 - mean_absolute_error: 0.1327\n",
      "Epoch 19/100\n",
      "37342/37342 [==============================] - 8s 224us/step - loss: 0.0304 - mean_absolute_error: 0.1327\n",
      "Epoch 20/100\n",
      "37342/37342 [==============================] - 8s 226us/step - loss: 0.0304 - mean_absolute_error: 0.1327\n",
      "Epoch 21/100\n",
      "37342/37342 [==============================] - 10s 273us/step - loss: 0.0304 - mean_absolute_error: 0.1327\n",
      "Epoch 22/100\n",
      "37342/37342 [==============================] - 8s 226us/step - loss: 0.0304 - mean_absolute_error: 0.1327\n",
      "Epoch 23/100\n",
      "37342/37342 [==============================] - 7s 200us/step - loss: 0.0304 - mean_absolute_error: 0.1327\n",
      "Epoch 24/100\n",
      "37342/37342 [==============================] - 7s 199us/step - loss: 0.0304 - mean_absolute_error: 0.1327\n",
      "Epoch 25/100\n",
      "37342/37342 [==============================] - 8s 221us/step - loss: 0.0304 - mean_absolute_error: 0.1327\n",
      "Epoch 26/100\n",
      "37342/37342 [==============================] - 8s 208us/step - loss: 0.0304 - mean_absolute_error: 0.1327\n",
      "Epoch 27/100\n",
      "37342/37342 [==============================] - 8s 205us/step - loss: 0.0304 - mean_absolute_error: 0.1327\n",
      "Epoch 28/100\n",
      "37342/37342 [==============================] - 7s 199us/step - loss: 0.0304 - mean_absolute_error: 0.1327\n",
      "Epoch 29/100\n",
      "37342/37342 [==============================] - 8s 214us/step - loss: 0.0304 - mean_absolute_error: 0.1327\n",
      "Epoch 30/100\n",
      "37342/37342 [==============================] - 9s 253us/step - loss: 0.0304 - mean_absolute_error: 0.1327 1s - loss\n",
      "Epoch 31/100\n",
      "37342/37342 [==============================] - 8s 206us/step - loss: 0.0304 - mean_absolute_error: 0.1327\n",
      "Epoch 32/100\n",
      "37342/37342 [==============================] - 8s 206us/step - loss: 0.0304 - mean_absolute_error: 0.1327\n",
      "Epoch 33/100\n",
      "37342/37342 [==============================] - 8s 204us/step - loss: 0.0304 - mean_absolute_error: 0.1327\n",
      "Epoch 34/100\n",
      "37342/37342 [==============================] - 8s 202us/step - loss: 0.0304 - mean_absolute_error: 0.1327\n",
      "Epoch 35/100\n",
      "37342/37342 [==============================] - 10s 266us/step - loss: 0.0304 - mean_absolute_error: 0.1327\n",
      "Epoch 36/100\n",
      "37342/37342 [==============================] - 9s 243us/step - loss: 0.0304 - mean_absolute_error: 0.1327\n",
      "Epoch 37/100\n",
      "37342/37342 [==============================] - 9s 250us/step - loss: 0.0304 - mean_absolute_error: 0.1327 1s - \n",
      "Epoch 38/100\n",
      "37342/37342 [==============================] - 11s 284us/step - loss: 0.0304 - mean_absolute_error: 0.1327\n",
      "Epoch 39/100\n",
      "37342/37342 [==============================] - 8s 224us/step - loss: 0.0304 - mean_absolute_error: 0.1327\n",
      "Epoch 40/100\n",
      "37342/37342 [==============================] - 9s 240us/step - loss: 0.0304 - mean_absolute_error: 0.1327\n",
      "Epoch 41/100\n",
      "37342/37342 [==============================] - 9s 233us/step - loss: 0.0304 - mean_absolute_error: 0.1327\n",
      "Epoch 42/100\n",
      "37342/37342 [==============================] - 9s 237us/step - loss: 0.0304 - mean_absolute_error: 0.1327\n",
      "Epoch 43/100\n",
      "37342/37342 [==============================] - 8s 220us/step - loss: 0.0304 - mean_absolute_error: 0.1327\n",
      "Epoch 44/100\n",
      "37342/37342 [==============================] - 8s 213us/step - loss: 0.0304 - mean_absolute_error: 0.1327\n",
      "Epoch 45/100\n",
      "37342/37342 [==============================] - 8s 213us/step - loss: 0.0304 - mean_absolute_error: 0.1327\n",
      "Epoch 46/100\n",
      "37342/37342 [==============================] - 8s 209us/step - loss: 0.0304 - mean_absolute_error: 0.1327\n",
      "Epoch 47/100\n",
      "37342/37342 [==============================] - 10s 259us/step - loss: 0.0304 - mean_absolute_error: 0.1327\n",
      "Epoch 48/100\n",
      "37342/37342 [==============================] - 8s 219us/step - loss: 0.0304 - mean_absolute_error: 0.1327\n",
      "Epoch 49/100\n",
      "37342/37342 [==============================] - 8s 219us/step - loss: 0.0304 - mean_absolute_error: 0.1327 2s - loss: 0.03 - ETA: 0s - loss: 0.0303 - mean_abs\n",
      "Epoch 50/100\n",
      "37342/37342 [==============================] - 8s 215us/step - loss: 0.0304 - mean_absolute_error: 0.1327\n",
      "Epoch 51/100\n",
      "37342/37342 [==============================] - 10s 255us/step - loss: 0.0304 - mean_absolute_error: 0.1327\n",
      "Epoch 52/100\n",
      "37342/37342 [==============================] - 9s 236us/step - loss: 0.0304 - mean_absolute_error: 0.1327\n",
      "Epoch 53/100\n",
      "37342/37342 [==============================] - 7s 199us/step - loss: 0.0304 - mean_absolute_error: 0.1327\n",
      "Epoch 54/100\n",
      "37342/37342 [==============================] - 8s 223us/step - loss: 0.0304 - mean_absolute_error: 0.1327\n",
      "Epoch 55/100\n",
      "37342/37342 [==============================] - 8s 214us/step - loss: 0.0304 - mean_absolute_error: 0.1327\n",
      "Epoch 56/100\n",
      "37342/37342 [==============================] - 8s 220us/step - loss: 0.0304 - mean_absolute_error: 0.1327\n",
      "Epoch 57/100\n",
      "37342/37342 [==============================] - 8s 221us/step - loss: 0.0304 - mean_absolute_error: 0.1327\n",
      "Epoch 58/100\n",
      "37342/37342 [==============================] - 8s 211us/step - loss: 0.0304 - mean_absolute_error: 0.1327\n",
      "Epoch 59/100\n",
      "37342/37342 [==============================] - 8s 219us/step - loss: 0.0304 - mean_absolute_error: 0.1327\n",
      "Epoch 60/100\n",
      "37342/37342 [==============================] - 9s 229us/step - loss: 0.0304 - mean_absolute_error: 0.1327\n",
      "Epoch 61/100\n",
      "37342/37342 [==============================] - 8s 224us/step - loss: 0.0304 - mean_absolute_error: 0.1327\n",
      "Epoch 62/100\n",
      "37342/37342 [==============================] - 9s 246us/step - loss: 0.0304 - mean_absolute_error: 0.1327 3s - loss: 0.0306 - m\n",
      "Epoch 63/100\n",
      "37342/37342 [==============================] - 8s 212us/step - loss: 0.0304 - mean_absolute_error: 0.1327\n",
      "Epoch 64/100\n",
      "37342/37342 [==============================] - 8s 212us/step - loss: 0.0304 - mean_absolute_error: 0.1327\n",
      "Epoch 65/100\n",
      "37342/37342 [==============================] - 9s 235us/step - loss: 0.0304 - mean_absolute_error: 0.1327\n",
      "Epoch 66/100\n",
      "37342/37342 [==============================] - 9s 234us/step - loss: 0.0304 - mean_absolute_error: 0.1327 0s - loss: 0.0303 - mean_absolute_error: 0.1 - ETA: 0s - loss: 0.0303 - mean_absolute_error: \n",
      "Epoch 67/100\n"
     ]
    },
    {
     "name": "stdout",
     "output_type": "stream",
     "text": [
      "37342/37342 [==============================] - 8s 218us/step - loss: 0.0304 - mean_absolute_error: 0.1327\n",
      "Epoch 68/100\n",
      "37342/37342 [==============================] - 8s 212us/step - loss: 0.0304 - mean_absolute_error: 0.1327\n",
      "Epoch 69/100\n",
      "37342/37342 [==============================] - 8s 218us/step - loss: 0.0304 - mean_absolute_error: 0.1327\n",
      "Epoch 70/100\n",
      "37342/37342 [==============================] - 9s 249us/step - loss: 0.0304 - mean_absolute_error: 0.1327\n",
      "Epoch 71/100\n",
      "37342/37342 [==============================] - 9s 238us/step - loss: 0.0304 - mean_absolute_error: 0.1327\n",
      "Epoch 72/100\n",
      "37342/37342 [==============================] - 11s 298us/step - loss: 0.0304 - mean_absolute_error: 0.1327\n",
      "Epoch 73/100\n",
      "37342/37342 [==============================] - 9s 235us/step - loss: 0.0304 - mean_absolute_error: 0.1327\n",
      "Epoch 74/100\n",
      "37342/37342 [==============================] - 9s 244us/step - loss: 0.0304 - mean_absolute_error: 0.1327\n",
      "Epoch 75/100\n",
      "37342/37342 [==============================] - 9s 250us/step - loss: 0.0304 - mean_absolute_error: 0.1327\n",
      "Epoch 76/100\n",
      "37342/37342 [==============================] - 9s 229us/step - loss: 0.0304 - mean_absolute_error: 0.1327\n",
      "Epoch 77/100\n",
      "37342/37342 [==============================] - 9s 241us/step - loss: 0.0304 - mean_absolute_error: 0.1327\n",
      "Epoch 78/100\n",
      "37342/37342 [==============================] - 9s 229us/step - loss: 0.0304 - mean_absolute_error: 0.1327\n",
      "Epoch 79/100\n",
      "37342/37342 [==============================] - 8s 225us/step - loss: 0.0304 - mean_absolute_error: 0.1327\n",
      "Epoch 80/100\n",
      "37342/37342 [==============================] - 9s 244us/step - loss: 0.0304 - mean_absolute_error: 0.1327\n",
      "Epoch 81/100\n",
      "37342/37342 [==============================] - 9s 234us/step - loss: 0.0304 - mean_absolute_error: 0.1327\n",
      "Epoch 82/100\n",
      "37342/37342 [==============================] - 9s 238us/step - loss: 0.0304 - mean_absolute_error: 0.1327\n",
      "Epoch 83/100\n",
      "37342/37342 [==============================] - 8s 226us/step - loss: 0.0304 - mean_absolute_error: 0.1327\n",
      "Epoch 84/100\n",
      "37342/37342 [==============================] - 8s 202us/step - loss: 0.0304 - mean_absolute_error: 0.1327\n",
      "Epoch 85/100\n",
      "37342/37342 [==============================] - 8s 224us/step - loss: 0.0304 - mean_absolute_error: 0.1327\n",
      "Epoch 86/100\n",
      "37342/37342 [==============================] - 7s 196us/step - loss: 0.0304 - mean_absolute_error: 0.1327\n",
      "Epoch 87/100\n",
      "37342/37342 [==============================] - 7s 193us/step - loss: 0.0304 - mean_absolute_error: 0.1327\n",
      "Epoch 88/100\n",
      "37342/37342 [==============================] - 7s 193us/step - loss: 0.0304 - mean_absolute_error: 0.1327\n",
      "Epoch 89/100\n",
      "37342/37342 [==============================] - 7s 191us/step - loss: 0.0304 - mean_absolute_error: 0.1327\n",
      "Epoch 90/100\n",
      "37342/37342 [==============================] - 7s 200us/step - loss: 0.0304 - mean_absolute_error: 0.1327\n",
      "Epoch 91/100\n",
      "37342/37342 [==============================] - 7s 199us/step - loss: 0.0304 - mean_absolute_error: 0.1327\n",
      "Epoch 92/100\n",
      "37342/37342 [==============================] - 7s 196us/step - loss: 0.0304 - mean_absolute_error: 0.1327\n",
      "Epoch 93/100\n",
      "37342/37342 [==============================] - 7s 198us/step - loss: 0.0304 - mean_absolute_error: 0.1327\n",
      "Epoch 94/100\n",
      "37342/37342 [==============================] - 9s 251us/step - loss: 0.0304 - mean_absolute_error: 0.1327\n",
      "Epoch 95/100\n",
      "37342/37342 [==============================] - 8s 207us/step - loss: 0.0304 - mean_absolute_error: 0.1327\n",
      "Epoch 96/100\n",
      "37342/37342 [==============================] - 10s 277us/step - loss: 0.0304 - mean_absolute_error: 0.1327\n",
      "Epoch 97/100\n",
      "11820/37342 [========>.....................] - ETA: 5s - loss: 0.0305 - mean_absolute_error: 0.1333"
     ]
    }
   ],
   "source": [
    "regressor.fit(X_train, np.asarray(y_train), batch_size = 5, epochs = 100)"
   ]
  },
  {
   "cell_type": "code",
   "execution_count": 40,
   "metadata": {},
   "outputs": [],
   "source": [
    "y_pred = regressor.predict(X_test)"
   ]
  },
  {
   "cell_type": "code",
   "execution_count": 41,
   "metadata": {},
   "outputs": [],
   "source": [
    "prediction = pd.DataFrame({'house_lat': y_test.iloc[:, 0],'house_lon':y_test.iloc[:, 1],\n",
    "                            'house_lat (pred)': y_pred[:,0], 'house_lon (pred)': y_pred[:,1]})"
   ]
  },
  {
   "cell_type": "code",
   "execution_count": 42,
   "metadata": {},
   "outputs": [
    {
     "data": {
      "text/plain": [
       "1976.3369786078272"
      ]
     },
     "execution_count": 42,
     "metadata": {},
     "output_type": "execute_result"
    }
   ],
   "source": [
    "accuracy(prediction)"
   ]
  },
  {
   "cell_type": "code",
   "execution_count": 43,
   "metadata": {},
   "outputs": [
    {
     "data": {
      "image/png": "[encoded data removed]",
      "text/plain": [
       "<Figure size 432x288 with 1 Axes>"
      ]
     },
     "metadata": {
      "needs_background": "light"
     },
     "output_type": "display_data"
    }
   ],
   "source": [
    "# plot?\n",
    "plt.scatter(y_test.iloc[:, 0], y_test.iloc[:, 1], color = \"red\", label = 'Actual')\n",
    "plt.scatter(y_pred[:, 0], y_pred[:, 1], color = \"blue\", label = 'Prediction')\n",
    "plt.title('Regression')\n",
    "plt.xlabel('Lat')\n",
    "plt.ylabel('Lon')\n",
    "plt.legend(loc='upper left')\n",
    "plt.show()"
   ]
  },
  {
   "cell_type": "code",
   "execution_count": null,
   "metadata": {},
   "outputs": [],
   "source": [
    "# grid-search\n"
   ]
  }
 ],
 "metadata": {
  "kernelspec": {
   "display_name": "Python 3",
   "language": "python",
   "name": "python3"
  },
  "language_info": {
   "codemirror_mode": {
    "name": "ipython",
    "version": 3
   },
   "file_extension": ".py",
   "mimetype": "text/x-python",
   "name": "python",
   "nbconvert_exporter": "python",
   "pygments_lexer": "ipython3",
   "version": "3.6.5"
  }
 },
 "nbformat": 4,
 "nbformat_minor": 2
}
