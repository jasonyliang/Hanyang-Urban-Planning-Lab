{
 "cells": [
  {
   "cell_type": "code",
   "execution_count": 1,
   "metadata": {},
   "outputs": [],
   "source": [
    "import pandas as pd\n",
    "import numpy as np\n",
    "import matplotlib.pyplot as plt"
   ]
  },
  {
   "cell_type": "code",
   "execution_count": 2,
   "metadata": {},
   "outputs": [],
   "source": [
    "dataset = pd.read_csv('/Users/jhajhajhajha1/Desktop/Hanyang Data/data_playaround.csv')"
   ]
  },
  {
   "cell_type": "code",
   "execution_count": 3,
   "metadata": {},
   "outputs": [],
   "source": [
    "data = dataset.iloc[:, 0:19]"
   ]
  },
  {
   "cell_type": "code",
   "execution_count": 4,
   "metadata": {},
   "outputs": [
    {
     "name": "stdout",
     "output_type": "stream",
     "text": [
      "46858\n"
     ]
    },
    {
     "data": {
      "text/html": [
       "<div>\n",
       "<style scoped>\n",
       "    .dataframe tbody tr th:only-of-type {\n",
       "        vertical-align: middle;\n",
       "    }\n",
       "\n",
       "    .dataframe tbody tr th {\n",
       "        vertical-align: top;\n",
       "    }\n",
       "\n",
       "    .dataframe thead th {\n",
       "        text-align: right;\n",
       "    }\n",
       "</style>\n",
       "<table border=\"1\" class=\"dataframe\">\n",
       "  <thead>\n",
       "    <tr style=\"text-align: right;\">\n",
       "      <th></th>\n",
       "      <th>W_ZONE</th>\n",
       "      <th>no_hh</th>\n",
       "      <th>no_hh_chil</th>\n",
       "      <th>hh_type</th>\n",
       "      <th>hh_income</th>\n",
       "      <th>no_car</th>\n",
       "      <th>age</th>\n",
       "      <th>sex</th>\n",
       "      <th>job_type</th>\n",
       "      <th>house_lat</th>\n",
       "      <th>house_lon</th>\n",
       "      <th>work_lat</th>\n",
       "      <th>work_lon</th>\n",
       "      <th>H_ZONE</th>\n",
       "      <th>H_ZONE_X</th>\n",
       "      <th>H_ZONE_Y</th>\n",
       "      <th>W_ZONE_X</th>\n",
       "      <th>W_ZONE_Y</th>\n",
       "      <th>0</th>\n",
       "    </tr>\n",
       "  </thead>\n",
       "  <tbody>\n",
       "    <tr>\n",
       "      <th>1000</th>\n",
       "      <td>88</td>\n",
       "      <td>4.0</td>\n",
       "      <td>3.0</td>\n",
       "      <td>1.0</td>\n",
       "      <td>5.0</td>\n",
       "      <td>1.0</td>\n",
       "      <td>40.0</td>\n",
       "      <td>1.0</td>\n",
       "      <td>4.0</td>\n",
       "      <td>37.511534</td>\n",
       "      <td>126.902390</td>\n",
       "      <td>37.031954</td>\n",
       "      <td>127.077127</td>\n",
       "      <td>954.0</td>\n",
       "      <td>191000.0</td>\n",
       "      <td>445000.0</td>\n",
       "      <td>207000.0</td>\n",
       "      <td>393000.0</td>\n",
       "      <td>25940.567472</td>\n",
       "    </tr>\n",
       "    <tr>\n",
       "      <th>1001</th>\n",
       "      <td>88</td>\n",
       "      <td>3.0</td>\n",
       "      <td>3.0</td>\n",
       "      <td>4.0</td>\n",
       "      <td>2.0</td>\n",
       "      <td>2.0</td>\n",
       "      <td>61.0</td>\n",
       "      <td>1.0</td>\n",
       "      <td>6.0</td>\n",
       "      <td>37.000396</td>\n",
       "      <td>127.106922</td>\n",
       "      <td>37.034933</td>\n",
       "      <td>127.078710</td>\n",
       "      <td>50.0</td>\n",
       "      <td>209000.0</td>\n",
       "      <td>389000.0</td>\n",
       "      <td>207000.0</td>\n",
       "      <td>393000.0</td>\n",
       "      <td>25940.567472</td>\n",
       "    </tr>\n",
       "    <tr>\n",
       "      <th>1002</th>\n",
       "      <td>88</td>\n",
       "      <td>5.0</td>\n",
       "      <td>3.0</td>\n",
       "      <td>1.0</td>\n",
       "      <td>4.0</td>\n",
       "      <td>1.0</td>\n",
       "      <td>46.0</td>\n",
       "      <td>1.0</td>\n",
       "      <td>4.0</td>\n",
       "      <td>37.195733</td>\n",
       "      <td>127.034267</td>\n",
       "      <td>37.039019</td>\n",
       "      <td>127.077925</td>\n",
       "      <td>287.0</td>\n",
       "      <td>203000.0</td>\n",
       "      <td>411000.0</td>\n",
       "      <td>207000.0</td>\n",
       "      <td>393000.0</td>\n",
       "      <td>25940.567472</td>\n",
       "    </tr>\n",
       "    <tr>\n",
       "      <th>1003</th>\n",
       "      <td>88</td>\n",
       "      <td>4.0</td>\n",
       "      <td>4.0</td>\n",
       "      <td>2.0</td>\n",
       "      <td>6.0</td>\n",
       "      <td>1.0</td>\n",
       "      <td>49.0</td>\n",
       "      <td>1.0</td>\n",
       "      <td>6.0</td>\n",
       "      <td>37.067362</td>\n",
       "      <td>127.056343</td>\n",
       "      <td>37.037719</td>\n",
       "      <td>127.077653</td>\n",
       "      <td>130.0</td>\n",
       "      <td>205000.0</td>\n",
       "      <td>397000.0</td>\n",
       "      <td>207000.0</td>\n",
       "      <td>393000.0</td>\n",
       "      <td>25940.567472</td>\n",
       "    </tr>\n",
       "    <tr>\n",
       "      <th>1004</th>\n",
       "      <td>88</td>\n",
       "      <td>4.0</td>\n",
       "      <td>2.0</td>\n",
       "      <td>1.0</td>\n",
       "      <td>3.0</td>\n",
       "      <td>1.0</td>\n",
       "      <td>37.0</td>\n",
       "      <td>1.0</td>\n",
       "      <td>4.0</td>\n",
       "      <td>37.151695</td>\n",
       "      <td>127.078077</td>\n",
       "      <td>37.039019</td>\n",
       "      <td>127.077925</td>\n",
       "      <td>218.0</td>\n",
       "      <td>207000.0</td>\n",
       "      <td>405000.0</td>\n",
       "      <td>207000.0</td>\n",
       "      <td>393000.0</td>\n",
       "      <td>25940.567472</td>\n",
       "    </tr>\n",
       "    <tr>\n",
       "      <th>1005</th>\n",
       "      <td>88</td>\n",
       "      <td>3.0</td>\n",
       "      <td>3.0</td>\n",
       "      <td>1.0</td>\n",
       "      <td>5.0</td>\n",
       "      <td>1.0</td>\n",
       "      <td>56.0</td>\n",
       "      <td>1.0</td>\n",
       "      <td>6.0</td>\n",
       "      <td>37.053694</td>\n",
       "      <td>127.047655</td>\n",
       "      <td>37.038303</td>\n",
       "      <td>127.082699</td>\n",
       "      <td>105.0</td>\n",
       "      <td>205000.0</td>\n",
       "      <td>395000.0</td>\n",
       "      <td>207000.0</td>\n",
       "      <td>393000.0</td>\n",
       "      <td>25940.567472</td>\n",
       "    </tr>\n",
       "    <tr>\n",
       "      <th>1006</th>\n",
       "      <td>88</td>\n",
       "      <td>3.0</td>\n",
       "      <td>3.0</td>\n",
       "      <td>4.0</td>\n",
       "      <td>6.0</td>\n",
       "      <td>1.0</td>\n",
       "      <td>55.0</td>\n",
       "      <td>1.0</td>\n",
       "      <td>6.0</td>\n",
       "      <td>37.102160</td>\n",
       "      <td>127.021462</td>\n",
       "      <td>37.036618</td>\n",
       "      <td>127.077674</td>\n",
       "      <td>173.0</td>\n",
       "      <td>201000.0</td>\n",
       "      <td>401000.0</td>\n",
       "      <td>207000.0</td>\n",
       "      <td>393000.0</td>\n",
       "      <td>25940.567472</td>\n",
       "    </tr>\n",
       "    <tr>\n",
       "      <th>1007</th>\n",
       "      <td>88</td>\n",
       "      <td>4.0</td>\n",
       "      <td>4.0</td>\n",
       "      <td>2.0</td>\n",
       "      <td>5.0</td>\n",
       "      <td>1.0</td>\n",
       "      <td>41.0</td>\n",
       "      <td>1.0</td>\n",
       "      <td>6.0</td>\n",
       "      <td>37.037146</td>\n",
       "      <td>127.029241</td>\n",
       "      <td>37.035418</td>\n",
       "      <td>127.074294</td>\n",
       "      <td>86.0</td>\n",
       "      <td>203000.0</td>\n",
       "      <td>393000.0</td>\n",
       "      <td>207000.0</td>\n",
       "      <td>393000.0</td>\n",
       "      <td>25940.567472</td>\n",
       "    </tr>\n",
       "    <tr>\n",
       "      <th>1008</th>\n",
       "      <td>88</td>\n",
       "      <td>1.0</td>\n",
       "      <td>1.0</td>\n",
       "      <td>2.0</td>\n",
       "      <td>4.0</td>\n",
       "      <td>1.0</td>\n",
       "      <td>49.0</td>\n",
       "      <td>1.0</td>\n",
       "      <td>6.0</td>\n",
       "      <td>37.076516</td>\n",
       "      <td>127.064009</td>\n",
       "      <td>37.036774</td>\n",
       "      <td>127.072348</td>\n",
       "      <td>130.0</td>\n",
       "      <td>205000.0</td>\n",
       "      <td>397000.0</td>\n",
       "      <td>207000.0</td>\n",
       "      <td>393000.0</td>\n",
       "      <td>25940.567472</td>\n",
       "    </tr>\n",
       "    <tr>\n",
       "      <th>1009</th>\n",
       "      <td>88</td>\n",
       "      <td>3.0</td>\n",
       "      <td>3.0</td>\n",
       "      <td>1.0</td>\n",
       "      <td>5.0</td>\n",
       "      <td>1.0</td>\n",
       "      <td>43.0</td>\n",
       "      <td>1.0</td>\n",
       "      <td>6.0</td>\n",
       "      <td>36.989866</td>\n",
       "      <td>127.090719</td>\n",
       "      <td>37.037373</td>\n",
       "      <td>127.088846</td>\n",
       "      <td>35.0</td>\n",
       "      <td>209000.0</td>\n",
       "      <td>387000.0</td>\n",
       "      <td>207000.0</td>\n",
       "      <td>393000.0</td>\n",
       "      <td>25940.567472</td>\n",
       "    </tr>\n",
       "  </tbody>\n",
       "</table>\n",
       "</div>"
      ],
      "text/plain": [
       "      W_ZONE  no_hh  no_hh_chil  hh_type  hh_income  no_car   age  sex  \\\n",
       "1000      88    4.0         3.0      1.0        5.0     1.0  40.0  1.0   \n",
       "1001      88    3.0         3.0      4.0        2.0     2.0  61.0  1.0   \n",
       "1002      88    5.0         3.0      1.0        4.0     1.0  46.0  1.0   \n",
       "1003      88    4.0         4.0      2.0        6.0     1.0  49.0  1.0   \n",
       "1004      88    4.0         2.0      1.0        3.0     1.0  37.0  1.0   \n",
       "1005      88    3.0         3.0      1.0        5.0     1.0  56.0  1.0   \n",
       "1006      88    3.0         3.0      4.0        6.0     1.0  55.0  1.0   \n",
       "1007      88    4.0         4.0      2.0        5.0     1.0  41.0  1.0   \n",
       "1008      88    1.0         1.0      2.0        4.0     1.0  49.0  1.0   \n",
       "1009      88    3.0         3.0      1.0        5.0     1.0  43.0  1.0   \n",
       "\n",
       "      job_type  house_lat   house_lon   work_lat    work_lon  H_ZONE  \\\n",
       "1000       4.0  37.511534  126.902390  37.031954  127.077127   954.0   \n",
       "1001       6.0  37.000396  127.106922  37.034933  127.078710    50.0   \n",
       "1002       4.0  37.195733  127.034267  37.039019  127.077925   287.0   \n",
       "1003       6.0  37.067362  127.056343  37.037719  127.077653   130.0   \n",
       "1004       4.0  37.151695  127.078077  37.039019  127.077925   218.0   \n",
       "1005       6.0  37.053694  127.047655  37.038303  127.082699   105.0   \n",
       "1006       6.0  37.102160  127.021462  37.036618  127.077674   173.0   \n",
       "1007       6.0  37.037146  127.029241  37.035418  127.074294    86.0   \n",
       "1008       6.0  37.076516  127.064009  37.036774  127.072348   130.0   \n",
       "1009       6.0  36.989866  127.090719  37.037373  127.088846    35.0   \n",
       "\n",
       "      H_ZONE_X  H_ZONE_Y  W_ZONE_X  W_ZONE_Y             0  \n",
       "1000  191000.0  445000.0  207000.0  393000.0  25940.567472  \n",
       "1001  209000.0  389000.0  207000.0  393000.0  25940.567472  \n",
       "1002  203000.0  411000.0  207000.0  393000.0  25940.567472  \n",
       "1003  205000.0  397000.0  207000.0  393000.0  25940.567472  \n",
       "1004  207000.0  405000.0  207000.0  393000.0  25940.567472  \n",
       "1005  205000.0  395000.0  207000.0  393000.0  25940.567472  \n",
       "1006  201000.0  401000.0  207000.0  393000.0  25940.567472  \n",
       "1007  203000.0  393000.0  207000.0  393000.0  25940.567472  \n",
       "1008  205000.0  397000.0  207000.0  393000.0  25940.567472  \n",
       "1009  209000.0  387000.0  207000.0  393000.0  25940.567472  "
      ]
     },
     "execution_count": 4,
     "metadata": {},
     "output_type": "execute_result"
    }
   ],
   "source": [
    "print(len(data))\n",
    "data[1000:1010]"
   ]
  },
  {
   "cell_type": "code",
   "execution_count": 5,
   "metadata": {},
   "outputs": [
    {
     "data": {
      "text/html": [
       "<div>\n",
       "<style scoped>\n",
       "    .dataframe tbody tr th:only-of-type {\n",
       "        vertical-align: middle;\n",
       "    }\n",
       "\n",
       "    .dataframe tbody tr th {\n",
       "        vertical-align: top;\n",
       "    }\n",
       "\n",
       "    .dataframe thead th {\n",
       "        text-align: right;\n",
       "    }\n",
       "</style>\n",
       "<table border=\"1\" class=\"dataframe\">\n",
       "  <thead>\n",
       "    <tr style=\"text-align: right;\">\n",
       "      <th></th>\n",
       "      <th>W_ZONE</th>\n",
       "      <th>no_hh</th>\n",
       "      <th>no_hh_chil</th>\n",
       "      <th>hh_type</th>\n",
       "      <th>hh_income</th>\n",
       "      <th>no_car</th>\n",
       "      <th>age</th>\n",
       "      <th>sex</th>\n",
       "      <th>job_type</th>\n",
       "      <th>work_lat</th>\n",
       "      <th>work_lon</th>\n",
       "    </tr>\n",
       "  </thead>\n",
       "  <tbody>\n",
       "    <tr>\n",
       "      <th>0</th>\n",
       "      <td>0</td>\n",
       "      <td>4.0</td>\n",
       "      <td>4.0</td>\n",
       "      <td>1.0</td>\n",
       "      <td>5.0</td>\n",
       "      <td>1.0</td>\n",
       "      <td>41.0</td>\n",
       "      <td>1.0</td>\n",
       "      <td>4.0</td>\n",
       "      <td>36.115620</td>\n",
       "      <td>126.792747</td>\n",
       "    </tr>\n",
       "    <tr>\n",
       "      <th>1</th>\n",
       "      <td>0</td>\n",
       "      <td>3.0</td>\n",
       "      <td>3.0</td>\n",
       "      <td>2.0</td>\n",
       "      <td>3.0</td>\n",
       "      <td>1.0</td>\n",
       "      <td>36.0</td>\n",
       "      <td>1.0</td>\n",
       "      <td>4.0</td>\n",
       "      <td>37.335447</td>\n",
       "      <td>126.677584</td>\n",
       "    </tr>\n",
       "    <tr>\n",
       "      <th>2</th>\n",
       "      <td>0</td>\n",
       "      <td>3.0</td>\n",
       "      <td>3.0</td>\n",
       "      <td>2.0</td>\n",
       "      <td>2.0</td>\n",
       "      <td>1.0</td>\n",
       "      <td>70.0</td>\n",
       "      <td>1.0</td>\n",
       "      <td>9.0</td>\n",
       "      <td>36.975082</td>\n",
       "      <td>127.436894</td>\n",
       "    </tr>\n",
       "    <tr>\n",
       "      <th>3</th>\n",
       "      <td>0</td>\n",
       "      <td>5.0</td>\n",
       "      <td>4.0</td>\n",
       "      <td>1.0</td>\n",
       "      <td>5.0</td>\n",
       "      <td>1.0</td>\n",
       "      <td>32.0</td>\n",
       "      <td>1.0</td>\n",
       "      <td>4.0</td>\n",
       "      <td>36.847868</td>\n",
       "      <td>127.414170</td>\n",
       "    </tr>\n",
       "    <tr>\n",
       "      <th>4</th>\n",
       "      <td>0</td>\n",
       "      <td>2.0</td>\n",
       "      <td>2.0</td>\n",
       "      <td>4.0</td>\n",
       "      <td>3.0</td>\n",
       "      <td>1.0</td>\n",
       "      <td>55.0</td>\n",
       "      <td>1.0</td>\n",
       "      <td>4.0</td>\n",
       "      <td>37.967527</td>\n",
       "      <td>124.717824</td>\n",
       "    </tr>\n",
       "  </tbody>\n",
       "</table>\n",
       "</div>"
      ],
      "text/plain": [
       "   W_ZONE  no_hh  no_hh_chil  hh_type  hh_income  no_car   age  sex  job_type  \\\n",
       "0       0    4.0         4.0      1.0        5.0     1.0  41.0  1.0       4.0   \n",
       "1       0    3.0         3.0      2.0        3.0     1.0  36.0  1.0       4.0   \n",
       "2       0    3.0         3.0      2.0        2.0     1.0  70.0  1.0       9.0   \n",
       "3       0    5.0         4.0      1.0        5.0     1.0  32.0  1.0       4.0   \n",
       "4       0    2.0         2.0      4.0        3.0     1.0  55.0  1.0       4.0   \n",
       "\n",
       "    work_lat    work_lon  \n",
       "0  36.115620  126.792747  \n",
       "1  37.335447  126.677584  \n",
       "2  36.975082  127.436894  \n",
       "3  36.847868  127.414170  \n",
       "4  37.967527  124.717824  "
      ]
     },
     "execution_count": 5,
     "metadata": {},
     "output_type": "execute_result"
    }
   ],
   "source": [
    "# preprocessing\n",
    "\n",
    "# not calculating distance, simply using latitude\n",
    "x = data.iloc[:, 0:13]\n",
    "x = x.drop([\"house_lat\", \"house_lon\"], axis= 1)\n",
    "x.head()"
   ]
  },
  {
   "cell_type": "code",
   "execution_count": 6,
   "metadata": {},
   "outputs": [
    {
     "data": {
      "text/plain": [
       "W_ZONE          0\n",
       "no_hh         180\n",
       "no_hh_chil    180\n",
       "hh_type       180\n",
       "hh_income     180\n",
       "no_car        180\n",
       "age           180\n",
       "sex           180\n",
       "job_type      180\n",
       "work_lat      180\n",
       "work_lon      180\n",
       "dtype: int64"
      ]
     },
     "execution_count": 6,
     "metadata": {},
     "output_type": "execute_result"
    }
   ],
   "source": [
    "x.isnull().sum()"
   ]
  },
  {
   "cell_type": "code",
   "execution_count": 7,
   "metadata": {},
   "outputs": [],
   "source": [
    "# # Taking care of missing data\n",
    "# from sklearn.preprocessing import Imputer\n",
    "# imputer = Imputer(missing_values = 'NaN', strategy = 'mean', axis = 0)\n",
    "# imputer = imputer.fit(x.iloc[:, 1:10])\n",
    "# x.iloc[:, 1:10] = imputer.transform(x.iloc[:, 1:10])\n",
    "x = x.dropna()"
   ]
  },
  {
   "cell_type": "code",
   "execution_count": 8,
   "metadata": {},
   "outputs": [
    {
     "data": {
      "text/html": [
       "<div>\n",
       "<style scoped>\n",
       "    .dataframe tbody tr th:only-of-type {\n",
       "        vertical-align: middle;\n",
       "    }\n",
       "\n",
       "    .dataframe tbody tr th {\n",
       "        vertical-align: top;\n",
       "    }\n",
       "\n",
       "    .dataframe thead th {\n",
       "        text-align: right;\n",
       "    }\n",
       "</style>\n",
       "<table border=\"1\" class=\"dataframe\">\n",
       "  <thead>\n",
       "    <tr style=\"text-align: right;\">\n",
       "      <th></th>\n",
       "      <th>W_ZONE</th>\n",
       "      <th>no_hh</th>\n",
       "      <th>no_hh_chil</th>\n",
       "      <th>hh_type</th>\n",
       "      <th>hh_income</th>\n",
       "      <th>no_car</th>\n",
       "      <th>age</th>\n",
       "      <th>sex</th>\n",
       "      <th>job_type</th>\n",
       "      <th>work_lat</th>\n",
       "      <th>work_lon</th>\n",
       "    </tr>\n",
       "    <tr>\n",
       "      <th>hh_type</th>\n",
       "      <th></th>\n",
       "      <th></th>\n",
       "      <th></th>\n",
       "      <th></th>\n",
       "      <th></th>\n",
       "      <th></th>\n",
       "      <th></th>\n",
       "      <th></th>\n",
       "      <th></th>\n",
       "      <th></th>\n",
       "      <th></th>\n",
       "    </tr>\n",
       "  </thead>\n",
       "  <tbody>\n",
       "    <tr>\n",
       "      <th>1.0</th>\n",
       "      <td>1326</td>\n",
       "      <td>8</td>\n",
       "      <td>8</td>\n",
       "      <td>1</td>\n",
       "      <td>8</td>\n",
       "      <td>2</td>\n",
       "      <td>66</td>\n",
       "      <td>2</td>\n",
       "      <td>9</td>\n",
       "      <td>15391</td>\n",
       "      <td>15422</td>\n",
       "    </tr>\n",
       "    <tr>\n",
       "      <th>2.0</th>\n",
       "      <td>732</td>\n",
       "      <td>7</td>\n",
       "      <td>7</td>\n",
       "      <td>1</td>\n",
       "      <td>8</td>\n",
       "      <td>2</td>\n",
       "      <td>62</td>\n",
       "      <td>2</td>\n",
       "      <td>8</td>\n",
       "      <td>3594</td>\n",
       "      <td>3605</td>\n",
       "    </tr>\n",
       "    <tr>\n",
       "      <th>3.0</th>\n",
       "      <td>648</td>\n",
       "      <td>6</td>\n",
       "      <td>6</td>\n",
       "      <td>1</td>\n",
       "      <td>8</td>\n",
       "      <td>2</td>\n",
       "      <td>58</td>\n",
       "      <td>2</td>\n",
       "      <td>9</td>\n",
       "      <td>3210</td>\n",
       "      <td>3214</td>\n",
       "    </tr>\n",
       "    <tr>\n",
       "      <th>4.0</th>\n",
       "      <td>1120</td>\n",
       "      <td>7</td>\n",
       "      <td>6</td>\n",
       "      <td>1</td>\n",
       "      <td>8</td>\n",
       "      <td>2</td>\n",
       "      <td>60</td>\n",
       "      <td>2</td>\n",
       "      <td>7</td>\n",
       "      <td>6152</td>\n",
       "      <td>6173</td>\n",
       "    </tr>\n",
       "    <tr>\n",
       "      <th>5.0</th>\n",
       "      <td>246</td>\n",
       "      <td>6</td>\n",
       "      <td>5</td>\n",
       "      <td>1</td>\n",
       "      <td>7</td>\n",
       "      <td>2</td>\n",
       "      <td>50</td>\n",
       "      <td>2</td>\n",
       "      <td>7</td>\n",
       "      <td>567</td>\n",
       "      <td>566</td>\n",
       "    </tr>\n",
       "    <tr>\n",
       "      <th>6.0</th>\n",
       "      <td>93</td>\n",
       "      <td>6</td>\n",
       "      <td>5</td>\n",
       "      <td>1</td>\n",
       "      <td>6</td>\n",
       "      <td>2</td>\n",
       "      <td>47</td>\n",
       "      <td>2</td>\n",
       "      <td>6</td>\n",
       "      <td>123</td>\n",
       "      <td>123</td>\n",
       "    </tr>\n",
       "  </tbody>\n",
       "</table>\n",
       "</div>"
      ],
      "text/plain": [
       "         W_ZONE  no_hh  no_hh_chil  hh_type  hh_income  no_car  age  sex  \\\n",
       "hh_type                                                                    \n",
       "1.0        1326      8           8        1          8       2   66    2   \n",
       "2.0         732      7           7        1          8       2   62    2   \n",
       "3.0         648      6           6        1          8       2   58    2   \n",
       "4.0        1120      7           6        1          8       2   60    2   \n",
       "5.0         246      6           5        1          7       2   50    2   \n",
       "6.0          93      6           5        1          6       2   47    2   \n",
       "\n",
       "         job_type  work_lat  work_lon  \n",
       "hh_type                                \n",
       "1.0             9     15391     15422  \n",
       "2.0             8      3594      3605  \n",
       "3.0             9      3210      3214  \n",
       "4.0             7      6152      6173  \n",
       "5.0             7       567       566  \n",
       "6.0             6       123       123  "
      ]
     },
     "execution_count": 8,
     "metadata": {},
     "output_type": "execute_result"
    }
   ],
   "source": [
    "x.isnull().sum()\n",
    "x.groupby('hh_type').nunique()"
   ]
  },
  {
   "cell_type": "code",
   "execution_count": 9,
   "metadata": {},
   "outputs": [],
   "source": [
    "# save original data\n",
    "x_original = x.values"
   ]
  },
  {
   "cell_type": "code",
   "execution_count": 10,
   "metadata": {},
   "outputs": [],
   "source": [
    "# category values: hh_type, hh_income (this one is fine because of the levels)\n",
    "# Encoding categorical data\n",
    "# encode variable: hh_type, sex, job_type, W_Zone\n",
    "\n",
    "# make X a numpy array of x\n",
    "X_W = x.iloc[:, 0]\n",
    "from sklearn.preprocessing import LabelEncoder, OneHotEncoder\n",
    "\n",
    "# W_Zone\n",
    "labelencoder_X_W = LabelEncoder()\n",
    "X_W = labelencoder_X_W.fit_transform(X_W)\n",
    "onehotencoder_X_W = OneHotEncoder(categorical_features = [0])\n",
    "X_W = onehotencoder_X_W.fit_transform(X_W.reshape(-1, 1)).toarray()\n",
    "# Dummy Variable trap\n",
    "X_W = X_W[:, 1:]\n",
    "# print(len(X_W[1]))"
   ]
  },
  {
   "cell_type": "code",
   "execution_count": 11,
   "metadata": {},
   "outputs": [],
   "source": [
    "# hh_type\n",
    "X_hh = x.iloc[:, 3]\n",
    "labelencoder_X_hh = LabelEncoder()\n",
    "X_hh = labelencoder_X_hh.fit_transform(X_hh)\n",
    "onehotencoder_hh = OneHotEncoder(categorical_features = [0])\n",
    "X_hh = onehotencoder_hh.fit_transform(X_hh.reshape(-1, 1)).toarray()\n",
    "# Dummy Variable trap\n",
    "X_hh = X_hh[:, 1:]"
   ]
  },
  {
   "cell_type": "code",
   "execution_count": 12,
   "metadata": {},
   "outputs": [],
   "source": [
    "# job_type\n",
    "X_job = x.iloc[:, 8]\n",
    "labelencoder_X_job = LabelEncoder()\n",
    "X_job = labelencoder_X_job.fit_transform(X_job)\n",
    "onehotencoder_X_job = OneHotEncoder(categorical_features = [0])\n",
    "X_job = onehotencoder_X_job.fit_transform(X_job.reshape(-1, 1)).toarray()\n",
    "# Dummy Variable trap\n",
    "X_job = X_job[:, 1:]"
   ]
  },
  {
   "cell_type": "code",
   "execution_count": 13,
   "metadata": {},
   "outputs": [],
   "source": [
    "# add the variables: \n",
    "X = x.values\n",
    "# for i, x1 in enumerate(X[0]):\n",
    "#     print(\"column %s\" %i, x1)\n",
    "# take out the three columns\n",
    "X = np.delete(X, 0, axis = 1)\n",
    "X = np.delete(X, 2, axis = 1)\n",
    "X = np.delete(X, 6, axis = 1)\n",
    "X = np.append(X, X_W, axis = 1)\n",
    "X = np.append(X, X_hh, axis = 1)\n",
    "X = np.append(X, X_job, axis = 1)\n"
   ]
  },
  {
   "cell_type": "code",
   "execution_count": 14,
   "metadata": {},
   "outputs": [
    {
     "data": {
      "text/plain": [
       "'\\nSummary:\\ncolumn 0: no_hh\\ncolumn 1: no_hh_chil\\ncolumn 2: hh_income\\ncolumn 3: no_car\\ncolumn 4: age\\ncolumn 5: sex\\ncolumn 6: work_lat\\ncolumn 7: work_lon\\ncolumn 8~1570: W_ZONE\\ncolumn 1571~1575: hh_type\\ncolumn 1576~1584: job_type\\n\\n'"
      ]
     },
     "execution_count": 14,
     "metadata": {},
     "output_type": "execute_result"
    }
   ],
   "source": [
    "'''\n",
    "Summary:\n",
    "column 0: no_hh\n",
    "column 1: no_hh_chil\n",
    "column 2: hh_income\n",
    "column 3: no_car\n",
    "column 4: age\n",
    "column 5: sex\n",
    "column 6: work_lat\n",
    "column 7: work_lon\n",
    "column 8~1570: W_ZONE\n",
    "column 1571~1575: hh_type\n",
    "column 1576~1584: job_type\n",
    "\n",
    "'''"
   ]
  },
  {
   "cell_type": "code",
   "execution_count": 15,
   "metadata": {},
   "outputs": [],
   "source": [
    "# Higher Dimensions\n",
    "# higher dimensions for continuous variables: hh_income, age, no_car, no_hh\n",
    "from sklearn.preprocessing import PolynomialFeatures\n",
    "\n",
    "# no_hh\n",
    "X_no_hh = X[:, 0]\n",
    "poly_reg_no_hh = PolynomialFeatures(degree = 4)\n",
    "X_no_hh = poly_reg_no_hh.fit_transform(X_no_hh.reshape(-1, 1))\n",
    "X_no_hh = np.delete(X_no_hh, 0, axis = 1)\n",
    "X_no_hh = np.delete(X_no_hh, 0, axis = 1)\n",
    "\n",
    "X = np.append(X, X_no_hh, axis = 1)\n"
   ]
  },
  {
   "cell_type": "code",
   "execution_count": 16,
   "metadata": {},
   "outputs": [
    {
     "data": {
      "text/plain": [
       "'\\ncolumn 1585~1587: poly no_hh\\n'"
      ]
     },
     "execution_count": 16,
     "metadata": {},
     "output_type": "execute_result"
    }
   ],
   "source": [
    "\n",
    "'''\n",
    "column 1585~1587: poly no_hh\n",
    "'''"
   ]
  },
  {
   "cell_type": "code",
   "execution_count": 17,
   "metadata": {},
   "outputs": [],
   "source": [
    "# hh_income\n",
    "X_hh_income = X[:, 2]\n",
    "poly_reg_hh_income = PolynomialFeatures(degree = 4)\n",
    "X_hh_income = poly_reg_hh_income.fit_transform(X_hh_income.reshape(-1, 1))\n",
    "X_hh_income = np.delete(X_hh_income, 0, axis = 1)\n",
    "X_hh_income = np.delete(X_hh_income, 0, axis = 1)\n",
    "\n",
    "X = np.append(X, X_hh_income, axis = 1)\n",
    "\n"
   ]
  },
  {
   "cell_type": "code",
   "execution_count": 18,
   "metadata": {},
   "outputs": [
    {
     "data": {
      "text/plain": [
       "'\\ncolumn 1588~1590: poly hh_income\\n'"
      ]
     },
     "execution_count": 18,
     "metadata": {},
     "output_type": "execute_result"
    }
   ],
   "source": [
    "'''\n",
    "column 1588~1590: poly hh_income\n",
    "'''"
   ]
  },
  {
   "cell_type": "code",
   "execution_count": 19,
   "metadata": {},
   "outputs": [],
   "source": [
    "# age\n",
    "X_age = X[:, 4]\n",
    "poly_reg_age = PolynomialFeatures(degree = 4)\n",
    "X_age = poly_reg_age.fit_transform(X_age.reshape(-1, 1))\n",
    "X_age = np.delete(X_age, 0, axis = 1)\n",
    "X_age = np.delete(X_age, 0, axis = 1)\n",
    "\n",
    "X = np.append(X, X_age, axis = 1)\n",
    "\n"
   ]
  },
  {
   "cell_type": "code",
   "execution_count": 20,
   "metadata": {},
   "outputs": [
    {
     "data": {
      "text/plain": [
       "'\\ncolumn 1591~1593: poly X_age\\n'"
      ]
     },
     "execution_count": 20,
     "metadata": {},
     "output_type": "execute_result"
    }
   ],
   "source": [
    "'''\n",
    "column 1591~1593: poly X_age\n",
    "'''"
   ]
  },
  {
   "cell_type": "code",
   "execution_count": 21,
   "metadata": {},
   "outputs": [],
   "source": [
    "# no_car\n",
    "X_no_car = X[:, 3]\n",
    "poly_reg_car = PolynomialFeatures(degree = 4)\n",
    "X_no_car = poly_reg_car.fit_transform(X_no_car.reshape(-1, 1))\n",
    "X_no_car = np.delete(X_no_car, 0, axis = 1)\n",
    "X_no_car = np.delete(X_no_car, 0, axis = 1)\n",
    "\n",
    "X = np.append(X, X_no_car, axis = 1)"
   ]
  },
  {
   "cell_type": "code",
   "execution_count": 22,
   "metadata": {},
   "outputs": [
    {
     "data": {
      "text/plain": [
       "'\\ncolumn 1594~1596: poly X_age\\n'"
      ]
     },
     "execution_count": 22,
     "metadata": {},
     "output_type": "execute_result"
    }
   ],
   "source": [
    "'''\n",
    "column 1594~1596: poly X_age\n",
    "'''"
   ]
  },
  {
   "cell_type": "code",
   "execution_count": 23,
   "metadata": {},
   "outputs": [
    {
     "data": {
      "text/html": [
       "<div>\n",
       "<style scoped>\n",
       "    .dataframe tbody tr th:only-of-type {\n",
       "        vertical-align: middle;\n",
       "    }\n",
       "\n",
       "    .dataframe tbody tr th {\n",
       "        vertical-align: top;\n",
       "    }\n",
       "\n",
       "    .dataframe thead th {\n",
       "        text-align: right;\n",
       "    }\n",
       "</style>\n",
       "<table border=\"1\" class=\"dataframe\">\n",
       "  <thead>\n",
       "    <tr style=\"text-align: right;\">\n",
       "      <th></th>\n",
       "      <th>house_lat</th>\n",
       "      <th>house_lon</th>\n",
       "    </tr>\n",
       "  </thead>\n",
       "  <tbody>\n",
       "    <tr>\n",
       "      <th>0</th>\n",
       "      <td>37.453952</td>\n",
       "      <td>126.716877</td>\n",
       "    </tr>\n",
       "    <tr>\n",
       "      <th>1</th>\n",
       "      <td>37.465845</td>\n",
       "      <td>126.717234</td>\n",
       "    </tr>\n",
       "    <tr>\n",
       "      <th>2</th>\n",
       "      <td>37.229621</td>\n",
       "      <td>127.284122</td>\n",
       "    </tr>\n",
       "    <tr>\n",
       "      <th>3</th>\n",
       "      <td>37.623500</td>\n",
       "      <td>127.083187</td>\n",
       "    </tr>\n",
       "    <tr>\n",
       "      <th>4</th>\n",
       "      <td>37.469676</td>\n",
       "      <td>126.644354</td>\n",
       "    </tr>\n",
       "  </tbody>\n",
       "</table>\n",
       "</div>"
      ],
      "text/plain": [
       "   house_lat   house_lon\n",
       "0  37.453952  126.716877\n",
       "1  37.465845  126.717234\n",
       "2  37.229621  127.284122\n",
       "3  37.623500  127.083187\n",
       "4  37.469676  126.644354"
      ]
     },
     "execution_count": 23,
     "metadata": {},
     "output_type": "execute_result"
    }
   ],
   "source": [
    "y = data.loc[:, [\"house_lat\", \"house_lon\"]]\n",
    "y.head()"
   ]
  },
  {
   "cell_type": "code",
   "execution_count": 24,
   "metadata": {},
   "outputs": [
    {
     "data": {
      "text/plain": [
       "house_lat    180\n",
       "house_lon    180\n",
       "dtype: int64"
      ]
     },
     "execution_count": 24,
     "metadata": {},
     "output_type": "execute_result"
    }
   ],
   "source": [
    "y.isnull().sum()"
   ]
  },
  {
   "cell_type": "code",
   "execution_count": 25,
   "metadata": {},
   "outputs": [],
   "source": [
    "# # Taking care of missing data\n",
    "# from sklearn.preprocessing import Imputer\n",
    "# imputer = Imputer(missing_values = 'NaN', strategy = 'mean', axis = 0)\n",
    "# imputer = imputer.fit(y)\n",
    "# y = imputer.transform(y)\n",
    "y = y.dropna()\n",
    "Y = y.values"
   ]
  },
  {
   "cell_type": "code",
   "execution_count": 27,
   "metadata": {},
   "outputs": [],
   "source": [
    "# Splitting the dataset into the Training set and Test set (original dataset for random forest and SVM)\n",
    "from sklearn.model_selection import train_test_split\n",
    "X_train, X_test, y_train, y_test = train_test_split(x_original, Y, test_size = 0.2, random_state = 0)"
   ]
  },
  {
   "cell_type": "code",
   "execution_count": 28,
   "metadata": {},
   "outputs": [],
   "source": [
    "# Feature Scaling (Standardization)\n",
    "from sklearn.preprocessing import StandardScaler\n",
    "sc = StandardScaler()\n",
    "X_train = sc.fit_transform(X_train)\n",
    "X_test = sc.transform(X_test)\n",
    "# Normalization\n",
    "# from sklearn.preprocessing import MinMaxScaler\n",
    "# sc = MinMaxScaler(feature_range = (0, 1))\n",
    "# X_train = sc.fit_transform(X_train)\n",
    "# X_test = sc.transform(X_test)"
   ]
  },
  {
   "cell_type": "code",
   "execution_count": 29,
   "metadata": {},
   "outputs": [
    {
     "data": {
      "text/plain": [
       "RandomForestRegressor(bootstrap=True, criterion='mse', max_depth=None,\n",
       "           max_features='auto', max_leaf_nodes=None,\n",
       "           min_impurity_decrease=0.0, min_impurity_split=None,\n",
       "           min_samples_leaf=1, min_samples_split=2,\n",
       "           min_weight_fraction_leaf=0.0, n_estimators=50, n_jobs=1,\n",
       "           oob_score=False, random_state=0, verbose=0, warm_start=False)"
      ]
     },
     "execution_count": 29,
     "metadata": {},
     "output_type": "execute_result"
    }
   ],
   "source": [
    "# Random Forest Regression\n",
    "# Fitting the Random Forest Regression Model to the dataset\n",
    "from sklearn.ensemble import RandomForestRegressor\n",
    "regressor = RandomForestRegressor(n_estimators = 50, random_state = 0)\n",
    "regressor.fit(X_train, y_train)"
   ]
  },
  {
   "cell_type": "code",
   "execution_count": 30,
   "metadata": {},
   "outputs": [],
   "source": [
    "y_pred = regressor.predict(X_test)"
   ]
  },
  {
   "cell_type": "code",
   "execution_count": 31,
   "metadata": {},
   "outputs": [],
   "source": [
    "prediction = pd.DataFrame({'house_lat': y_test[:, 0],'house_lon':y_test[:, 1],\n",
    "                            'house_lat (pred)': y_pred[:,0], 'house_lon (pred)': y_pred[:,1]})"
   ]
  },
  {
   "cell_type": "code",
   "execution_count": 32,
   "metadata": {},
   "outputs": [],
   "source": [
    "# accuracy based on distance\n",
    "def accuracy(pred):\n",
    "    sum_error = 0\n",
    "    for i in range(len(pred)):\n",
    "        deltax = pred.iloc[i][0]-pred.iloc[i][2]\n",
    "        deltay = pred.iloc[i][1]-pred.iloc[i][3]\n",
    "        error = (deltax**2 + deltay**2)**(0.5)\n",
    "        sum_error += error\n",
    "    return sum_error\n",
    "\n",
    "def ind_diff(pred):\n",
    "    diff = []\n",
    "    for i in range(len(pred)):\n",
    "        deltax = pred.iloc[i][0]-pred.iloc[i][2]\n",
    "        deltay = pred.iloc[i][1]-pred.iloc[i][3]\n",
    "        error = (deltax**2 + deltay**2)**(0.5)\n",
    "        diff.append(error)\n",
    "    return pd.DataFrame({'Difference': diff})\n"
   ]
  },
  {
   "cell_type": "code",
   "execution_count": 33,
   "metadata": {},
   "outputs": [
    {
     "data": {
      "text/plain": [
       "836.4854723538451"
      ]
     },
     "execution_count": 33,
     "metadata": {},
     "output_type": "execute_result"
    }
   ],
   "source": [
    "accuracy(prediction)"
   ]
  },
  {
   "cell_type": "code",
   "execution_count": 34,
   "metadata": {},
   "outputs": [],
   "source": [
    "difference = ind_diff(prediction)"
   ]
  },
  {
   "cell_type": "code",
   "execution_count": 35,
   "metadata": {},
   "outputs": [
    {
     "data": {
      "image/png": "[encoded data removed]",
      "text/plain": [
       "<Figure size 432x288 with 1 Axes>"
      ]
     },
     "metadata": {
      "needs_background": "light"
     },
     "output_type": "display_data"
    }
   ],
   "source": [
    "plt.scatter(y_test[:, 0], y_test[:, 1], color = \"red\", label = 'Actual')\n",
    "plt.scatter(y_pred[:, 0], y_pred[:, 1], color = \"blue\", label = 'Prediction')\n",
    "plt.title('Regression')\n",
    "plt.xlabel('Lat')\n",
    "plt.ylabel('Lon')\n",
    "plt.legend(loc='upper left')\n",
    "plt.show()"
   ]
  },
  {
   "cell_type": "code",
   "execution_count": 36,
   "metadata": {},
   "outputs": [
    {
     "data": {
      "text/plain": [
       "MultiOutputRegressor(estimator=SVR(C=1.0, cache_size=200, coef0=0.0, degree=3, epsilon=0.1, gamma='auto',\n",
       "  kernel='rbf', max_iter=-1, shrinking=True, tol=0.001, verbose=False),\n",
       "           n_jobs=1)"
      ]
     },
     "execution_count": 36,
     "metadata": {},
     "output_type": "execute_result"
    }
   ],
   "source": [
    "# SVR\n",
    "from sklearn.svm import SVR\n",
    "from sklearn.multioutput import MultiOutputRegressor\n",
    "\n",
    "Svr = SVR(kernel = 'rbf')\n",
    "regressor = MultiOutputRegressor(Svr)\n",
    "regressor.fit(X_train, y_train)"
   ]
  },
  {
   "cell_type": "code",
   "execution_count": 37,
   "metadata": {},
   "outputs": [],
   "source": [
    "y_pred = regressor.predict(X_test)"
   ]
  },
  {
   "cell_type": "code",
   "execution_count": 38,
   "metadata": {},
   "outputs": [],
   "source": [
    "prediction = pd.DataFrame({'house_lat': y_test[:, 0],'house_lon':y_test[:, 1],\n",
    "                            'house_lat (pred)': y_pred[:,0], 'house_lon (pred)': y_pred[:,1]})"
   ]
  },
  {
   "cell_type": "code",
   "execution_count": 39,
   "metadata": {},
   "outputs": [
    {
     "data": {
      "text/plain": [
       "910.4894551538027"
      ]
     },
     "execution_count": 39,
     "metadata": {},
     "output_type": "execute_result"
    }
   ],
   "source": [
    "accuracy(prediction)"
   ]
  },
  {
   "cell_type": "code",
   "execution_count": 40,
   "metadata": {},
   "outputs": [],
   "source": [
    "difference = ind_diff(prediction)"
   ]
  },
  {
   "cell_type": "code",
   "execution_count": 41,
   "metadata": {},
   "outputs": [
    {
     "data": {
      "text/html": [
       "<div>\n",
       "<style scoped>\n",
       "    .dataframe tbody tr th:only-of-type {\n",
       "        vertical-align: middle;\n",
       "    }\n",
       "\n",
       "    .dataframe tbody tr th {\n",
       "        vertical-align: top;\n",
       "    }\n",
       "\n",
       "    .dataframe thead th {\n",
       "        text-align: right;\n",
       "    }\n",
       "</style>\n",
       "<table border=\"1\" class=\"dataframe\">\n",
       "  <thead>\n",
       "    <tr style=\"text-align: right;\">\n",
       "      <th></th>\n",
       "      <th>Difference</th>\n",
       "    </tr>\n",
       "  </thead>\n",
       "  <tbody>\n",
       "    <tr>\n",
       "      <th>0</th>\n",
       "      <td>0.136940</td>\n",
       "    </tr>\n",
       "    <tr>\n",
       "      <th>1</th>\n",
       "      <td>0.100117</td>\n",
       "    </tr>\n",
       "    <tr>\n",
       "      <th>2</th>\n",
       "      <td>0.046069</td>\n",
       "    </tr>\n",
       "    <tr>\n",
       "      <th>3</th>\n",
       "      <td>0.328629</td>\n",
       "    </tr>\n",
       "    <tr>\n",
       "      <th>4</th>\n",
       "      <td>0.223993</td>\n",
       "    </tr>\n",
       "  </tbody>\n",
       "</table>\n",
       "</div>"
      ],
      "text/plain": [
       "   Difference\n",
       "0    0.136940\n",
       "1    0.100117\n",
       "2    0.046069\n",
       "3    0.328629\n",
       "4    0.223993"
      ]
     },
     "execution_count": 41,
     "metadata": {},
     "output_type": "execute_result"
    }
   ],
   "source": [
    "difference.head()"
   ]
  },
  {
   "cell_type": "code",
   "execution_count": 42,
   "metadata": {},
   "outputs": [
    {
     "data": {
      "image/png": "[encoded data removed]",
      "text/plain": [
       "<Figure size 432x288 with 1 Axes>"
      ]
     },
     "metadata": {
      "needs_background": "light"
     },
     "output_type": "display_data"
    }
   ],
   "source": [
    "plt.scatter(y_test[:, 0], y_test[:, 1], color = \"red\", label = 'Actual')\n",
    "plt.scatter(y_pred[:, 0], y_pred[:, 1], color = \"blue\", label = 'Prediction')\n",
    "plt.title('Regression')\n",
    "plt.xlabel('Lat')\n",
    "plt.ylabel('Lon')\n",
    "plt.legend(loc='upper left')\n",
    "plt.show()"
   ]
  },
  {
   "cell_type": "code",
   "execution_count": 43,
   "metadata": {},
   "outputs": [
    {
     "name": "stderr",
     "output_type": "stream",
     "text": [
      "Using TensorFlow backend.\n",
      "/usr/local/Cellar/python/3.6.5_1/Frameworks/Python.framework/Versions/3.6/lib/python3.6/importlib/_bootstrap.py:219: RuntimeWarning: compiletime version 3.5 of module 'tensorflow.python.framework.fast_tensor_util' does not match runtime version 3.6\n",
      "  return f(*args, **kwds)\n"
     ]
    }
   ],
   "source": [
    "# Importing the Keras libraries and packages\n",
    "import keras\n",
    "from keras.models import Sequential\n",
    "from keras.layers import Dense, Dropout"
   ]
  },
  {
   "cell_type": "code",
   "execution_count": 71,
   "metadata": {},
   "outputs": [
    {
     "name": "stdout",
     "output_type": "stream",
     "text": [
      "_________________________________________________________________\n",
      "Layer (type)                 Output Shape              Param #   \n",
      "=================================================================\n",
      "dense_9 (Dense)              (None, 32)                384       \n",
      "_________________________________________________________________\n",
      "dropout_7 (Dropout)          (None, 32)                0         \n",
      "_________________________________________________________________\n",
      "dense_10 (Dense)             (None, 64)                2112      \n",
      "_________________________________________________________________\n",
      "dropout_8 (Dropout)          (None, 64)                0         \n",
      "_________________________________________________________________\n",
      "dense_11 (Dense)             (None, 64)                4160      \n",
      "_________________________________________________________________\n",
      "dropout_9 (Dropout)          (None, 64)                0         \n",
      "_________________________________________________________________\n",
      "dense_12 (Dense)             (None, 2)                 130       \n",
      "=================================================================\n",
      "Total params: 6,786\n",
      "Trainable params: 6,786\n",
      "Non-trainable params: 0\n",
      "_________________________________________________________________\n"
     ]
    }
   ],
   "source": [
    "# Initialising the ANN\n",
    "regressor = Sequential()\n",
    "\n",
    "# Adding the input layer and the first hidden layer\n",
    "regressor.add(Dense(units = 32, kernel_initializer = 'uniform', activation = 'relu', input_dim = 11)) #1597 for X and 11 for x_original\n",
    "regressor.add(Dropout(0.2))\n",
    "\n",
    "# Adding the second hidden layer\n",
    "regressor.add(Dense(units = 64, kernel_initializer = 'uniform', activation = 'relu'))\n",
    "regressor.add(Dropout(0.2))\n",
    "\n",
    "# Adding the third hidden layer\n",
    "regressor.add(Dense(units = 64, kernel_initializer = 'uniform', activation = 'relu'))\n",
    "regressor.add(Dropout(0.2))\n",
    "\n",
    "# Adding the output layer\n",
    "regressor.add(Dense(units = 2, kernel_initializer = 'normal', activation = 'linear'))\n",
    "\n",
    "# Compiling the ANN\n",
    "sgd = keras.optimizers.SGD(lr=0.1, nesterov = True)\n",
    "regressor.compile(optimizer = sgd, loss = 'mean_squared_error', metrics = ['mae'])\n",
    "regressor.summary()"
   ]
  },
  {
   "cell_type": "code",
   "execution_count": 72,
   "metadata": {},
   "outputs": [],
   "source": [
    "# X_train, X_test, y_train, y_test = train_test_split(X, Y, test_size = 0.2, random_state = 0)\n",
    "# from sklearn.preprocessing import MinMaxScaler\n",
    "# sc = MinMaxScaler(feature_range = (0, 1))\n",
    "# X_train = sc.fit_transform(X_train)\n",
    "# X_test = sc.transform(X_test)"
   ]
  },
  {
   "cell_type": "code",
   "execution_count": 73,
   "metadata": {},
   "outputs": [],
   "source": [
    "Y_standardized = np.zeros((len(Y), 2))\n",
    "Y_standardized[:,0] = (Y[:,0] - np.mean(Y[:,0]))/ np.std(Y[:,0])\n",
    "Y_standardized[:,1] = (Y[:,1] - np.mean(Y[:,1]))/ np.std(Y[:,1])"
   ]
  },
  {
   "cell_type": "code",
   "execution_count": 74,
   "metadata": {},
   "outputs": [],
   "source": [
    "# processed dataset with dummy variables and polynomials as well as standardized outcomes\n",
    "X_train, X_test, y_train, y_test = train_test_split(x_original, Y_standardized, test_size = 0.2, random_state = 0)\n",
    "from sklearn.preprocessing import MinMaxScaler\n",
    "sc = MinMaxScaler(feature_range = (0, 1))\n",
    "X_train = sc.fit_transform(X_train)\n",
    "X_test = sc.transform(X_test)\n",
    "# sc = StandardScaler()\n",
    "# X_train = sc.fit_transform(X_train)\n",
    "# X_test = sc.transform(X_test)"
   ]
  },
  {
   "cell_type": "code",
   "execution_count": 76,
   "metadata": {
    "scrolled": true
   },
   "outputs": [
    {
     "name": "stdout",
     "output_type": "stream",
     "text": [
      "Epoch 1/250\n",
      "37342/37342 [==============================] - 1s 18us/step - loss: 0.2974 - mean_absolute_error: 0.3838\n",
      "Epoch 2/250\n",
      "37342/37342 [==============================] - 1s 17us/step - loss: 0.3017 - mean_absolute_error: 0.3852\n",
      "Epoch 3/250\n",
      "37342/37342 [==============================] - 1s 17us/step - loss: 0.3021 - mean_absolute_error: 0.3856\n",
      "Epoch 4/250\n",
      "37342/37342 [==============================] - 1s 20us/step - loss: 0.2988 - mean_absolute_error: 0.3833\n",
      "Epoch 5/250\n",
      "37342/37342 [==============================] - 1s 28us/step - loss: 0.3006 - mean_absolute_error: 0.3832\n",
      "Epoch 6/250\n",
      "37342/37342 [==============================] - 1s 27us/step - loss: 0.2969 - mean_absolute_error: 0.3818\n",
      "Epoch 7/250\n",
      "37342/37342 [==============================] - 1s 23us/step - loss: 0.2981 - mean_absolute_error: 0.3821\n",
      "Epoch 8/250\n",
      "37342/37342 [==============================] - 1s 19us/step - loss: 0.3006 - mean_absolute_error: 0.3836\n",
      "Epoch 9/250\n",
      "37342/37342 [==============================] - 1s 19us/step - loss: 0.2971 - mean_absolute_error: 0.3820\n",
      "Epoch 10/250\n",
      "37342/37342 [==============================] - 1s 28us/step - loss: 0.2957 - mean_absolute_error: 0.3815\n",
      "Epoch 11/250\n",
      "37342/37342 [==============================] - 1s 35us/step - loss: 0.2955 - mean_absolute_error: 0.3815\n",
      "Epoch 12/250\n",
      "37342/37342 [==============================] - 1s 27us/step - loss: 0.2952 - mean_absolute_error: 0.3803\n",
      "Epoch 13/250\n",
      "37342/37342 [==============================] - 1s 25us/step - loss: 0.3004 - mean_absolute_error: 0.3832\n",
      "Epoch 14/250\n",
      "37342/37342 [==============================] - 1s 19us/step - loss: 0.2947 - mean_absolute_error: 0.3803\n",
      "Epoch 15/250\n",
      "37342/37342 [==============================] - 1s 26us/step - loss: 0.2945 - mean_absolute_error: 0.3797\n",
      "Epoch 16/250\n",
      "37342/37342 [==============================] - 1s 26us/step - loss: 0.2936 - mean_absolute_error: 0.3797\n",
      "Epoch 17/250\n",
      "37342/37342 [==============================] - 1s 27us/step - loss: 0.2939 - mean_absolute_error: 0.3801\n",
      "Epoch 18/250\n",
      "37342/37342 [==============================] - 1s 28us/step - loss: 0.2934 - mean_absolute_error: 0.3794\n",
      "Epoch 19/250\n",
      "37342/37342 [==============================] - 1s 32us/step - loss: 0.2934 - mean_absolute_error: 0.3793\n",
      "Epoch 20/250\n",
      "37342/37342 [==============================] - 1s 22us/step - loss: 0.2949 - mean_absolute_error: 0.3811\n",
      "Epoch 21/250\n",
      "37342/37342 [==============================] - 1s 33us/step - loss: 0.2953 - mean_absolute_error: 0.3791\n",
      "Epoch 22/250\n",
      "37342/37342 [==============================] - 1s 27us/step - loss: 0.2941 - mean_absolute_error: 0.3791: 0s - loss: 0.2952 - mean_absolute_error: 0.379\n",
      "Epoch 23/250\n",
      "37342/37342 [==============================] - 1s 25us/step - loss: 0.2910 - mean_absolute_error: 0.3770\n",
      "Epoch 24/250\n",
      "37342/37342 [==============================] - 1s 30us/step - loss: 0.2913 - mean_absolute_error: 0.3780\n",
      "Epoch 25/250\n",
      "37342/37342 [==============================] - 1s 20us/step - loss: 0.2908 - mean_absolute_error: 0.3778\n",
      "Epoch 26/250\n",
      "37342/37342 [==============================] - 1s 17us/step - loss: 0.2939 - mean_absolute_error: 0.3799\n",
      "Epoch 27/250\n",
      "37342/37342 [==============================] - 1s 34us/step - loss: 0.2927 - mean_absolute_error: 0.3787\n",
      "Epoch 28/250\n",
      "37342/37342 [==============================] - 1s 23us/step - loss: 0.2927 - mean_absolute_error: 0.3775\n",
      "Epoch 29/250\n",
      "37342/37342 [==============================] - 1s 23us/step - loss: 0.2920 - mean_absolute_error: 0.3778\n",
      "Epoch 30/250\n",
      "37342/37342 [==============================] - 1s 22us/step - loss: 0.2899 - mean_absolute_error: 0.3759\n",
      "Epoch 31/250\n",
      "37342/37342 [==============================] - 1s 21us/step - loss: 0.2908 - mean_absolute_error: 0.3765\n",
      "Epoch 32/250\n",
      "37342/37342 [==============================] - 1s 21us/step - loss: 0.2913 - mean_absolute_error: 0.3763\n",
      "Epoch 33/250\n",
      "37342/37342 [==============================] - 1s 25us/step - loss: 0.2895 - mean_absolute_error: 0.3756\n",
      "Epoch 34/250\n",
      "37342/37342 [==============================] - 1s 21us/step - loss: 0.2905 - mean_absolute_error: 0.3766: 0s - loss: 0.2908 - mean_absolute_error: 0.37\n",
      "Epoch 35/250\n",
      "37342/37342 [==============================] - 1s 19us/step - loss: 0.2912 - mean_absolute_error: 0.3764\n",
      "Epoch 36/250\n",
      "37342/37342 [==============================] - 1s 19us/step - loss: 0.2909 - mean_absolute_error: 0.3761\n",
      "Epoch 37/250\n",
      "37342/37342 [==============================] - 1s 18us/step - loss: 0.2885 - mean_absolute_error: 0.3751\n",
      "Epoch 38/250\n",
      "37342/37342 [==============================] - 1s 17us/step - loss: 0.2890 - mean_absolute_error: 0.3752\n",
      "Epoch 39/250\n",
      "37342/37342 [==============================] - 1s 18us/step - loss: 0.2901 - mean_absolute_error: 0.3758\n",
      "Epoch 40/250\n",
      "37342/37342 [==============================] - 1s 25us/step - loss: 0.2894 - mean_absolute_error: 0.3753\n",
      "Epoch 41/250\n",
      "37342/37342 [==============================] - 1s 21us/step - loss: 0.2883 - mean_absolute_error: 0.3747\n",
      "Epoch 42/250\n",
      "37342/37342 [==============================] - 1s 21us/step - loss: 0.2901 - mean_absolute_error: 0.3754\n",
      "Epoch 43/250\n",
      "37342/37342 [==============================] - 1s 20us/step - loss: 0.2892 - mean_absolute_error: 0.3748\n",
      "Epoch 44/250\n",
      "37342/37342 [==============================] - 1s 19us/step - loss: 0.2901 - mean_absolute_error: 0.3758\n",
      "Epoch 45/250\n",
      "37342/37342 [==============================] - 1s 18us/step - loss: 0.2889 - mean_absolute_error: 0.3756: 0s - loss: 0.2859 - mean_absolute_error: 0.\n",
      "Epoch 46/250\n",
      "37342/37342 [==============================] - 1s 18us/step - loss: 0.2886 - mean_absolute_error: 0.3740\n",
      "Epoch 47/250\n",
      "37342/37342 [==============================] - 1s 17us/step - loss: 0.2876 - mean_absolute_error: 0.3740\n",
      "Epoch 48/250\n",
      "37342/37342 [==============================] - 1s 20us/step - loss: 0.2898 - mean_absolute_error: 0.3753\n",
      "Epoch 49/250\n",
      "37342/37342 [==============================] - 1s 20us/step - loss: 0.2864 - mean_absolute_error: 0.3735\n",
      "Epoch 50/250\n",
      "37342/37342 [==============================] - 1s 19us/step - loss: 0.2881 - mean_absolute_error: 0.3741\n",
      "Epoch 51/250\n",
      "37342/37342 [==============================] - 1s 18us/step - loss: 0.2880 - mean_absolute_error: 0.3739\n",
      "Epoch 52/250\n",
      "37342/37342 [==============================] - 1s 20us/step - loss: 0.2879 - mean_absolute_error: 0.3742\n",
      "Epoch 53/250\n",
      "37342/37342 [==============================] - 1s 19us/step - loss: 0.2878 - mean_absolute_error: 0.3731\n",
      "Epoch 54/250\n",
      "37342/37342 [==============================] - 1s 22us/step - loss: 0.2858 - mean_absolute_error: 0.3728\n",
      "Epoch 55/250\n",
      "37342/37342 [==============================] - 1s 17us/step - loss: 0.2865 - mean_absolute_error: 0.3729\n",
      "Epoch 56/250\n",
      "37342/37342 [==============================] - 1s 17us/step - loss: 0.2870 - mean_absolute_error: 0.3723\n",
      "Epoch 57/250\n",
      "37342/37342 [==============================] - 1s 18us/step - loss: 0.2864 - mean_absolute_error: 0.3731\n",
      "Epoch 58/250\n",
      "37342/37342 [==============================] - 1s 19us/step - loss: 0.2853 - mean_absolute_error: 0.3712\n",
      "Epoch 59/250\n",
      "37342/37342 [==============================] - 1s 30us/step - loss: 0.2845 - mean_absolute_error: 0.3715\n",
      "Epoch 60/250\n",
      "37342/37342 [==============================] - 1s 27us/step - loss: 0.2850 - mean_absolute_error: 0.3708\n",
      "Epoch 61/250\n",
      "37342/37342 [==============================] - 1s 19us/step - loss: 0.2849 - mean_absolute_error: 0.3714\n",
      "Epoch 62/250\n",
      "37342/37342 [==============================] - 1s 23us/step - loss: 0.2855 - mean_absolute_error: 0.3716\n",
      "Epoch 63/250\n",
      "37342/37342 [==============================] - 1s 19us/step - loss: 0.2851 - mean_absolute_error: 0.3719\n",
      "Epoch 64/250\n",
      "37342/37342 [==============================] - 1s 18us/step - loss: 0.2866 - mean_absolute_error: 0.3729\n",
      "Epoch 65/250\n",
      "37342/37342 [==============================] - 1s 22us/step - loss: 0.2850 - mean_absolute_error: 0.3712\n",
      "Epoch 66/250\n",
      "37342/37342 [==============================] - 1s 29us/step - loss: 0.2864 - mean_absolute_error: 0.3717\n",
      "Epoch 67/250\n",
      "37342/37342 [==============================] - 1s 29us/step - loss: 0.2856 - mean_absolute_error: 0.3725\n",
      "Epoch 68/250\n",
      "37342/37342 [==============================] - 1s 23us/step - loss: 0.2853 - mean_absolute_error: 0.3720\n",
      "Epoch 69/250\n"
     ]
    },
    {
     "name": "stdout",
     "output_type": "stream",
     "text": [
      "37342/37342 [==============================] - 1s 23us/step - loss: 0.2867 - mean_absolute_error: 0.3718\n",
      "Epoch 70/250\n",
      "37342/37342 [==============================] - 1s 19us/step - loss: 0.2865 - mean_absolute_error: 0.3726\n",
      "Epoch 71/250\n",
      "37342/37342 [==============================] - 1s 16us/step - loss: 0.2835 - mean_absolute_error: 0.3707\n",
      "Epoch 72/250\n",
      "37342/37342 [==============================] - 1s 25us/step - loss: 0.2883 - mean_absolute_error: 0.3724\n",
      "Epoch 73/250\n",
      "37342/37342 [==============================] - 1s 22us/step - loss: 0.2861 - mean_absolute_error: 0.3724\n",
      "Epoch 74/250\n",
      "37342/37342 [==============================] - 1s 23us/step - loss: 0.2857 - mean_absolute_error: 0.3715\n",
      "Epoch 75/250\n",
      "37342/37342 [==============================] - 1s 18us/step - loss: 0.2837 - mean_absolute_error: 0.3704\n",
      "Epoch 76/250\n",
      "37342/37342 [==============================] - 1s 26us/step - loss: 0.2836 - mean_absolute_error: 0.3700\n",
      "Epoch 77/250\n",
      "37342/37342 [==============================] - 1s 21us/step - loss: 0.2862 - mean_absolute_error: 0.3719\n",
      "Epoch 78/250\n",
      "37342/37342 [==============================] - 1s 28us/step - loss: 0.2843 - mean_absolute_error: 0.3712\n",
      "Epoch 79/250\n",
      "37342/37342 [==============================] - 1s 25us/step - loss: 0.2849 - mean_absolute_error: 0.3711\n",
      "Epoch 80/250\n",
      "37342/37342 [==============================] - 1s 22us/step - loss: 0.2857 - mean_absolute_error: 0.3712\n",
      "Epoch 81/250\n",
      "37342/37342 [==============================] - 1s 22us/step - loss: 0.2821 - mean_absolute_error: 0.3694\n",
      "Epoch 82/250\n",
      "37342/37342 [==============================] - 1s 27us/step - loss: 0.2834 - mean_absolute_error: 0.3706\n",
      "Epoch 83/250\n",
      "37342/37342 [==============================] - 1s 24us/step - loss: 0.2826 - mean_absolute_error: 0.3691\n",
      "Epoch 84/250\n",
      "37342/37342 [==============================] - 1s 23us/step - loss: 0.2844 - mean_absolute_error: 0.3703\n",
      "Epoch 85/250\n",
      "37342/37342 [==============================] - 1s 23us/step - loss: 0.2842 - mean_absolute_error: 0.3706\n",
      "Epoch 86/250\n",
      "37342/37342 [==============================] - 1s 24us/step - loss: 0.2830 - mean_absolute_error: 0.3705\n",
      "Epoch 87/250\n",
      "37342/37342 [==============================] - 1s 23us/step - loss: 0.2833 - mean_absolute_error: 0.3696\n",
      "Epoch 88/250\n",
      "37342/37342 [==============================] - 1s 18us/step - loss: 0.2837 - mean_absolute_error: 0.3695\n",
      "Epoch 89/250\n",
      "37342/37342 [==============================] - 1s 17us/step - loss: 0.2816 - mean_absolute_error: 0.3689\n",
      "Epoch 90/250\n",
      "37342/37342 [==============================] - 1s 17us/step - loss: 0.2837 - mean_absolute_error: 0.3713\n",
      "Epoch 91/250\n",
      "37342/37342 [==============================] - 1s 18us/step - loss: 0.2817 - mean_absolute_error: 0.3684\n",
      "Epoch 92/250\n",
      "37342/37342 [==============================] - 1s 27us/step - loss: 0.2825 - mean_absolute_error: 0.3694\n",
      "Epoch 93/250\n",
      "37342/37342 [==============================] - 1s 20us/step - loss: 0.2808 - mean_absolute_error: 0.3683\n",
      "Epoch 94/250\n",
      "37342/37342 [==============================] - 1s 18us/step - loss: 0.2815 - mean_absolute_error: 0.3688\n",
      "Epoch 95/250\n",
      "37342/37342 [==============================] - 1s 18us/step - loss: 0.2832 - mean_absolute_error: 0.3694\n",
      "Epoch 96/250\n",
      "37342/37342 [==============================] - 1s 18us/step - loss: 0.2825 - mean_absolute_error: 0.3692\n",
      "Epoch 97/250\n",
      "37342/37342 [==============================] - 1s 18us/step - loss: 0.2835 - mean_absolute_error: 0.3694\n",
      "Epoch 98/250\n",
      "37342/37342 [==============================] - 1s 18us/step - loss: 0.2833 - mean_absolute_error: 0.3701\n",
      "Epoch 99/250\n",
      "37342/37342 [==============================] - 1s 18us/step - loss: 0.2817 - mean_absolute_error: 0.3686\n",
      "Epoch 100/250\n",
      "37342/37342 [==============================] - 1s 18us/step - loss: 0.2819 - mean_absolute_error: 0.3684\n",
      "Epoch 101/250\n",
      "37342/37342 [==============================] - 1s 18us/step - loss: 0.2829 - mean_absolute_error: 0.3696\n",
      "Epoch 102/250\n",
      "37342/37342 [==============================] - 1s 17us/step - loss: 0.2808 - mean_absolute_error: 0.3674\n",
      "Epoch 103/250\n",
      "37342/37342 [==============================] - 1s 18us/step - loss: 0.2807 - mean_absolute_error: 0.3681\n",
      "Epoch 104/250\n",
      "37342/37342 [==============================] - 1s 18us/step - loss: 0.2811 - mean_absolute_error: 0.3677\n",
      "Epoch 105/250\n",
      "37342/37342 [==============================] - 1s 18us/step - loss: 0.2808 - mean_absolute_error: 0.3675\n",
      "Epoch 106/250\n",
      "37342/37342 [==============================] - 1s 18us/step - loss: 0.2792 - mean_absolute_error: 0.3676\n",
      "Epoch 107/250\n",
      "37342/37342 [==============================] - 1s 18us/step - loss: 0.2795 - mean_absolute_error: 0.3669\n",
      "Epoch 108/250\n",
      "37342/37342 [==============================] - 1s 17us/step - loss: 0.2805 - mean_absolute_error: 0.3677\n",
      "Epoch 109/250\n",
      "37342/37342 [==============================] - 1s 17us/step - loss: 0.2812 - mean_absolute_error: 0.3683\n",
      "Epoch 110/250\n",
      "37342/37342 [==============================] - 1s 19us/step - loss: 0.2801 - mean_absolute_error: 0.3679\n",
      "Epoch 111/250\n",
      "37342/37342 [==============================] - 1s 20us/step - loss: 0.2810 - mean_absolute_error: 0.3691\n",
      "Epoch 112/250\n",
      "37342/37342 [==============================] - 1s 21us/step - loss: 0.2817 - mean_absolute_error: 0.3681\n",
      "Epoch 113/250\n",
      "37342/37342 [==============================] - 1s 21us/step - loss: 0.2796 - mean_absolute_error: 0.3668\n",
      "Epoch 114/250\n",
      "37342/37342 [==============================] - 1s 22us/step - loss: 0.2819 - mean_absolute_error: 0.3681\n",
      "Epoch 115/250\n",
      "37342/37342 [==============================] - 1s 20us/step - loss: 0.2813 - mean_absolute_error: 0.3676\n",
      "Epoch 116/250\n",
      "37342/37342 [==============================] - 1s 19us/step - loss: 0.2804 - mean_absolute_error: 0.3674\n",
      "Epoch 117/250\n",
      "37342/37342 [==============================] - 1s 19us/step - loss: 0.2798 - mean_absolute_error: 0.3667\n",
      "Epoch 118/250\n",
      "37342/37342 [==============================] - 1s 19us/step - loss: 0.2800 - mean_absolute_error: 0.3680\n",
      "Epoch 119/250\n",
      "37342/37342 [==============================] - 1s 18us/step - loss: 0.2798 - mean_absolute_error: 0.3673\n",
      "Epoch 120/250\n",
      "37342/37342 [==============================] - 1s 18us/step - loss: 0.2813 - mean_absolute_error: 0.3688\n",
      "Epoch 121/250\n",
      "37342/37342 [==============================] - 1s 20us/step - loss: 0.2819 - mean_absolute_error: 0.3684\n",
      "Epoch 122/250\n",
      "37342/37342 [==============================] - 1s 17us/step - loss: 0.2788 - mean_absolute_error: 0.3666\n",
      "Epoch 123/250\n",
      "37342/37342 [==============================] - 1s 18us/step - loss: 0.2781 - mean_absolute_error: 0.3662\n",
      "Epoch 124/250\n",
      "37342/37342 [==============================] - 1s 18us/step - loss: 0.2776 - mean_absolute_error: 0.3658\n",
      "Epoch 125/250\n",
      "37342/37342 [==============================] - 1s 21us/step - loss: 0.2796 - mean_absolute_error: 0.3665\n",
      "Epoch 126/250\n",
      "37342/37342 [==============================] - 1s 20us/step - loss: 0.2818 - mean_absolute_error: 0.3677\n",
      "Epoch 127/250\n",
      "37342/37342 [==============================] - 1s 20us/step - loss: 0.2817 - mean_absolute_error: 0.3674\n",
      "Epoch 128/250\n",
      "37342/37342 [==============================] - 1s 20us/step - loss: 0.2812 - mean_absolute_error: 0.3678\n",
      "Epoch 129/250\n",
      "37342/37342 [==============================] - 1s 19us/step - loss: 0.2796 - mean_absolute_error: 0.3666\n",
      "Epoch 130/250\n",
      "37342/37342 [==============================] - 1s 19us/step - loss: 0.2787 - mean_absolute_error: 0.3665: 0s - loss: 0.2780 - mean_absolute_error: 0.36\n",
      "Epoch 131/250\n",
      "37342/37342 [==============================] - 1s 24us/step - loss: 0.2815 - mean_absolute_error: 0.3672\n",
      "Epoch 132/250\n",
      "37342/37342 [==============================] - 1s 21us/step - loss: 0.2811 - mean_absolute_error: 0.3679: 0s - loss: 0.2822 - mean_absolute_err\n",
      "Epoch 133/250\n",
      "37342/37342 [==============================] - 1s 20us/step - loss: 0.2786 - mean_absolute_error: 0.3662\n",
      "Epoch 134/250\n",
      "37342/37342 [==============================] - 1s 19us/step - loss: 0.2803 - mean_absolute_error: 0.3669\n",
      "Epoch 135/250\n",
      "37342/37342 [==============================] - 1s 19us/step - loss: 0.2812 - mean_absolute_error: 0.3674\n",
      "Epoch 136/250\n",
      "37342/37342 [==============================] - 1s 19us/step - loss: 0.2791 - mean_absolute_error: 0.3659\n",
      "Epoch 137/250\n"
     ]
    },
    {
     "name": "stdout",
     "output_type": "stream",
     "text": [
      "37342/37342 [==============================] - 1s 17us/step - loss: 0.2804 - mean_absolute_error: 0.3667\n",
      "Epoch 138/250\n",
      "37342/37342 [==============================] - 1s 17us/step - loss: 0.2779 - mean_absolute_error: 0.3657\n",
      "Epoch 139/250\n",
      "37342/37342 [==============================] - 1s 19us/step - loss: 0.2785 - mean_absolute_error: 0.3667\n",
      "Epoch 140/250\n",
      "37342/37342 [==============================] - 1s 16us/step - loss: 0.2769 - mean_absolute_error: 0.3657\n",
      "Epoch 141/250\n",
      "37342/37342 [==============================] - 1s 17us/step - loss: 0.2800 - mean_absolute_error: 0.3664\n",
      "Epoch 142/250\n",
      "37342/37342 [==============================] - 1s 16us/step - loss: 0.2784 - mean_absolute_error: 0.3655\n",
      "Epoch 143/250\n",
      "37342/37342 [==============================] - 1s 16us/step - loss: 0.2782 - mean_absolute_error: 0.3661\n",
      "Epoch 144/250\n",
      "37342/37342 [==============================] - 1s 16us/step - loss: 0.2779 - mean_absolute_error: 0.3655\n",
      "Epoch 145/250\n",
      "37342/37342 [==============================] - 1s 15us/step - loss: 0.2777 - mean_absolute_error: 0.3652\n",
      "Epoch 146/250\n",
      "37342/37342 [==============================] - 1s 18us/step - loss: 0.2811 - mean_absolute_error: 0.3669\n",
      "Epoch 147/250\n",
      "37342/37342 [==============================] - 1s 18us/step - loss: 0.2763 - mean_absolute_error: 0.3651\n",
      "Epoch 148/250\n",
      "37342/37342 [==============================] - 1s 17us/step - loss: 0.2783 - mean_absolute_error: 0.3656\n",
      "Epoch 149/250\n",
      "37342/37342 [==============================] - 1s 17us/step - loss: 0.2772 - mean_absolute_error: 0.3650\n",
      "Epoch 150/250\n",
      "37342/37342 [==============================] - 1s 18us/step - loss: 0.2800 - mean_absolute_error: 0.3669: 0s - loss: 0.2805 - mean_absolute_error: 0.36\n",
      "Epoch 151/250\n",
      "37342/37342 [==============================] - 1s 17us/step - loss: 0.2796 - mean_absolute_error: 0.3667\n",
      "Epoch 152/250\n",
      "37342/37342 [==============================] - 1s 16us/step - loss: 0.2790 - mean_absolute_error: 0.3660\n",
      "Epoch 153/250\n",
      "37342/37342 [==============================] - 1s 18us/step - loss: 0.2790 - mean_absolute_error: 0.3672\n",
      "Epoch 154/250\n",
      "37342/37342 [==============================] - 1s 17us/step - loss: 0.2787 - mean_absolute_error: 0.3662\n",
      "Epoch 155/250\n",
      "37342/37342 [==============================] - 1s 17us/step - loss: 0.2778 - mean_absolute_error: 0.3654\n",
      "Epoch 156/250\n",
      "37342/37342 [==============================] - 1s 16us/step - loss: 0.2785 - mean_absolute_error: 0.3662\n",
      "Epoch 157/250\n",
      "37342/37342 [==============================] - 1s 16us/step - loss: 0.2784 - mean_absolute_error: 0.3658\n",
      "Epoch 158/250\n",
      "37342/37342 [==============================] - 1s 17us/step - loss: 0.2783 - mean_absolute_error: 0.3659\n",
      "Epoch 159/250\n",
      "37342/37342 [==============================] - 1s 16us/step - loss: 0.2779 - mean_absolute_error: 0.3661\n",
      "Epoch 160/250\n",
      "37342/37342 [==============================] - 1s 21us/step - loss: 0.2782 - mean_absolute_error: 0.3650\n",
      "Epoch 161/250\n",
      "37342/37342 [==============================] - 1s 26us/step - loss: 0.2782 - mean_absolute_error: 0.3647: 0s - loss: 0.2753 - mean_absolute_err\n",
      "Epoch 162/250\n",
      "37342/37342 [==============================] - 1s 25us/step - loss: 0.2769 - mean_absolute_error: 0.3651\n",
      "Epoch 163/250\n",
      "37342/37342 [==============================] - 1s 24us/step - loss: 0.2777 - mean_absolute_error: 0.3655\n",
      "Epoch 164/250\n",
      "37342/37342 [==============================] - 1s 29us/step - loss: 0.2771 - mean_absolute_error: 0.3643\n",
      "Epoch 165/250\n",
      "37342/37342 [==============================] - 1s 21us/step - loss: 0.2772 - mean_absolute_error: 0.3654\n",
      "Epoch 166/250\n",
      "37342/37342 [==============================] - 1s 28us/step - loss: 0.2793 - mean_absolute_error: 0.3664: 0s - loss: 0.2791 - mean_absolute_error: 0.3\n",
      "Epoch 167/250\n",
      "37342/37342 [==============================] - 1s 30us/step - loss: 0.2778 - mean_absolute_error: 0.3655\n",
      "Epoch 168/250\n",
      "37342/37342 [==============================] - 1s 19us/step - loss: 0.2792 - mean_absolute_error: 0.3653\n",
      "Epoch 169/250\n",
      "37342/37342 [==============================] - 1s 18us/step - loss: 0.2775 - mean_absolute_error: 0.3651\n",
      "Epoch 170/250\n",
      "37342/37342 [==============================] - 1s 18us/step - loss: 0.2764 - mean_absolute_error: 0.3649\n",
      "Epoch 171/250\n",
      "37342/37342 [==============================] - 1s 21us/step - loss: 0.2766 - mean_absolute_error: 0.3645\n",
      "Epoch 172/250\n",
      "37342/37342 [==============================] - 1s 20us/step - loss: 0.2782 - mean_absolute_error: 0.3649\n",
      "Epoch 173/250\n",
      "37342/37342 [==============================] - 1s 18us/step - loss: 0.2775 - mean_absolute_error: 0.3645\n",
      "Epoch 174/250\n",
      "37342/37342 [==============================] - 1s 19us/step - loss: 0.2787 - mean_absolute_error: 0.3652\n",
      "Epoch 175/250\n",
      "37342/37342 [==============================] - 1s 23us/step - loss: 0.2780 - mean_absolute_error: 0.3659\n",
      "Epoch 176/250\n",
      "37342/37342 [==============================] - 1s 23us/step - loss: 0.2762 - mean_absolute_error: 0.3641\n",
      "Epoch 177/250\n",
      "37342/37342 [==============================] - 1s 24us/step - loss: 0.2775 - mean_absolute_error: 0.3646\n",
      "Epoch 178/250\n",
      "37342/37342 [==============================] - 1s 28us/step - loss: 0.2777 - mean_absolute_error: 0.3649\n",
      "Epoch 179/250\n",
      "37342/37342 [==============================] - 1s 25us/step - loss: 0.2774 - mean_absolute_error: 0.3650\n",
      "Epoch 180/250\n",
      "37342/37342 [==============================] - 1s 22us/step - loss: 0.2777 - mean_absolute_error: 0.3648\n",
      "Epoch 181/250\n",
      "37342/37342 [==============================] - 1s 24us/step - loss: 0.2778 - mean_absolute_error: 0.3655\n",
      "Epoch 182/250\n",
      "37342/37342 [==============================] - 1s 24us/step - loss: 0.2766 - mean_absolute_error: 0.3647\n",
      "Epoch 183/250\n",
      "37342/37342 [==============================] - 1s 22us/step - loss: 0.2778 - mean_absolute_error: 0.3651\n",
      "Epoch 184/250\n",
      "37342/37342 [==============================] - 1s 22us/step - loss: 0.2772 - mean_absolute_error: 0.3640\n",
      "Epoch 185/250\n",
      "37342/37342 [==============================] - 1s 21us/step - loss: 0.2766 - mean_absolute_error: 0.3635\n",
      "Epoch 186/250\n",
      "37342/37342 [==============================] - 1s 21us/step - loss: 0.2759 - mean_absolute_error: 0.3639\n",
      "Epoch 187/250\n",
      "37342/37342 [==============================] - 1s 21us/step - loss: 0.2764 - mean_absolute_error: 0.3644\n",
      "Epoch 188/250\n",
      "37342/37342 [==============================] - 1s 19us/step - loss: 0.2771 - mean_absolute_error: 0.3645\n",
      "Epoch 189/250\n",
      "37342/37342 [==============================] - 1s 20us/step - loss: 0.2743 - mean_absolute_error: 0.3631\n",
      "Epoch 190/250\n",
      "37342/37342 [==============================] - 1s 21us/step - loss: 0.2767 - mean_absolute_error: 0.3643\n",
      "Epoch 191/250\n",
      "37342/37342 [==============================] - 1s 20us/step - loss: 0.2770 - mean_absolute_error: 0.3646\n",
      "Epoch 192/250\n",
      "37342/37342 [==============================] - 1s 21us/step - loss: 0.2771 - mean_absolute_error: 0.3643\n",
      "Epoch 193/250\n",
      "37342/37342 [==============================] - 1s 22us/step - loss: 0.2758 - mean_absolute_error: 0.3633\n",
      "Epoch 194/250\n",
      "37342/37342 [==============================] - 1s 20us/step - loss: 0.2774 - mean_absolute_error: 0.3650\n",
      "Epoch 195/250\n",
      "37342/37342 [==============================] - 1s 21us/step - loss: 0.2756 - mean_absolute_error: 0.3638\n",
      "Epoch 196/250\n",
      "37342/37342 [==============================] - 1s 24us/step - loss: 0.2767 - mean_absolute_error: 0.3641\n",
      "Epoch 197/250\n",
      "37342/37342 [==============================] - 1s 23us/step - loss: 0.2769 - mean_absolute_error: 0.3647\n",
      "Epoch 198/250\n",
      "37342/37342 [==============================] - 1s 19us/step - loss: 0.2766 - mean_absolute_error: 0.3640\n",
      "Epoch 199/250\n",
      "37342/37342 [==============================] - 1s 16us/step - loss: 0.2750 - mean_absolute_error: 0.3638\n",
      "Epoch 200/250\n",
      "37342/37342 [==============================] - 1s 18us/step - loss: 0.2761 - mean_absolute_error: 0.3634\n",
      "Epoch 201/250\n",
      "37342/37342 [==============================] - 1s 20us/step - loss: 0.2753 - mean_absolute_error: 0.3633\n",
      "Epoch 202/250\n",
      "37342/37342 [==============================] - 1s 18us/step - loss: 0.2750 - mean_absolute_error: 0.3636\n",
      "Epoch 203/250\n",
      "37342/37342 [==============================] - 1s 21us/step - loss: 0.2769 - mean_absolute_error: 0.3644\n",
      "Epoch 204/250\n"
     ]
    },
    {
     "name": "stdout",
     "output_type": "stream",
     "text": [
      "37342/37342 [==============================] - 1s 18us/step - loss: 0.2766 - mean_absolute_error: 0.3642\n",
      "Epoch 205/250\n",
      "37342/37342 [==============================] - 1s 18us/step - loss: 0.2740 - mean_absolute_error: 0.3630\n",
      "Epoch 206/250\n",
      "37342/37342 [==============================] - 1s 16us/step - loss: 0.2766 - mean_absolute_error: 0.3642\n",
      "Epoch 207/250\n",
      "37342/37342 [==============================] - 1s 15us/step - loss: 0.2766 - mean_absolute_error: 0.3640\n",
      "Epoch 208/250\n",
      "37342/37342 [==============================] - 1s 16us/step - loss: 0.2773 - mean_absolute_error: 0.3640\n",
      "Epoch 209/250\n",
      "37342/37342 [==============================] - 1s 21us/step - loss: 0.2754 - mean_absolute_error: 0.3636\n",
      "Epoch 210/250\n",
      "37342/37342 [==============================] - 1s 17us/step - loss: 0.2782 - mean_absolute_error: 0.3648\n",
      "Epoch 211/250\n",
      "37342/37342 [==============================] - 1s 16us/step - loss: 0.2756 - mean_absolute_error: 0.3636\n",
      "Epoch 212/250\n",
      "37342/37342 [==============================] - 1s 16us/step - loss: 0.2760 - mean_absolute_error: 0.3642\n",
      "Epoch 213/250\n",
      "37342/37342 [==============================] - 1s 17us/step - loss: 0.2756 - mean_absolute_error: 0.3637\n",
      "Epoch 214/250\n",
      "37342/37342 [==============================] - 1s 16us/step - loss: 0.2750 - mean_absolute_error: 0.3637\n",
      "Epoch 215/250\n",
      "37342/37342 [==============================] - 1s 17us/step - loss: 0.2755 - mean_absolute_error: 0.3636\n",
      "Epoch 216/250\n",
      "37342/37342 [==============================] - 1s 16us/step - loss: 0.2763 - mean_absolute_error: 0.3644\n",
      "Epoch 217/250\n",
      "37342/37342 [==============================] - 1s 16us/step - loss: 0.2753 - mean_absolute_error: 0.3621\n",
      "Epoch 218/250\n",
      "37342/37342 [==============================] - 1s 16us/step - loss: 0.2758 - mean_absolute_error: 0.3632\n",
      "Epoch 219/250\n",
      "37342/37342 [==============================] - 1s 17us/step - loss: 0.2742 - mean_absolute_error: 0.3633\n",
      "Epoch 220/250\n",
      "37342/37342 [==============================] - 1s 22us/step - loss: 0.2759 - mean_absolute_error: 0.3635\n",
      "Epoch 221/250\n",
      "37342/37342 [==============================] - 1s 17us/step - loss: 0.2770 - mean_absolute_error: 0.3650\n",
      "Epoch 222/250\n",
      "37342/37342 [==============================] - 1s 16us/step - loss: 0.2796 - mean_absolute_error: 0.3652\n",
      "Epoch 223/250\n",
      "37342/37342 [==============================] - 1s 19us/step - loss: 0.2749 - mean_absolute_error: 0.3628\n",
      "Epoch 224/250\n",
      "37342/37342 [==============================] - 1s 18us/step - loss: 0.2773 - mean_absolute_error: 0.3646\n",
      "Epoch 225/250\n",
      "37342/37342 [==============================] - 1s 20us/step - loss: 0.2773 - mean_absolute_error: 0.3636\n",
      "Epoch 226/250\n",
      "37342/37342 [==============================] - 1s 16us/step - loss: 0.2753 - mean_absolute_error: 0.3629\n",
      "Epoch 227/250\n",
      "37342/37342 [==============================] - 1s 20us/step - loss: 0.2747 - mean_absolute_error: 0.3633\n",
      "Epoch 228/250\n",
      "37342/37342 [==============================] - 1s 15us/step - loss: 0.2749 - mean_absolute_error: 0.3634\n",
      "Epoch 229/250\n",
      "37342/37342 [==============================] - 1s 16us/step - loss: 0.2747 - mean_absolute_error: 0.3625\n",
      "Epoch 230/250\n",
      "37342/37342 [==============================] - 1s 16us/step - loss: 0.2764 - mean_absolute_error: 0.3639\n",
      "Epoch 231/250\n",
      "37342/37342 [==============================] - 1s 16us/step - loss: 0.2763 - mean_absolute_error: 0.3631\n",
      "Epoch 232/250\n",
      "37342/37342 [==============================] - 1s 15us/step - loss: 0.2745 - mean_absolute_error: 0.3628\n",
      "Epoch 233/250\n",
      "37342/37342 [==============================] - 1s 16us/step - loss: 0.2772 - mean_absolute_error: 0.3634\n",
      "Epoch 234/250\n",
      "37342/37342 [==============================] - 1s 16us/step - loss: 0.2753 - mean_absolute_error: 0.3630\n",
      "Epoch 235/250\n",
      "37342/37342 [==============================] - 1s 16us/step - loss: 0.2757 - mean_absolute_error: 0.3631\n",
      "Epoch 236/250\n",
      "37342/37342 [==============================] - 1s 15us/step - loss: 0.2753 - mean_absolute_error: 0.3632\n",
      "Epoch 237/250\n",
      "37342/37342 [==============================] - 1s 16us/step - loss: 0.2762 - mean_absolute_error: 0.3640\n",
      "Epoch 238/250\n",
      "37342/37342 [==============================] - 1s 15us/step - loss: 0.2754 - mean_absolute_error: 0.3627\n",
      "Epoch 239/250\n",
      "37342/37342 [==============================] - 1s 15us/step - loss: 0.2758 - mean_absolute_error: 0.3636\n",
      "Epoch 240/250\n",
      "37342/37342 [==============================] - 1s 15us/step - loss: 0.2758 - mean_absolute_error: 0.3633\n",
      "Epoch 241/250\n",
      "37342/37342 [==============================] - 1s 15us/step - loss: 0.2761 - mean_absolute_error: 0.3626\n",
      "Epoch 242/250\n",
      "37342/37342 [==============================] - 1s 15us/step - loss: 0.2753 - mean_absolute_error: 0.3624\n",
      "Epoch 243/250\n",
      "37342/37342 [==============================] - 1s 15us/step - loss: 0.2785 - mean_absolute_error: 0.3643\n",
      "Epoch 244/250\n",
      "37342/37342 [==============================] - 1s 16us/step - loss: 0.2744 - mean_absolute_error: 0.3626\n",
      "Epoch 245/250\n",
      "37342/37342 [==============================] - 1s 15us/step - loss: 0.2751 - mean_absolute_error: 0.3634\n",
      "Epoch 246/250\n",
      "37342/37342 [==============================] - 1s 15us/step - loss: 0.2741 - mean_absolute_error: 0.3624\n",
      "Epoch 247/250\n",
      "37342/37342 [==============================] - 1s 15us/step - loss: 0.2753 - mean_absolute_error: 0.3626\n",
      "Epoch 248/250\n",
      "37342/37342 [==============================] - 1s 15us/step - loss: 0.2752 - mean_absolute_error: 0.3636\n",
      "Epoch 249/250\n",
      "37342/37342 [==============================] - 1s 15us/step - loss: 0.2755 - mean_absolute_error: 0.3628\n",
      "Epoch 250/250\n",
      "37342/37342 [==============================] - 1s 15us/step - loss: 0.2748 - mean_absolute_error: 0.3629\n"
     ]
    },
    {
     "data": {
      "text/plain": [
       "<keras.callbacks.History at 0x1a3d836a0>"
      ]
     },
     "execution_count": 76,
     "metadata": {},
     "output_type": "execute_result"
    }
   ],
   "source": [
    "regressor.fit(X_train, y_train, batch_size = 64, epochs = 250)"
   ]
  },
  {
   "cell_type": "code",
   "execution_count": 77,
   "metadata": {},
   "outputs": [],
   "source": [
    "y_pred = regressor.predict(X_test)"
   ]
  },
  {
   "cell_type": "code",
   "execution_count": 78,
   "metadata": {},
   "outputs": [
    {
     "data": {
      "text/plain": [
       "array([[ 37.51062775, 127.38492584],\n",
       "       [ 37.5580864 , 127.04589081],\n",
       "       [ 37.50587082, 127.01229095],\n",
       "       ...,\n",
       "       [ 37.54788589, 126.93301392],\n",
       "       [ 37.54504395, 126.93218994],\n",
       "       [ 37.38407135, 126.81645203]])"
      ]
     },
     "execution_count": 78,
     "metadata": {},
     "output_type": "execute_result"
    }
   ],
   "source": [
    "y_pred_new = np.zeros((len(y_pred), 2))\n",
    "y_test_new = np.zeros((len(y_test), 2))\n",
    "y_pred_new[:,0] = y_pred[:,0] * np.std(Y[:,0]) + np.mean(Y[:,0])\n",
    "y_pred_new[:,1] = y_pred[:,1] * np.std(Y[:,1]) + np.mean(Y[:,1])\n",
    "\n",
    "y_test_new[:,0] = y_test[:,0] * np.std(Y[:,0]) + np.mean(Y[:,0])\n",
    "y_test_new[:,1] = y_test[:,1] * np.std(Y[:,1]) + np.mean(Y[:,1])\n",
    "y_pred_new"
   ]
  },
  {
   "cell_type": "code",
   "execution_count": 79,
   "metadata": {},
   "outputs": [
    {
     "data": {
      "text/plain": [
       "(9336, 11)"
      ]
     },
     "execution_count": 79,
     "metadata": {},
     "output_type": "execute_result"
    }
   ],
   "source": [
    "np.shape(X_test)"
   ]
  },
  {
   "cell_type": "code",
   "execution_count": 80,
   "metadata": {},
   "outputs": [],
   "source": [
    "prediction = pd.DataFrame({'house_lat': y_test_new[:, 0],'house_lon':y_test_new[:, 1],\n",
    "                            'house_lat (pred)': y_pred_new[:,0], 'house_lon (pred)': y_pred_new[:,1]})"
   ]
  },
  {
   "cell_type": "code",
   "execution_count": 81,
   "metadata": {},
   "outputs": [
    {
     "data": {
      "text/plain": [
       "(9336, 2)"
      ]
     },
     "execution_count": 81,
     "metadata": {},
     "output_type": "execute_result"
    }
   ],
   "source": [
    "np.shape(y_pred)"
   ]
  },
  {
   "cell_type": "code",
   "execution_count": 82,
   "metadata": {},
   "outputs": [
    {
     "data": {
      "text/plain": [
       "922.717881671499"
      ]
     },
     "execution_count": 82,
     "metadata": {},
     "output_type": "execute_result"
    }
   ],
   "source": [
    "# score to beat: 836.4854723538451\n",
    "accuracy(prediction)"
   ]
  },
  {
   "cell_type": "code",
   "execution_count": 83,
   "metadata": {},
   "outputs": [
    {
     "data": {
      "image/png": "[encoded data removed]",
      "text/plain": [
       "<Figure size 432x288 with 1 Axes>"
      ]
     },
     "metadata": {
      "needs_background": "light"
     },
     "output_type": "display_data"
    }
   ],
   "source": [
    "# plot\n",
    "plt.scatter(y_test_new[:, 0], y_test_new[:, 1], color = \"red\", label = 'Actual')\n",
    "plt.scatter(y_pred_new[:, 0], y_pred_new[:, 1], color = \"blue\", label = 'Prediction')\n",
    "plt.title('Regression')\n",
    "plt.xlabel('Lat')\n",
    "plt.ylabel('Lon')\n",
    "plt.legend(loc='upper left')\n",
    "plt.show()"
   ]
  },
  {
   "cell_type": "code",
   "execution_count": 93,
   "metadata": {},
   "outputs": [],
   "source": [
    "# Grid Search\n",
    "'''\n",
    "Standard model:\n",
    "# Initialising the ANN\n",
    "regressor = Sequential()\n",
    "\n",
    "# Adding the input layer and the first hidden layer\n",
    "regressor.add(Dense(units = 32, kernel_initializer = 'uniform', activation = 'relu', input_dim = 1597))\n",
    "regressor.add(Dropout(0.2))\n",
    "\n",
    "# Adding the second hidden layer\n",
    "regressor.add(Dense(units = 64, kernel_initializer = 'uniform', activation = 'relu'))\n",
    "regressor.add(Dropout(0.2))\n",
    "\n",
    "# Adding the third hidden layer\n",
    "regressor.add(Dense(units = 64, kernel_initializer = 'uniform', activation = 'relu'))\n",
    "regressor.add(Dropout(0.2))\n",
    "\n",
    "# Adding the output layer\n",
    "regressor.add(Dense(units = 2, kernel_initializer = 'normal', activation = 'linear'))\n",
    "\n",
    "# Compiling the ANN\n",
    "sgd = keras.optimizers.SGD(lr=0.1, nesterov = True)\n",
    "regressor.compile(optimizer = sgd, loss = 'mean_squared_error', metrics = ['mae'])\n",
    "\n",
    "'''\n",
    "from sklearn.model_selection import GridSearchCV\n",
    "from keras.wrappers.scikit_learn import KerasRegressor\n",
    "\n",
    "sgd = keras.optimizers.SGD(lr=0.1, nesterov = True)\n",
    "def create_model():\n",
    "    # create model\n",
    "    regressor = Sequential()\n",
    "    regressor.add(Dense(units = 32, kernel_initializer = 'uniform', activation = 'relu', input_dim = 1597))\n",
    "    regressor.add(Dropout(0.2))\n",
    "    regressor.add(Dense(units = 64, kernel_initializer = 'uniform', activation = 'relu'))\n",
    "    regressor.add(Dropout(0.2))\n",
    "    regressor.add(Dense(units = 64, kernel_initializer = 'uniform', activation = 'relu'))\n",
    "    regressor.add(Dropout(0.2))\n",
    "    regressor.add(Dense(units = 2, kernel_initializer = 'normal', activation = 'linear'))\n",
    "    # Compile model\n",
    "    regressor.compile(optimizer = sgd, loss = 'mean_squared_error', metrics = ['mae'])\n",
    "    return regressor"
   ]
  },
  {
   "cell_type": "code",
   "execution_count": 96,
   "metadata": {},
   "outputs": [
    {
     "ename": "KeyboardInterrupt",
     "evalue": "",
     "output_type": "error",
     "traceback": [
      "\u001b[0;31m---------------------------------------------------------------------------\u001b[0m",
      "\u001b[0;31mKeyboardInterrupt\u001b[0m                         Traceback (most recent call last)",
      "\u001b[0;32m<ipython-input-96-16c1334d8b42>\u001b[0m in \u001b[0;36m<module>\u001b[0;34m()\u001b[0m\n\u001b[1;32m     10\u001b[0m \u001b[0mparam_grid\u001b[0m \u001b[0;34m=\u001b[0m \u001b[0mdict\u001b[0m\u001b[0;34m(\u001b[0m\u001b[0mbatch_size\u001b[0m\u001b[0;34m=\u001b[0m\u001b[0mbatch_size\u001b[0m\u001b[0;34m,\u001b[0m \u001b[0mepochs\u001b[0m\u001b[0;34m=\u001b[0m\u001b[0mepochs\u001b[0m\u001b[0;34m)\u001b[0m\u001b[0;34m\u001b[0m\u001b[0m\n\u001b[1;32m     11\u001b[0m \u001b[0mgrid\u001b[0m \u001b[0;34m=\u001b[0m \u001b[0mGridSearchCV\u001b[0m\u001b[0;34m(\u001b[0m\u001b[0mestimator\u001b[0m\u001b[0;34m=\u001b[0m\u001b[0mmodel\u001b[0m\u001b[0;34m,\u001b[0m \u001b[0mparam_grid\u001b[0m\u001b[0;34m=\u001b[0m\u001b[0mparam_grid\u001b[0m\u001b[0;34m,\u001b[0m \u001b[0mn_jobs\u001b[0m\u001b[0;34m=\u001b[0m\u001b[0;34m-\u001b[0m\u001b[0;36m1\u001b[0m\u001b[0;34m)\u001b[0m\u001b[0;34m\u001b[0m\u001b[0m\n\u001b[0;32m---> 12\u001b[0;31m \u001b[0mgrid_result\u001b[0m \u001b[0;34m=\u001b[0m \u001b[0mgrid\u001b[0m\u001b[0;34m.\u001b[0m\u001b[0mfit\u001b[0m\u001b[0;34m(\u001b[0m\u001b[0mX\u001b[0m\u001b[0;34m,\u001b[0m \u001b[0mY\u001b[0m\u001b[0;34m)\u001b[0m\u001b[0;34m\u001b[0m\u001b[0m\n\u001b[0m\u001b[1;32m     13\u001b[0m \u001b[0;31m# summarize results\u001b[0m\u001b[0;34m\u001b[0m\u001b[0;34m\u001b[0m\u001b[0m\n\u001b[1;32m     14\u001b[0m \u001b[0mprint\u001b[0m\u001b[0;34m(\u001b[0m\u001b[0;34m\"Best: %f using %s\"\u001b[0m \u001b[0;34m%\u001b[0m \u001b[0;34m(\u001b[0m\u001b[0mgrid_result\u001b[0m\u001b[0;34m.\u001b[0m\u001b[0mbest_score_\u001b[0m\u001b[0;34m,\u001b[0m \u001b[0mgrid_result\u001b[0m\u001b[0;34m.\u001b[0m\u001b[0mbest_params_\u001b[0m\u001b[0;34m)\u001b[0m\u001b[0;34m)\u001b[0m\u001b[0;34m\u001b[0m\u001b[0m\n",
      "\u001b[0;32m/usr/local/lib/python3.6/site-packages/sklearn/model_selection/_search.py\u001b[0m in \u001b[0;36mfit\u001b[0;34m(self, X, y, groups, **fit_params)\u001b[0m\n\u001b[1;32m    637\u001b[0m                                   error_score=self.error_score)\n\u001b[1;32m    638\u001b[0m           for parameters, (train, test) in product(candidate_params,\n\u001b[0;32m--> 639\u001b[0;31m                                                    cv.split(X, y, groups)))\n\u001b[0m\u001b[1;32m    640\u001b[0m \u001b[0;34m\u001b[0m\u001b[0m\n\u001b[1;32m    641\u001b[0m         \u001b[0;31m# if one choose to see train score, \"out\" will contain train score info\u001b[0m\u001b[0;34m\u001b[0m\u001b[0;34m\u001b[0m\u001b[0m\n",
      "\u001b[0;32m/usr/local/lib/python3.6/site-packages/sklearn/externals/joblib/parallel.py\u001b[0m in \u001b[0;36m__call__\u001b[0;34m(self, iterable)\u001b[0m\n\u001b[1;32m    787\u001b[0m                 \u001b[0;31m# consumption.\u001b[0m\u001b[0;34m\u001b[0m\u001b[0;34m\u001b[0m\u001b[0m\n\u001b[1;32m    788\u001b[0m                 \u001b[0mself\u001b[0m\u001b[0;34m.\u001b[0m\u001b[0m_iterating\u001b[0m \u001b[0;34m=\u001b[0m \u001b[0;32mFalse\u001b[0m\u001b[0;34m\u001b[0m\u001b[0m\n\u001b[0;32m--> 789\u001b[0;31m             \u001b[0mself\u001b[0m\u001b[0;34m.\u001b[0m\u001b[0mretrieve\u001b[0m\u001b[0;34m(\u001b[0m\u001b[0;34m)\u001b[0m\u001b[0;34m\u001b[0m\u001b[0m\n\u001b[0m\u001b[1;32m    790\u001b[0m             \u001b[0;31m# Make sure that we get a last message telling us we are done\u001b[0m\u001b[0;34m\u001b[0m\u001b[0;34m\u001b[0m\u001b[0m\n\u001b[1;32m    791\u001b[0m             \u001b[0melapsed_time\u001b[0m \u001b[0;34m=\u001b[0m \u001b[0mtime\u001b[0m\u001b[0;34m.\u001b[0m\u001b[0mtime\u001b[0m\u001b[0;34m(\u001b[0m\u001b[0;34m)\u001b[0m \u001b[0;34m-\u001b[0m \u001b[0mself\u001b[0m\u001b[0;34m.\u001b[0m\u001b[0m_start_time\u001b[0m\u001b[0;34m\u001b[0m\u001b[0m\n",
      "\u001b[0;32m/usr/local/lib/python3.6/site-packages/sklearn/externals/joblib/parallel.py\u001b[0m in \u001b[0;36mretrieve\u001b[0;34m(self)\u001b[0m\n\u001b[1;32m    697\u001b[0m             \u001b[0;32mtry\u001b[0m\u001b[0;34m:\u001b[0m\u001b[0;34m\u001b[0m\u001b[0m\n\u001b[1;32m    698\u001b[0m                 \u001b[0;32mif\u001b[0m \u001b[0mgetattr\u001b[0m\u001b[0;34m(\u001b[0m\u001b[0mself\u001b[0m\u001b[0;34m.\u001b[0m\u001b[0m_backend\u001b[0m\u001b[0;34m,\u001b[0m \u001b[0;34m'supports_timeout'\u001b[0m\u001b[0;34m,\u001b[0m \u001b[0;32mFalse\u001b[0m\u001b[0;34m)\u001b[0m\u001b[0;34m:\u001b[0m\u001b[0;34m\u001b[0m\u001b[0m\n\u001b[0;32m--> 699\u001b[0;31m                     \u001b[0mself\u001b[0m\u001b[0;34m.\u001b[0m\u001b[0m_output\u001b[0m\u001b[0;34m.\u001b[0m\u001b[0mextend\u001b[0m\u001b[0;34m(\u001b[0m\u001b[0mjob\u001b[0m\u001b[0;34m.\u001b[0m\u001b[0mget\u001b[0m\u001b[0;34m(\u001b[0m\u001b[0mtimeout\u001b[0m\u001b[0;34m=\u001b[0m\u001b[0mself\u001b[0m\u001b[0;34m.\u001b[0m\u001b[0mtimeout\u001b[0m\u001b[0;34m)\u001b[0m\u001b[0;34m)\u001b[0m\u001b[0;34m\u001b[0m\u001b[0m\n\u001b[0m\u001b[1;32m    700\u001b[0m                 \u001b[0;32melse\u001b[0m\u001b[0;34m:\u001b[0m\u001b[0;34m\u001b[0m\u001b[0m\n\u001b[1;32m    701\u001b[0m                     \u001b[0mself\u001b[0m\u001b[0;34m.\u001b[0m\u001b[0m_output\u001b[0m\u001b[0;34m.\u001b[0m\u001b[0mextend\u001b[0m\u001b[0;34m(\u001b[0m\u001b[0mjob\u001b[0m\u001b[0;34m.\u001b[0m\u001b[0mget\u001b[0m\u001b[0;34m(\u001b[0m\u001b[0;34m)\u001b[0m\u001b[0;34m)\u001b[0m\u001b[0;34m\u001b[0m\u001b[0m\n",
      "\u001b[0;32m/usr/local/Cellar/python/3.6.5_1/Frameworks/Python.framework/Versions/3.6/lib/python3.6/multiprocessing/pool.py\u001b[0m in \u001b[0;36mget\u001b[0;34m(self, timeout)\u001b[0m\n\u001b[1;32m    636\u001b[0m \u001b[0;34m\u001b[0m\u001b[0m\n\u001b[1;32m    637\u001b[0m     \u001b[0;32mdef\u001b[0m \u001b[0mget\u001b[0m\u001b[0;34m(\u001b[0m\u001b[0mself\u001b[0m\u001b[0;34m,\u001b[0m \u001b[0mtimeout\u001b[0m\u001b[0;34m=\u001b[0m\u001b[0;32mNone\u001b[0m\u001b[0;34m)\u001b[0m\u001b[0;34m:\u001b[0m\u001b[0;34m\u001b[0m\u001b[0m\n\u001b[0;32m--> 638\u001b[0;31m         \u001b[0mself\u001b[0m\u001b[0;34m.\u001b[0m\u001b[0mwait\u001b[0m\u001b[0;34m(\u001b[0m\u001b[0mtimeout\u001b[0m\u001b[0;34m)\u001b[0m\u001b[0;34m\u001b[0m\u001b[0m\n\u001b[0m\u001b[1;32m    639\u001b[0m         \u001b[0;32mif\u001b[0m \u001b[0;32mnot\u001b[0m \u001b[0mself\u001b[0m\u001b[0;34m.\u001b[0m\u001b[0mready\u001b[0m\u001b[0;34m(\u001b[0m\u001b[0;34m)\u001b[0m\u001b[0;34m:\u001b[0m\u001b[0;34m\u001b[0m\u001b[0m\n\u001b[1;32m    640\u001b[0m             \u001b[0;32mraise\u001b[0m \u001b[0mTimeoutError\u001b[0m\u001b[0;34m\u001b[0m\u001b[0m\n",
      "\u001b[0;32m/usr/local/Cellar/python/3.6.5_1/Frameworks/Python.framework/Versions/3.6/lib/python3.6/multiprocessing/pool.py\u001b[0m in \u001b[0;36mwait\u001b[0;34m(self, timeout)\u001b[0m\n\u001b[1;32m    633\u001b[0m \u001b[0;34m\u001b[0m\u001b[0m\n\u001b[1;32m    634\u001b[0m     \u001b[0;32mdef\u001b[0m \u001b[0mwait\u001b[0m\u001b[0;34m(\u001b[0m\u001b[0mself\u001b[0m\u001b[0;34m,\u001b[0m \u001b[0mtimeout\u001b[0m\u001b[0;34m=\u001b[0m\u001b[0;32mNone\u001b[0m\u001b[0;34m)\u001b[0m\u001b[0;34m:\u001b[0m\u001b[0;34m\u001b[0m\u001b[0m\n\u001b[0;32m--> 635\u001b[0;31m         \u001b[0mself\u001b[0m\u001b[0;34m.\u001b[0m\u001b[0m_event\u001b[0m\u001b[0;34m.\u001b[0m\u001b[0mwait\u001b[0m\u001b[0;34m(\u001b[0m\u001b[0mtimeout\u001b[0m\u001b[0;34m)\u001b[0m\u001b[0;34m\u001b[0m\u001b[0m\n\u001b[0m\u001b[1;32m    636\u001b[0m \u001b[0;34m\u001b[0m\u001b[0m\n\u001b[1;32m    637\u001b[0m     \u001b[0;32mdef\u001b[0m \u001b[0mget\u001b[0m\u001b[0;34m(\u001b[0m\u001b[0mself\u001b[0m\u001b[0;34m,\u001b[0m \u001b[0mtimeout\u001b[0m\u001b[0;34m=\u001b[0m\u001b[0;32mNone\u001b[0m\u001b[0;34m)\u001b[0m\u001b[0;34m:\u001b[0m\u001b[0;34m\u001b[0m\u001b[0m\n",
      "\u001b[0;32m/usr/local/Cellar/python/3.6.5_1/Frameworks/Python.framework/Versions/3.6/lib/python3.6/threading.py\u001b[0m in \u001b[0;36mwait\u001b[0;34m(self, timeout)\u001b[0m\n\u001b[1;32m    549\u001b[0m             \u001b[0msignaled\u001b[0m \u001b[0;34m=\u001b[0m \u001b[0mself\u001b[0m\u001b[0;34m.\u001b[0m\u001b[0m_flag\u001b[0m\u001b[0;34m\u001b[0m\u001b[0m\n\u001b[1;32m    550\u001b[0m             \u001b[0;32mif\u001b[0m \u001b[0;32mnot\u001b[0m \u001b[0msignaled\u001b[0m\u001b[0;34m:\u001b[0m\u001b[0;34m\u001b[0m\u001b[0m\n\u001b[0;32m--> 551\u001b[0;31m                 \u001b[0msignaled\u001b[0m \u001b[0;34m=\u001b[0m \u001b[0mself\u001b[0m\u001b[0;34m.\u001b[0m\u001b[0m_cond\u001b[0m\u001b[0;34m.\u001b[0m\u001b[0mwait\u001b[0m\u001b[0;34m(\u001b[0m\u001b[0mtimeout\u001b[0m\u001b[0;34m)\u001b[0m\u001b[0;34m\u001b[0m\u001b[0m\n\u001b[0m\u001b[1;32m    552\u001b[0m             \u001b[0;32mreturn\u001b[0m \u001b[0msignaled\u001b[0m\u001b[0;34m\u001b[0m\u001b[0m\n\u001b[1;32m    553\u001b[0m \u001b[0;34m\u001b[0m\u001b[0m\n",
      "\u001b[0;32m/usr/local/Cellar/python/3.6.5_1/Frameworks/Python.framework/Versions/3.6/lib/python3.6/threading.py\u001b[0m in \u001b[0;36mwait\u001b[0;34m(self, timeout)\u001b[0m\n\u001b[1;32m    293\u001b[0m         \u001b[0;32mtry\u001b[0m\u001b[0;34m:\u001b[0m    \u001b[0;31m# restore state no matter what (e.g., KeyboardInterrupt)\u001b[0m\u001b[0;34m\u001b[0m\u001b[0m\n\u001b[1;32m    294\u001b[0m             \u001b[0;32mif\u001b[0m \u001b[0mtimeout\u001b[0m \u001b[0;32mis\u001b[0m \u001b[0;32mNone\u001b[0m\u001b[0;34m:\u001b[0m\u001b[0;34m\u001b[0m\u001b[0m\n\u001b[0;32m--> 295\u001b[0;31m                 \u001b[0mwaiter\u001b[0m\u001b[0;34m.\u001b[0m\u001b[0macquire\u001b[0m\u001b[0;34m(\u001b[0m\u001b[0;34m)\u001b[0m\u001b[0;34m\u001b[0m\u001b[0m\n\u001b[0m\u001b[1;32m    296\u001b[0m                 \u001b[0mgotit\u001b[0m \u001b[0;34m=\u001b[0m \u001b[0;32mTrue\u001b[0m\u001b[0;34m\u001b[0m\u001b[0m\n\u001b[1;32m    297\u001b[0m             \u001b[0;32melse\u001b[0m\u001b[0;34m:\u001b[0m\u001b[0;34m\u001b[0m\u001b[0m\n",
      "\u001b[0;31mKeyboardInterrupt\u001b[0m: "
     ]
    }
   ],
   "source": [
    "# fix random seed for reproducibility\n",
    "seed = 7\n",
    "np.random.seed(seed)\n",
    "\n",
    "# create model\n",
    "model = KerasRegressor(build_fn=create_model, verbose=0)\n",
    "# define the grid search parameters\n",
    "batch_size = [10, 20, 40, 60, 80, 100]\n",
    "epochs = [10, 50, 100]\n",
    "param_grid = dict(batch_size=batch_size, epochs=epochs)\n",
    "grid = GridSearchCV(estimator=model, param_grid=param_grid, n_jobs=-1)\n",
    "grid_result = grid.fit(X, Y)\n",
    "# summarize results\n",
    "print(\"Best: %f using %s\" % (grid_result.best_score_, grid_result.best_params_))\n",
    "means = grid_result.cv_results_['mean_test_score']\n",
    "stds = grid_result.cv_results_['std_test_score']\n",
    "params = grid_result.cv_results_['params']\n",
    "for mean, stdev, param in zip(means, stds, params):\n",
    "    print(\"%f (%f) with: %r\" % (mean, stdev, param))"
   ]
  },
  {
   "cell_type": "code",
   "execution_count": 82,
   "metadata": {},
   "outputs": [],
   "source": [
    "# # PCA\n",
    "# # Applying Kernel PCA\n",
    "# from sklearn.decomposition import KernelPCA\n",
    "# kpca = KernelPCA(kernel = 'rbf')\n",
    "# X_original_pca = kpca.fit_transform(x_original)\n",
    "# X_original_pca"
   ]
  },
  {
   "cell_type": "code",
   "execution_count": 83,
   "metadata": {},
   "outputs": [],
   "source": [
    "# # classification approach\n",
    "# # x - same X except using W_Zone but no X_lat and X_lon, also eliminate non-independent variables\n",
    "# # y - H_Zone\n",
    "# x.head()"
   ]
  },
  {
   "cell_type": "code",
   "execution_count": 84,
   "metadata": {},
   "outputs": [],
   "source": [
    "# x_cat = np.delete(X, 6, axis = 1)\n",
    "# x_cat = np.delete(X, 7, axis = 1)"
   ]
  },
  {
   "cell_type": "code",
   "execution_count": 85,
   "metadata": {},
   "outputs": [],
   "source": [
    "# Y_cat = data.loc[:, [\"H_ZONE\"]]\n",
    "# Y_cat.head()\n",
    "# Y_cat = Y_cat.dropna()"
   ]
  },
  {
   "cell_type": "code",
   "execution_count": 86,
   "metadata": {},
   "outputs": [],
   "source": [
    "# from sklearn.preprocessing import LabelBinarizer\n",
    "# binarizer = LabelBinarizer()\n",
    "# Y_cat = binarizer.fit_transform(Y_cat.values)"
   ]
  },
  {
   "cell_type": "code",
   "execution_count": 87,
   "metadata": {},
   "outputs": [],
   "source": [
    "# Y_cat"
   ]
  },
  {
   "cell_type": "code",
   "execution_count": 88,
   "metadata": {},
   "outputs": [],
   "source": [
    "# X_train, X_test, y_train, y_test = train_test_split(x_cat, Y_cat, test_size = 0.2, random_state = 0)"
   ]
  },
  {
   "cell_type": "code",
   "execution_count": 89,
   "metadata": {},
   "outputs": [],
   "source": [
    "# # Initialising the ANN\n",
    "# classifier = Sequential()\n",
    "\n",
    "# # Adding the input layer and the first hidden layer\n",
    "# classifier.add(Dense(units = 64, kernel_initializer = 'uniform', activation = 'relu', input_dim = 1596))\n",
    "# classifier.add(Dropout(0.1))\n",
    "# # Adding the second hidden layer\n",
    "# classifier.add(Dense(units = 128, kernel_initializer = 'uniform', activation = 'relu'))\n",
    "# classifier.add(Dropout(0.1))\n",
    "\n",
    "\n",
    "# # Adding the output layer\n",
    "# classifier.add(Dense(units = 1278, kernel_initializer = 'uniform', activation = 'sigmoid'))\n",
    "\n",
    "# # Compiling the ANN\n",
    "# classifier.compile(optimizer = 'adam', loss = 'binary_crossentropy', metrics = ['accuracy'])\n",
    "\n"
   ]
  },
  {
   "cell_type": "code",
   "execution_count": 90,
   "metadata": {},
   "outputs": [],
   "source": [
    "# # Fitting the ANN to the Training set\n",
    "# classifier.fit(X_train, y_train, batch_size = 50, epochs = 10)"
   ]
  },
  {
   "cell_type": "code",
   "execution_count": 91,
   "metadata": {},
   "outputs": [],
   "source": [
    "# y_pred = classifier.predict(X_test)"
   ]
  },
  {
   "cell_type": "code",
   "execution_count": null,
   "metadata": {},
   "outputs": [],
   "source": []
  },
  {
   "cell_type": "code",
   "execution_count": null,
   "metadata": {},
   "outputs": [],
   "source": []
  }
 ],
 "metadata": {
  "kernelspec": {
   "display_name": "Python 3",
   "language": "python",
   "name": "python3"
  },
  "language_info": {
   "codemirror_mode": {
    "name": "ipython",
    "version": 3
   },
   "file_extension": ".py",
   "mimetype": "text/x-python",
   "name": "python",
   "nbconvert_exporter": "python",
   "pygments_lexer": "ipython3",
   "version": "3.6.5"
  }
 },
 "nbformat": 4,
 "nbformat_minor": 2
}
