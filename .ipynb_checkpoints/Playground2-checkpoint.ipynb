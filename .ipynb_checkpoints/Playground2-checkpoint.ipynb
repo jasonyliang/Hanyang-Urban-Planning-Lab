{
 "cells": [
  {
   "cell_type": "code",
   "execution_count": 1,
   "metadata": {},
   "outputs": [],
   "source": [
    "import pandas as pd\n",
    "import numpy as np\n",
    "import matplotlib.pyplot as plt"
   ]
  },
  {
   "cell_type": "code",
   "execution_count": 2,
   "metadata": {},
   "outputs": [],
   "source": [
    "dataset = pd.read_csv('/Users/jhajhajhajha1/Desktop/Hanyang Data/data_playaround.csv')"
   ]
  },
  {
   "cell_type": "code",
   "execution_count": 3,
   "metadata": {},
   "outputs": [],
   "source": [
    "data = dataset.iloc[:, 0:19]"
   ]
  },
  {
   "cell_type": "code",
   "execution_count": 4,
   "metadata": {},
   "outputs": [
    {
     "name": "stdout",
     "output_type": "stream",
     "text": [
      "46858\n"
     ]
    },
    {
     "data": {
      "text/html": [
       "<div>\n",
       "<style scoped>\n",
       "    .dataframe tbody tr th:only-of-type {\n",
       "        vertical-align: middle;\n",
       "    }\n",
       "\n",
       "    .dataframe tbody tr th {\n",
       "        vertical-align: top;\n",
       "    }\n",
       "\n",
       "    .dataframe thead th {\n",
       "        text-align: right;\n",
       "    }\n",
       "</style>\n",
       "<table border=\"1\" class=\"dataframe\">\n",
       "  <thead>\n",
       "    <tr style=\"text-align: right;\">\n",
       "      <th></th>\n",
       "      <th>W_ZONE</th>\n",
       "      <th>no_hh</th>\n",
       "      <th>no_hh_chil</th>\n",
       "      <th>hh_type</th>\n",
       "      <th>hh_income</th>\n",
       "      <th>no_car</th>\n",
       "      <th>age</th>\n",
       "      <th>sex</th>\n",
       "      <th>job_type</th>\n",
       "      <th>house_lat</th>\n",
       "      <th>house_lon</th>\n",
       "      <th>work_lat</th>\n",
       "      <th>work_lon</th>\n",
       "      <th>H_ZONE</th>\n",
       "      <th>H_ZONE_X</th>\n",
       "      <th>H_ZONE_Y</th>\n",
       "      <th>W_ZONE_X</th>\n",
       "      <th>W_ZONE_Y</th>\n",
       "      <th>0</th>\n",
       "    </tr>\n",
       "  </thead>\n",
       "  <tbody>\n",
       "    <tr>\n",
       "      <th>1000</th>\n",
       "      <td>88</td>\n",
       "      <td>4.0</td>\n",
       "      <td>3.0</td>\n",
       "      <td>1.0</td>\n",
       "      <td>5.0</td>\n",
       "      <td>1.0</td>\n",
       "      <td>40.0</td>\n",
       "      <td>1.0</td>\n",
       "      <td>4.0</td>\n",
       "      <td>37.511534</td>\n",
       "      <td>126.902390</td>\n",
       "      <td>37.031954</td>\n",
       "      <td>127.077127</td>\n",
       "      <td>954.0</td>\n",
       "      <td>191000.0</td>\n",
       "      <td>445000.0</td>\n",
       "      <td>207000.0</td>\n",
       "      <td>393000.0</td>\n",
       "      <td>25940.567472</td>\n",
       "    </tr>\n",
       "    <tr>\n",
       "      <th>1001</th>\n",
       "      <td>88</td>\n",
       "      <td>3.0</td>\n",
       "      <td>3.0</td>\n",
       "      <td>4.0</td>\n",
       "      <td>2.0</td>\n",
       "      <td>2.0</td>\n",
       "      <td>61.0</td>\n",
       "      <td>1.0</td>\n",
       "      <td>6.0</td>\n",
       "      <td>37.000396</td>\n",
       "      <td>127.106922</td>\n",
       "      <td>37.034933</td>\n",
       "      <td>127.078710</td>\n",
       "      <td>50.0</td>\n",
       "      <td>209000.0</td>\n",
       "      <td>389000.0</td>\n",
       "      <td>207000.0</td>\n",
       "      <td>393000.0</td>\n",
       "      <td>25940.567472</td>\n",
       "    </tr>\n",
       "    <tr>\n",
       "      <th>1002</th>\n",
       "      <td>88</td>\n",
       "      <td>5.0</td>\n",
       "      <td>3.0</td>\n",
       "      <td>1.0</td>\n",
       "      <td>4.0</td>\n",
       "      <td>1.0</td>\n",
       "      <td>46.0</td>\n",
       "      <td>1.0</td>\n",
       "      <td>4.0</td>\n",
       "      <td>37.195733</td>\n",
       "      <td>127.034267</td>\n",
       "      <td>37.039019</td>\n",
       "      <td>127.077925</td>\n",
       "      <td>287.0</td>\n",
       "      <td>203000.0</td>\n",
       "      <td>411000.0</td>\n",
       "      <td>207000.0</td>\n",
       "      <td>393000.0</td>\n",
       "      <td>25940.567472</td>\n",
       "    </tr>\n",
       "    <tr>\n",
       "      <th>1003</th>\n",
       "      <td>88</td>\n",
       "      <td>4.0</td>\n",
       "      <td>4.0</td>\n",
       "      <td>2.0</td>\n",
       "      <td>6.0</td>\n",
       "      <td>1.0</td>\n",
       "      <td>49.0</td>\n",
       "      <td>1.0</td>\n",
       "      <td>6.0</td>\n",
       "      <td>37.067362</td>\n",
       "      <td>127.056343</td>\n",
       "      <td>37.037719</td>\n",
       "      <td>127.077653</td>\n",
       "      <td>130.0</td>\n",
       "      <td>205000.0</td>\n",
       "      <td>397000.0</td>\n",
       "      <td>207000.0</td>\n",
       "      <td>393000.0</td>\n",
       "      <td>25940.567472</td>\n",
       "    </tr>\n",
       "    <tr>\n",
       "      <th>1004</th>\n",
       "      <td>88</td>\n",
       "      <td>4.0</td>\n",
       "      <td>2.0</td>\n",
       "      <td>1.0</td>\n",
       "      <td>3.0</td>\n",
       "      <td>1.0</td>\n",
       "      <td>37.0</td>\n",
       "      <td>1.0</td>\n",
       "      <td>4.0</td>\n",
       "      <td>37.151695</td>\n",
       "      <td>127.078077</td>\n",
       "      <td>37.039019</td>\n",
       "      <td>127.077925</td>\n",
       "      <td>218.0</td>\n",
       "      <td>207000.0</td>\n",
       "      <td>405000.0</td>\n",
       "      <td>207000.0</td>\n",
       "      <td>393000.0</td>\n",
       "      <td>25940.567472</td>\n",
       "    </tr>\n",
       "    <tr>\n",
       "      <th>1005</th>\n",
       "      <td>88</td>\n",
       "      <td>3.0</td>\n",
       "      <td>3.0</td>\n",
       "      <td>1.0</td>\n",
       "      <td>5.0</td>\n",
       "      <td>1.0</td>\n",
       "      <td>56.0</td>\n",
       "      <td>1.0</td>\n",
       "      <td>6.0</td>\n",
       "      <td>37.053694</td>\n",
       "      <td>127.047655</td>\n",
       "      <td>37.038303</td>\n",
       "      <td>127.082699</td>\n",
       "      <td>105.0</td>\n",
       "      <td>205000.0</td>\n",
       "      <td>395000.0</td>\n",
       "      <td>207000.0</td>\n",
       "      <td>393000.0</td>\n",
       "      <td>25940.567472</td>\n",
       "    </tr>\n",
       "    <tr>\n",
       "      <th>1006</th>\n",
       "      <td>88</td>\n",
       "      <td>3.0</td>\n",
       "      <td>3.0</td>\n",
       "      <td>4.0</td>\n",
       "      <td>6.0</td>\n",
       "      <td>1.0</td>\n",
       "      <td>55.0</td>\n",
       "      <td>1.0</td>\n",
       "      <td>6.0</td>\n",
       "      <td>37.102160</td>\n",
       "      <td>127.021462</td>\n",
       "      <td>37.036618</td>\n",
       "      <td>127.077674</td>\n",
       "      <td>173.0</td>\n",
       "      <td>201000.0</td>\n",
       "      <td>401000.0</td>\n",
       "      <td>207000.0</td>\n",
       "      <td>393000.0</td>\n",
       "      <td>25940.567472</td>\n",
       "    </tr>\n",
       "    <tr>\n",
       "      <th>1007</th>\n",
       "      <td>88</td>\n",
       "      <td>4.0</td>\n",
       "      <td>4.0</td>\n",
       "      <td>2.0</td>\n",
       "      <td>5.0</td>\n",
       "      <td>1.0</td>\n",
       "      <td>41.0</td>\n",
       "      <td>1.0</td>\n",
       "      <td>6.0</td>\n",
       "      <td>37.037146</td>\n",
       "      <td>127.029241</td>\n",
       "      <td>37.035418</td>\n",
       "      <td>127.074294</td>\n",
       "      <td>86.0</td>\n",
       "      <td>203000.0</td>\n",
       "      <td>393000.0</td>\n",
       "      <td>207000.0</td>\n",
       "      <td>393000.0</td>\n",
       "      <td>25940.567472</td>\n",
       "    </tr>\n",
       "    <tr>\n",
       "      <th>1008</th>\n",
       "      <td>88</td>\n",
       "      <td>1.0</td>\n",
       "      <td>1.0</td>\n",
       "      <td>2.0</td>\n",
       "      <td>4.0</td>\n",
       "      <td>1.0</td>\n",
       "      <td>49.0</td>\n",
       "      <td>1.0</td>\n",
       "      <td>6.0</td>\n",
       "      <td>37.076516</td>\n",
       "      <td>127.064009</td>\n",
       "      <td>37.036774</td>\n",
       "      <td>127.072348</td>\n",
       "      <td>130.0</td>\n",
       "      <td>205000.0</td>\n",
       "      <td>397000.0</td>\n",
       "      <td>207000.0</td>\n",
       "      <td>393000.0</td>\n",
       "      <td>25940.567472</td>\n",
       "    </tr>\n",
       "    <tr>\n",
       "      <th>1009</th>\n",
       "      <td>88</td>\n",
       "      <td>3.0</td>\n",
       "      <td>3.0</td>\n",
       "      <td>1.0</td>\n",
       "      <td>5.0</td>\n",
       "      <td>1.0</td>\n",
       "      <td>43.0</td>\n",
       "      <td>1.0</td>\n",
       "      <td>6.0</td>\n",
       "      <td>36.989866</td>\n",
       "      <td>127.090719</td>\n",
       "      <td>37.037373</td>\n",
       "      <td>127.088846</td>\n",
       "      <td>35.0</td>\n",
       "      <td>209000.0</td>\n",
       "      <td>387000.0</td>\n",
       "      <td>207000.0</td>\n",
       "      <td>393000.0</td>\n",
       "      <td>25940.567472</td>\n",
       "    </tr>\n",
       "  </tbody>\n",
       "</table>\n",
       "</div>"
      ],
      "text/plain": [
       "      W_ZONE  no_hh  no_hh_chil  hh_type  hh_income  no_car   age  sex  \\\n",
       "1000      88    4.0         3.0      1.0        5.0     1.0  40.0  1.0   \n",
       "1001      88    3.0         3.0      4.0        2.0     2.0  61.0  1.0   \n",
       "1002      88    5.0         3.0      1.0        4.0     1.0  46.0  1.0   \n",
       "1003      88    4.0         4.0      2.0        6.0     1.0  49.0  1.0   \n",
       "1004      88    4.0         2.0      1.0        3.0     1.0  37.0  1.0   \n",
       "1005      88    3.0         3.0      1.0        5.0     1.0  56.0  1.0   \n",
       "1006      88    3.0         3.0      4.0        6.0     1.0  55.0  1.0   \n",
       "1007      88    4.0         4.0      2.0        5.0     1.0  41.0  1.0   \n",
       "1008      88    1.0         1.0      2.0        4.0     1.0  49.0  1.0   \n",
       "1009      88    3.0         3.0      1.0        5.0     1.0  43.0  1.0   \n",
       "\n",
       "      job_type  house_lat   house_lon   work_lat    work_lon  H_ZONE  \\\n",
       "1000       4.0  37.511534  126.902390  37.031954  127.077127   954.0   \n",
       "1001       6.0  37.000396  127.106922  37.034933  127.078710    50.0   \n",
       "1002       4.0  37.195733  127.034267  37.039019  127.077925   287.0   \n",
       "1003       6.0  37.067362  127.056343  37.037719  127.077653   130.0   \n",
       "1004       4.0  37.151695  127.078077  37.039019  127.077925   218.0   \n",
       "1005       6.0  37.053694  127.047655  37.038303  127.082699   105.0   \n",
       "1006       6.0  37.102160  127.021462  37.036618  127.077674   173.0   \n",
       "1007       6.0  37.037146  127.029241  37.035418  127.074294    86.0   \n",
       "1008       6.0  37.076516  127.064009  37.036774  127.072348   130.0   \n",
       "1009       6.0  36.989866  127.090719  37.037373  127.088846    35.0   \n",
       "\n",
       "      H_ZONE_X  H_ZONE_Y  W_ZONE_X  W_ZONE_Y             0  \n",
       "1000  191000.0  445000.0  207000.0  393000.0  25940.567472  \n",
       "1001  209000.0  389000.0  207000.0  393000.0  25940.567472  \n",
       "1002  203000.0  411000.0  207000.0  393000.0  25940.567472  \n",
       "1003  205000.0  397000.0  207000.0  393000.0  25940.567472  \n",
       "1004  207000.0  405000.0  207000.0  393000.0  25940.567472  \n",
       "1005  205000.0  395000.0  207000.0  393000.0  25940.567472  \n",
       "1006  201000.0  401000.0  207000.0  393000.0  25940.567472  \n",
       "1007  203000.0  393000.0  207000.0  393000.0  25940.567472  \n",
       "1008  205000.0  397000.0  207000.0  393000.0  25940.567472  \n",
       "1009  209000.0  387000.0  207000.0  393000.0  25940.567472  "
      ]
     },
     "execution_count": 4,
     "metadata": {},
     "output_type": "execute_result"
    }
   ],
   "source": [
    "print(len(data))\n",
    "data[1000:1010]"
   ]
  },
  {
   "cell_type": "code",
   "execution_count": 5,
   "metadata": {},
   "outputs": [
    {
     "data": {
      "text/html": [
       "<div>\n",
       "<style scoped>\n",
       "    .dataframe tbody tr th:only-of-type {\n",
       "        vertical-align: middle;\n",
       "    }\n",
       "\n",
       "    .dataframe tbody tr th {\n",
       "        vertical-align: top;\n",
       "    }\n",
       "\n",
       "    .dataframe thead th {\n",
       "        text-align: right;\n",
       "    }\n",
       "</style>\n",
       "<table border=\"1\" class=\"dataframe\">\n",
       "  <thead>\n",
       "    <tr style=\"text-align: right;\">\n",
       "      <th></th>\n",
       "      <th>W_ZONE</th>\n",
       "      <th>no_hh</th>\n",
       "      <th>no_hh_chil</th>\n",
       "      <th>hh_type</th>\n",
       "      <th>hh_income</th>\n",
       "      <th>no_car</th>\n",
       "      <th>age</th>\n",
       "      <th>sex</th>\n",
       "      <th>job_type</th>\n",
       "      <th>work_lat</th>\n",
       "      <th>work_lon</th>\n",
       "    </tr>\n",
       "  </thead>\n",
       "  <tbody>\n",
       "    <tr>\n",
       "      <th>0</th>\n",
       "      <td>0</td>\n",
       "      <td>4.0</td>\n",
       "      <td>4.0</td>\n",
       "      <td>1.0</td>\n",
       "      <td>5.0</td>\n",
       "      <td>1.0</td>\n",
       "      <td>41.0</td>\n",
       "      <td>1.0</td>\n",
       "      <td>4.0</td>\n",
       "      <td>36.115620</td>\n",
       "      <td>126.792747</td>\n",
       "    </tr>\n",
       "    <tr>\n",
       "      <th>1</th>\n",
       "      <td>0</td>\n",
       "      <td>3.0</td>\n",
       "      <td>3.0</td>\n",
       "      <td>2.0</td>\n",
       "      <td>3.0</td>\n",
       "      <td>1.0</td>\n",
       "      <td>36.0</td>\n",
       "      <td>1.0</td>\n",
       "      <td>4.0</td>\n",
       "      <td>37.335447</td>\n",
       "      <td>126.677584</td>\n",
       "    </tr>\n",
       "    <tr>\n",
       "      <th>2</th>\n",
       "      <td>0</td>\n",
       "      <td>3.0</td>\n",
       "      <td>3.0</td>\n",
       "      <td>2.0</td>\n",
       "      <td>2.0</td>\n",
       "      <td>1.0</td>\n",
       "      <td>70.0</td>\n",
       "      <td>1.0</td>\n",
       "      <td>9.0</td>\n",
       "      <td>36.975082</td>\n",
       "      <td>127.436894</td>\n",
       "    </tr>\n",
       "    <tr>\n",
       "      <th>3</th>\n",
       "      <td>0</td>\n",
       "      <td>5.0</td>\n",
       "      <td>4.0</td>\n",
       "      <td>1.0</td>\n",
       "      <td>5.0</td>\n",
       "      <td>1.0</td>\n",
       "      <td>32.0</td>\n",
       "      <td>1.0</td>\n",
       "      <td>4.0</td>\n",
       "      <td>36.847868</td>\n",
       "      <td>127.414170</td>\n",
       "    </tr>\n",
       "    <tr>\n",
       "      <th>4</th>\n",
       "      <td>0</td>\n",
       "      <td>2.0</td>\n",
       "      <td>2.0</td>\n",
       "      <td>4.0</td>\n",
       "      <td>3.0</td>\n",
       "      <td>1.0</td>\n",
       "      <td>55.0</td>\n",
       "      <td>1.0</td>\n",
       "      <td>4.0</td>\n",
       "      <td>37.967527</td>\n",
       "      <td>124.717824</td>\n",
       "    </tr>\n",
       "  </tbody>\n",
       "</table>\n",
       "</div>"
      ],
      "text/plain": [
       "   W_ZONE  no_hh  no_hh_chil  hh_type  hh_income  no_car   age  sex  job_type  \\\n",
       "0       0    4.0         4.0      1.0        5.0     1.0  41.0  1.0       4.0   \n",
       "1       0    3.0         3.0      2.0        3.0     1.0  36.0  1.0       4.0   \n",
       "2       0    3.0         3.0      2.0        2.0     1.0  70.0  1.0       9.0   \n",
       "3       0    5.0         4.0      1.0        5.0     1.0  32.0  1.0       4.0   \n",
       "4       0    2.0         2.0      4.0        3.0     1.0  55.0  1.0       4.0   \n",
       "\n",
       "    work_lat    work_lon  \n",
       "0  36.115620  126.792747  \n",
       "1  37.335447  126.677584  \n",
       "2  36.975082  127.436894  \n",
       "3  36.847868  127.414170  \n",
       "4  37.967527  124.717824  "
      ]
     },
     "execution_count": 5,
     "metadata": {},
     "output_type": "execute_result"
    }
   ],
   "source": [
    "# preprocessing\n",
    "\n",
    "# not calculating distance, simply using latitude\n",
    "x = data.iloc[:, 0:13]\n",
    "x = x.drop([\"house_lat\", \"house_lon\"], axis= 1)\n",
    "x.head()"
   ]
  },
  {
   "cell_type": "code",
   "execution_count": 6,
   "metadata": {},
   "outputs": [
    {
     "data": {
      "text/plain": [
       "W_ZONE          0\n",
       "no_hh         180\n",
       "no_hh_chil    180\n",
       "hh_type       180\n",
       "hh_income     180\n",
       "no_car        180\n",
       "age           180\n",
       "sex           180\n",
       "job_type      180\n",
       "work_lat      180\n",
       "work_lon      180\n",
       "dtype: int64"
      ]
     },
     "execution_count": 6,
     "metadata": {},
     "output_type": "execute_result"
    }
   ],
   "source": [
    "x.isnull().sum()"
   ]
  },
  {
   "cell_type": "code",
   "execution_count": 7,
   "metadata": {},
   "outputs": [],
   "source": [
    "# # Taking care of missing data\n",
    "# from sklearn.preprocessing import Imputer\n",
    "# imputer = Imputer(missing_values = 'NaN', strategy = 'mean', axis = 0)\n",
    "# imputer = imputer.fit(x.iloc[:, 1:10])\n",
    "# x.iloc[:, 1:10] = imputer.transform(x.iloc[:, 1:10])\n",
    "x = x.dropna()"
   ]
  },
  {
   "cell_type": "code",
   "execution_count": 8,
   "metadata": {},
   "outputs": [
    {
     "data": {
      "text/html": [
       "<div>\n",
       "<style scoped>\n",
       "    .dataframe tbody tr th:only-of-type {\n",
       "        vertical-align: middle;\n",
       "    }\n",
       "\n",
       "    .dataframe tbody tr th {\n",
       "        vertical-align: top;\n",
       "    }\n",
       "\n",
       "    .dataframe thead th {\n",
       "        text-align: right;\n",
       "    }\n",
       "</style>\n",
       "<table border=\"1\" class=\"dataframe\">\n",
       "  <thead>\n",
       "    <tr style=\"text-align: right;\">\n",
       "      <th></th>\n",
       "      <th>W_ZONE</th>\n",
       "      <th>no_hh</th>\n",
       "      <th>no_hh_chil</th>\n",
       "      <th>hh_type</th>\n",
       "      <th>hh_income</th>\n",
       "      <th>no_car</th>\n",
       "      <th>age</th>\n",
       "      <th>sex</th>\n",
       "      <th>job_type</th>\n",
       "      <th>work_lat</th>\n",
       "      <th>work_lon</th>\n",
       "    </tr>\n",
       "    <tr>\n",
       "      <th>hh_type</th>\n",
       "      <th></th>\n",
       "      <th></th>\n",
       "      <th></th>\n",
       "      <th></th>\n",
       "      <th></th>\n",
       "      <th></th>\n",
       "      <th></th>\n",
       "      <th></th>\n",
       "      <th></th>\n",
       "      <th></th>\n",
       "      <th></th>\n",
       "    </tr>\n",
       "  </thead>\n",
       "  <tbody>\n",
       "    <tr>\n",
       "      <th>1.0</th>\n",
       "      <td>1326</td>\n",
       "      <td>8</td>\n",
       "      <td>8</td>\n",
       "      <td>1</td>\n",
       "      <td>8</td>\n",
       "      <td>2</td>\n",
       "      <td>66</td>\n",
       "      <td>2</td>\n",
       "      <td>9</td>\n",
       "      <td>15391</td>\n",
       "      <td>15422</td>\n",
       "    </tr>\n",
       "    <tr>\n",
       "      <th>2.0</th>\n",
       "      <td>732</td>\n",
       "      <td>7</td>\n",
       "      <td>7</td>\n",
       "      <td>1</td>\n",
       "      <td>8</td>\n",
       "      <td>2</td>\n",
       "      <td>62</td>\n",
       "      <td>2</td>\n",
       "      <td>8</td>\n",
       "      <td>3594</td>\n",
       "      <td>3605</td>\n",
       "    </tr>\n",
       "    <tr>\n",
       "      <th>3.0</th>\n",
       "      <td>648</td>\n",
       "      <td>6</td>\n",
       "      <td>6</td>\n",
       "      <td>1</td>\n",
       "      <td>8</td>\n",
       "      <td>2</td>\n",
       "      <td>58</td>\n",
       "      <td>2</td>\n",
       "      <td>9</td>\n",
       "      <td>3210</td>\n",
       "      <td>3214</td>\n",
       "    </tr>\n",
       "    <tr>\n",
       "      <th>4.0</th>\n",
       "      <td>1120</td>\n",
       "      <td>7</td>\n",
       "      <td>6</td>\n",
       "      <td>1</td>\n",
       "      <td>8</td>\n",
       "      <td>2</td>\n",
       "      <td>60</td>\n",
       "      <td>2</td>\n",
       "      <td>7</td>\n",
       "      <td>6152</td>\n",
       "      <td>6173</td>\n",
       "    </tr>\n",
       "    <tr>\n",
       "      <th>5.0</th>\n",
       "      <td>246</td>\n",
       "      <td>6</td>\n",
       "      <td>5</td>\n",
       "      <td>1</td>\n",
       "      <td>7</td>\n",
       "      <td>2</td>\n",
       "      <td>50</td>\n",
       "      <td>2</td>\n",
       "      <td>7</td>\n",
       "      <td>567</td>\n",
       "      <td>566</td>\n",
       "    </tr>\n",
       "    <tr>\n",
       "      <th>6.0</th>\n",
       "      <td>93</td>\n",
       "      <td>6</td>\n",
       "      <td>5</td>\n",
       "      <td>1</td>\n",
       "      <td>6</td>\n",
       "      <td>2</td>\n",
       "      <td>47</td>\n",
       "      <td>2</td>\n",
       "      <td>6</td>\n",
       "      <td>123</td>\n",
       "      <td>123</td>\n",
       "    </tr>\n",
       "  </tbody>\n",
       "</table>\n",
       "</div>"
      ],
      "text/plain": [
       "         W_ZONE  no_hh  no_hh_chil  hh_type  hh_income  no_car  age  sex  \\\n",
       "hh_type                                                                    \n",
       "1.0        1326      8           8        1          8       2   66    2   \n",
       "2.0         732      7           7        1          8       2   62    2   \n",
       "3.0         648      6           6        1          8       2   58    2   \n",
       "4.0        1120      7           6        1          8       2   60    2   \n",
       "5.0         246      6           5        1          7       2   50    2   \n",
       "6.0          93      6           5        1          6       2   47    2   \n",
       "\n",
       "         job_type  work_lat  work_lon  \n",
       "hh_type                                \n",
       "1.0             9     15391     15422  \n",
       "2.0             8      3594      3605  \n",
       "3.0             9      3210      3214  \n",
       "4.0             7      6152      6173  \n",
       "5.0             7       567       566  \n",
       "6.0             6       123       123  "
      ]
     },
     "execution_count": 8,
     "metadata": {},
     "output_type": "execute_result"
    }
   ],
   "source": [
    "x.isnull().sum()\n",
    "x.groupby('hh_type').nunique()"
   ]
  },
  {
   "cell_type": "code",
   "execution_count": 9,
   "metadata": {},
   "outputs": [],
   "source": [
    "# save original data\n",
    "x_original = x.values"
   ]
  },
  {
   "cell_type": "code",
   "execution_count": 10,
   "metadata": {},
   "outputs": [],
   "source": [
    "# category values: hh_type, hh_income (this one is fine because of the levels)\n",
    "# Encoding categorical data\n",
    "# encode variable: hh_type, sex, job_type, W_Zone\n",
    "\n",
    "# make X a numpy array of x\n",
    "X_W = x.iloc[:, 0]\n",
    "from sklearn.preprocessing import LabelEncoder, OneHotEncoder\n",
    "\n",
    "# W_Zone\n",
    "labelencoder_X_W = LabelEncoder()\n",
    "X_W = labelencoder_X_W.fit_transform(X_W)\n",
    "onehotencoder_X_W = OneHotEncoder(categorical_features = [0])\n",
    "X_W = onehotencoder_X_W.fit_transform(X_W.reshape(-1, 1)).toarray()\n",
    "# Dummy Variable trap\n",
    "X_W = X_W[:, 1:]\n",
    "# print(len(X_W[1]))"
   ]
  },
  {
   "cell_type": "code",
   "execution_count": 11,
   "metadata": {},
   "outputs": [],
   "source": [
    "# hh_type\n",
    "X_hh = x.iloc[:, 3]\n",
    "labelencoder_X_hh = LabelEncoder()\n",
    "X_hh = labelencoder_X_hh.fit_transform(X_hh)\n",
    "onehotencoder_hh = OneHotEncoder(categorical_features = [0])\n",
    "X_hh = onehotencoder_hh.fit_transform(X_hh.reshape(-1, 1)).toarray()\n",
    "# Dummy Variable trap\n",
    "X_hh = X_hh[:, 1:]"
   ]
  },
  {
   "cell_type": "code",
   "execution_count": 12,
   "metadata": {},
   "outputs": [],
   "source": [
    "# job_type\n",
    "X_job = x.iloc[:, 8]\n",
    "labelencoder_X_job = LabelEncoder()\n",
    "X_job = labelencoder_X_job.fit_transform(X_job)\n",
    "onehotencoder_X_job = OneHotEncoder(categorical_features = [0])\n",
    "X_job = onehotencoder_X_job.fit_transform(X_job.reshape(-1, 1)).toarray()\n",
    "# Dummy Variable trap\n",
    "X_job = X_job[:, 1:]"
   ]
  },
  {
   "cell_type": "code",
   "execution_count": 13,
   "metadata": {},
   "outputs": [],
   "source": [
    "# add the variables: \n",
    "X = x.values\n",
    "# for i, x1 in enumerate(X[0]):\n",
    "#     print(\"column %s\" %i, x1)\n",
    "# take out the three columns\n",
    "X = np.delete(X, 0, axis = 1)\n",
    "X = np.delete(X, 2, axis = 1)\n",
    "X = np.delete(X, 6, axis = 1)\n",
    "X = np.append(X, X_W, axis = 1)\n",
    "X = np.append(X, X_hh, axis = 1)\n",
    "X = np.append(X, X_job, axis = 1)\n"
   ]
  },
  {
   "cell_type": "code",
   "execution_count": 14,
   "metadata": {},
   "outputs": [
    {
     "data": {
      "text/plain": [
       "'\\nSummary:\\ncolumn 0: no_hh\\ncolumn 1: no_hh_chil\\ncolumn 2: hh_income\\ncolumn 3: no_car\\ncolumn 4: age\\ncolumn 5: sex\\ncolumn 6: work_lat\\ncolumn 7: work_lon\\ncolumn 8~1570: W_ZONE\\ncolumn 1571~1575: hh_type\\ncolumn 1576~1584: job_type\\n\\n'"
      ]
     },
     "execution_count": 14,
     "metadata": {},
     "output_type": "execute_result"
    }
   ],
   "source": [
    "'''\n",
    "Summary:\n",
    "column 0: no_hh\n",
    "column 1: no_hh_chil\n",
    "column 2: hh_income\n",
    "column 3: no_car\n",
    "column 4: age\n",
    "column 5: sex\n",
    "column 6: work_lat\n",
    "column 7: work_lon\n",
    "column 8~1570: W_ZONE\n",
    "column 1571~1575: hh_type\n",
    "column 1576~1584: job_type\n",
    "\n",
    "'''"
   ]
  },
  {
   "cell_type": "code",
   "execution_count": 15,
   "metadata": {},
   "outputs": [],
   "source": [
    "# Higher Dimensions\n",
    "# higher dimensions for continuous variables: hh_income, age, no_car, no_hh\n",
    "from sklearn.preprocessing import PolynomialFeatures\n",
    "\n",
    "# no_hh\n",
    "X_no_hh = X[:, 0]\n",
    "poly_reg_no_hh = PolynomialFeatures(degree = 4)\n",
    "X_no_hh = poly_reg_no_hh.fit_transform(X_no_hh.reshape(-1, 1))\n",
    "X_no_hh = np.delete(X_no_hh, 0, axis = 1)\n",
    "X_no_hh = np.delete(X_no_hh, 0, axis = 1)\n",
    "\n",
    "X = np.append(X, X_no_hh, axis = 1)\n"
   ]
  },
  {
   "cell_type": "code",
   "execution_count": 16,
   "metadata": {},
   "outputs": [
    {
     "data": {
      "text/plain": [
       "'\\ncolumn 1585~1587: poly no_hh\\n'"
      ]
     },
     "execution_count": 16,
     "metadata": {},
     "output_type": "execute_result"
    }
   ],
   "source": [
    "\n",
    "'''\n",
    "column 1585~1587: poly no_hh\n",
    "'''"
   ]
  },
  {
   "cell_type": "code",
   "execution_count": 17,
   "metadata": {},
   "outputs": [],
   "source": [
    "# hh_income\n",
    "X_hh_income = X[:, 2]\n",
    "poly_reg_hh_income = PolynomialFeatures(degree = 4)\n",
    "X_hh_income = poly_reg_hh_income.fit_transform(X_hh_income.reshape(-1, 1))\n",
    "X_hh_income = np.delete(X_hh_income, 0, axis = 1)\n",
    "X_hh_income = np.delete(X_hh_income, 0, axis = 1)\n",
    "\n",
    "X = np.append(X, X_hh_income, axis = 1)\n",
    "\n"
   ]
  },
  {
   "cell_type": "code",
   "execution_count": 18,
   "metadata": {},
   "outputs": [
    {
     "data": {
      "text/plain": [
       "'\\ncolumn 1588~1590: poly hh_income\\n'"
      ]
     },
     "execution_count": 18,
     "metadata": {},
     "output_type": "execute_result"
    }
   ],
   "source": [
    "'''\n",
    "column 1588~1590: poly hh_income\n",
    "'''"
   ]
  },
  {
   "cell_type": "code",
   "execution_count": 19,
   "metadata": {},
   "outputs": [],
   "source": [
    "# age\n",
    "X_age = X[:, 4]\n",
    "poly_reg_age = PolynomialFeatures(degree = 4)\n",
    "X_age = poly_reg_age.fit_transform(X_age.reshape(-1, 1))\n",
    "X_age = np.delete(X_age, 0, axis = 1)\n",
    "X_age = np.delete(X_age, 0, axis = 1)\n",
    "\n",
    "X = np.append(X, X_age, axis = 1)\n",
    "\n"
   ]
  },
  {
   "cell_type": "code",
   "execution_count": 20,
   "metadata": {},
   "outputs": [
    {
     "data": {
      "text/plain": [
       "'\\ncolumn 1591~1593: poly X_age\\n'"
      ]
     },
     "execution_count": 20,
     "metadata": {},
     "output_type": "execute_result"
    }
   ],
   "source": [
    "'''\n",
    "column 1591~1593: poly X_age\n",
    "'''"
   ]
  },
  {
   "cell_type": "code",
   "execution_count": 21,
   "metadata": {},
   "outputs": [],
   "source": [
    "# no_car\n",
    "X_no_car = X[:, 3]\n",
    "poly_reg_car = PolynomialFeatures(degree = 4)\n",
    "X_no_car = poly_reg_car.fit_transform(X_no_car.reshape(-1, 1))\n",
    "X_no_car = np.delete(X_no_car, 0, axis = 1)\n",
    "X_no_car = np.delete(X_no_car, 0, axis = 1)\n",
    "\n",
    "X = np.append(X, X_no_car, axis = 1)"
   ]
  },
  {
   "cell_type": "code",
   "execution_count": 26,
   "metadata": {},
   "outputs": [
    {
     "data": {
      "text/plain": [
       "'\\ncolumn 1594~1596: poly X_age\\n'"
      ]
     },
     "execution_count": 26,
     "metadata": {},
     "output_type": "execute_result"
    }
   ],
   "source": [
    "'''\n",
    "column 1594~1596: poly X_age\n",
    "'''"
   ]
  },
  {
   "cell_type": "code",
   "execution_count": 27,
   "metadata": {},
   "outputs": [
    {
     "data": {
      "text/html": [
       "<div>\n",
       "<style scoped>\n",
       "    .dataframe tbody tr th:only-of-type {\n",
       "        vertical-align: middle;\n",
       "    }\n",
       "\n",
       "    .dataframe tbody tr th {\n",
       "        vertical-align: top;\n",
       "    }\n",
       "\n",
       "    .dataframe thead th {\n",
       "        text-align: right;\n",
       "    }\n",
       "</style>\n",
       "<table border=\"1\" class=\"dataframe\">\n",
       "  <thead>\n",
       "    <tr style=\"text-align: right;\">\n",
       "      <th></th>\n",
       "      <th>house_lat</th>\n",
       "      <th>house_lon</th>\n",
       "    </tr>\n",
       "  </thead>\n",
       "  <tbody>\n",
       "    <tr>\n",
       "      <th>0</th>\n",
       "      <td>37.453952</td>\n",
       "      <td>126.716877</td>\n",
       "    </tr>\n",
       "    <tr>\n",
       "      <th>1</th>\n",
       "      <td>37.465845</td>\n",
       "      <td>126.717234</td>\n",
       "    </tr>\n",
       "    <tr>\n",
       "      <th>2</th>\n",
       "      <td>37.229621</td>\n",
       "      <td>127.284122</td>\n",
       "    </tr>\n",
       "    <tr>\n",
       "      <th>3</th>\n",
       "      <td>37.623500</td>\n",
       "      <td>127.083187</td>\n",
       "    </tr>\n",
       "    <tr>\n",
       "      <th>4</th>\n",
       "      <td>37.469676</td>\n",
       "      <td>126.644354</td>\n",
       "    </tr>\n",
       "  </tbody>\n",
       "</table>\n",
       "</div>"
      ],
      "text/plain": [
       "   house_lat   house_lon\n",
       "0  37.453952  126.716877\n",
       "1  37.465845  126.717234\n",
       "2  37.229621  127.284122\n",
       "3  37.623500  127.083187\n",
       "4  37.469676  126.644354"
      ]
     },
     "execution_count": 27,
     "metadata": {},
     "output_type": "execute_result"
    }
   ],
   "source": [
    "y = data.loc[:, [\"house_lat\", \"house_lon\"]]\n",
    "y.head()"
   ]
  },
  {
   "cell_type": "code",
   "execution_count": 28,
   "metadata": {},
   "outputs": [
    {
     "data": {
      "text/plain": [
       "house_lat    180\n",
       "house_lon    180\n",
       "dtype: int64"
      ]
     },
     "execution_count": 28,
     "metadata": {},
     "output_type": "execute_result"
    }
   ],
   "source": [
    "y.isnull().sum()"
   ]
  },
  {
   "cell_type": "code",
   "execution_count": 30,
   "metadata": {},
   "outputs": [],
   "source": [
    "# # Taking care of missing data\n",
    "# from sklearn.preprocessing import Imputer\n",
    "# imputer = Imputer(missing_values = 'NaN', strategy = 'mean', axis = 0)\n",
    "# imputer = imputer.fit(y)\n",
    "# y = imputer.transform(y)\n",
    "y = y.dropna()\n",
    "Y = y.values"
   ]
  },
  {
   "cell_type": "code",
   "execution_count": 31,
   "metadata": {},
   "outputs": [],
   "source": [
    "# Splitting the dataset into the Training set and Test set (original dataset for random forest and SVM)\n",
    "from sklearn.model_selection import train_test_split\n",
    "X_train, X_test, y_train, y_test = train_test_split(x_original, Y, test_size = 0.2, random_state = 0)"
   ]
  },
  {
   "cell_type": "code",
   "execution_count": 34,
   "metadata": {},
   "outputs": [],
   "source": [
    "# Feature Scaling (Standardization)\n",
    "from sklearn.preprocessing import StandardScaler\n",
    "sc = StandardScaler()\n",
    "X_train = sc.fit_transform(X_train)\n",
    "X_test = sc.transform(X_test)\n",
    "# Normalization\n",
    "# from sklearn.preprocessing import MinMaxScaler\n",
    "# sc = MinMaxScaler(feature_range = (0, 1))\n",
    "# X_train = sc.fit_transform(X_train)\n",
    "# X_test = sc.transform(X_test)"
   ]
  },
  {
   "cell_type": "code",
   "execution_count": 35,
   "metadata": {},
   "outputs": [
    {
     "data": {
      "text/plain": [
       "RandomForestRegressor(bootstrap=True, criterion='mse', max_depth=None,\n",
       "           max_features='auto', max_leaf_nodes=None,\n",
       "           min_impurity_decrease=0.0, min_impurity_split=None,\n",
       "           min_samples_leaf=1, min_samples_split=2,\n",
       "           min_weight_fraction_leaf=0.0, n_estimators=50, n_jobs=1,\n",
       "           oob_score=False, random_state=0, verbose=0, warm_start=False)"
      ]
     },
     "execution_count": 35,
     "metadata": {},
     "output_type": "execute_result"
    }
   ],
   "source": [
    "# Random Forest Regression\n",
    "# Fitting the Random Forest Regression Model to the dataset\n",
    "from sklearn.ensemble import RandomForestRegressor\n",
    "regressor = RandomForestRegressor(n_estimators = 50, random_state = 0)\n",
    "regressor.fit(X_train, y_train)"
   ]
  },
  {
   "cell_type": "code",
   "execution_count": 36,
   "metadata": {},
   "outputs": [],
   "source": [
    "y_pred = regressor.predict(X_test)"
   ]
  },
  {
   "cell_type": "code",
   "execution_count": 37,
   "metadata": {},
   "outputs": [],
   "source": [
    "prediction = pd.DataFrame({'house_lat': y_test[:, 0],'house_lon':y_test[:, 1],\n",
    "                            'house_lat (pred)': y_pred[:,0], 'house_lon (pred)': y_pred[:,1]})"
   ]
  },
  {
   "cell_type": "code",
   "execution_count": 38,
   "metadata": {},
   "outputs": [],
   "source": [
    "# accuracy based on distance\n",
    "def accuracy(pred):\n",
    "    sum_error = 0\n",
    "    for i in range(len(pred)):\n",
    "        deltax = pred.iloc[i][0]-pred.iloc[i][2]\n",
    "        deltay = pred.iloc[i][1]-pred.iloc[i][3]\n",
    "        error = (deltax**2 + deltay**2)**(0.5)\n",
    "        sum_error += error\n",
    "    return sum_error\n",
    "\n",
    "def ind_diff(pred):\n",
    "    diff = []\n",
    "    for i in range(len(pred)):\n",
    "        deltax = pred.iloc[i][0]-pred.iloc[i][2]\n",
    "        deltay = pred.iloc[i][1]-pred.iloc[i][3]\n",
    "        error = (deltax**2 + deltay**2)**(0.5)\n",
    "        diff.append(error)\n",
    "    return pd.DataFrame({'Difference': diff})\n"
   ]
  },
  {
   "cell_type": "code",
   "execution_count": 39,
   "metadata": {},
   "outputs": [
    {
     "data": {
      "text/plain": [
       "836.4854723538451"
      ]
     },
     "execution_count": 39,
     "metadata": {},
     "output_type": "execute_result"
    }
   ],
   "source": [
    "accuracy(prediction)"
   ]
  },
  {
   "cell_type": "code",
   "execution_count": 41,
   "metadata": {},
   "outputs": [],
   "source": [
    "difference = ind_diff(prediction)"
   ]
  },
  {
   "cell_type": "code",
   "execution_count": 42,
   "metadata": {},
   "outputs": [
    {
     "data": {
      "image/png": "[encoded data removed]",
      "text/plain": [
       "<Figure size 432x288 with 1 Axes>"
      ]
     },
     "metadata": {
      "needs_background": "light"
     },
     "output_type": "display_data"
    }
   ],
   "source": [
    "plt.scatter(y_test[:, 0], y_test[:, 1], color = \"red\", label = 'Actual')\n",
    "plt.scatter(y_pred[:, 0], y_pred[:, 1], color = \"blue\", label = 'Prediction')\n",
    "plt.title('Regression')\n",
    "plt.xlabel('Lat')\n",
    "plt.ylabel('Lon')\n",
    "plt.legend(loc='upper left')\n",
    "plt.show()"
   ]
  },
  {
   "cell_type": "code",
   "execution_count": 43,
   "metadata": {},
   "outputs": [
    {
     "data": {
      "text/plain": [
       "MultiOutputRegressor(estimator=SVR(C=1.0, cache_size=200, coef0=0.0, degree=3, epsilon=0.1, gamma='auto',\n",
       "  kernel='rbf', max_iter=-1, shrinking=True, tol=0.001, verbose=False),\n",
       "           n_jobs=1)"
      ]
     },
     "execution_count": 43,
     "metadata": {},
     "output_type": "execute_result"
    }
   ],
   "source": [
    "# SVR\n",
    "from sklearn.svm import SVR\n",
    "from sklearn.multioutput import MultiOutputRegressor\n",
    "\n",
    "Svr = SVR(kernel = 'rbf')\n",
    "regressor = MultiOutputRegressor(Svr)\n",
    "regressor.fit(X_train, y_train)"
   ]
  },
  {
   "cell_type": "code",
   "execution_count": 44,
   "metadata": {},
   "outputs": [],
   "source": [
    "y_pred = regressor.predict(X_test)"
   ]
  },
  {
   "cell_type": "code",
   "execution_count": 45,
   "metadata": {},
   "outputs": [],
   "source": [
    "prediction = pd.DataFrame({'house_lat': y_test[:, 0],'house_lon':y_test[:, 1],\n",
    "                            'house_lat (pred)': y_pred[:,0], 'house_lon (pred)': y_pred[:,1]})"
   ]
  },
  {
   "cell_type": "code",
   "execution_count": 46,
   "metadata": {},
   "outputs": [
    {
     "data": {
      "text/plain": [
       "910.6093555314995"
      ]
     },
     "execution_count": 46,
     "metadata": {},
     "output_type": "execute_result"
    }
   ],
   "source": [
    "accuracy(prediction)"
   ]
  },
  {
   "cell_type": "code",
   "execution_count": 47,
   "metadata": {},
   "outputs": [],
   "source": [
    "difference = ind_diff(prediction)"
   ]
  },
  {
   "cell_type": "code",
   "execution_count": 48,
   "metadata": {},
   "outputs": [
    {
     "data": {
      "text/html": [
       "<div>\n",
       "<style scoped>\n",
       "    .dataframe tbody tr th:only-of-type {\n",
       "        vertical-align: middle;\n",
       "    }\n",
       "\n",
       "    .dataframe tbody tr th {\n",
       "        vertical-align: top;\n",
       "    }\n",
       "\n",
       "    .dataframe thead th {\n",
       "        text-align: right;\n",
       "    }\n",
       "</style>\n",
       "<table border=\"1\" class=\"dataframe\">\n",
       "  <thead>\n",
       "    <tr style=\"text-align: right;\">\n",
       "      <th></th>\n",
       "      <th>Difference</th>\n",
       "    </tr>\n",
       "  </thead>\n",
       "  <tbody>\n",
       "    <tr>\n",
       "      <th>0</th>\n",
       "      <td>0.137248</td>\n",
       "    </tr>\n",
       "    <tr>\n",
       "      <th>1</th>\n",
       "      <td>0.100202</td>\n",
       "    </tr>\n",
       "    <tr>\n",
       "      <th>2</th>\n",
       "      <td>0.046312</td>\n",
       "    </tr>\n",
       "    <tr>\n",
       "      <th>3</th>\n",
       "      <td>0.328649</td>\n",
       "    </tr>\n",
       "    <tr>\n",
       "      <th>4</th>\n",
       "      <td>0.223936</td>\n",
       "    </tr>\n",
       "  </tbody>\n",
       "</table>\n",
       "</div>"
      ],
      "text/plain": [
       "   Difference\n",
       "0    0.137248\n",
       "1    0.100202\n",
       "2    0.046312\n",
       "3    0.328649\n",
       "4    0.223936"
      ]
     },
     "execution_count": 48,
     "metadata": {},
     "output_type": "execute_result"
    }
   ],
   "source": [
    "difference.head()"
   ]
  },
  {
   "cell_type": "code",
   "execution_count": 49,
   "metadata": {},
   "outputs": [
    {
     "data": {
      "image/png": "[encoded data removed]",
      "text/plain": [
       "<Figure size 432x288 with 1 Axes>"
      ]
     },
     "metadata": {
      "needs_background": "light"
     },
     "output_type": "display_data"
    }
   ],
   "source": [
    "plt.scatter(y_test[:, 0], y_test[:, 1], color = \"red\", label = 'Actual')\n",
    "plt.scatter(y_pred[:, 0], y_pred[:, 1], color = \"blue\", label = 'Prediction')\n",
    "plt.title('Regression')\n",
    "plt.xlabel('Lat')\n",
    "plt.ylabel('Lon')\n",
    "plt.legend(loc='upper left')\n",
    "plt.show()"
   ]
  },
  {
   "cell_type": "code",
   "execution_count": 62,
   "metadata": {},
   "outputs": [],
   "source": [
    "# Importing the Keras libraries and packages\n",
    "import keras\n",
    "from keras.models import Sequential\n",
    "from keras.layers import Dense, Dropout"
   ]
  },
  {
   "cell_type": "code",
   "execution_count": 68,
   "metadata": {},
   "outputs": [
    {
     "name": "stdout",
     "output_type": "stream",
     "text": [
      "_________________________________________________________________\n",
      "Layer (type)                 Output Shape              Param #   \n",
      "=================================================================\n",
      "dense_9 (Dense)              (None, 32)                51136     \n",
      "_________________________________________________________________\n",
      "dropout_7 (Dropout)          (None, 32)                0         \n",
      "_________________________________________________________________\n",
      "dense_10 (Dense)             (None, 64)                2112      \n",
      "_________________________________________________________________\n",
      "dropout_8 (Dropout)          (None, 64)                0         \n",
      "_________________________________________________________________\n",
      "dense_11 (Dense)             (None, 64)                4160      \n",
      "_________________________________________________________________\n",
      "dropout_9 (Dropout)          (None, 64)                0         \n",
      "_________________________________________________________________\n",
      "dense_12 (Dense)             (None, 2)                 130       \n",
      "=================================================================\n",
      "Total params: 57,538\n",
      "Trainable params: 57,538\n",
      "Non-trainable params: 0\n",
      "_________________________________________________________________\n"
     ]
    }
   ],
   "source": [
    "# Initialising the ANN\n",
    "regressor = Sequential()\n",
    "\n",
    "# Adding the input layer and the first hidden layer\n",
    "regressor.add(Dense(units = 32, kernel_initializer = 'uniform', activation = 'relu', input_dim = 1597))\n",
    "regressor.add(Dropout(0.3))\n",
    "\n",
    "# Adding the second hidden layer\n",
    "regressor.add(Dense(units = 64, kernel_initializer = 'uniform', activation = 'relu'))\n",
    "regressor.add(Dropout(0.3))\n",
    "\n",
    "# Adding the third hidden layer\n",
    "regressor.add(Dense(units = 64, kernel_initializer = 'uniform', activation = 'relu'))\n",
    "regressor.add(Dropout(0.3))\n",
    "\n",
    "# Adding the output layer\n",
    "regressor.add(Dense(units = 2, kernel_initializer = 'uniform', activation = 'linear'))\n",
    "\n",
    "# Compiling the ANN\n",
    "sgd = keras.optimizers.SGD(lr=0.05, nesterov = True)\n",
    "regressor.compile(optimizer = sgd, loss = 'mean_squared_error', metrics = ['mae'])\n",
    "regressor.summary()"
   ]
  },
  {
   "cell_type": "code",
   "execution_count": 208,
   "metadata": {},
   "outputs": [],
   "source": [
    "# X_train, X_test, y_train, y_test = train_test_split(X, Y, test_size = 0.2, random_state = 0)\n",
    "# from sklearn.preprocessing import MinMaxScaler\n",
    "# sc = MinMaxScaler(feature_range = (0, 1))\n",
    "# X_train = sc.fit_transform(X_train)\n",
    "# X_test = sc.transform(X_test)"
   ]
  },
  {
   "cell_type": "code",
   "execution_count": 69,
   "metadata": {},
   "outputs": [],
   "source": [
    "Y_standardized = np.zeros((len(Y), 2))\n",
    "Y_standardized[:,0] = (Y[:,0] - np.mean(Y[:,0]))/ np.std(Y[:,0])\n",
    "Y_standardized[:,1] = (Y[:,1] - np.mean(Y[:,1]))/ np.std(Y[:,1])"
   ]
  },
  {
   "cell_type": "code",
   "execution_count": 70,
   "metadata": {},
   "outputs": [],
   "source": [
    "# processed dataset with dummy variables and polynomials as well as standardized outcomes\n",
    "X_train, X_test, y_train, y_test = train_test_split(X, Y_standardized, test_size = 0.2, random_state = 0)\n",
    "from sklearn.preprocessing import MinMaxScaler\n",
    "sc = MinMaxScaler(feature_range = (0, 1))\n",
    "X_train = sc.fit_transform(X_train)\n",
    "X_test = sc.transform(X_test)\n",
    "# sc = StandardScaler()\n",
    "# X_train = sc.fit_transform(X_train)\n",
    "# X_test = sc.transform(X_test)"
   ]
  },
  {
   "cell_type": "code",
   "execution_count": 71,
   "metadata": {
    "scrolled": true
   },
   "outputs": [
    {
     "name": "stdout",
     "output_type": "stream",
     "text": [
      "Epoch 1/100\n",
      "37342/37342 [==============================] - 1s 35us/step - loss: 0.9978 - mean_absolute_error: 0.7602\n",
      "Epoch 2/100\n",
      "37342/37342 [==============================] - 1s 26us/step - loss: 0.9979 - mean_absolute_error: 0.7601\n",
      "Epoch 3/100\n",
      "37342/37342 [==============================] - 1s 27us/step - loss: 0.9978 - mean_absolute_error: 0.7603\n",
      "Epoch 4/100\n",
      "37342/37342 [==============================] - 1s 26us/step - loss: 0.9978 - mean_absolute_error: 0.7602\n",
      "Epoch 5/100\n",
      "37342/37342 [==============================] - 1s 27us/step - loss: 0.9978 - mean_absolute_error: 0.7601\n",
      "Epoch 6/100\n",
      "37342/37342 [==============================] - 1s 29us/step - loss: 0.9976 - mean_absolute_error: 0.7601\n",
      "Epoch 7/100\n",
      "37342/37342 [==============================] - 1s 26us/step - loss: 0.9976 - mean_absolute_error: 0.7601\n",
      "Epoch 8/100\n",
      "37342/37342 [==============================] - 1s 26us/step - loss: 0.9975 - mean_absolute_error: 0.7602\n",
      "Epoch 9/100\n",
      "37342/37342 [==============================] - 1s 26us/step - loss: 0.9973 - mean_absolute_error: 0.7601\n",
      "Epoch 10/100\n",
      "37342/37342 [==============================] - 1s 27us/step - loss: 0.9969 - mean_absolute_error: 0.7598\n",
      "Epoch 11/100\n",
      "37342/37342 [==============================] - 1s 31us/step - loss: 0.9953 - mean_absolute_error: 0.7593\n",
      "Epoch 12/100\n",
      "37342/37342 [==============================] - 1s 30us/step - loss: 0.9873 - mean_absolute_error: 0.7563\n",
      "Epoch 13/100\n",
      "37342/37342 [==============================] - 1s 33us/step - loss: 0.9283 - mean_absolute_error: 0.7329\n",
      "Epoch 14/100\n",
      "37342/37342 [==============================] - 1s 27us/step - loss: 0.8206 - mean_absolute_error: 0.6903\n",
      "Epoch 15/100\n",
      "37342/37342 [==============================] - 1s 31us/step - loss: 0.7326 - mean_absolute_error: 0.6451\n",
      "Epoch 16/100\n",
      "37342/37342 [==============================] - 1s 27us/step - loss: 0.6487 - mean_absolute_error: 0.6011\n",
      "Epoch 17/100\n",
      "37342/37342 [==============================] - 1s 25us/step - loss: 0.5430 - mean_absolute_error: 0.5502\n",
      "Epoch 18/100\n",
      "37342/37342 [==============================] - 1s 25us/step - loss: 0.4684 - mean_absolute_error: 0.5069\n",
      "Epoch 19/100\n",
      "37342/37342 [==============================] - 1s 26us/step - loss: 0.4297 - mean_absolute_error: 0.4823\n",
      "Epoch 20/100\n",
      "37342/37342 [==============================] - 1s 25us/step - loss: 0.4038 - mean_absolute_error: 0.4666\n",
      "Epoch 21/100\n",
      "37342/37342 [==============================] - 1s 26us/step - loss: 0.3926 - mean_absolute_error: 0.4571\n",
      "Epoch 22/100\n",
      "37342/37342 [==============================] - 1s 29us/step - loss: 0.3771 - mean_absolute_error: 0.4473\n",
      "Epoch 23/100\n",
      "37342/37342 [==============================] - 1s 30us/step - loss: 0.3713 - mean_absolute_error: 0.4434\n",
      "Epoch 24/100\n",
      "37342/37342 [==============================] - 1s 33us/step - loss: 0.3672 - mean_absolute_error: 0.4407\n",
      "Epoch 25/100\n",
      "37342/37342 [==============================] - 1s 30us/step - loss: 0.3582 - mean_absolute_error: 0.4346\n",
      "Epoch 26/100\n",
      "37342/37342 [==============================] - 1s 27us/step - loss: 0.3578 - mean_absolute_error: 0.4327\n",
      "Epoch 27/100\n",
      "37342/37342 [==============================] - 1s 28us/step - loss: 0.3521 - mean_absolute_error: 0.4297\n",
      "Epoch 28/100\n",
      "37342/37342 [==============================] - 1s 27us/step - loss: 0.3514 - mean_absolute_error: 0.4281\n",
      "Epoch 29/100\n",
      "37342/37342 [==============================] - 1s 27us/step - loss: 0.3426 - mean_absolute_error: 0.4231\n",
      "Epoch 30/100\n",
      "37342/37342 [==============================] - 1s 26us/step - loss: 0.3438 - mean_absolute_error: 0.4239\n",
      "Epoch 31/100\n",
      "37342/37342 [==============================] - 1s 27us/step - loss: 0.3432 - mean_absolute_error: 0.4214\n",
      "Epoch 32/100\n",
      "37342/37342 [==============================] - 1s 27us/step - loss: 0.3392 - mean_absolute_error: 0.4196\n",
      "Epoch 33/100\n",
      "37342/37342 [==============================] - 1s 32us/step - loss: 0.3367 - mean_absolute_error: 0.4193\n",
      "Epoch 34/100\n",
      "37342/37342 [==============================] - 1s 36us/step - loss: 0.3359 - mean_absolute_error: 0.4176\n",
      "Epoch 35/100\n",
      "37342/37342 [==============================] - 1s 34us/step - loss: 0.3324 - mean_absolute_error: 0.4146\n",
      "Epoch 36/100\n",
      "37342/37342 [==============================] - 1s 31us/step - loss: 0.3305 - mean_absolute_error: 0.4139\n",
      "Epoch 37/100\n",
      "37342/37342 [==============================] - 1s 27us/step - loss: 0.3283 - mean_absolute_error: 0.4127\n",
      "Epoch 38/100\n",
      "37342/37342 [==============================] - 1s 28us/step - loss: 0.3280 - mean_absolute_error: 0.4116\n",
      "Epoch 39/100\n",
      "37342/37342 [==============================] - 1s 30us/step - loss: 0.3273 - mean_absolute_error: 0.4104\n",
      "Epoch 40/100\n",
      "37342/37342 [==============================] - 1s 35us/step - loss: 0.3234 - mean_absolute_error: 0.4088\n",
      "Epoch 41/100\n",
      "37342/37342 [==============================] - 1s 30us/step - loss: 0.3223 - mean_absolute_error: 0.4078\n",
      "Epoch 42/100\n",
      "37342/37342 [==============================] - 1s 28us/step - loss: 0.3230 - mean_absolute_error: 0.4083\n",
      "Epoch 43/100\n",
      "37342/37342 [==============================] - 1s 32us/step - loss: 0.3192 - mean_absolute_error: 0.4060\n",
      "Epoch 44/100\n",
      "37342/37342 [==============================] - 1s 32us/step - loss: 0.3173 - mean_absolute_error: 0.4046\n",
      "Epoch 45/100\n",
      "37342/37342 [==============================] - 1s 31us/step - loss: 0.3171 - mean_absolute_error: 0.4053\n",
      "Epoch 46/100\n",
      "37342/37342 [==============================] - 1s 27us/step - loss: 0.3146 - mean_absolute_error: 0.4040\n",
      "Epoch 47/100\n",
      "37342/37342 [==============================] - 1s 29us/step - loss: 0.3146 - mean_absolute_error: 0.4035\n",
      "Epoch 48/100\n",
      "37342/37342 [==============================] - 1s 29us/step - loss: 0.3140 - mean_absolute_error: 0.4028\n",
      "Epoch 49/100\n",
      "37342/37342 [==============================] - 1s 37us/step - loss: 0.3128 - mean_absolute_error: 0.4011\n",
      "Epoch 50/100\n",
      "37342/37342 [==============================] - 1s 35us/step - loss: 0.3117 - mean_absolute_error: 0.4016\n",
      "Epoch 51/100\n",
      "37342/37342 [==============================] - 1s 31us/step - loss: 0.3114 - mean_absolute_error: 0.4016\n",
      "Epoch 52/100\n",
      "37342/37342 [==============================] - 1s 33us/step - loss: 0.3104 - mean_absolute_error: 0.3995\n",
      "Epoch 53/100\n",
      "37342/37342 [==============================] - 1s 30us/step - loss: 0.3090 - mean_absolute_error: 0.3995\n",
      "Epoch 54/100\n",
      "37342/37342 [==============================] - 1s 31us/step - loss: 0.3090 - mean_absolute_error: 0.3996\n",
      "Epoch 55/100\n",
      "37342/37342 [==============================] - 1s 29us/step - loss: 0.3097 - mean_absolute_error: 0.3987\n",
      "Epoch 56/100\n",
      "37342/37342 [==============================] - 1s 28us/step - loss: 0.3083 - mean_absolute_error: 0.3986\n",
      "Epoch 57/100\n",
      "37342/37342 [==============================] - 1s 28us/step - loss: 0.3053 - mean_absolute_error: 0.3966\n",
      "Epoch 58/100\n",
      "37342/37342 [==============================] - 1s 28us/step - loss: 0.3057 - mean_absolute_error: 0.3978\n",
      "Epoch 59/100\n",
      "37342/37342 [==============================] - 1s 27us/step - loss: 0.3073 - mean_absolute_error: 0.3981\n",
      "Epoch 60/100\n",
      "37342/37342 [==============================] - 1s 27us/step - loss: 0.3043 - mean_absolute_error: 0.3959\n",
      "Epoch 61/100\n",
      "37342/37342 [==============================] - 1s 27us/step - loss: 0.3046 - mean_absolute_error: 0.3960\n",
      "Epoch 62/100\n",
      "37342/37342 [==============================] - 1s 27us/step - loss: 0.3025 - mean_absolute_error: 0.3945\n",
      "Epoch 63/100\n",
      "37342/37342 [==============================] - 1s 28us/step - loss: 0.3014 - mean_absolute_error: 0.3943\n",
      "Epoch 64/100\n",
      "37342/37342 [==============================] - 1s 27us/step - loss: 0.3016 - mean_absolute_error: 0.3939\n",
      "Epoch 65/100\n",
      "37342/37342 [==============================] - 1s 27us/step - loss: 0.3033 - mean_absolute_error: 0.3947\n",
      "Epoch 66/100\n",
      "37342/37342 [==============================] - 1s 27us/step - loss: 0.3001 - mean_absolute_error: 0.3928\n",
      "Epoch 67/100\n",
      "37342/37342 [==============================] - 1s 27us/step - loss: 0.2998 - mean_absolute_error: 0.3930\n",
      "Epoch 68/100\n",
      "37342/37342 [==============================] - 1s 27us/step - loss: 0.2971 - mean_absolute_error: 0.3916\n",
      "Epoch 69/100\n",
      "37342/37342 [==============================] - 1s 35us/step - loss: 0.2984 - mean_absolute_error: 0.3916\n",
      "Epoch 70/100\n"
     ]
    },
    {
     "name": "stdout",
     "output_type": "stream",
     "text": [
      "37342/37342 [==============================] - 1s 30us/step - loss: 0.2985 - mean_absolute_error: 0.3915\n",
      "Epoch 71/100\n",
      "37342/37342 [==============================] - 1s 32us/step - loss: 0.2991 - mean_absolute_error: 0.3916\n",
      "Epoch 72/100\n",
      "37342/37342 [==============================] - 1s 34us/step - loss: 0.2984 - mean_absolute_error: 0.3909\n",
      "Epoch 73/100\n",
      "37342/37342 [==============================] - 1s 27us/step - loss: 0.2953 - mean_absolute_error: 0.3893\n",
      "Epoch 74/100\n",
      "37342/37342 [==============================] - 1s 32us/step - loss: 0.2966 - mean_absolute_error: 0.3911\n",
      "Epoch 75/100\n",
      "37342/37342 [==============================] - 1s 34us/step - loss: 0.2969 - mean_absolute_error: 0.3908\n",
      "Epoch 76/100\n",
      "37342/37342 [==============================] - 1s 33us/step - loss: 0.2948 - mean_absolute_error: 0.3892\n",
      "Epoch 77/100\n",
      "37342/37342 [==============================] - 1s 30us/step - loss: 0.2958 - mean_absolute_error: 0.3900\n",
      "Epoch 78/100\n",
      "37342/37342 [==============================] - 1s 31us/step - loss: 0.2957 - mean_absolute_error: 0.3889\n",
      "Epoch 79/100\n",
      "37342/37342 [==============================] - 1s 34us/step - loss: 0.2957 - mean_absolute_error: 0.3890\n",
      "Epoch 80/100\n",
      "37342/37342 [==============================] - 1s 29us/step - loss: 0.2960 - mean_absolute_error: 0.3896\n",
      "Epoch 81/100\n",
      "37342/37342 [==============================] - 1s 27us/step - loss: 0.2946 - mean_absolute_error: 0.3887\n",
      "Epoch 82/100\n",
      "37342/37342 [==============================] - 1s 35us/step - loss: 0.2950 - mean_absolute_error: 0.3895\n",
      "Epoch 83/100\n",
      "37342/37342 [==============================] - 1s 29us/step - loss: 0.2919 - mean_absolute_error: 0.3874\n",
      "Epoch 84/100\n",
      "37342/37342 [==============================] - 1s 27us/step - loss: 0.2928 - mean_absolute_error: 0.3886\n",
      "Epoch 85/100\n",
      "37342/37342 [==============================] - 1s 27us/step - loss: 0.2929 - mean_absolute_error: 0.3873\n",
      "Epoch 86/100\n",
      "37342/37342 [==============================] - 1s 27us/step - loss: 0.2916 - mean_absolute_error: 0.3878\n",
      "Epoch 87/100\n",
      "37342/37342 [==============================] - 1s 27us/step - loss: 0.2933 - mean_absolute_error: 0.3878\n",
      "Epoch 88/100\n",
      "37342/37342 [==============================] - 1s 27us/step - loss: 0.2915 - mean_absolute_error: 0.3867\n",
      "Epoch 89/100\n",
      "37342/37342 [==============================] - 1s 27us/step - loss: 0.2900 - mean_absolute_error: 0.3861\n",
      "Epoch 90/100\n",
      "37342/37342 [==============================] - 1s 27us/step - loss: 0.2907 - mean_absolute_error: 0.3867\n",
      "Epoch 91/100\n",
      "37342/37342 [==============================] - 1s 27us/step - loss: 0.2892 - mean_absolute_error: 0.3850\n",
      "Epoch 92/100\n",
      "37342/37342 [==============================] - 1s 27us/step - loss: 0.2900 - mean_absolute_error: 0.3848\n",
      "Epoch 93/100\n",
      "37342/37342 [==============================] - 1s 26us/step - loss: 0.2904 - mean_absolute_error: 0.3857\n",
      "Epoch 94/100\n",
      "37342/37342 [==============================] - 1s 30us/step - loss: 0.2907 - mean_absolute_error: 0.3856\n",
      "Epoch 95/100\n",
      "37342/37342 [==============================] - 1s 36us/step - loss: 0.2878 - mean_absolute_error: 0.3840\n",
      "Epoch 96/100\n",
      "37342/37342 [==============================] - 1s 32us/step - loss: 0.2901 - mean_absolute_error: 0.3858\n",
      "Epoch 97/100\n",
      "37342/37342 [==============================] - 1s 31us/step - loss: 0.2893 - mean_absolute_error: 0.3840\n",
      "Epoch 98/100\n",
      "37342/37342 [==============================] - 1s 32us/step - loss: 0.2906 - mean_absolute_error: 0.3851\n",
      "Epoch 99/100\n",
      "37342/37342 [==============================] - 1s 31us/step - loss: 0.2875 - mean_absolute_error: 0.3835: 0s - loss: 0.2880 - mean_absolute_error: 0.383\n",
      "Epoch 100/100\n",
      "37342/37342 [==============================] - 1s 29us/step - loss: 0.2886 - mean_absolute_error: 0.3847\n"
     ]
    },
    {
     "data": {
      "text/plain": [
       "<keras.callbacks.History at 0x1316d2550>"
      ]
     },
     "execution_count": 71,
     "metadata": {},
     "output_type": "execute_result"
    }
   ],
   "source": [
    "regressor.fit(X_train, y_train, batch_size = 64, epochs = 100)"
   ]
  },
  {
   "cell_type": "code",
   "execution_count": 72,
   "metadata": {},
   "outputs": [],
   "source": [
    "y_pred = regressor.predict(X_test)"
   ]
  },
  {
   "cell_type": "code",
   "execution_count": 73,
   "metadata": {},
   "outputs": [
    {
     "data": {
      "text/plain": [
       "array([[ 37.50481796, 127.41041565],\n",
       "       [ 37.57566071, 127.04193878],\n",
       "       [ 37.52244949, 127.03304291],\n",
       "       ...,\n",
       "       [ 37.55395126, 127.01067352],\n",
       "       [ 37.56415176, 126.98636627],\n",
       "       [ 37.41357803, 126.77706909]])"
      ]
     },
     "execution_count": 73,
     "metadata": {},
     "output_type": "execute_result"
    }
   ],
   "source": [
    "y_pred_new = np.zeros((len(y_pred), 2))\n",
    "y_test_new = np.zeros((len(y_test), 2))\n",
    "y_pred_new[:,0] = y_pred[:,0] * np.std(Y[:,0]) + np.mean(Y[:,0])\n",
    "y_pred_new[:,1] = y_pred[:,1] * np.std(Y[:,1]) + np.mean(Y[:,1])\n",
    "\n",
    "y_test_new[:,0] = y_test[:,0] * np.std(Y[:,0]) + np.mean(Y[:,0])\n",
    "y_test_new[:,1] = y_test[:,1] * np.std(Y[:,1]) + np.mean(Y[:,1])\n",
    "y_pred_new"
   ]
  },
  {
   "cell_type": "code",
   "execution_count": 74,
   "metadata": {},
   "outputs": [
    {
     "data": {
      "text/plain": [
       "(9336, 1597)"
      ]
     },
     "execution_count": 74,
     "metadata": {},
     "output_type": "execute_result"
    }
   ],
   "source": [
    "np.shape(X_test)"
   ]
  },
  {
   "cell_type": "code",
   "execution_count": 75,
   "metadata": {},
   "outputs": [],
   "source": [
    "prediction = pd.DataFrame({'house_lat': y_test_new[:, 0],'house_lon':y_test_new[:, 1],\n",
    "                            'house_lat (pred)': y_pred_new[:,0], 'house_lon (pred)': y_pred_new[:,1]})"
   ]
  },
  {
   "cell_type": "code",
   "execution_count": 76,
   "metadata": {},
   "outputs": [
    {
     "data": {
      "text/plain": [
       "(9336, 2)"
      ]
     },
     "execution_count": 76,
     "metadata": {},
     "output_type": "execute_result"
    }
   ],
   "source": [
    "np.shape(y_pred)"
   ]
  },
  {
   "cell_type": "code",
   "execution_count": 77,
   "metadata": {},
   "outputs": [
    {
     "data": {
      "text/plain": [
       "882.445980598326"
      ]
     },
     "execution_count": 77,
     "metadata": {},
     "output_type": "execute_result"
    }
   ],
   "source": [
    "accuracy(prediction)"
   ]
  },
  {
   "cell_type": "code",
   "execution_count": 78,
   "metadata": {},
   "outputs": [
    {
     "data": {
      "image/png": "[encoded data removed]",
      "text/plain": [
       "<Figure size 432x288 with 1 Axes>"
      ]
     },
     "metadata": {
      "needs_background": "light"
     },
     "output_type": "display_data"
    }
   ],
   "source": [
    "# plot\n",
    "plt.scatter(y_test_new[:, 0], y_test_new[:, 1], color = \"red\", label = 'Actual')\n",
    "plt.scatter(y_pred_new[:, 0], y_pred_new[:, 1], color = \"blue\", label = 'Prediction')\n",
    "plt.title('Regression')\n",
    "plt.xlabel('Lat')\n",
    "plt.ylabel('Lon')\n",
    "plt.legend(loc='upper left')\n",
    "plt.show()"
   ]
  },
  {
   "cell_type": "code",
   "execution_count": 40,
   "metadata": {},
   "outputs": [
    {
     "data": {
      "text/html": [
       "<div>\n",
       "<style scoped>\n",
       "    .dataframe tbody tr th:only-of-type {\n",
       "        vertical-align: middle;\n",
       "    }\n",
       "\n",
       "    .dataframe tbody tr th {\n",
       "        vertical-align: top;\n",
       "    }\n",
       "\n",
       "    .dataframe thead th {\n",
       "        text-align: right;\n",
       "    }\n",
       "</style>\n",
       "<table border=\"1\" class=\"dataframe\">\n",
       "  <thead>\n",
       "    <tr style=\"text-align: right;\">\n",
       "      <th></th>\n",
       "      <th>house_lat</th>\n",
       "      <th>house_lon</th>\n",
       "      <th>house_lat (pred)</th>\n",
       "      <th>house_lon (pred)</th>\n",
       "    </tr>\n",
       "  </thead>\n",
       "  <tbody>\n",
       "    <tr>\n",
       "      <th>0</th>\n",
       "      <td>37.607582</td>\n",
       "      <td>127.348879</td>\n",
       "      <td>37.503407</td>\n",
       "      <td>125.136314</td>\n",
       "    </tr>\n",
       "    <tr>\n",
       "      <th>1</th>\n",
       "      <td>37.594757</td>\n",
       "      <td>127.153212</td>\n",
       "      <td>37.503407</td>\n",
       "      <td>125.136314</td>\n",
       "    </tr>\n",
       "    <tr>\n",
       "      <th>2</th>\n",
       "      <td>37.514340</td>\n",
       "      <td>127.062632</td>\n",
       "      <td>37.503407</td>\n",
       "      <td>125.136314</td>\n",
       "    </tr>\n",
       "    <tr>\n",
       "      <th>3</th>\n",
       "      <td>37.469662</td>\n",
       "      <td>126.701077</td>\n",
       "      <td>37.503407</td>\n",
       "      <td>125.136314</td>\n",
       "    </tr>\n",
       "    <tr>\n",
       "      <th>4</th>\n",
       "      <td>37.440188</td>\n",
       "      <td>126.798281</td>\n",
       "      <td>37.503407</td>\n",
       "      <td>125.136314</td>\n",
       "    </tr>\n",
       "  </tbody>\n",
       "</table>\n",
       "</div>"
      ],
      "text/plain": [
       "   house_lat   house_lon  house_lat (pred)  house_lon (pred)\n",
       "0  37.607582  127.348879         37.503407        125.136314\n",
       "1  37.594757  127.153212         37.503407        125.136314\n",
       "2  37.514340  127.062632         37.503407        125.136314\n",
       "3  37.469662  126.701077         37.503407        125.136314\n",
       "4  37.440188  126.798281         37.503407        125.136314"
      ]
     },
     "execution_count": 40,
     "metadata": {},
     "output_type": "execute_result"
    }
   ],
   "source": [
    "prediction.head()"
   ]
  },
  {
   "cell_type": "code",
   "execution_count": null,
   "metadata": {},
   "outputs": [],
   "source": []
  },
  {
   "cell_type": "code",
   "execution_count": 42,
   "metadata": {},
   "outputs": [
    {
     "data": {
      "text/html": [
       "<div>\n",
       "<style scoped>\n",
       "    .dataframe tbody tr th:only-of-type {\n",
       "        vertical-align: middle;\n",
       "    }\n",
       "\n",
       "    .dataframe tbody tr th {\n",
       "        vertical-align: top;\n",
       "    }\n",
       "\n",
       "    .dataframe thead th {\n",
       "        text-align: right;\n",
       "    }\n",
       "</style>\n",
       "<table border=\"1\" class=\"dataframe\">\n",
       "  <thead>\n",
       "    <tr style=\"text-align: right;\">\n",
       "      <th></th>\n",
       "      <th>W_ZONE</th>\n",
       "      <th>no_hh</th>\n",
       "      <th>no_hh_chil</th>\n",
       "      <th>hh_type</th>\n",
       "      <th>hh_income</th>\n",
       "      <th>no_car</th>\n",
       "      <th>age</th>\n",
       "      <th>sex</th>\n",
       "      <th>job_type</th>\n",
       "      <th>work_lat</th>\n",
       "      <th>work_lon</th>\n",
       "    </tr>\n",
       "  </thead>\n",
       "  <tbody>\n",
       "    <tr>\n",
       "      <th>0</th>\n",
       "      <td>0</td>\n",
       "      <td>4.0</td>\n",
       "      <td>4.0</td>\n",
       "      <td>1.0</td>\n",
       "      <td>5.0</td>\n",
       "      <td>1.0</td>\n",
       "      <td>41.0</td>\n",
       "      <td>1.0</td>\n",
       "      <td>4.0</td>\n",
       "      <td>36.115620</td>\n",
       "      <td>126.792747</td>\n",
       "    </tr>\n",
       "    <tr>\n",
       "      <th>1</th>\n",
       "      <td>0</td>\n",
       "      <td>3.0</td>\n",
       "      <td>3.0</td>\n",
       "      <td>2.0</td>\n",
       "      <td>3.0</td>\n",
       "      <td>1.0</td>\n",
       "      <td>36.0</td>\n",
       "      <td>1.0</td>\n",
       "      <td>4.0</td>\n",
       "      <td>37.335447</td>\n",
       "      <td>126.677584</td>\n",
       "    </tr>\n",
       "    <tr>\n",
       "      <th>2</th>\n",
       "      <td>0</td>\n",
       "      <td>3.0</td>\n",
       "      <td>3.0</td>\n",
       "      <td>2.0</td>\n",
       "      <td>2.0</td>\n",
       "      <td>1.0</td>\n",
       "      <td>70.0</td>\n",
       "      <td>1.0</td>\n",
       "      <td>9.0</td>\n",
       "      <td>36.975082</td>\n",
       "      <td>127.436894</td>\n",
       "    </tr>\n",
       "    <tr>\n",
       "      <th>3</th>\n",
       "      <td>0</td>\n",
       "      <td>5.0</td>\n",
       "      <td>4.0</td>\n",
       "      <td>1.0</td>\n",
       "      <td>5.0</td>\n",
       "      <td>1.0</td>\n",
       "      <td>32.0</td>\n",
       "      <td>1.0</td>\n",
       "      <td>4.0</td>\n",
       "      <td>36.847868</td>\n",
       "      <td>127.414170</td>\n",
       "    </tr>\n",
       "    <tr>\n",
       "      <th>4</th>\n",
       "      <td>0</td>\n",
       "      <td>2.0</td>\n",
       "      <td>2.0</td>\n",
       "      <td>4.0</td>\n",
       "      <td>3.0</td>\n",
       "      <td>1.0</td>\n",
       "      <td>55.0</td>\n",
       "      <td>1.0</td>\n",
       "      <td>4.0</td>\n",
       "      <td>37.967527</td>\n",
       "      <td>124.717824</td>\n",
       "    </tr>\n",
       "  </tbody>\n",
       "</table>\n",
       "</div>"
      ],
      "text/plain": [
       "   W_ZONE  no_hh  no_hh_chil  hh_type  hh_income  no_car   age  sex  job_type  \\\n",
       "0       0    4.0         4.0      1.0        5.0     1.0  41.0  1.0       4.0   \n",
       "1       0    3.0         3.0      2.0        3.0     1.0  36.0  1.0       4.0   \n",
       "2       0    3.0         3.0      2.0        2.0     1.0  70.0  1.0       9.0   \n",
       "3       0    5.0         4.0      1.0        5.0     1.0  32.0  1.0       4.0   \n",
       "4       0    2.0         2.0      4.0        3.0     1.0  55.0  1.0       4.0   \n",
       "\n",
       "    work_lat    work_lon  \n",
       "0  36.115620  126.792747  \n",
       "1  37.335447  126.677584  \n",
       "2  36.975082  127.436894  \n",
       "3  36.847868  127.414170  \n",
       "4  37.967527  124.717824  "
      ]
     },
     "execution_count": 42,
     "metadata": {},
     "output_type": "execute_result"
    }
   ],
   "source": [
    "# classification approach\n",
    "# x - same X except using W_Zone but no X_lat and X_lon, also eliminate non-independent variables\n",
    "# y - H_Zone\n",
    "x.head()"
   ]
  },
  {
   "cell_type": "code",
   "execution_count": 54,
   "metadata": {},
   "outputs": [],
   "source": [
    "x_cat = np.delete(X, 6, axis = 1)\n",
    "x_cat = np.delete(X, 7, axis = 1)"
   ]
  },
  {
   "cell_type": "code",
   "execution_count": 137,
   "metadata": {},
   "outputs": [],
   "source": [
    "Y_cat = data.loc[:, [\"H_ZONE\"]]\n",
    "Y_cat.head()\n",
    "Y_cat = Y_cat.dropna()"
   ]
  },
  {
   "cell_type": "code",
   "execution_count": 138,
   "metadata": {},
   "outputs": [],
   "source": [
    "from sklearn.preprocessing import LabelBinarizer\n",
    "binarizer = LabelBinarizer()\n",
    "Y_cat = binarizer.fit_transform(Y_cat.values)"
   ]
  },
  {
   "cell_type": "code",
   "execution_count": 139,
   "metadata": {},
   "outputs": [
    {
     "data": {
      "text/plain": [
       "array([[0, 0, 0, ..., 0, 0, 0],\n",
       "       [0, 0, 0, ..., 0, 0, 0],\n",
       "       [0, 0, 0, ..., 0, 0, 0],\n",
       "       ...,\n",
       "       [0, 0, 0, ..., 0, 0, 0],\n",
       "       [0, 0, 0, ..., 0, 0, 0],\n",
       "       [0, 0, 0, ..., 0, 1, 0]])"
      ]
     },
     "execution_count": 139,
     "metadata": {},
     "output_type": "execute_result"
    }
   ],
   "source": [
    "Y_cat"
   ]
  },
  {
   "cell_type": "code",
   "execution_count": 140,
   "metadata": {},
   "outputs": [],
   "source": [
    "X_train, X_test, y_train, y_test = train_test_split(x_cat, Y_cat, test_size = 0.2, random_state = 0)"
   ]
  },
  {
   "cell_type": "code",
   "execution_count": 141,
   "metadata": {},
   "outputs": [],
   "source": [
    "# Initialising the ANN\n",
    "classifier = Sequential()\n",
    "\n",
    "# Adding the input layer and the first hidden layer\n",
    "classifier.add(Dense(units = 64, kernel_initializer = 'uniform', activation = 'relu', input_dim = 1596))\n",
    "classifier.add(Dropout(0.1))\n",
    "# Adding the second hidden layer\n",
    "classifier.add(Dense(units = 128, kernel_initializer = 'uniform', activation = 'relu'))\n",
    "classifier.add(Dropout(0.1))\n",
    "\n",
    "\n",
    "# Adding the output layer\n",
    "classifier.add(Dense(units = 1278, kernel_initializer = 'uniform', activation = 'sigmoid'))\n",
    "\n",
    "# Compiling the ANN\n",
    "classifier.compile(optimizer = 'adam', loss = 'binary_crossentropy', metrics = ['accuracy'])\n",
    "\n"
   ]
  },
  {
   "cell_type": "code",
   "execution_count": 142,
   "metadata": {},
   "outputs": [
    {
     "name": "stdout",
     "output_type": "stream",
     "text": [
      "Epoch 1/10\n",
      "37342/37342 [==============================] - 6s 150us/step - loss: 1.1516 - acc: 0.9278\n",
      "Epoch 2/10\n",
      "37342/37342 [==============================] - 5s 132us/step - loss: 0.7615 - acc: 0.9522\n",
      "Epoch 3/10\n",
      "37342/37342 [==============================] - 5s 131us/step - loss: 0.6043 - acc: 0.9621\n",
      "Epoch 4/10\n",
      "37342/37342 [==============================] - 5s 131us/step - loss: 0.5543 - acc: 0.9652\n",
      "Epoch 5/10\n",
      "37342/37342 [==============================] - 5s 137us/step - loss: 0.5305 - acc: 0.9667\n",
      "Epoch 6/10\n",
      "37342/37342 [==============================] - 5s 130us/step - loss: 0.5110 - acc: 0.9680\n",
      "Epoch 7/10\n",
      "37342/37342 [==============================] - 5s 146us/step - loss: 0.4820 - acc: 0.9698\n",
      "Epoch 8/10\n",
      "37342/37342 [==============================] - 6s 164us/step - loss: 0.4571 - acc: 0.9713\n",
      "Epoch 9/10\n",
      "37342/37342 [==============================] - 5s 143us/step - loss: 0.4381 - acc: 0.9725\n",
      "Epoch 10/10\n",
      "37342/37342 [==============================] - 5s 142us/step - loss: 0.4008 - acc: 0.9749\n"
     ]
    },
    {
     "data": {
      "text/plain": [
       "<keras.callbacks.History at 0x1338ad4e0>"
      ]
     },
     "execution_count": 142,
     "metadata": {},
     "output_type": "execute_result"
    }
   ],
   "source": [
    "# Fitting the ANN to the Training set\n",
    "classifier.fit(X_train, y_train, batch_size = 50, epochs = 10)"
   ]
  },
  {
   "cell_type": "code",
   "execution_count": 145,
   "metadata": {},
   "outputs": [],
   "source": [
    "y_pred = classifier.predict(X_test)"
   ]
  },
  {
   "cell_type": "code",
   "execution_count": null,
   "metadata": {},
   "outputs": [],
   "source": []
  },
  {
   "cell_type": "code",
   "execution_count": null,
   "metadata": {},
   "outputs": [],
   "source": []
  }
 ],
 "metadata": {
  "kernelspec": {
   "display_name": "Python 3",
   "language": "python",
   "name": "python3"
  },
  "language_info": {
   "codemirror_mode": {
    "name": "ipython",
    "version": 3
   },
   "file_extension": ".py",
   "mimetype": "text/x-python",
   "name": "python",
   "nbconvert_exporter": "python",
   "pygments_lexer": "ipython3",
   "version": "3.6.5"
  }
 },
 "nbformat": 4,
 "nbformat_minor": 2
}
