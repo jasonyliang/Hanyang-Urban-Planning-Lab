{
 "cells": [
  {
   "cell_type": "code",
   "execution_count": 1,
   "metadata": {},
   "outputs": [],
   "source": [
    "import pandas as pd\n",
    "import numpy as np\n",
    "import matplotlib.pyplot as plt"
   ]
  },
  {
   "cell_type": "code",
   "execution_count": 2,
   "metadata": {},
   "outputs": [],
   "source": [
    "dataset = pd.read_csv('/Users/jhajhajhajha1/Desktop/Hanyang Data/data_playaround.csv')"
   ]
  },
  {
   "cell_type": "code",
   "execution_count": 3,
   "metadata": {},
   "outputs": [],
   "source": [
    "data = dataset.iloc[:, 0:19]"
   ]
  },
  {
   "cell_type": "code",
   "execution_count": 4,
   "metadata": {},
   "outputs": [
    {
     "name": "stdout",
     "output_type": "stream",
     "text": [
      "46858\n"
     ]
    },
    {
     "data": {
      "text/html": [
       "<div>\n",
       "<style scoped>\n",
       "    .dataframe tbody tr th:only-of-type {\n",
       "        vertical-align: middle;\n",
       "    }\n",
       "\n",
       "    .dataframe tbody tr th {\n",
       "        vertical-align: top;\n",
       "    }\n",
       "\n",
       "    .dataframe thead th {\n",
       "        text-align: right;\n",
       "    }\n",
       "</style>\n",
       "<table border=\"1\" class=\"dataframe\">\n",
       "  <thead>\n",
       "    <tr style=\"text-align: right;\">\n",
       "      <th></th>\n",
       "      <th>W_ZONE</th>\n",
       "      <th>no_hh</th>\n",
       "      <th>no_hh_chil</th>\n",
       "      <th>hh_type</th>\n",
       "      <th>hh_income</th>\n",
       "      <th>no_car</th>\n",
       "      <th>age</th>\n",
       "      <th>sex</th>\n",
       "      <th>job_type</th>\n",
       "      <th>house_lat</th>\n",
       "      <th>house_lon</th>\n",
       "      <th>work_lat</th>\n",
       "      <th>work_lon</th>\n",
       "      <th>H_ZONE</th>\n",
       "      <th>H_ZONE_X</th>\n",
       "      <th>H_ZONE_Y</th>\n",
       "      <th>W_ZONE_X</th>\n",
       "      <th>W_ZONE_Y</th>\n",
       "      <th>0</th>\n",
       "    </tr>\n",
       "  </thead>\n",
       "  <tbody>\n",
       "    <tr>\n",
       "      <th>1000</th>\n",
       "      <td>88</td>\n",
       "      <td>4.0</td>\n",
       "      <td>3.0</td>\n",
       "      <td>1.0</td>\n",
       "      <td>5.0</td>\n",
       "      <td>1.0</td>\n",
       "      <td>40.0</td>\n",
       "      <td>1.0</td>\n",
       "      <td>4.0</td>\n",
       "      <td>37.511534</td>\n",
       "      <td>126.902390</td>\n",
       "      <td>37.031954</td>\n",
       "      <td>127.077127</td>\n",
       "      <td>954.0</td>\n",
       "      <td>191000.0</td>\n",
       "      <td>445000.0</td>\n",
       "      <td>207000.0</td>\n",
       "      <td>393000.0</td>\n",
       "      <td>25940.567472</td>\n",
       "    </tr>\n",
       "    <tr>\n",
       "      <th>1001</th>\n",
       "      <td>88</td>\n",
       "      <td>3.0</td>\n",
       "      <td>3.0</td>\n",
       "      <td>4.0</td>\n",
       "      <td>2.0</td>\n",
       "      <td>2.0</td>\n",
       "      <td>61.0</td>\n",
       "      <td>1.0</td>\n",
       "      <td>6.0</td>\n",
       "      <td>37.000396</td>\n",
       "      <td>127.106922</td>\n",
       "      <td>37.034933</td>\n",
       "      <td>127.078710</td>\n",
       "      <td>50.0</td>\n",
       "      <td>209000.0</td>\n",
       "      <td>389000.0</td>\n",
       "      <td>207000.0</td>\n",
       "      <td>393000.0</td>\n",
       "      <td>25940.567472</td>\n",
       "    </tr>\n",
       "    <tr>\n",
       "      <th>1002</th>\n",
       "      <td>88</td>\n",
       "      <td>5.0</td>\n",
       "      <td>3.0</td>\n",
       "      <td>1.0</td>\n",
       "      <td>4.0</td>\n",
       "      <td>1.0</td>\n",
       "      <td>46.0</td>\n",
       "      <td>1.0</td>\n",
       "      <td>4.0</td>\n",
       "      <td>37.195733</td>\n",
       "      <td>127.034267</td>\n",
       "      <td>37.039019</td>\n",
       "      <td>127.077925</td>\n",
       "      <td>287.0</td>\n",
       "      <td>203000.0</td>\n",
       "      <td>411000.0</td>\n",
       "      <td>207000.0</td>\n",
       "      <td>393000.0</td>\n",
       "      <td>25940.567472</td>\n",
       "    </tr>\n",
       "    <tr>\n",
       "      <th>1003</th>\n",
       "      <td>88</td>\n",
       "      <td>4.0</td>\n",
       "      <td>4.0</td>\n",
       "      <td>2.0</td>\n",
       "      <td>6.0</td>\n",
       "      <td>1.0</td>\n",
       "      <td>49.0</td>\n",
       "      <td>1.0</td>\n",
       "      <td>6.0</td>\n",
       "      <td>37.067362</td>\n",
       "      <td>127.056343</td>\n",
       "      <td>37.037719</td>\n",
       "      <td>127.077653</td>\n",
       "      <td>130.0</td>\n",
       "      <td>205000.0</td>\n",
       "      <td>397000.0</td>\n",
       "      <td>207000.0</td>\n",
       "      <td>393000.0</td>\n",
       "      <td>25940.567472</td>\n",
       "    </tr>\n",
       "    <tr>\n",
       "      <th>1004</th>\n",
       "      <td>88</td>\n",
       "      <td>4.0</td>\n",
       "      <td>2.0</td>\n",
       "      <td>1.0</td>\n",
       "      <td>3.0</td>\n",
       "      <td>1.0</td>\n",
       "      <td>37.0</td>\n",
       "      <td>1.0</td>\n",
       "      <td>4.0</td>\n",
       "      <td>37.151695</td>\n",
       "      <td>127.078077</td>\n",
       "      <td>37.039019</td>\n",
       "      <td>127.077925</td>\n",
       "      <td>218.0</td>\n",
       "      <td>207000.0</td>\n",
       "      <td>405000.0</td>\n",
       "      <td>207000.0</td>\n",
       "      <td>393000.0</td>\n",
       "      <td>25940.567472</td>\n",
       "    </tr>\n",
       "    <tr>\n",
       "      <th>1005</th>\n",
       "      <td>88</td>\n",
       "      <td>3.0</td>\n",
       "      <td>3.0</td>\n",
       "      <td>1.0</td>\n",
       "      <td>5.0</td>\n",
       "      <td>1.0</td>\n",
       "      <td>56.0</td>\n",
       "      <td>1.0</td>\n",
       "      <td>6.0</td>\n",
       "      <td>37.053694</td>\n",
       "      <td>127.047655</td>\n",
       "      <td>37.038303</td>\n",
       "      <td>127.082699</td>\n",
       "      <td>105.0</td>\n",
       "      <td>205000.0</td>\n",
       "      <td>395000.0</td>\n",
       "      <td>207000.0</td>\n",
       "      <td>393000.0</td>\n",
       "      <td>25940.567472</td>\n",
       "    </tr>\n",
       "    <tr>\n",
       "      <th>1006</th>\n",
       "      <td>88</td>\n",
       "      <td>3.0</td>\n",
       "      <td>3.0</td>\n",
       "      <td>4.0</td>\n",
       "      <td>6.0</td>\n",
       "      <td>1.0</td>\n",
       "      <td>55.0</td>\n",
       "      <td>1.0</td>\n",
       "      <td>6.0</td>\n",
       "      <td>37.102160</td>\n",
       "      <td>127.021462</td>\n",
       "      <td>37.036618</td>\n",
       "      <td>127.077674</td>\n",
       "      <td>173.0</td>\n",
       "      <td>201000.0</td>\n",
       "      <td>401000.0</td>\n",
       "      <td>207000.0</td>\n",
       "      <td>393000.0</td>\n",
       "      <td>25940.567472</td>\n",
       "    </tr>\n",
       "    <tr>\n",
       "      <th>1007</th>\n",
       "      <td>88</td>\n",
       "      <td>4.0</td>\n",
       "      <td>4.0</td>\n",
       "      <td>2.0</td>\n",
       "      <td>5.0</td>\n",
       "      <td>1.0</td>\n",
       "      <td>41.0</td>\n",
       "      <td>1.0</td>\n",
       "      <td>6.0</td>\n",
       "      <td>37.037146</td>\n",
       "      <td>127.029241</td>\n",
       "      <td>37.035418</td>\n",
       "      <td>127.074294</td>\n",
       "      <td>86.0</td>\n",
       "      <td>203000.0</td>\n",
       "      <td>393000.0</td>\n",
       "      <td>207000.0</td>\n",
       "      <td>393000.0</td>\n",
       "      <td>25940.567472</td>\n",
       "    </tr>\n",
       "    <tr>\n",
       "      <th>1008</th>\n",
       "      <td>88</td>\n",
       "      <td>1.0</td>\n",
       "      <td>1.0</td>\n",
       "      <td>2.0</td>\n",
       "      <td>4.0</td>\n",
       "      <td>1.0</td>\n",
       "      <td>49.0</td>\n",
       "      <td>1.0</td>\n",
       "      <td>6.0</td>\n",
       "      <td>37.076516</td>\n",
       "      <td>127.064009</td>\n",
       "      <td>37.036774</td>\n",
       "      <td>127.072348</td>\n",
       "      <td>130.0</td>\n",
       "      <td>205000.0</td>\n",
       "      <td>397000.0</td>\n",
       "      <td>207000.0</td>\n",
       "      <td>393000.0</td>\n",
       "      <td>25940.567472</td>\n",
       "    </tr>\n",
       "    <tr>\n",
       "      <th>1009</th>\n",
       "      <td>88</td>\n",
       "      <td>3.0</td>\n",
       "      <td>3.0</td>\n",
       "      <td>1.0</td>\n",
       "      <td>5.0</td>\n",
       "      <td>1.0</td>\n",
       "      <td>43.0</td>\n",
       "      <td>1.0</td>\n",
       "      <td>6.0</td>\n",
       "      <td>36.989866</td>\n",
       "      <td>127.090719</td>\n",
       "      <td>37.037373</td>\n",
       "      <td>127.088846</td>\n",
       "      <td>35.0</td>\n",
       "      <td>209000.0</td>\n",
       "      <td>387000.0</td>\n",
       "      <td>207000.0</td>\n",
       "      <td>393000.0</td>\n",
       "      <td>25940.567472</td>\n",
       "    </tr>\n",
       "  </tbody>\n",
       "</table>\n",
       "</div>"
      ],
      "text/plain": [
       "      W_ZONE  no_hh  no_hh_chil  hh_type  hh_income  no_car   age  sex  \\\n",
       "1000      88    4.0         3.0      1.0        5.0     1.0  40.0  1.0   \n",
       "1001      88    3.0         3.0      4.0        2.0     2.0  61.0  1.0   \n",
       "1002      88    5.0         3.0      1.0        4.0     1.0  46.0  1.0   \n",
       "1003      88    4.0         4.0      2.0        6.0     1.0  49.0  1.0   \n",
       "1004      88    4.0         2.0      1.0        3.0     1.0  37.0  1.0   \n",
       "1005      88    3.0         3.0      1.0        5.0     1.0  56.0  1.0   \n",
       "1006      88    3.0         3.0      4.0        6.0     1.0  55.0  1.0   \n",
       "1007      88    4.0         4.0      2.0        5.0     1.0  41.0  1.0   \n",
       "1008      88    1.0         1.0      2.0        4.0     1.0  49.0  1.0   \n",
       "1009      88    3.0         3.0      1.0        5.0     1.0  43.0  1.0   \n",
       "\n",
       "      job_type  house_lat   house_lon   work_lat    work_lon  H_ZONE  \\\n",
       "1000       4.0  37.511534  126.902390  37.031954  127.077127   954.0   \n",
       "1001       6.0  37.000396  127.106922  37.034933  127.078710    50.0   \n",
       "1002       4.0  37.195733  127.034267  37.039019  127.077925   287.0   \n",
       "1003       6.0  37.067362  127.056343  37.037719  127.077653   130.0   \n",
       "1004       4.0  37.151695  127.078077  37.039019  127.077925   218.0   \n",
       "1005       6.0  37.053694  127.047655  37.038303  127.082699   105.0   \n",
       "1006       6.0  37.102160  127.021462  37.036618  127.077674   173.0   \n",
       "1007       6.0  37.037146  127.029241  37.035418  127.074294    86.0   \n",
       "1008       6.0  37.076516  127.064009  37.036774  127.072348   130.0   \n",
       "1009       6.0  36.989866  127.090719  37.037373  127.088846    35.0   \n",
       "\n",
       "      H_ZONE_X  H_ZONE_Y  W_ZONE_X  W_ZONE_Y             0  \n",
       "1000  191000.0  445000.0  207000.0  393000.0  25940.567472  \n",
       "1001  209000.0  389000.0  207000.0  393000.0  25940.567472  \n",
       "1002  203000.0  411000.0  207000.0  393000.0  25940.567472  \n",
       "1003  205000.0  397000.0  207000.0  393000.0  25940.567472  \n",
       "1004  207000.0  405000.0  207000.0  393000.0  25940.567472  \n",
       "1005  205000.0  395000.0  207000.0  393000.0  25940.567472  \n",
       "1006  201000.0  401000.0  207000.0  393000.0  25940.567472  \n",
       "1007  203000.0  393000.0  207000.0  393000.0  25940.567472  \n",
       "1008  205000.0  397000.0  207000.0  393000.0  25940.567472  \n",
       "1009  209000.0  387000.0  207000.0  393000.0  25940.567472  "
      ]
     },
     "execution_count": 4,
     "metadata": {},
     "output_type": "execute_result"
    }
   ],
   "source": [
    "print(len(data))\n",
    "data[1000:1010]"
   ]
  },
  {
   "cell_type": "code",
   "execution_count": 5,
   "metadata": {},
   "outputs": [
    {
     "data": {
      "text/html": [
       "<div>\n",
       "<style scoped>\n",
       "    .dataframe tbody tr th:only-of-type {\n",
       "        vertical-align: middle;\n",
       "    }\n",
       "\n",
       "    .dataframe tbody tr th {\n",
       "        vertical-align: top;\n",
       "    }\n",
       "\n",
       "    .dataframe thead th {\n",
       "        text-align: right;\n",
       "    }\n",
       "</style>\n",
       "<table border=\"1\" class=\"dataframe\">\n",
       "  <thead>\n",
       "    <tr style=\"text-align: right;\">\n",
       "      <th></th>\n",
       "      <th>W_ZONE</th>\n",
       "      <th>no_hh</th>\n",
       "      <th>no_hh_chil</th>\n",
       "      <th>hh_type</th>\n",
       "      <th>hh_income</th>\n",
       "      <th>no_car</th>\n",
       "      <th>age</th>\n",
       "      <th>sex</th>\n",
       "      <th>job_type</th>\n",
       "      <th>work_lat</th>\n",
       "      <th>work_lon</th>\n",
       "    </tr>\n",
       "  </thead>\n",
       "  <tbody>\n",
       "    <tr>\n",
       "      <th>0</th>\n",
       "      <td>0</td>\n",
       "      <td>4.0</td>\n",
       "      <td>4.0</td>\n",
       "      <td>1.0</td>\n",
       "      <td>5.0</td>\n",
       "      <td>1.0</td>\n",
       "      <td>41.0</td>\n",
       "      <td>1.0</td>\n",
       "      <td>4.0</td>\n",
       "      <td>36.115620</td>\n",
       "      <td>126.792747</td>\n",
       "    </tr>\n",
       "    <tr>\n",
       "      <th>1</th>\n",
       "      <td>0</td>\n",
       "      <td>3.0</td>\n",
       "      <td>3.0</td>\n",
       "      <td>2.0</td>\n",
       "      <td>3.0</td>\n",
       "      <td>1.0</td>\n",
       "      <td>36.0</td>\n",
       "      <td>1.0</td>\n",
       "      <td>4.0</td>\n",
       "      <td>37.335447</td>\n",
       "      <td>126.677584</td>\n",
       "    </tr>\n",
       "    <tr>\n",
       "      <th>2</th>\n",
       "      <td>0</td>\n",
       "      <td>3.0</td>\n",
       "      <td>3.0</td>\n",
       "      <td>2.0</td>\n",
       "      <td>2.0</td>\n",
       "      <td>1.0</td>\n",
       "      <td>70.0</td>\n",
       "      <td>1.0</td>\n",
       "      <td>9.0</td>\n",
       "      <td>36.975082</td>\n",
       "      <td>127.436894</td>\n",
       "    </tr>\n",
       "    <tr>\n",
       "      <th>3</th>\n",
       "      <td>0</td>\n",
       "      <td>5.0</td>\n",
       "      <td>4.0</td>\n",
       "      <td>1.0</td>\n",
       "      <td>5.0</td>\n",
       "      <td>1.0</td>\n",
       "      <td>32.0</td>\n",
       "      <td>1.0</td>\n",
       "      <td>4.0</td>\n",
       "      <td>36.847868</td>\n",
       "      <td>127.414170</td>\n",
       "    </tr>\n",
       "    <tr>\n",
       "      <th>4</th>\n",
       "      <td>0</td>\n",
       "      <td>2.0</td>\n",
       "      <td>2.0</td>\n",
       "      <td>4.0</td>\n",
       "      <td>3.0</td>\n",
       "      <td>1.0</td>\n",
       "      <td>55.0</td>\n",
       "      <td>1.0</td>\n",
       "      <td>4.0</td>\n",
       "      <td>37.967527</td>\n",
       "      <td>124.717824</td>\n",
       "    </tr>\n",
       "  </tbody>\n",
       "</table>\n",
       "</div>"
      ],
      "text/plain": [
       "   W_ZONE  no_hh  no_hh_chil  hh_type  hh_income  no_car   age  sex  job_type  \\\n",
       "0       0    4.0         4.0      1.0        5.0     1.0  41.0  1.0       4.0   \n",
       "1       0    3.0         3.0      2.0        3.0     1.0  36.0  1.0       4.0   \n",
       "2       0    3.0         3.0      2.0        2.0     1.0  70.0  1.0       9.0   \n",
       "3       0    5.0         4.0      1.0        5.0     1.0  32.0  1.0       4.0   \n",
       "4       0    2.0         2.0      4.0        3.0     1.0  55.0  1.0       4.0   \n",
       "\n",
       "    work_lat    work_lon  \n",
       "0  36.115620  126.792747  \n",
       "1  37.335447  126.677584  \n",
       "2  36.975082  127.436894  \n",
       "3  36.847868  127.414170  \n",
       "4  37.967527  124.717824  "
      ]
     },
     "execution_count": 5,
     "metadata": {},
     "output_type": "execute_result"
    }
   ],
   "source": [
    "# preprocessing\n",
    "\n",
    "# not calculating distance, simply using latitude\n",
    "x = data.iloc[:, 0:13]\n",
    "x = x.drop([\"house_lat\", \"house_lon\"], axis= 1)\n",
    "x.head()"
   ]
  },
  {
   "cell_type": "code",
   "execution_count": 6,
   "metadata": {},
   "outputs": [
    {
     "data": {
      "text/plain": [
       "W_ZONE          0\n",
       "no_hh         180\n",
       "no_hh_chil    180\n",
       "hh_type       180\n",
       "hh_income     180\n",
       "no_car        180\n",
       "age           180\n",
       "sex           180\n",
       "job_type      180\n",
       "work_lat      180\n",
       "work_lon      180\n",
       "dtype: int64"
      ]
     },
     "execution_count": 6,
     "metadata": {},
     "output_type": "execute_result"
    }
   ],
   "source": [
    "x.isnull().sum()"
   ]
  },
  {
   "cell_type": "code",
   "execution_count": 7,
   "metadata": {},
   "outputs": [],
   "source": [
    "# # Taking care of missing data\n",
    "# from sklearn.preprocessing import Imputer\n",
    "# imputer = Imputer(missing_values = 'NaN', strategy = 'mean', axis = 0)\n",
    "# imputer = imputer.fit(x.iloc[:, 1:10])\n",
    "# x.iloc[:, 1:10] = imputer.transform(x.iloc[:, 1:10])\n",
    "x = x.dropna()"
   ]
  },
  {
   "cell_type": "code",
   "execution_count": 8,
   "metadata": {},
   "outputs": [
    {
     "data": {
      "text/html": [
       "<div>\n",
       "<style scoped>\n",
       "    .dataframe tbody tr th:only-of-type {\n",
       "        vertical-align: middle;\n",
       "    }\n",
       "\n",
       "    .dataframe tbody tr th {\n",
       "        vertical-align: top;\n",
       "    }\n",
       "\n",
       "    .dataframe thead th {\n",
       "        text-align: right;\n",
       "    }\n",
       "</style>\n",
       "<table border=\"1\" class=\"dataframe\">\n",
       "  <thead>\n",
       "    <tr style=\"text-align: right;\">\n",
       "      <th></th>\n",
       "      <th>W_ZONE</th>\n",
       "      <th>no_hh</th>\n",
       "      <th>no_hh_chil</th>\n",
       "      <th>hh_type</th>\n",
       "      <th>hh_income</th>\n",
       "      <th>no_car</th>\n",
       "      <th>age</th>\n",
       "      <th>sex</th>\n",
       "      <th>job_type</th>\n",
       "      <th>work_lat</th>\n",
       "      <th>work_lon</th>\n",
       "    </tr>\n",
       "    <tr>\n",
       "      <th>hh_type</th>\n",
       "      <th></th>\n",
       "      <th></th>\n",
       "      <th></th>\n",
       "      <th></th>\n",
       "      <th></th>\n",
       "      <th></th>\n",
       "      <th></th>\n",
       "      <th></th>\n",
       "      <th></th>\n",
       "      <th></th>\n",
       "      <th></th>\n",
       "    </tr>\n",
       "  </thead>\n",
       "  <tbody>\n",
       "    <tr>\n",
       "      <th>1.0</th>\n",
       "      <td>1326</td>\n",
       "      <td>8</td>\n",
       "      <td>8</td>\n",
       "      <td>1</td>\n",
       "      <td>8</td>\n",
       "      <td>2</td>\n",
       "      <td>66</td>\n",
       "      <td>2</td>\n",
       "      <td>9</td>\n",
       "      <td>15391</td>\n",
       "      <td>15422</td>\n",
       "    </tr>\n",
       "    <tr>\n",
       "      <th>2.0</th>\n",
       "      <td>732</td>\n",
       "      <td>7</td>\n",
       "      <td>7</td>\n",
       "      <td>1</td>\n",
       "      <td>8</td>\n",
       "      <td>2</td>\n",
       "      <td>62</td>\n",
       "      <td>2</td>\n",
       "      <td>8</td>\n",
       "      <td>3594</td>\n",
       "      <td>3605</td>\n",
       "    </tr>\n",
       "    <tr>\n",
       "      <th>3.0</th>\n",
       "      <td>648</td>\n",
       "      <td>6</td>\n",
       "      <td>6</td>\n",
       "      <td>1</td>\n",
       "      <td>8</td>\n",
       "      <td>2</td>\n",
       "      <td>58</td>\n",
       "      <td>2</td>\n",
       "      <td>9</td>\n",
       "      <td>3210</td>\n",
       "      <td>3214</td>\n",
       "    </tr>\n",
       "    <tr>\n",
       "      <th>4.0</th>\n",
       "      <td>1120</td>\n",
       "      <td>7</td>\n",
       "      <td>6</td>\n",
       "      <td>1</td>\n",
       "      <td>8</td>\n",
       "      <td>2</td>\n",
       "      <td>60</td>\n",
       "      <td>2</td>\n",
       "      <td>7</td>\n",
       "      <td>6152</td>\n",
       "      <td>6173</td>\n",
       "    </tr>\n",
       "    <tr>\n",
       "      <th>5.0</th>\n",
       "      <td>246</td>\n",
       "      <td>6</td>\n",
       "      <td>5</td>\n",
       "      <td>1</td>\n",
       "      <td>7</td>\n",
       "      <td>2</td>\n",
       "      <td>50</td>\n",
       "      <td>2</td>\n",
       "      <td>7</td>\n",
       "      <td>567</td>\n",
       "      <td>566</td>\n",
       "    </tr>\n",
       "    <tr>\n",
       "      <th>6.0</th>\n",
       "      <td>93</td>\n",
       "      <td>6</td>\n",
       "      <td>5</td>\n",
       "      <td>1</td>\n",
       "      <td>6</td>\n",
       "      <td>2</td>\n",
       "      <td>47</td>\n",
       "      <td>2</td>\n",
       "      <td>6</td>\n",
       "      <td>123</td>\n",
       "      <td>123</td>\n",
       "    </tr>\n",
       "  </tbody>\n",
       "</table>\n",
       "</div>"
      ],
      "text/plain": [
       "         W_ZONE  no_hh  no_hh_chil  hh_type  hh_income  no_car  age  sex  \\\n",
       "hh_type                                                                    \n",
       "1.0        1326      8           8        1          8       2   66    2   \n",
       "2.0         732      7           7        1          8       2   62    2   \n",
       "3.0         648      6           6        1          8       2   58    2   \n",
       "4.0        1120      7           6        1          8       2   60    2   \n",
       "5.0         246      6           5        1          7       2   50    2   \n",
       "6.0          93      6           5        1          6       2   47    2   \n",
       "\n",
       "         job_type  work_lat  work_lon  \n",
       "hh_type                                \n",
       "1.0             9     15391     15422  \n",
       "2.0             8      3594      3605  \n",
       "3.0             9      3210      3214  \n",
       "4.0             7      6152      6173  \n",
       "5.0             7       567       566  \n",
       "6.0             6       123       123  "
      ]
     },
     "execution_count": 8,
     "metadata": {},
     "output_type": "execute_result"
    }
   ],
   "source": [
    "x.isnull().sum()\n",
    "x.groupby('hh_type').nunique()"
   ]
  },
  {
   "cell_type": "code",
   "execution_count": 9,
   "metadata": {},
   "outputs": [],
   "source": [
    "# save original data\n",
    "x_original = x.values"
   ]
  },
  {
   "cell_type": "code",
   "execution_count": 10,
   "metadata": {},
   "outputs": [],
   "source": [
    "# category values: hh_type, hh_income (this one is fine because of the levels)\n",
    "# Encoding categorical data\n",
    "# encode variable: hh_type, sex, job_type, W_Zone\n",
    "\n",
    "# make X a numpy array of x\n",
    "X_W = x.iloc[:, 0]\n",
    "from sklearn.preprocessing import LabelEncoder, OneHotEncoder\n",
    "\n",
    "# W_Zone\n",
    "labelencoder_X_W = LabelEncoder()\n",
    "X_W = labelencoder_X_W.fit_transform(X_W)\n",
    "onehotencoder_X_W = OneHotEncoder(categorical_features = [0])\n",
    "X_W = onehotencoder_X_W.fit_transform(X_W.reshape(-1, 1)).toarray()\n",
    "# Dummy Variable trap\n",
    "X_W = X_W[:, 1:]\n",
    "# print(len(X_W[1]))"
   ]
  },
  {
   "cell_type": "code",
   "execution_count": 11,
   "metadata": {},
   "outputs": [],
   "source": [
    "# hh_type\n",
    "X_hh = x.iloc[:, 3]\n",
    "labelencoder_X_hh = LabelEncoder()\n",
    "X_hh = labelencoder_X_hh.fit_transform(X_hh)\n",
    "onehotencoder_hh = OneHotEncoder(categorical_features = [0])\n",
    "X_hh = onehotencoder_hh.fit_transform(X_hh.reshape(-1, 1)).toarray()\n",
    "# Dummy Variable trap\n",
    "X_hh = X_hh[:, 1:]"
   ]
  },
  {
   "cell_type": "code",
   "execution_count": 12,
   "metadata": {},
   "outputs": [],
   "source": [
    "# job_type\n",
    "X_job = x.iloc[:, 8]\n",
    "labelencoder_X_job = LabelEncoder()\n",
    "X_job = labelencoder_X_job.fit_transform(X_job)\n",
    "onehotencoder_X_job = OneHotEncoder(categorical_features = [0])\n",
    "X_job = onehotencoder_X_job.fit_transform(X_job.reshape(-1, 1)).toarray()\n",
    "# Dummy Variable trap\n",
    "X_job = X_job[:, 1:]"
   ]
  },
  {
   "cell_type": "code",
   "execution_count": 13,
   "metadata": {},
   "outputs": [],
   "source": [
    "# add the variables: \n",
    "X = x.values\n",
    "# for i, x1 in enumerate(X[0]):\n",
    "#     print(\"column %s\" %i, x1)\n",
    "# take out the three columns\n",
    "X = np.delete(X, 0, axis = 1)\n",
    "X = np.delete(X, 2, axis = 1)\n",
    "X = np.delete(X, 6, axis = 1)\n",
    "X = np.append(X, X_W, axis = 1)\n",
    "X = np.append(X, X_hh, axis = 1)\n",
    "X = np.append(X, X_job, axis = 1)\n"
   ]
  },
  {
   "cell_type": "code",
   "execution_count": 14,
   "metadata": {},
   "outputs": [
    {
     "data": {
      "text/plain": [
       "'\\nSummary:\\ncolumn 0: no_hh\\ncolumn 1: no_hh_chil\\ncolumn 2: hh_income\\ncolumn 3: no_car\\ncolumn 4: age\\ncolumn 5: sex\\ncolumn 6: work_lat\\ncolumn 7: work_lon\\ncolumn 8~1570: W_ZONE\\ncolumn 1571~1575: hh_type\\ncolumn 1576~1584: job_type\\n\\n'"
      ]
     },
     "execution_count": 14,
     "metadata": {},
     "output_type": "execute_result"
    }
   ],
   "source": [
    "'''\n",
    "Summary:\n",
    "column 0: no_hh\n",
    "column 1: no_hh_chil\n",
    "column 2: hh_income\n",
    "column 3: no_car\n",
    "column 4: age\n",
    "column 5: sex\n",
    "column 6: work_lat\n",
    "column 7: work_lon\n",
    "column 8~1570: W_ZONE\n",
    "column 1571~1575: hh_type\n",
    "column 1576~1584: job_type\n",
    "\n",
    "'''"
   ]
  },
  {
   "cell_type": "code",
   "execution_count": 15,
   "metadata": {},
   "outputs": [],
   "source": [
    "# Higher Dimensions\n",
    "# higher dimensions for continuous variables: hh_income, age, no_car, no_hh\n",
    "from sklearn.preprocessing import PolynomialFeatures\n",
    "\n",
    "# no_hh\n",
    "X_no_hh = X[:, 0]\n",
    "poly_reg_no_hh = PolynomialFeatures(degree = 4)\n",
    "X_no_hh = poly_reg_no_hh.fit_transform(X_no_hh.reshape(-1, 1))\n",
    "X_no_hh = np.delete(X_no_hh, 0, axis = 1)\n",
    "X_no_hh = np.delete(X_no_hh, 0, axis = 1)\n",
    "\n",
    "X = np.append(X, X_no_hh, axis = 1)\n"
   ]
  },
  {
   "cell_type": "code",
   "execution_count": 16,
   "metadata": {},
   "outputs": [
    {
     "data": {
      "text/plain": [
       "'\\ncolumn 1585~1587: poly no_hh\\n'"
      ]
     },
     "execution_count": 16,
     "metadata": {},
     "output_type": "execute_result"
    }
   ],
   "source": [
    "\n",
    "'''\n",
    "column 1585~1587: poly no_hh\n",
    "'''"
   ]
  },
  {
   "cell_type": "code",
   "execution_count": 17,
   "metadata": {},
   "outputs": [],
   "source": [
    "# hh_income\n",
    "X_hh_income = X[:, 2]\n",
    "poly_reg_hh_income = PolynomialFeatures(degree = 4)\n",
    "X_hh_income = poly_reg_hh_income.fit_transform(X_hh_income.reshape(-1, 1))\n",
    "X_hh_income = np.delete(X_hh_income, 0, axis = 1)\n",
    "X_hh_income = np.delete(X_hh_income, 0, axis = 1)\n",
    "\n",
    "X = np.append(X, X_hh_income, axis = 1)\n",
    "\n"
   ]
  },
  {
   "cell_type": "code",
   "execution_count": 18,
   "metadata": {},
   "outputs": [
    {
     "data": {
      "text/plain": [
       "'\\ncolumn 1588~1590: poly hh_income\\n'"
      ]
     },
     "execution_count": 18,
     "metadata": {},
     "output_type": "execute_result"
    }
   ],
   "source": [
    "'''\n",
    "column 1588~1590: poly hh_income\n",
    "'''"
   ]
  },
  {
   "cell_type": "code",
   "execution_count": 19,
   "metadata": {},
   "outputs": [],
   "source": [
    "# age\n",
    "X_age = X[:, 4]\n",
    "poly_reg_age = PolynomialFeatures(degree = 4)\n",
    "X_age = poly_reg_age.fit_transform(X_age.reshape(-1, 1))\n",
    "X_age = np.delete(X_age, 0, axis = 1)\n",
    "X_age = np.delete(X_age, 0, axis = 1)\n",
    "\n",
    "X = np.append(X, X_age, axis = 1)\n",
    "\n"
   ]
  },
  {
   "cell_type": "code",
   "execution_count": 20,
   "metadata": {},
   "outputs": [
    {
     "data": {
      "text/plain": [
       "'\\ncolumn 1591~1593: poly X_age\\n'"
      ]
     },
     "execution_count": 20,
     "metadata": {},
     "output_type": "execute_result"
    }
   ],
   "source": [
    "'''\n",
    "column 1591~1593: poly X_age\n",
    "'''"
   ]
  },
  {
   "cell_type": "code",
   "execution_count": 21,
   "metadata": {},
   "outputs": [],
   "source": [
    "# no_car\n",
    "X_no_car = X[:, 3]\n",
    "poly_reg_car = PolynomialFeatures(degree = 4)\n",
    "X_no_car = poly_reg_car.fit_transform(X_no_car.reshape(-1, 1))\n",
    "X_no_car = np.delete(X_no_car, 0, axis = 1)\n",
    "X_no_car = np.delete(X_no_car, 0, axis = 1)\n",
    "\n",
    "X = np.append(X, X_no_car, axis = 1)"
   ]
  },
  {
   "cell_type": "code",
   "execution_count": 22,
   "metadata": {},
   "outputs": [
    {
     "data": {
      "text/plain": [
       "'\\ncolumn 1594~1596: poly X_age\\n'"
      ]
     },
     "execution_count": 22,
     "metadata": {},
     "output_type": "execute_result"
    }
   ],
   "source": [
    "'''\n",
    "column 1594~1596: poly X_age\n",
    "'''"
   ]
  },
  {
   "cell_type": "code",
   "execution_count": 23,
   "metadata": {},
   "outputs": [
    {
     "data": {
      "text/html": [
       "<div>\n",
       "<style scoped>\n",
       "    .dataframe tbody tr th:only-of-type {\n",
       "        vertical-align: middle;\n",
       "    }\n",
       "\n",
       "    .dataframe tbody tr th {\n",
       "        vertical-align: top;\n",
       "    }\n",
       "\n",
       "    .dataframe thead th {\n",
       "        text-align: right;\n",
       "    }\n",
       "</style>\n",
       "<table border=\"1\" class=\"dataframe\">\n",
       "  <thead>\n",
       "    <tr style=\"text-align: right;\">\n",
       "      <th></th>\n",
       "      <th>house_lat</th>\n",
       "      <th>house_lon</th>\n",
       "    </tr>\n",
       "  </thead>\n",
       "  <tbody>\n",
       "    <tr>\n",
       "      <th>0</th>\n",
       "      <td>37.453952</td>\n",
       "      <td>126.716877</td>\n",
       "    </tr>\n",
       "    <tr>\n",
       "      <th>1</th>\n",
       "      <td>37.465845</td>\n",
       "      <td>126.717234</td>\n",
       "    </tr>\n",
       "    <tr>\n",
       "      <th>2</th>\n",
       "      <td>37.229621</td>\n",
       "      <td>127.284122</td>\n",
       "    </tr>\n",
       "    <tr>\n",
       "      <th>3</th>\n",
       "      <td>37.623500</td>\n",
       "      <td>127.083187</td>\n",
       "    </tr>\n",
       "    <tr>\n",
       "      <th>4</th>\n",
       "      <td>37.469676</td>\n",
       "      <td>126.644354</td>\n",
       "    </tr>\n",
       "  </tbody>\n",
       "</table>\n",
       "</div>"
      ],
      "text/plain": [
       "   house_lat   house_lon\n",
       "0  37.453952  126.716877\n",
       "1  37.465845  126.717234\n",
       "2  37.229621  127.284122\n",
       "3  37.623500  127.083187\n",
       "4  37.469676  126.644354"
      ]
     },
     "execution_count": 23,
     "metadata": {},
     "output_type": "execute_result"
    }
   ],
   "source": [
    "y = data.loc[:, [\"house_lat\", \"house_lon\"]]\n",
    "y.head()"
   ]
  },
  {
   "cell_type": "code",
   "execution_count": 24,
   "metadata": {},
   "outputs": [
    {
     "data": {
      "text/plain": [
       "house_lat    180\n",
       "house_lon    180\n",
       "dtype: int64"
      ]
     },
     "execution_count": 24,
     "metadata": {},
     "output_type": "execute_result"
    }
   ],
   "source": [
    "y.isnull().sum()"
   ]
  },
  {
   "cell_type": "code",
   "execution_count": 25,
   "metadata": {},
   "outputs": [],
   "source": [
    "# # Taking care of missing data\n",
    "# from sklearn.preprocessing import Imputer\n",
    "# imputer = Imputer(missing_values = 'NaN', strategy = 'mean', axis = 0)\n",
    "# imputer = imputer.fit(y)\n",
    "# y = imputer.transform(y)\n",
    "y = y.dropna()\n",
    "Y = y.values"
   ]
  },
  {
   "cell_type": "code",
   "execution_count": 26,
   "metadata": {},
   "outputs": [],
   "source": [
    "# Splitting the dataset into the Training set and Test set (original dataset for random forest and SVM)\n",
    "from sklearn.model_selection import train_test_split\n",
    "X_train, X_test, y_train, y_test = train_test_split(x_original, Y, test_size = 0.2, random_state = 0)"
   ]
  },
  {
   "cell_type": "code",
   "execution_count": 27,
   "metadata": {},
   "outputs": [],
   "source": [
    "# Feature Scaling (Standardization)\n",
    "from sklearn.preprocessing import StandardScaler\n",
    "sc = StandardScaler()\n",
    "X_train = sc.fit_transform(X_train)\n",
    "X_test = sc.transform(X_test)\n",
    "# Normalization\n",
    "# from sklearn.preprocessing import MinMaxScaler\n",
    "# sc = MinMaxScaler(feature_range = (0, 1))\n",
    "# X_train = sc.fit_transform(X_train)\n",
    "# X_test = sc.transform(X_test)"
   ]
  },
  {
   "cell_type": "code",
   "execution_count": 28,
   "metadata": {},
   "outputs": [
    {
     "data": {
      "text/plain": [
       "RandomForestRegressor(bootstrap=True, criterion='mse', max_depth=None,\n",
       "           max_features='auto', max_leaf_nodes=None,\n",
       "           min_impurity_decrease=0.0, min_impurity_split=None,\n",
       "           min_samples_leaf=1, min_samples_split=2,\n",
       "           min_weight_fraction_leaf=0.0, n_estimators=50, n_jobs=1,\n",
       "           oob_score=False, random_state=0, verbose=0, warm_start=False)"
      ]
     },
     "execution_count": 28,
     "metadata": {},
     "output_type": "execute_result"
    }
   ],
   "source": [
    "# Random Forest Regression\n",
    "# Fitting the Random Forest Regression Model to the dataset\n",
    "from sklearn.ensemble import RandomForestRegressor\n",
    "regressor = RandomForestRegressor(n_estimators = 50, random_state = 0)\n",
    "regressor.fit(X_train, y_train)"
   ]
  },
  {
   "cell_type": "code",
   "execution_count": 29,
   "metadata": {},
   "outputs": [],
   "source": [
    "y_pred = regressor.predict(X_test)"
   ]
  },
  {
   "cell_type": "code",
   "execution_count": 30,
   "metadata": {},
   "outputs": [],
   "source": [
    "prediction = pd.DataFrame({'house_lat': y_test[:, 0],'house_lon':y_test[:, 1],\n",
    "                            'house_lat (pred)': y_pred[:,0], 'house_lon (pred)': y_pred[:,1]})"
   ]
  },
  {
   "cell_type": "code",
   "execution_count": 31,
   "metadata": {},
   "outputs": [],
   "source": [
    "# accuracy based on distance\n",
    "def accuracy(pred):\n",
    "    sum_error = 0\n",
    "    for i in range(len(pred)):\n",
    "        deltax = pred.iloc[i][0]-pred.iloc[i][2]\n",
    "        deltay = pred.iloc[i][1]-pred.iloc[i][3]\n",
    "        error = (deltax**2 + deltay**2)**(0.5)\n",
    "        sum_error += error\n",
    "    return sum_error\n",
    "\n",
    "def ind_diff(pred):\n",
    "    diff = []\n",
    "    for i in range(len(pred)):\n",
    "        deltax = pred.iloc[i][0]-pred.iloc[i][2]\n",
    "        deltay = pred.iloc[i][1]-pred.iloc[i][3]\n",
    "        error = (deltax**2 + deltay**2)**(0.5)\n",
    "        diff.append(error)\n",
    "    return pd.DataFrame({'Difference': diff})\n"
   ]
  },
  {
   "cell_type": "code",
   "execution_count": 32,
   "metadata": {},
   "outputs": [
    {
     "data": {
      "text/plain": [
       "836.4854723538451"
      ]
     },
     "execution_count": 32,
     "metadata": {},
     "output_type": "execute_result"
    }
   ],
   "source": [
    "accuracy(prediction)"
   ]
  },
  {
   "cell_type": "code",
   "execution_count": 33,
   "metadata": {},
   "outputs": [],
   "source": [
    "difference = ind_diff(prediction)"
   ]
  },
  {
   "cell_type": "code",
   "execution_count": 34,
   "metadata": {},
   "outputs": [
    {
     "data": {
      "image/png": "[encoded data removed]",
      "text/plain": [
       "<Figure size 432x288 with 1 Axes>"
      ]
     },
     "metadata": {
      "needs_background": "light"
     },
     "output_type": "display_data"
    }
   ],
   "source": [
    "plt.scatter(y_test[:, 0], y_test[:, 1], color = \"red\", label = 'Actual')\n",
    "plt.scatter(y_pred[:, 0], y_pred[:, 1], color = \"blue\", label = 'Prediction')\n",
    "plt.title('Regression')\n",
    "plt.xlabel('Lat')\n",
    "plt.ylabel('Lon')\n",
    "plt.legend(loc='upper left')\n",
    "plt.show()"
   ]
  },
  {
   "cell_type": "code",
   "execution_count": 35,
   "metadata": {},
   "outputs": [
    {
     "data": {
      "text/plain": [
       "MultiOutputRegressor(estimator=SVR(C=1.0, cache_size=200, coef0=0.0, degree=3, epsilon=0.1, gamma='auto',\n",
       "  kernel='rbf', max_iter=-1, shrinking=True, tol=0.001, verbose=False),\n",
       "           n_jobs=1)"
      ]
     },
     "execution_count": 35,
     "metadata": {},
     "output_type": "execute_result"
    }
   ],
   "source": [
    "# SVR\n",
    "from sklearn.svm import SVR\n",
    "from sklearn.multioutput import MultiOutputRegressor\n",
    "\n",
    "Svr = SVR(kernel = 'rbf')\n",
    "regressor = MultiOutputRegressor(Svr)\n",
    "regressor.fit(X_train, y_train)"
   ]
  },
  {
   "cell_type": "code",
   "execution_count": 36,
   "metadata": {},
   "outputs": [],
   "source": [
    "y_pred = regressor.predict(X_test)"
   ]
  },
  {
   "cell_type": "code",
   "execution_count": 37,
   "metadata": {},
   "outputs": [],
   "source": [
    "prediction = pd.DataFrame({'house_lat': y_test[:, 0],'house_lon':y_test[:, 1],\n",
    "                            'house_lat (pred)': y_pred[:,0], 'house_lon (pred)': y_pred[:,1]})"
   ]
  },
  {
   "cell_type": "code",
   "execution_count": 38,
   "metadata": {},
   "outputs": [
    {
     "data": {
      "text/plain": [
       "910.4894551538027"
      ]
     },
     "execution_count": 38,
     "metadata": {},
     "output_type": "execute_result"
    }
   ],
   "source": [
    "accuracy(prediction)"
   ]
  },
  {
   "cell_type": "code",
   "execution_count": 39,
   "metadata": {},
   "outputs": [],
   "source": [
    "difference = ind_diff(prediction)"
   ]
  },
  {
   "cell_type": "code",
   "execution_count": 40,
   "metadata": {},
   "outputs": [
    {
     "data": {
      "text/html": [
       "<div>\n",
       "<style scoped>\n",
       "    .dataframe tbody tr th:only-of-type {\n",
       "        vertical-align: middle;\n",
       "    }\n",
       "\n",
       "    .dataframe tbody tr th {\n",
       "        vertical-align: top;\n",
       "    }\n",
       "\n",
       "    .dataframe thead th {\n",
       "        text-align: right;\n",
       "    }\n",
       "</style>\n",
       "<table border=\"1\" class=\"dataframe\">\n",
       "  <thead>\n",
       "    <tr style=\"text-align: right;\">\n",
       "      <th></th>\n",
       "      <th>Difference</th>\n",
       "    </tr>\n",
       "  </thead>\n",
       "  <tbody>\n",
       "    <tr>\n",
       "      <th>0</th>\n",
       "      <td>0.136940</td>\n",
       "    </tr>\n",
       "    <tr>\n",
       "      <th>1</th>\n",
       "      <td>0.100117</td>\n",
       "    </tr>\n",
       "    <tr>\n",
       "      <th>2</th>\n",
       "      <td>0.046069</td>\n",
       "    </tr>\n",
       "    <tr>\n",
       "      <th>3</th>\n",
       "      <td>0.328629</td>\n",
       "    </tr>\n",
       "    <tr>\n",
       "      <th>4</th>\n",
       "      <td>0.223993</td>\n",
       "    </tr>\n",
       "  </tbody>\n",
       "</table>\n",
       "</div>"
      ],
      "text/plain": [
       "   Difference\n",
       "0    0.136940\n",
       "1    0.100117\n",
       "2    0.046069\n",
       "3    0.328629\n",
       "4    0.223993"
      ]
     },
     "execution_count": 40,
     "metadata": {},
     "output_type": "execute_result"
    }
   ],
   "source": [
    "difference.head()"
   ]
  },
  {
   "cell_type": "code",
   "execution_count": 41,
   "metadata": {},
   "outputs": [
    {
     "data": {
      "image/png": "[encoded data removed]",
      "text/plain": [
       "<Figure size 432x288 with 1 Axes>"
      ]
     },
     "metadata": {
      "needs_background": "light"
     },
     "output_type": "display_data"
    }
   ],
   "source": [
    "plt.scatter(y_test[:, 0], y_test[:, 1], color = \"red\", label = 'Actual')\n",
    "plt.scatter(y_pred[:, 0], y_pred[:, 1], color = \"blue\", label = 'Prediction')\n",
    "plt.title('Regression')\n",
    "plt.xlabel('Lat')\n",
    "plt.ylabel('Lon')\n",
    "plt.legend(loc='upper left')\n",
    "plt.show()"
   ]
  },
  {
   "cell_type": "code",
   "execution_count": 67,
   "metadata": {},
   "outputs": [],
   "source": [
    "# Importing the Keras libraries and packages\n",
    "import keras\n",
    "from keras.models import Sequential\n",
    "from keras.layers import Dense, Dropout"
   ]
  },
  {
   "cell_type": "code",
   "execution_count": 68,
   "metadata": {},
   "outputs": [
    {
     "name": "stdout",
     "output_type": "stream",
     "text": [
      "_________________________________________________________________\n",
      "Layer (type)                 Output Shape              Param #   \n",
      "=================================================================\n",
      "dense_10 (Dense)             (None, 32)                51136     \n",
      "_________________________________________________________________\n",
      "dropout_8 (Dropout)          (None, 32)                0         \n",
      "_________________________________________________________________\n",
      "dense_11 (Dense)             (None, 64)                2112      \n",
      "_________________________________________________________________\n",
      "dropout_9 (Dropout)          (None, 64)                0         \n",
      "_________________________________________________________________\n",
      "dense_12 (Dense)             (None, 64)                4160      \n",
      "_________________________________________________________________\n",
      "dropout_10 (Dropout)         (None, 64)                0         \n",
      "_________________________________________________________________\n",
      "dense_13 (Dense)             (None, 2)                 130       \n",
      "=================================================================\n",
      "Total params: 57,538\n",
      "Trainable params: 57,538\n",
      "Non-trainable params: 0\n",
      "_________________________________________________________________\n"
     ]
    }
   ],
   "source": [
    "# Initialising the ANN\n",
    "regressor = Sequential()\n",
    "\n",
    "# Adding the input layer and the first hidden layer\n",
    "regressor.add(Dense(units = 32, kernel_initializer = 'uniform', activation = 'relu', input_dim = 1597))\n",
    "regressor.add(Dropout(0.2))\n",
    "\n",
    "# Adding the second hidden layer\n",
    "regressor.add(Dense(units = 64, kernel_initializer = 'uniform', activation = 'relu'))\n",
    "regressor.add(Dropout(0.2))\n",
    "\n",
    "# Adding the third hidden layer\n",
    "regressor.add(Dense(units = 64, kernel_initializer = 'uniform', activation = 'relu'))\n",
    "regressor.add(Dropout(0.2))\n",
    "\n",
    "# Adding the output layer\n",
    "regressor.add(Dense(units = 2, kernel_initializer = 'normal', activation = 'linear'))\n",
    "\n",
    "# Compiling the ANN\n",
    "sgd = keras.optimizers.SGD(lr=0.1, nesterov = True)\n",
    "regressor.compile(optimizer = sgd, loss = 'mean_squared_error', metrics = ['mae'])\n",
    "regressor.summary()"
   ]
  },
  {
   "cell_type": "code",
   "execution_count": 69,
   "metadata": {},
   "outputs": [],
   "source": [
    "# X_train, X_test, y_train, y_test = train_test_split(X, Y, test_size = 0.2, random_state = 0)\n",
    "# from sklearn.preprocessing import MinMaxScaler\n",
    "# sc = MinMaxScaler(feature_range = (0, 1))\n",
    "# X_train = sc.fit_transform(X_train)\n",
    "# X_test = sc.transform(X_test)"
   ]
  },
  {
   "cell_type": "code",
   "execution_count": 70,
   "metadata": {},
   "outputs": [],
   "source": [
    "Y_standardized = np.zeros((len(Y), 2))\n",
    "Y_standardized[:,0] = (Y[:,0] - np.mean(Y[:,0]))/ np.std(Y[:,0])\n",
    "Y_standardized[:,1] = (Y[:,1] - np.mean(Y[:,1]))/ np.std(Y[:,1])"
   ]
  },
  {
   "cell_type": "code",
   "execution_count": 71,
   "metadata": {},
   "outputs": [],
   "source": [
    "# processed dataset with dummy variables and polynomials as well as standardized outcomes\n",
    "X_train, X_test, y_train, y_test = train_test_split(X, Y_standardized, test_size = 0.2, random_state = 0)\n",
    "from sklearn.preprocessing import MinMaxScaler\n",
    "sc = MinMaxScaler(feature_range = (0, 1))\n",
    "X_train = sc.fit_transform(X_train)\n",
    "X_test = sc.transform(X_test)\n",
    "# sc = StandardScaler()\n",
    "# X_train = sc.fit_transform(X_train)\n",
    "# X_test = sc.transform(X_test)"
   ]
  },
  {
   "cell_type": "code",
   "execution_count": 72,
   "metadata": {
    "scrolled": true
   },
   "outputs": [
    {
     "name": "stdout",
     "output_type": "stream",
     "text": [
      "Epoch 1/250\n",
      "37342/37342 [==============================] - 2s 47us/step - loss: 0.9983 - mean_absolute_error: 0.7605\n",
      "Epoch 2/250\n",
      "37342/37342 [==============================] - 1s 39us/step - loss: 0.9982 - mean_absolute_error: 0.7605\n",
      "Epoch 3/250\n",
      "37342/37342 [==============================] - 1s 40us/step - loss: 0.9981 - mean_absolute_error: 0.7606\n",
      "Epoch 4/250\n",
      "37342/37342 [==============================] - 1s 38us/step - loss: 0.9980 - mean_absolute_error: 0.7603\n",
      "Epoch 5/250\n",
      "37342/37342 [==============================] - 1s 40us/step - loss: 0.9974 - mean_absolute_error: 0.7603\n",
      "Epoch 6/250\n",
      "37342/37342 [==============================] - 1s 35us/step - loss: 0.9800 - mean_absolute_error: 0.7527\n",
      "Epoch 7/250\n",
      "37342/37342 [==============================] - 1s 35us/step - loss: 0.8697 - mean_absolute_error: 0.7002\n",
      "Epoch 8/250\n",
      "37342/37342 [==============================] - 1s 31us/step - loss: 0.7107 - mean_absolute_error: 0.6334\n",
      "Epoch 9/250\n",
      "37342/37342 [==============================] - 1s 35us/step - loss: 0.5213 - mean_absolute_error: 0.5364\n",
      "Epoch 10/250\n",
      "37342/37342 [==============================] - 1s 36us/step - loss: 0.4294 - mean_absolute_error: 0.4811\n",
      "Epoch 11/250\n",
      "37342/37342 [==============================] - 2s 41us/step - loss: 0.3860 - mean_absolute_error: 0.4511\n",
      "Epoch 12/250\n",
      "37342/37342 [==============================] - 2s 44us/step - loss: 0.3588 - mean_absolute_error: 0.4337\n",
      "Epoch 13/250\n",
      "37342/37342 [==============================] - 1s 37us/step - loss: 0.3452 - mean_absolute_error: 0.4223\n",
      "Epoch 14/250\n",
      "37342/37342 [==============================] - 1s 38us/step - loss: 0.3373 - mean_absolute_error: 0.4172\n",
      "Epoch 15/250\n",
      "37342/37342 [==============================] - 1s 40us/step - loss: 0.3293 - mean_absolute_error: 0.4111\n",
      "Epoch 16/250\n",
      "37342/37342 [==============================] - 2s 42us/step - loss: 0.3211 - mean_absolute_error: 0.4054\n",
      "Epoch 17/250\n",
      "37342/37342 [==============================] - 2s 45us/step - loss: 0.3188 - mean_absolute_error: 0.4027\n",
      "Epoch 18/250\n",
      "37342/37342 [==============================] - 2s 46us/step - loss: 0.3116 - mean_absolute_error: 0.3978\n",
      "Epoch 19/250\n",
      "37342/37342 [==============================] - 2s 51us/step - loss: 0.3083 - mean_absolute_error: 0.3957\n",
      "Epoch 20/250\n",
      "37342/37342 [==============================] - 2s 46us/step - loss: 0.3084 - mean_absolute_error: 0.3954\n",
      "Epoch 21/250\n",
      "37342/37342 [==============================] - 2s 45us/step - loss: 0.3025 - mean_absolute_error: 0.3913\n",
      "Epoch 22/250\n",
      "37342/37342 [==============================] - 2s 52us/step - loss: 0.3004 - mean_absolute_error: 0.3913\n",
      "Epoch 23/250\n",
      "37342/37342 [==============================] - 2s 43us/step - loss: 0.2985 - mean_absolute_error: 0.3886\n",
      "Epoch 24/250\n",
      "37342/37342 [==============================] - 1s 37us/step - loss: 0.2978 - mean_absolute_error: 0.3870\n",
      "Epoch 25/250\n",
      "37342/37342 [==============================] - 1s 32us/step - loss: 0.2961 - mean_absolute_error: 0.3864\n",
      "Epoch 26/250\n",
      "37342/37342 [==============================] - 1s 30us/step - loss: 0.2923 - mean_absolute_error: 0.3839\n",
      "Epoch 27/250\n",
      "37342/37342 [==============================] - 1s 34us/step - loss: 0.2898 - mean_absolute_error: 0.3823\n",
      "Epoch 28/250\n",
      "37342/37342 [==============================] - 1s 38us/step - loss: 0.2877 - mean_absolute_error: 0.3811\n",
      "Epoch 29/250\n",
      "37342/37342 [==============================] - 1s 39us/step - loss: 0.2877 - mean_absolute_error: 0.3801\n",
      "Epoch 30/250\n",
      "37342/37342 [==============================] - 1s 32us/step - loss: 0.2859 - mean_absolute_error: 0.3792\n",
      "Epoch 31/250\n",
      "37342/37342 [==============================] - 1s 32us/step - loss: 0.2848 - mean_absolute_error: 0.3781\n",
      "Epoch 32/250\n",
      "37342/37342 [==============================] - 1s 35us/step - loss: 0.2829 - mean_absolute_error: 0.3770\n",
      "Epoch 33/250\n",
      "37342/37342 [==============================] - 1s 32us/step - loss: 0.2841 - mean_absolute_error: 0.3772\n",
      "Epoch 34/250\n",
      "37342/37342 [==============================] - 1s 34us/step - loss: 0.2820 - mean_absolute_error: 0.3763\n",
      "Epoch 35/250\n",
      "37342/37342 [==============================] - 1s 39us/step - loss: 0.2804 - mean_absolute_error: 0.3760\n",
      "Epoch 36/250\n",
      "37342/37342 [==============================] - 1s 39us/step - loss: 0.2800 - mean_absolute_error: 0.3750\n",
      "Epoch 37/250\n",
      "37342/37342 [==============================] - 1s 30us/step - loss: 0.2780 - mean_absolute_error: 0.3743\n",
      "Epoch 38/250\n",
      "37342/37342 [==============================] - 1s 39us/step - loss: 0.2768 - mean_absolute_error: 0.3732\n",
      "Epoch 39/250\n",
      "37342/37342 [==============================] - 1s 31us/step - loss: 0.2766 - mean_absolute_error: 0.3729\n",
      "Epoch 40/250\n",
      "37342/37342 [==============================] - 2s 48us/step - loss: 0.2757 - mean_absolute_error: 0.3720\n",
      "Epoch 41/250\n",
      "37342/37342 [==============================] - 1s 39us/step - loss: 0.2745 - mean_absolute_error: 0.3698\n",
      "Epoch 42/250\n",
      "37342/37342 [==============================] - 1s 35us/step - loss: 0.2747 - mean_absolute_error: 0.3711\n",
      "Epoch 43/250\n",
      "37342/37342 [==============================] - 1s 34us/step - loss: 0.2717 - mean_absolute_error: 0.3689\n",
      "Epoch 44/250\n",
      "37342/37342 [==============================] - 1s 40us/step - loss: 0.2721 - mean_absolute_error: 0.3693\n",
      "Epoch 45/250\n",
      "37342/37342 [==============================] - 1s 37us/step - loss: 0.2733 - mean_absolute_error: 0.3704\n",
      "Epoch 46/250\n",
      "37342/37342 [==============================] - 1s 35us/step - loss: 0.2727 - mean_absolute_error: 0.3695\n",
      "Epoch 47/250\n",
      "37342/37342 [==============================] - 1s 34us/step - loss: 0.2711 - mean_absolute_error: 0.3686\n",
      "Epoch 48/250\n",
      "37342/37342 [==============================] - 1s 33us/step - loss: 0.2702 - mean_absolute_error: 0.3674\n",
      "Epoch 49/250\n",
      "37342/37342 [==============================] - 1s 37us/step - loss: 0.2714 - mean_absolute_error: 0.3687\n",
      "Epoch 50/250\n",
      "37342/37342 [==============================] - 1s 30us/step - loss: 0.2697 - mean_absolute_error: 0.3667\n",
      "Epoch 51/250\n",
      "37342/37342 [==============================] - 1s 35us/step - loss: 0.2690 - mean_absolute_error: 0.3663\n",
      "Epoch 52/250\n",
      "37342/37342 [==============================] - 2s 42us/step - loss: 0.2664 - mean_absolute_error: 0.3658\n",
      "Epoch 53/250\n",
      "37342/37342 [==============================] - 2s 47us/step - loss: 0.2687 - mean_absolute_error: 0.3668\n",
      "Epoch 54/250\n",
      "37342/37342 [==============================] - 1s 37us/step - loss: 0.2680 - mean_absolute_error: 0.3664\n",
      "Epoch 55/250\n",
      "37342/37342 [==============================] - 2s 41us/step - loss: 0.2673 - mean_absolute_error: 0.3661\n",
      "Epoch 56/250\n",
      "37342/37342 [==============================] - 1s 35us/step - loss: 0.2657 - mean_absolute_error: 0.3646\n",
      "Epoch 57/250\n",
      "37342/37342 [==============================] - 1s 38us/step - loss: 0.2652 - mean_absolute_error: 0.3641\n",
      "Epoch 58/250\n",
      "37342/37342 [==============================] - 1s 31us/step - loss: 0.2645 - mean_absolute_error: 0.3636\n",
      "Epoch 59/250\n",
      "37342/37342 [==============================] - 1s 33us/step - loss: 0.2638 - mean_absolute_error: 0.3636\n",
      "Epoch 60/250\n",
      "37342/37342 [==============================] - 1s 40us/step - loss: 0.2646 - mean_absolute_error: 0.3637\n",
      "Epoch 61/250\n",
      "37342/37342 [==============================] - 2s 49us/step - loss: 0.2639 - mean_absolute_error: 0.3633\n",
      "Epoch 62/250\n",
      "37342/37342 [==============================] - 1s 37us/step - loss: 0.2641 - mean_absolute_error: 0.3636\n",
      "Epoch 63/250\n",
      "37342/37342 [==============================] - 2s 48us/step - loss: 0.2632 - mean_absolute_error: 0.3625\n",
      "Epoch 64/250\n",
      "37342/37342 [==============================] - 1s 30us/step - loss: 0.2635 - mean_absolute_error: 0.3628\n",
      "Epoch 65/250\n",
      "37342/37342 [==============================] - 1s 30us/step - loss: 0.2641 - mean_absolute_error: 0.3629\n",
      "Epoch 66/250\n",
      "37342/37342 [==============================] - 1s 31us/step - loss: 0.2620 - mean_absolute_error: 0.3620\n",
      "Epoch 67/250\n",
      "37342/37342 [==============================] - 2s 41us/step - loss: 0.2623 - mean_absolute_error: 0.3622\n",
      "Epoch 68/250\n",
      "37342/37342 [==============================] - 1s 32us/step - loss: 0.2620 - mean_absolute_error: 0.3614\n",
      "Epoch 69/250\n",
      "37342/37342 [==============================] - 1s 31us/step - loss: 0.2605 - mean_absolute_error: 0.3604\n",
      "Epoch 70/250\n"
     ]
    },
    {
     "name": "stdout",
     "output_type": "stream",
     "text": [
      "37342/37342 [==============================] - 1s 35us/step - loss: 0.2612 - mean_absolute_error: 0.3609\n",
      "Epoch 71/250\n",
      "37342/37342 [==============================] - 1s 34us/step - loss: 0.2613 - mean_absolute_error: 0.3611\n",
      "Epoch 72/250\n",
      "37342/37342 [==============================] - 1s 30us/step - loss: 0.2611 - mean_absolute_error: 0.3607\n",
      "Epoch 73/250\n",
      "37342/37342 [==============================] - 1s 30us/step - loss: 0.2595 - mean_absolute_error: 0.3605\n",
      "Epoch 74/250\n",
      "37342/37342 [==============================] - 2s 41us/step - loss: 0.2597 - mean_absolute_error: 0.3598\n",
      "Epoch 75/250\n",
      "37342/37342 [==============================] - 2s 43us/step - loss: 0.2592 - mean_absolute_error: 0.3599\n",
      "Epoch 76/250\n",
      "37342/37342 [==============================] - 2s 41us/step - loss: 0.2586 - mean_absolute_error: 0.3596\n",
      "Epoch 77/250\n",
      "37342/37342 [==============================] - 1s 38us/step - loss: 0.2571 - mean_absolute_error: 0.3578\n",
      "Epoch 78/250\n",
      "37342/37342 [==============================] - 1s 32us/step - loss: 0.2573 - mean_absolute_error: 0.3586\n",
      "Epoch 79/250\n",
      "37342/37342 [==============================] - 1s 32us/step - loss: 0.2582 - mean_absolute_error: 0.3585\n",
      "Epoch 80/250\n",
      "37342/37342 [==============================] - 1s 31us/step - loss: 0.2579 - mean_absolute_error: 0.3589\n",
      "Epoch 81/250\n",
      "37342/37342 [==============================] - 1s 31us/step - loss: 0.2591 - mean_absolute_error: 0.3590\n",
      "Epoch 82/250\n",
      "37342/37342 [==============================] - 1s 30us/step - loss: 0.2576 - mean_absolute_error: 0.3578\n",
      "Epoch 83/250\n",
      "37342/37342 [==============================] - 1s 30us/step - loss: 0.2558 - mean_absolute_error: 0.3577\n",
      "Epoch 84/250\n",
      "37342/37342 [==============================] - 1s 30us/step - loss: 0.2575 - mean_absolute_error: 0.3586\n",
      "Epoch 85/250\n",
      "37342/37342 [==============================] - 1s 30us/step - loss: 0.2567 - mean_absolute_error: 0.3578\n",
      "Epoch 86/250\n",
      "37342/37342 [==============================] - 1s 30us/step - loss: 0.2555 - mean_absolute_error: 0.3568\n",
      "Epoch 87/250\n",
      "37342/37342 [==============================] - 1s 31us/step - loss: 0.2566 - mean_absolute_error: 0.3580\n",
      "Epoch 88/250\n",
      "37342/37342 [==============================] - 1s 30us/step - loss: 0.2569 - mean_absolute_error: 0.3584\n",
      "Epoch 89/250\n",
      "37342/37342 [==============================] - 1s 30us/step - loss: 0.2557 - mean_absolute_error: 0.3567\n",
      "Epoch 90/250\n",
      "37342/37342 [==============================] - 1s 30us/step - loss: 0.2545 - mean_absolute_error: 0.3564\n",
      "Epoch 91/250\n",
      "37342/37342 [==============================] - 1s 34us/step - loss: 0.2551 - mean_absolute_error: 0.3566\n",
      "Epoch 92/250\n",
      "37342/37342 [==============================] - 1s 32us/step - loss: 0.2544 - mean_absolute_error: 0.3555\n",
      "Epoch 93/250\n",
      "37342/37342 [==============================] - 1s 36us/step - loss: 0.2556 - mean_absolute_error: 0.3564\n",
      "Epoch 94/250\n",
      "37342/37342 [==============================] - 1s 39us/step - loss: 0.2551 - mean_absolute_error: 0.3567\n",
      "Epoch 95/250\n",
      "37342/37342 [==============================] - 1s 29us/step - loss: 0.2533 - mean_absolute_error: 0.3554\n",
      "Epoch 96/250\n",
      "37342/37342 [==============================] - 1s 30us/step - loss: 0.2545 - mean_absolute_error: 0.3559\n",
      "Epoch 97/250\n",
      "37342/37342 [==============================] - 1s 29us/step - loss: 0.2540 - mean_absolute_error: 0.3561\n",
      "Epoch 98/250\n",
      "37342/37342 [==============================] - 1s 37us/step - loss: 0.2539 - mean_absolute_error: 0.3556\n",
      "Epoch 99/250\n",
      "37342/37342 [==============================] - 1s 36us/step - loss: 0.2548 - mean_absolute_error: 0.3560\n",
      "Epoch 100/250\n",
      "37342/37342 [==============================] - 1s 31us/step - loss: 0.2517 - mean_absolute_error: 0.3543\n",
      "Epoch 101/250\n",
      "37342/37342 [==============================] - 1s 30us/step - loss: 0.2520 - mean_absolute_error: 0.3556\n",
      "Epoch 102/250\n",
      "37342/37342 [==============================] - 1s 29us/step - loss: 0.2526 - mean_absolute_error: 0.3554\n",
      "Epoch 103/250\n",
      "37342/37342 [==============================] - 1s 29us/step - loss: 0.2523 - mean_absolute_error: 0.3547\n",
      "Epoch 104/250\n",
      "37342/37342 [==============================] - 1s 31us/step - loss: 0.2512 - mean_absolute_error: 0.3543\n",
      "Epoch 105/250\n",
      "37342/37342 [==============================] - 1s 30us/step - loss: 0.2516 - mean_absolute_error: 0.3542\n",
      "Epoch 106/250\n",
      "37342/37342 [==============================] - 1s 30us/step - loss: 0.2530 - mean_absolute_error: 0.3554\n",
      "Epoch 107/250\n",
      "37342/37342 [==============================] - 1s 31us/step - loss: 0.2519 - mean_absolute_error: 0.3542\n",
      "Epoch 108/250\n",
      "37342/37342 [==============================] - 1s 37us/step - loss: 0.2493 - mean_absolute_error: 0.3522\n",
      "Epoch 109/250\n",
      "37342/37342 [==============================] - 1s 36us/step - loss: 0.2531 - mean_absolute_error: 0.3544\n",
      "Epoch 110/250\n",
      "37342/37342 [==============================] - 1s 31us/step - loss: 0.2514 - mean_absolute_error: 0.3543\n",
      "Epoch 111/250\n",
      "37342/37342 [==============================] - 1s 32us/step - loss: 0.2515 - mean_absolute_error: 0.3533\n",
      "Epoch 112/250\n",
      "37342/37342 [==============================] - 1s 33us/step - loss: 0.2510 - mean_absolute_error: 0.3534\n",
      "Epoch 113/250\n",
      "37342/37342 [==============================] - 1s 33us/step - loss: 0.2512 - mean_absolute_error: 0.3530\n",
      "Epoch 114/250\n",
      "37342/37342 [==============================] - 1s 35us/step - loss: 0.2489 - mean_absolute_error: 0.3523\n",
      "Epoch 115/250\n",
      "37342/37342 [==============================] - 1s 31us/step - loss: 0.2503 - mean_absolute_error: 0.3529\n",
      "Epoch 116/250\n",
      "37342/37342 [==============================] - 1s 30us/step - loss: 0.2493 - mean_absolute_error: 0.3525\n",
      "Epoch 117/250\n",
      "37342/37342 [==============================] - 1s 32us/step - loss: 0.2495 - mean_absolute_error: 0.3519\n",
      "Epoch 118/250\n",
      "37342/37342 [==============================] - 1s 33us/step - loss: 0.2499 - mean_absolute_error: 0.3524\n",
      "Epoch 119/250\n",
      "37342/37342 [==============================] - 1s 31us/step - loss: 0.2502 - mean_absolute_error: 0.3524\n",
      "Epoch 120/250\n",
      "37342/37342 [==============================] - 1s 30us/step - loss: 0.2483 - mean_absolute_error: 0.3510\n",
      "Epoch 121/250\n",
      "37342/37342 [==============================] - 1s 30us/step - loss: 0.2490 - mean_absolute_error: 0.3516\n",
      "Epoch 122/250\n",
      "37342/37342 [==============================] - 1s 30us/step - loss: 0.2480 - mean_absolute_error: 0.3518\n",
      "Epoch 123/250\n",
      "37342/37342 [==============================] - 1s 35us/step - loss: 0.2489 - mean_absolute_error: 0.3525\n",
      "Epoch 124/250\n",
      "37342/37342 [==============================] - 2s 43us/step - loss: 0.2489 - mean_absolute_error: 0.3518\n",
      "Epoch 125/250\n",
      "37342/37342 [==============================] - 1s 37us/step - loss: 0.2489 - mean_absolute_error: 0.3517\n",
      "Epoch 126/250\n",
      "37342/37342 [==============================] - 1s 33us/step - loss: 0.2485 - mean_absolute_error: 0.3508\n",
      "Epoch 127/250\n",
      "37342/37342 [==============================] - 1s 31us/step - loss: 0.2477 - mean_absolute_error: 0.3516\n",
      "Epoch 128/250\n",
      "37342/37342 [==============================] - 1s 31us/step - loss: 0.2456 - mean_absolute_error: 0.3491\n",
      "Epoch 129/250\n",
      "37342/37342 [==============================] - 1s 38us/step - loss: 0.2476 - mean_absolute_error: 0.3505\n",
      "Epoch 130/250\n",
      "37342/37342 [==============================] - 1s 35us/step - loss: 0.2472 - mean_absolute_error: 0.3507\n",
      "Epoch 131/250\n",
      "37342/37342 [==============================] - 1s 34us/step - loss: 0.2482 - mean_absolute_error: 0.3507\n",
      "Epoch 132/250\n",
      "37342/37342 [==============================] - 1s 40us/step - loss: 0.2470 - mean_absolute_error: 0.3504\n",
      "Epoch 133/250\n",
      "37342/37342 [==============================] - 1s 37us/step - loss: 0.2465 - mean_absolute_error: 0.3503\n",
      "Epoch 134/250\n",
      "37342/37342 [==============================] - 1s 31us/step - loss: 0.2466 - mean_absolute_error: 0.3502\n",
      "Epoch 135/250\n",
      "37342/37342 [==============================] - 2s 48us/step - loss: 0.2461 - mean_absolute_error: 0.3493\n",
      "Epoch 136/250\n",
      "37342/37342 [==============================] - 2s 41us/step - loss: 0.2474 - mean_absolute_error: 0.3506\n",
      "Epoch 137/250\n",
      "37342/37342 [==============================] - 1s 40us/step - loss: 0.2466 - mean_absolute_error: 0.3501\n",
      "Epoch 138/250\n",
      "37342/37342 [==============================] - 1s 29us/step - loss: 0.2446 - mean_absolute_error: 0.3490\n",
      "Epoch 139/250\n"
     ]
    },
    {
     "name": "stdout",
     "output_type": "stream",
     "text": [
      "37342/37342 [==============================] - 1s 29us/step - loss: 0.2457 - mean_absolute_error: 0.3486\n",
      "Epoch 140/250\n",
      "37342/37342 [==============================] - 1s 29us/step - loss: 0.2469 - mean_absolute_error: 0.3498\n",
      "Epoch 141/250\n",
      "37342/37342 [==============================] - 1s 28us/step - loss: 0.2452 - mean_absolute_error: 0.3496\n",
      "Epoch 142/250\n",
      "37342/37342 [==============================] - 1s 29us/step - loss: 0.2468 - mean_absolute_error: 0.3497\n",
      "Epoch 143/250\n",
      "37342/37342 [==============================] - 1s 27us/step - loss: 0.2444 - mean_absolute_error: 0.3480\n",
      "Epoch 144/250\n",
      "37342/37342 [==============================] - 1s 28us/step - loss: 0.2444 - mean_absolute_error: 0.3484\n",
      "Epoch 145/250\n",
      "37342/37342 [==============================] - 1s 28us/step - loss: 0.2446 - mean_absolute_error: 0.3487\n",
      "Epoch 146/250\n",
      "37342/37342 [==============================] - 1s 28us/step - loss: 0.2470 - mean_absolute_error: 0.3498\n",
      "Epoch 147/250\n",
      "37342/37342 [==============================] - 1s 29us/step - loss: 0.2451 - mean_absolute_error: 0.3489\n",
      "Epoch 148/250\n",
      "37342/37342 [==============================] - 1s 27us/step - loss: 0.2446 - mean_absolute_error: 0.3482\n",
      "Epoch 149/250\n",
      "37342/37342 [==============================] - 1s 27us/step - loss: 0.2446 - mean_absolute_error: 0.3481\n",
      "Epoch 150/250\n",
      "37342/37342 [==============================] - 1s 27us/step - loss: 0.2441 - mean_absolute_error: 0.3489\n",
      "Epoch 151/250\n",
      "37342/37342 [==============================] - 1s 27us/step - loss: 0.2446 - mean_absolute_error: 0.3490\n",
      "Epoch 152/250\n",
      "37342/37342 [==============================] - 1s 27us/step - loss: 0.2456 - mean_absolute_error: 0.3494\n",
      "Epoch 153/250\n",
      "37342/37342 [==============================] - 1s 28us/step - loss: 0.2466 - mean_absolute_error: 0.3491\n",
      "Epoch 154/250\n",
      "37342/37342 [==============================] - 1s 28us/step - loss: 0.2437 - mean_absolute_error: 0.3473\n",
      "Epoch 155/250\n",
      "37342/37342 [==============================] - 1s 28us/step - loss: 0.2421 - mean_absolute_error: 0.3467\n",
      "Epoch 156/250\n",
      "37342/37342 [==============================] - 1s 28us/step - loss: 0.2433 - mean_absolute_error: 0.3473\n",
      "Epoch 157/250\n",
      "37342/37342 [==============================] - 1s 34us/step - loss: 0.2430 - mean_absolute_error: 0.3475\n",
      "Epoch 158/250\n",
      "37342/37342 [==============================] - 1s 30us/step - loss: 0.2437 - mean_absolute_error: 0.3478\n",
      "Epoch 159/250\n",
      "37342/37342 [==============================] - 1s 28us/step - loss: 0.2451 - mean_absolute_error: 0.3493\n",
      "Epoch 160/250\n",
      "37342/37342 [==============================] - 1s 28us/step - loss: 0.2447 - mean_absolute_error: 0.3485\n",
      "Epoch 161/250\n",
      "37342/37342 [==============================] - 1s 31us/step - loss: 0.2433 - mean_absolute_error: 0.3474\n",
      "Epoch 162/250\n",
      "37342/37342 [==============================] - 1s 36us/step - loss: 0.2441 - mean_absolute_error: 0.3475\n",
      "Epoch 163/250\n",
      "37342/37342 [==============================] - 1s 35us/step - loss: 0.2433 - mean_absolute_error: 0.3478\n",
      "Epoch 164/250\n",
      "37342/37342 [==============================] - 1s 36us/step - loss: 0.2433 - mean_absolute_error: 0.3469\n",
      "Epoch 165/250\n",
      "37342/37342 [==============================] - 1s 32us/step - loss: 0.2419 - mean_absolute_error: 0.3469\n",
      "Epoch 166/250\n",
      "37342/37342 [==============================] - 1s 39us/step - loss: 0.2419 - mean_absolute_error: 0.3467\n",
      "Epoch 167/250\n",
      "37342/37342 [==============================] - 1s 33us/step - loss: 0.2427 - mean_absolute_error: 0.3470\n",
      "Epoch 168/250\n",
      "37342/37342 [==============================] - 1s 31us/step - loss: 0.2446 - mean_absolute_error: 0.3481\n",
      "Epoch 169/250\n",
      "37342/37342 [==============================] - 1s 29us/step - loss: 0.2430 - mean_absolute_error: 0.3473\n",
      "Epoch 170/250\n",
      "37342/37342 [==============================] - 1s 29us/step - loss: 0.2426 - mean_absolute_error: 0.3470\n",
      "Epoch 171/250\n",
      "37342/37342 [==============================] - 1s 38us/step - loss: 0.2417 - mean_absolute_error: 0.3468\n",
      "Epoch 172/250\n",
      "37342/37342 [==============================] - 1s 33us/step - loss: 0.2438 - mean_absolute_error: 0.3474\n",
      "Epoch 173/250\n",
      "37342/37342 [==============================] - 1s 35us/step - loss: 0.2409 - mean_absolute_error: 0.3464\n",
      "Epoch 174/250\n",
      "37342/37342 [==============================] - 1s 34us/step - loss: 0.2416 - mean_absolute_error: 0.3460\n",
      "Epoch 175/250\n",
      "37342/37342 [==============================] - 1s 38us/step - loss: 0.2422 - mean_absolute_error: 0.3466\n",
      "Epoch 176/250\n",
      "37342/37342 [==============================] - 2s 45us/step - loss: 0.2413 - mean_absolute_error: 0.3458\n",
      "Epoch 177/250\n",
      "37342/37342 [==============================] - 1s 38us/step - loss: 0.2416 - mean_absolute_error: 0.3464\n",
      "Epoch 178/250\n",
      "37342/37342 [==============================] - 1s 37us/step - loss: 0.2416 - mean_absolute_error: 0.3462\n",
      "Epoch 179/250\n",
      "37342/37342 [==============================] - 1s 36us/step - loss: 0.2408 - mean_absolute_error: 0.3456\n",
      "Epoch 180/250\n",
      "37342/37342 [==============================] - 2s 41us/step - loss: 0.2429 - mean_absolute_error: 0.3474\n",
      "Epoch 181/250\n",
      "37342/37342 [==============================] - 2s 41us/step - loss: 0.2415 - mean_absolute_error: 0.3453\n",
      "Epoch 182/250\n",
      "37342/37342 [==============================] - 2s 43us/step - loss: 0.2413 - mean_absolute_error: 0.3462\n",
      "Epoch 183/250\n",
      "37342/37342 [==============================] - 1s 40us/step - loss: 0.2426 - mean_absolute_error: 0.3458\n",
      "Epoch 184/250\n",
      "37342/37342 [==============================] - 1s 34us/step - loss: 0.2398 - mean_absolute_error: 0.3453\n",
      "Epoch 185/250\n",
      "37342/37342 [==============================] - 1s 33us/step - loss: 0.2403 - mean_absolute_error: 0.3457\n",
      "Epoch 186/250\n",
      "37342/37342 [==============================] - 1s 33us/step - loss: 0.2394 - mean_absolute_error: 0.3445\n",
      "Epoch 187/250\n",
      "37342/37342 [==============================] - 1s 39us/step - loss: 0.2403 - mean_absolute_error: 0.3455\n",
      "Epoch 188/250\n",
      "37342/37342 [==============================] - 1s 34us/step - loss: 0.2408 - mean_absolute_error: 0.3457\n",
      "Epoch 189/250\n",
      "37342/37342 [==============================] - 1s 37us/step - loss: 0.2406 - mean_absolute_error: 0.3452\n",
      "Epoch 190/250\n",
      "37342/37342 [==============================] - 1s 34us/step - loss: 0.2415 - mean_absolute_error: 0.3461\n",
      "Epoch 191/250\n",
      "37342/37342 [==============================] - 1s 32us/step - loss: 0.2404 - mean_absolute_error: 0.3454\n",
      "Epoch 192/250\n",
      "37342/37342 [==============================] - 1s 31us/step - loss: 0.2418 - mean_absolute_error: 0.3460\n",
      "Epoch 193/250\n",
      "37342/37342 [==============================] - 1s 32us/step - loss: 0.2395 - mean_absolute_error: 0.3444\n",
      "Epoch 194/250\n",
      "37342/37342 [==============================] - 1s 31us/step - loss: 0.2401 - mean_absolute_error: 0.3458\n",
      "Epoch 195/250\n",
      "37342/37342 [==============================] - 1s 31us/step - loss: 0.2406 - mean_absolute_error: 0.3455\n",
      "Epoch 196/250\n",
      "37342/37342 [==============================] - 1s 31us/step - loss: 0.2382 - mean_absolute_error: 0.3450\n",
      "Epoch 197/250\n",
      "37342/37342 [==============================] - 2s 42us/step - loss: 0.2407 - mean_absolute_error: 0.3455\n",
      "Epoch 198/250\n",
      "37342/37342 [==============================] - 2s 52us/step - loss: 0.2400 - mean_absolute_error: 0.3451\n",
      "Epoch 199/250\n",
      "37342/37342 [==============================] - 2s 46us/step - loss: 0.2379 - mean_absolute_error: 0.3435\n",
      "Epoch 200/250\n",
      "37342/37342 [==============================] - 1s 35us/step - loss: 0.2395 - mean_absolute_error: 0.3441\n",
      "Epoch 201/250\n",
      "37342/37342 [==============================] - 1s 39us/step - loss: 0.2408 - mean_absolute_error: 0.3455\n",
      "Epoch 202/250\n",
      "37342/37342 [==============================] - 1s 40us/step - loss: 0.2397 - mean_absolute_error: 0.3451\n",
      "Epoch 203/250\n",
      "37342/37342 [==============================] - 1s 38us/step - loss: 0.2392 - mean_absolute_error: 0.3450\n",
      "Epoch 204/250\n",
      "37342/37342 [==============================] - 2s 41us/step - loss: 0.2396 - mean_absolute_error: 0.3443\n",
      "Epoch 205/250\n",
      "37342/37342 [==============================] - 2s 43us/step - loss: 0.2387 - mean_absolute_error: 0.3446\n",
      "Epoch 206/250\n",
      "37342/37342 [==============================] - 1s 35us/step - loss: 0.2388 - mean_absolute_error: 0.3439\n",
      "Epoch 207/250\n",
      "37342/37342 [==============================] - 1s 36us/step - loss: 0.2398 - mean_absolute_error: 0.3450\n"
     ]
    },
    {
     "name": "stdout",
     "output_type": "stream",
     "text": [
      "Epoch 208/250\n",
      "37342/37342 [==============================] - 1s 35us/step - loss: 0.2386 - mean_absolute_error: 0.3437\n",
      "Epoch 209/250\n",
      "37342/37342 [==============================] - 1s 38us/step - loss: 0.2382 - mean_absolute_error: 0.3439\n",
      "Epoch 210/250\n",
      "37342/37342 [==============================] - 1s 31us/step - loss: 0.2381 - mean_absolute_error: 0.3437\n",
      "Epoch 211/250\n",
      "37342/37342 [==============================] - 1s 28us/step - loss: 0.2373 - mean_absolute_error: 0.3425\n",
      "Epoch 212/250\n",
      "37342/37342 [==============================] - 1s 29us/step - loss: 0.2395 - mean_absolute_error: 0.3439\n",
      "Epoch 213/250\n",
      "37342/37342 [==============================] - 1s 30us/step - loss: 0.2380 - mean_absolute_error: 0.3434\n",
      "Epoch 214/250\n",
      "37342/37342 [==============================] - 1s 31us/step - loss: 0.2391 - mean_absolute_error: 0.3445\n",
      "Epoch 215/250\n",
      "37342/37342 [==============================] - 1s 30us/step - loss: 0.2387 - mean_absolute_error: 0.3442\n",
      "Epoch 216/250\n",
      "37342/37342 [==============================] - 1s 29us/step - loss: 0.2381 - mean_absolute_error: 0.3438\n",
      "Epoch 217/250\n",
      "37342/37342 [==============================] - 1s 28us/step - loss: 0.2386 - mean_absolute_error: 0.3440\n",
      "Epoch 218/250\n",
      "37342/37342 [==============================] - 1s 27us/step - loss: 0.2380 - mean_absolute_error: 0.3438\n",
      "Epoch 219/250\n",
      "37342/37342 [==============================] - 1s 27us/step - loss: 0.2389 - mean_absolute_error: 0.3439\n",
      "Epoch 220/250\n",
      "37342/37342 [==============================] - 1s 27us/step - loss: 0.2365 - mean_absolute_error: 0.3427\n",
      "Epoch 221/250\n",
      "37342/37342 [==============================] - 1s 27us/step - loss: 0.2391 - mean_absolute_error: 0.3436\n",
      "Epoch 222/250\n",
      "37342/37342 [==============================] - 1s 28us/step - loss: 0.2375 - mean_absolute_error: 0.3431\n",
      "Epoch 223/250\n",
      "37342/37342 [==============================] - 1s 35us/step - loss: 0.2378 - mean_absolute_error: 0.3443\n",
      "Epoch 224/250\n",
      "37342/37342 [==============================] - 1s 32us/step - loss: 0.2372 - mean_absolute_error: 0.3429\n",
      "Epoch 225/250\n",
      "37342/37342 [==============================] - 1s 32us/step - loss: 0.2370 - mean_absolute_error: 0.3425\n",
      "Epoch 226/250\n",
      "37342/37342 [==============================] - 1s 34us/step - loss: 0.2378 - mean_absolute_error: 0.3429\n",
      "Epoch 227/250\n",
      "37342/37342 [==============================] - 1s 34us/step - loss: 0.2358 - mean_absolute_error: 0.3421\n",
      "Epoch 228/250\n",
      "37342/37342 [==============================] - 1s 34us/step - loss: 0.2375 - mean_absolute_error: 0.3435\n",
      "Epoch 229/250\n",
      "37342/37342 [==============================] - 1s 31us/step - loss: 0.2363 - mean_absolute_error: 0.3431\n",
      "Epoch 230/250\n",
      "37342/37342 [==============================] - 1s 31us/step - loss: 0.2370 - mean_absolute_error: 0.3429\n",
      "Epoch 231/250\n",
      "37342/37342 [==============================] - 1s 32us/step - loss: 0.2362 - mean_absolute_error: 0.3418\n",
      "Epoch 232/250\n",
      "37342/37342 [==============================] - 1s 34us/step - loss: 0.2367 - mean_absolute_error: 0.3420\n",
      "Epoch 233/250\n",
      "37342/37342 [==============================] - 1s 37us/step - loss: 0.2380 - mean_absolute_error: 0.3438\n",
      "Epoch 234/250\n",
      "37342/37342 [==============================] - 1s 38us/step - loss: 0.2363 - mean_absolute_error: 0.3423\n",
      "Epoch 235/250\n",
      "37342/37342 [==============================] - 1s 38us/step - loss: 0.2368 - mean_absolute_error: 0.3420\n",
      "Epoch 236/250\n",
      "37342/37342 [==============================] - 2s 58us/step - loss: 0.2374 - mean_absolute_error: 0.3432\n",
      "Epoch 237/250\n",
      "37342/37342 [==============================] - 2s 44us/step - loss: 0.2369 - mean_absolute_error: 0.3424\n",
      "Epoch 238/250\n",
      "37342/37342 [==============================] - 1s 34us/step - loss: 0.2361 - mean_absolute_error: 0.3422\n",
      "Epoch 239/250\n",
      "37342/37342 [==============================] - 1s 39us/step - loss: 0.2367 - mean_absolute_error: 0.3416\n",
      "Epoch 240/250\n",
      "37342/37342 [==============================] - 1s 37us/step - loss: 0.2360 - mean_absolute_error: 0.3428\n",
      "Epoch 241/250\n",
      "37342/37342 [==============================] - 1s 39us/step - loss: 0.2352 - mean_absolute_error: 0.3416\n",
      "Epoch 242/250\n",
      "37342/37342 [==============================] - 1s 34us/step - loss: 0.2371 - mean_absolute_error: 0.3428\n",
      "Epoch 243/250\n",
      "37342/37342 [==============================] - 1s 37us/step - loss: 0.2360 - mean_absolute_error: 0.3415\n",
      "Epoch 244/250\n",
      "37342/37342 [==============================] - 1s 35us/step - loss: 0.2357 - mean_absolute_error: 0.3420\n",
      "Epoch 245/250\n",
      "37342/37342 [==============================] - 1s 36us/step - loss: 0.2360 - mean_absolute_error: 0.3421\n",
      "Epoch 246/250\n",
      "37342/37342 [==============================] - 1s 38us/step - loss: 0.2356 - mean_absolute_error: 0.3422\n",
      "Epoch 247/250\n",
      "37342/37342 [==============================] - 1s 34us/step - loss: 0.2358 - mean_absolute_error: 0.3412\n",
      "Epoch 248/250\n",
      "37342/37342 [==============================] - 1s 32us/step - loss: 0.2367 - mean_absolute_error: 0.3424\n",
      "Epoch 249/250\n",
      "37342/37342 [==============================] - 1s 34us/step - loss: 0.2352 - mean_absolute_error: 0.3412\n",
      "Epoch 250/250\n",
      "37342/37342 [==============================] - 1s 33us/step - loss: 0.2358 - mean_absolute_error: 0.3415\n"
     ]
    },
    {
     "data": {
      "text/plain": [
       "<keras.callbacks.History at 0x1368ddc88>"
      ]
     },
     "execution_count": 72,
     "metadata": {},
     "output_type": "execute_result"
    }
   ],
   "source": [
    "regressor.fit(X_train, y_train, batch_size = 64, epochs = 250)"
   ]
  },
  {
   "cell_type": "code",
   "execution_count": 73,
   "metadata": {},
   "outputs": [],
   "source": [
    "y_pred = regressor.predict(X_test)"
   ]
  },
  {
   "cell_type": "code",
   "execution_count": 74,
   "metadata": {},
   "outputs": [
    {
     "data": {
      "text/plain": [
       "array([[ 37.43051147, 127.4728241 ],\n",
       "       [ 37.5795784 , 127.05845642],\n",
       "       [ 37.49308395, 127.0332489 ],\n",
       "       ...,\n",
       "       [ 37.54063034, 126.96340179],\n",
       "       [ 37.55025864, 126.96472168],\n",
       "       [ 37.37802887, 126.76939392]])"
      ]
     },
     "execution_count": 74,
     "metadata": {},
     "output_type": "execute_result"
    }
   ],
   "source": [
    "y_pred_new = np.zeros((len(y_pred), 2))\n",
    "y_test_new = np.zeros((len(y_test), 2))\n",
    "y_pred_new[:,0] = y_pred[:,0] * np.std(Y[:,0]) + np.mean(Y[:,0])\n",
    "y_pred_new[:,1] = y_pred[:,1] * np.std(Y[:,1]) + np.mean(Y[:,1])\n",
    "\n",
    "y_test_new[:,0] = y_test[:,0] * np.std(Y[:,0]) + np.mean(Y[:,0])\n",
    "y_test_new[:,1] = y_test[:,1] * np.std(Y[:,1]) + np.mean(Y[:,1])\n",
    "y_pred_new"
   ]
  },
  {
   "cell_type": "code",
   "execution_count": 75,
   "metadata": {},
   "outputs": [
    {
     "data": {
      "text/plain": [
       "(9336, 1597)"
      ]
     },
     "execution_count": 75,
     "metadata": {},
     "output_type": "execute_result"
    }
   ],
   "source": [
    "np.shape(X_test)"
   ]
  },
  {
   "cell_type": "code",
   "execution_count": 76,
   "metadata": {},
   "outputs": [],
   "source": [
    "prediction = pd.DataFrame({'house_lat': y_test_new[:, 0],'house_lon':y_test_new[:, 1],\n",
    "                            'house_lat (pred)': y_pred_new[:,0], 'house_lon (pred)': y_pred_new[:,1]})"
   ]
  },
  {
   "cell_type": "code",
   "execution_count": 77,
   "metadata": {},
   "outputs": [
    {
     "data": {
      "text/plain": [
       "(9336, 2)"
      ]
     },
     "execution_count": 77,
     "metadata": {},
     "output_type": "execute_result"
    }
   ],
   "source": [
    "np.shape(y_pred)"
   ]
  },
  {
   "cell_type": "code",
   "execution_count": 81,
   "metadata": {},
   "outputs": [
    {
     "data": {
      "text/plain": [
       "0.09474973330596216"
      ]
     },
     "execution_count": 81,
     "metadata": {},
     "output_type": "execute_result"
    }
   ],
   "source": [
    "# score to beat: 836.4854723538451\n",
    "accuracy(prediction)/len(y_pred)"
   ]
  },
  {
   "cell_type": "code",
   "execution_count": 97,
   "metadata": {},
   "outputs": [
    {
     "data": {
      "image/png": "[encoded data removed]",
      "text/plain": [
       "<Figure size 432x288 with 1 Axes>"
      ]
     },
     "metadata": {
      "needs_background": "light"
     },
     "output_type": "display_data"
    }
   ],
   "source": [
    "# plot\n",
    "plt.scatter(y_test_new[:, 0], y_test_new[:, 1], color = \"red\", label = 'Actual')\n",
    "plt.scatter(y_pred_new[:, 0], y_pred_new[:, 1], color = \"blue\", label = 'Prediction')\n",
    "plt.title('Regression')\n",
    "plt.xlabel('Lat')\n",
    "plt.ylabel('Lon')\n",
    "plt.legend(loc='upper left')\n",
    "plt.show()"
   ]
  },
  {
   "cell_type": "code",
   "execution_count": 93,
   "metadata": {},
   "outputs": [],
   "source": [
    "# Grid Search\n",
    "'''\n",
    "Standard model:\n",
    "# Initialising the ANN\n",
    "regressor = Sequential()\n",
    "\n",
    "# Adding the input layer and the first hidden layer\n",
    "regressor.add(Dense(units = 32, kernel_initializer = 'uniform', activation = 'relu', input_dim = 1597))\n",
    "regressor.add(Dropout(0.2))\n",
    "\n",
    "# Adding the second hidden layer\n",
    "regressor.add(Dense(units = 64, kernel_initializer = 'uniform', activation = 'relu'))\n",
    "regressor.add(Dropout(0.2))\n",
    "\n",
    "# Adding the third hidden layer\n",
    "regressor.add(Dense(units = 64, kernel_initializer = 'uniform', activation = 'relu'))\n",
    "regressor.add(Dropout(0.2))\n",
    "\n",
    "# Adding the output layer\n",
    "regressor.add(Dense(units = 2, kernel_initializer = 'normal', activation = 'linear'))\n",
    "\n",
    "# Compiling the ANN\n",
    "sgd = keras.optimizers.SGD(lr=0.1, nesterov = True)\n",
    "regressor.compile(optimizer = sgd, loss = 'mean_squared_error', metrics = ['mae'])\n",
    "\n",
    "'''\n",
    "from sklearn.model_selection import GridSearchCV\n",
    "from keras.wrappers.scikit_learn import KerasRegressor\n",
    "\n",
    "sgd = keras.optimizers.SGD(lr=0.1, nesterov = True)\n",
    "def create_model():\n",
    "    # create model\n",
    "    regressor = Sequential()\n",
    "    regressor.add(Dense(units = 32, kernel_initializer = 'uniform', activation = 'relu', input_dim = 1597))\n",
    "    regressor.add(Dropout(0.2))\n",
    "    regressor.add(Dense(units = 64, kernel_initializer = 'uniform', activation = 'relu'))\n",
    "    regressor.add(Dropout(0.2))\n",
    "    regressor.add(Dense(units = 64, kernel_initializer = 'uniform', activation = 'relu'))\n",
    "    regressor.add(Dropout(0.2))\n",
    "    regressor.add(Dense(units = 2, kernel_initializer = 'normal', activation = 'linear'))\n",
    "    # Compile model\n",
    "    regressor.compile(optimizer = sgd, loss = 'mean_squared_error', metrics = ['mae'])\n",
    "    return regressor"
   ]
  },
  {
   "cell_type": "code",
   "execution_count": 96,
   "metadata": {},
   "outputs": [
    {
     "ename": "KeyboardInterrupt",
     "evalue": "",
     "output_type": "error",
     "traceback": [
      "\u001b[0;31m---------------------------------------------------------------------------\u001b[0m",
      "\u001b[0;31mKeyboardInterrupt\u001b[0m                         Traceback (most recent call last)",
      "\u001b[0;32m<ipython-input-96-16c1334d8b42>\u001b[0m in \u001b[0;36m<module>\u001b[0;34m()\u001b[0m\n\u001b[1;32m     10\u001b[0m \u001b[0mparam_grid\u001b[0m \u001b[0;34m=\u001b[0m \u001b[0mdict\u001b[0m\u001b[0;34m(\u001b[0m\u001b[0mbatch_size\u001b[0m\u001b[0;34m=\u001b[0m\u001b[0mbatch_size\u001b[0m\u001b[0;34m,\u001b[0m \u001b[0mepochs\u001b[0m\u001b[0;34m=\u001b[0m\u001b[0mepochs\u001b[0m\u001b[0;34m)\u001b[0m\u001b[0;34m\u001b[0m\u001b[0m\n\u001b[1;32m     11\u001b[0m \u001b[0mgrid\u001b[0m \u001b[0;34m=\u001b[0m \u001b[0mGridSearchCV\u001b[0m\u001b[0;34m(\u001b[0m\u001b[0mestimator\u001b[0m\u001b[0;34m=\u001b[0m\u001b[0mmodel\u001b[0m\u001b[0;34m,\u001b[0m \u001b[0mparam_grid\u001b[0m\u001b[0;34m=\u001b[0m\u001b[0mparam_grid\u001b[0m\u001b[0;34m,\u001b[0m \u001b[0mn_jobs\u001b[0m\u001b[0;34m=\u001b[0m\u001b[0;34m-\u001b[0m\u001b[0;36m1\u001b[0m\u001b[0;34m)\u001b[0m\u001b[0;34m\u001b[0m\u001b[0m\n\u001b[0;32m---> 12\u001b[0;31m \u001b[0mgrid_result\u001b[0m \u001b[0;34m=\u001b[0m \u001b[0mgrid\u001b[0m\u001b[0;34m.\u001b[0m\u001b[0mfit\u001b[0m\u001b[0;34m(\u001b[0m\u001b[0mX\u001b[0m\u001b[0;34m,\u001b[0m \u001b[0mY\u001b[0m\u001b[0;34m)\u001b[0m\u001b[0;34m\u001b[0m\u001b[0m\n\u001b[0m\u001b[1;32m     13\u001b[0m \u001b[0;31m# summarize results\u001b[0m\u001b[0;34m\u001b[0m\u001b[0;34m\u001b[0m\u001b[0m\n\u001b[1;32m     14\u001b[0m \u001b[0mprint\u001b[0m\u001b[0;34m(\u001b[0m\u001b[0;34m\"Best: %f using %s\"\u001b[0m \u001b[0;34m%\u001b[0m \u001b[0;34m(\u001b[0m\u001b[0mgrid_result\u001b[0m\u001b[0;34m.\u001b[0m\u001b[0mbest_score_\u001b[0m\u001b[0;34m,\u001b[0m \u001b[0mgrid_result\u001b[0m\u001b[0;34m.\u001b[0m\u001b[0mbest_params_\u001b[0m\u001b[0;34m)\u001b[0m\u001b[0;34m)\u001b[0m\u001b[0;34m\u001b[0m\u001b[0m\n",
      "\u001b[0;32m/usr/local/lib/python3.6/site-packages/sklearn/model_selection/_search.py\u001b[0m in \u001b[0;36mfit\u001b[0;34m(self, X, y, groups, **fit_params)\u001b[0m\n\u001b[1;32m    637\u001b[0m                                   error_score=self.error_score)\n\u001b[1;32m    638\u001b[0m           for parameters, (train, test) in product(candidate_params,\n\u001b[0;32m--> 639\u001b[0;31m                                                    cv.split(X, y, groups)))\n\u001b[0m\u001b[1;32m    640\u001b[0m \u001b[0;34m\u001b[0m\u001b[0m\n\u001b[1;32m    641\u001b[0m         \u001b[0;31m# if one choose to see train score, \"out\" will contain train score info\u001b[0m\u001b[0;34m\u001b[0m\u001b[0;34m\u001b[0m\u001b[0m\n",
      "\u001b[0;32m/usr/local/lib/python3.6/site-packages/sklearn/externals/joblib/parallel.py\u001b[0m in \u001b[0;36m__call__\u001b[0;34m(self, iterable)\u001b[0m\n\u001b[1;32m    787\u001b[0m                 \u001b[0;31m# consumption.\u001b[0m\u001b[0;34m\u001b[0m\u001b[0;34m\u001b[0m\u001b[0m\n\u001b[1;32m    788\u001b[0m                 \u001b[0mself\u001b[0m\u001b[0;34m.\u001b[0m\u001b[0m_iterating\u001b[0m \u001b[0;34m=\u001b[0m \u001b[0;32mFalse\u001b[0m\u001b[0;34m\u001b[0m\u001b[0m\n\u001b[0;32m--> 789\u001b[0;31m             \u001b[0mself\u001b[0m\u001b[0;34m.\u001b[0m\u001b[0mretrieve\u001b[0m\u001b[0;34m(\u001b[0m\u001b[0;34m)\u001b[0m\u001b[0;34m\u001b[0m\u001b[0m\n\u001b[0m\u001b[1;32m    790\u001b[0m             \u001b[0;31m# Make sure that we get a last message telling us we are done\u001b[0m\u001b[0;34m\u001b[0m\u001b[0;34m\u001b[0m\u001b[0m\n\u001b[1;32m    791\u001b[0m             \u001b[0melapsed_time\u001b[0m \u001b[0;34m=\u001b[0m \u001b[0mtime\u001b[0m\u001b[0;34m.\u001b[0m\u001b[0mtime\u001b[0m\u001b[0;34m(\u001b[0m\u001b[0;34m)\u001b[0m \u001b[0;34m-\u001b[0m \u001b[0mself\u001b[0m\u001b[0;34m.\u001b[0m\u001b[0m_start_time\u001b[0m\u001b[0;34m\u001b[0m\u001b[0m\n",
      "\u001b[0;32m/usr/local/lib/python3.6/site-packages/sklearn/externals/joblib/parallel.py\u001b[0m in \u001b[0;36mretrieve\u001b[0;34m(self)\u001b[0m\n\u001b[1;32m    697\u001b[0m             \u001b[0;32mtry\u001b[0m\u001b[0;34m:\u001b[0m\u001b[0;34m\u001b[0m\u001b[0m\n\u001b[1;32m    698\u001b[0m                 \u001b[0;32mif\u001b[0m \u001b[0mgetattr\u001b[0m\u001b[0;34m(\u001b[0m\u001b[0mself\u001b[0m\u001b[0;34m.\u001b[0m\u001b[0m_backend\u001b[0m\u001b[0;34m,\u001b[0m \u001b[0;34m'supports_timeout'\u001b[0m\u001b[0;34m,\u001b[0m \u001b[0;32mFalse\u001b[0m\u001b[0;34m)\u001b[0m\u001b[0;34m:\u001b[0m\u001b[0;34m\u001b[0m\u001b[0m\n\u001b[0;32m--> 699\u001b[0;31m                     \u001b[0mself\u001b[0m\u001b[0;34m.\u001b[0m\u001b[0m_output\u001b[0m\u001b[0;34m.\u001b[0m\u001b[0mextend\u001b[0m\u001b[0;34m(\u001b[0m\u001b[0mjob\u001b[0m\u001b[0;34m.\u001b[0m\u001b[0mget\u001b[0m\u001b[0;34m(\u001b[0m\u001b[0mtimeout\u001b[0m\u001b[0;34m=\u001b[0m\u001b[0mself\u001b[0m\u001b[0;34m.\u001b[0m\u001b[0mtimeout\u001b[0m\u001b[0;34m)\u001b[0m\u001b[0;34m)\u001b[0m\u001b[0;34m\u001b[0m\u001b[0m\n\u001b[0m\u001b[1;32m    700\u001b[0m                 \u001b[0;32melse\u001b[0m\u001b[0;34m:\u001b[0m\u001b[0;34m\u001b[0m\u001b[0m\n\u001b[1;32m    701\u001b[0m                     \u001b[0mself\u001b[0m\u001b[0;34m.\u001b[0m\u001b[0m_output\u001b[0m\u001b[0;34m.\u001b[0m\u001b[0mextend\u001b[0m\u001b[0;34m(\u001b[0m\u001b[0mjob\u001b[0m\u001b[0;34m.\u001b[0m\u001b[0mget\u001b[0m\u001b[0;34m(\u001b[0m\u001b[0;34m)\u001b[0m\u001b[0;34m)\u001b[0m\u001b[0;34m\u001b[0m\u001b[0m\n",
      "\u001b[0;32m/usr/local/Cellar/python/3.6.5_1/Frameworks/Python.framework/Versions/3.6/lib/python3.6/multiprocessing/pool.py\u001b[0m in \u001b[0;36mget\u001b[0;34m(self, timeout)\u001b[0m\n\u001b[1;32m    636\u001b[0m \u001b[0;34m\u001b[0m\u001b[0m\n\u001b[1;32m    637\u001b[0m     \u001b[0;32mdef\u001b[0m \u001b[0mget\u001b[0m\u001b[0;34m(\u001b[0m\u001b[0mself\u001b[0m\u001b[0;34m,\u001b[0m \u001b[0mtimeout\u001b[0m\u001b[0;34m=\u001b[0m\u001b[0;32mNone\u001b[0m\u001b[0;34m)\u001b[0m\u001b[0;34m:\u001b[0m\u001b[0;34m\u001b[0m\u001b[0m\n\u001b[0;32m--> 638\u001b[0;31m         \u001b[0mself\u001b[0m\u001b[0;34m.\u001b[0m\u001b[0mwait\u001b[0m\u001b[0;34m(\u001b[0m\u001b[0mtimeout\u001b[0m\u001b[0;34m)\u001b[0m\u001b[0;34m\u001b[0m\u001b[0m\n\u001b[0m\u001b[1;32m    639\u001b[0m         \u001b[0;32mif\u001b[0m \u001b[0;32mnot\u001b[0m \u001b[0mself\u001b[0m\u001b[0;34m.\u001b[0m\u001b[0mready\u001b[0m\u001b[0;34m(\u001b[0m\u001b[0;34m)\u001b[0m\u001b[0;34m:\u001b[0m\u001b[0;34m\u001b[0m\u001b[0m\n\u001b[1;32m    640\u001b[0m             \u001b[0;32mraise\u001b[0m \u001b[0mTimeoutError\u001b[0m\u001b[0;34m\u001b[0m\u001b[0m\n",
      "\u001b[0;32m/usr/local/Cellar/python/3.6.5_1/Frameworks/Python.framework/Versions/3.6/lib/python3.6/multiprocessing/pool.py\u001b[0m in \u001b[0;36mwait\u001b[0;34m(self, timeout)\u001b[0m\n\u001b[1;32m    633\u001b[0m \u001b[0;34m\u001b[0m\u001b[0m\n\u001b[1;32m    634\u001b[0m     \u001b[0;32mdef\u001b[0m \u001b[0mwait\u001b[0m\u001b[0;34m(\u001b[0m\u001b[0mself\u001b[0m\u001b[0;34m,\u001b[0m \u001b[0mtimeout\u001b[0m\u001b[0;34m=\u001b[0m\u001b[0;32mNone\u001b[0m\u001b[0;34m)\u001b[0m\u001b[0;34m:\u001b[0m\u001b[0;34m\u001b[0m\u001b[0m\n\u001b[0;32m--> 635\u001b[0;31m         \u001b[0mself\u001b[0m\u001b[0;34m.\u001b[0m\u001b[0m_event\u001b[0m\u001b[0;34m.\u001b[0m\u001b[0mwait\u001b[0m\u001b[0;34m(\u001b[0m\u001b[0mtimeout\u001b[0m\u001b[0;34m)\u001b[0m\u001b[0;34m\u001b[0m\u001b[0m\n\u001b[0m\u001b[1;32m    636\u001b[0m \u001b[0;34m\u001b[0m\u001b[0m\n\u001b[1;32m    637\u001b[0m     \u001b[0;32mdef\u001b[0m \u001b[0mget\u001b[0m\u001b[0;34m(\u001b[0m\u001b[0mself\u001b[0m\u001b[0;34m,\u001b[0m \u001b[0mtimeout\u001b[0m\u001b[0;34m=\u001b[0m\u001b[0;32mNone\u001b[0m\u001b[0;34m)\u001b[0m\u001b[0;34m:\u001b[0m\u001b[0;34m\u001b[0m\u001b[0m\n",
      "\u001b[0;32m/usr/local/Cellar/python/3.6.5_1/Frameworks/Python.framework/Versions/3.6/lib/python3.6/threading.py\u001b[0m in \u001b[0;36mwait\u001b[0;34m(self, timeout)\u001b[0m\n\u001b[1;32m    549\u001b[0m             \u001b[0msignaled\u001b[0m \u001b[0;34m=\u001b[0m \u001b[0mself\u001b[0m\u001b[0;34m.\u001b[0m\u001b[0m_flag\u001b[0m\u001b[0;34m\u001b[0m\u001b[0m\n\u001b[1;32m    550\u001b[0m             \u001b[0;32mif\u001b[0m \u001b[0;32mnot\u001b[0m \u001b[0msignaled\u001b[0m\u001b[0;34m:\u001b[0m\u001b[0;34m\u001b[0m\u001b[0m\n\u001b[0;32m--> 551\u001b[0;31m                 \u001b[0msignaled\u001b[0m \u001b[0;34m=\u001b[0m \u001b[0mself\u001b[0m\u001b[0;34m.\u001b[0m\u001b[0m_cond\u001b[0m\u001b[0;34m.\u001b[0m\u001b[0mwait\u001b[0m\u001b[0;34m(\u001b[0m\u001b[0mtimeout\u001b[0m\u001b[0;34m)\u001b[0m\u001b[0;34m\u001b[0m\u001b[0m\n\u001b[0m\u001b[1;32m    552\u001b[0m             \u001b[0;32mreturn\u001b[0m \u001b[0msignaled\u001b[0m\u001b[0;34m\u001b[0m\u001b[0m\n\u001b[1;32m    553\u001b[0m \u001b[0;34m\u001b[0m\u001b[0m\n",
      "\u001b[0;32m/usr/local/Cellar/python/3.6.5_1/Frameworks/Python.framework/Versions/3.6/lib/python3.6/threading.py\u001b[0m in \u001b[0;36mwait\u001b[0;34m(self, timeout)\u001b[0m\n\u001b[1;32m    293\u001b[0m         \u001b[0;32mtry\u001b[0m\u001b[0;34m:\u001b[0m    \u001b[0;31m# restore state no matter what (e.g., KeyboardInterrupt)\u001b[0m\u001b[0;34m\u001b[0m\u001b[0m\n\u001b[1;32m    294\u001b[0m             \u001b[0;32mif\u001b[0m \u001b[0mtimeout\u001b[0m \u001b[0;32mis\u001b[0m \u001b[0;32mNone\u001b[0m\u001b[0;34m:\u001b[0m\u001b[0;34m\u001b[0m\u001b[0m\n\u001b[0;32m--> 295\u001b[0;31m                 \u001b[0mwaiter\u001b[0m\u001b[0;34m.\u001b[0m\u001b[0macquire\u001b[0m\u001b[0;34m(\u001b[0m\u001b[0;34m)\u001b[0m\u001b[0;34m\u001b[0m\u001b[0m\n\u001b[0m\u001b[1;32m    296\u001b[0m                 \u001b[0mgotit\u001b[0m \u001b[0;34m=\u001b[0m \u001b[0;32mTrue\u001b[0m\u001b[0;34m\u001b[0m\u001b[0m\n\u001b[1;32m    297\u001b[0m             \u001b[0;32melse\u001b[0m\u001b[0;34m:\u001b[0m\u001b[0;34m\u001b[0m\u001b[0m\n",
      "\u001b[0;31mKeyboardInterrupt\u001b[0m: "
     ]
    }
   ],
   "source": [
    "# fix random seed for reproducibility\n",
    "seed = 7\n",
    "np.random.seed(seed)\n",
    "\n",
    "# create model\n",
    "model = KerasRegressor(build_fn=create_model, verbose=0)\n",
    "# define the grid search parameters\n",
    "batch_size = [10, 20, 40, 60, 80, 100]\n",
    "epochs = [10, 50, 100]\n",
    "param_grid = dict(batch_size=batch_size, epochs=epochs)\n",
    "grid = GridSearchCV(estimator=model, param_grid=param_grid, n_jobs=-1)\n",
    "grid_result = grid.fit(X, Y)\n",
    "# summarize results\n",
    "print(\"Best: %f using %s\" % (grid_result.best_score_, grid_result.best_params_))\n",
    "means = grid_result.cv_results_['mean_test_score']\n",
    "stds = grid_result.cv_results_['std_test_score']\n",
    "params = grid_result.cv_results_['params']\n",
    "for mean, stdev, param in zip(means, stds, params):\n",
    "    print(\"%f (%f) with: %r\" % (mean, stdev, param))"
   ]
  },
  {
   "cell_type": "code",
   "execution_count": 82,
   "metadata": {},
   "outputs": [],
   "source": [
    "# # PCA\n",
    "# # Applying Kernel PCA\n",
    "# from sklearn.decomposition import KernelPCA\n",
    "# kpca = KernelPCA(kernel = 'rbf')\n",
    "# X_original_pca = kpca.fit_transform(x_original)\n",
    "# X_original_pca"
   ]
  },
  {
   "cell_type": "code",
   "execution_count": 83,
   "metadata": {},
   "outputs": [],
   "source": [
    "# # classification approach\n",
    "# # x - same X except using W_Zone but no X_lat and X_lon, also eliminate non-independent variables\n",
    "# # y - H_Zone\n",
    "# x.head()"
   ]
  },
  {
   "cell_type": "code",
   "execution_count": 84,
   "metadata": {},
   "outputs": [],
   "source": [
    "# x_cat = np.delete(X, 6, axis = 1)\n",
    "# x_cat = np.delete(X, 7, axis = 1)"
   ]
  },
  {
   "cell_type": "code",
   "execution_count": 85,
   "metadata": {},
   "outputs": [],
   "source": [
    "# Y_cat = data.loc[:, [\"H_ZONE\"]]\n",
    "# Y_cat.head()\n",
    "# Y_cat = Y_cat.dropna()"
   ]
  },
  {
   "cell_type": "code",
   "execution_count": 86,
   "metadata": {},
   "outputs": [],
   "source": [
    "# from sklearn.preprocessing import LabelBinarizer\n",
    "# binarizer = LabelBinarizer()\n",
    "# Y_cat = binarizer.fit_transform(Y_cat.values)"
   ]
  },
  {
   "cell_type": "code",
   "execution_count": 87,
   "metadata": {},
   "outputs": [],
   "source": [
    "# Y_cat"
   ]
  },
  {
   "cell_type": "code",
   "execution_count": 88,
   "metadata": {},
   "outputs": [],
   "source": [
    "# X_train, X_test, y_train, y_test = train_test_split(x_cat, Y_cat, test_size = 0.2, random_state = 0)"
   ]
  },
  {
   "cell_type": "code",
   "execution_count": 89,
   "metadata": {},
   "outputs": [],
   "source": [
    "# # Initialising the ANN\n",
    "# classifier = Sequential()\n",
    "\n",
    "# # Adding the input layer and the first hidden layer\n",
    "# classifier.add(Dense(units = 64, kernel_initializer = 'uniform', activation = 'relu', input_dim = 1596))\n",
    "# classifier.add(Dropout(0.1))\n",
    "# # Adding the second hidden layer\n",
    "# classifier.add(Dense(units = 128, kernel_initializer = 'uniform', activation = 'relu'))\n",
    "# classifier.add(Dropout(0.1))\n",
    "\n",
    "\n",
    "# # Adding the output layer\n",
    "# classifier.add(Dense(units = 1278, kernel_initializer = 'uniform', activation = 'sigmoid'))\n",
    "\n",
    "# # Compiling the ANN\n",
    "# classifier.compile(optimizer = 'adam', loss = 'binary_crossentropy', metrics = ['accuracy'])\n",
    "\n"
   ]
  },
  {
   "cell_type": "code",
   "execution_count": 90,
   "metadata": {},
   "outputs": [],
   "source": [
    "# # Fitting the ANN to the Training set\n",
    "# classifier.fit(X_train, y_train, batch_size = 50, epochs = 10)"
   ]
  },
  {
   "cell_type": "code",
   "execution_count": 91,
   "metadata": {},
   "outputs": [],
   "source": [
    "# y_pred = classifier.predict(X_test)"
   ]
  },
  {
   "cell_type": "code",
   "execution_count": null,
   "metadata": {},
   "outputs": [],
   "source": []
  },
  {
   "cell_type": "code",
   "execution_count": null,
   "metadata": {},
   "outputs": [],
   "source": []
  }
 ],
 "metadata": {
  "kernelspec": {
   "display_name": "Python 3",
   "language": "python",
   "name": "python3"
  },
  "language_info": {
   "codemirror_mode": {
    "name": "ipython",
    "version": 3
   },
   "file_extension": ".py",
   "mimetype": "text/x-python",
   "name": "python",
   "nbconvert_exporter": "python",
   "pygments_lexer": "ipython3",
   "version": "3.6.5"
  }
 },
 "nbformat": 4,
 "nbformat_minor": 2
}
